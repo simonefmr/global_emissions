{
  "cells": [
    {
      "cell_type": "markdown",
      "source": [
        "# **Pós Graduação Ciência de Dados - PUC Rio**\n",
        "# **MVP Sprint I: Análise de Dados e Boas Práticas**\n",
        "## Aluna: Simone de Fátima Marques Ramos"
      ],
      "metadata": {
        "id": "XYhwDEg6Pdzx"
      },
      "id": "XYhwDEg6Pdzx"
    },
    {
      "cell_type": "markdown",
      "source": [
        "## **1. Introdução**\n",
        "\n",
        "O metano (CH4) é um poderoso gás de efeito estufa e o segundo maior responsável pelo aquecimento global. Cada tonelada de metano tem 28 vezes mais potencial de esquentar o planeta em cem anos do que uma tonelada de dióxido de carbono (CO2), o maior causador da crise climática. \n",
        "\n",
        "• O metano é responsável por aproximadamente 30% do aumento da temperatura global, desde a revolução Industrial. O setor de energia – incluindo petróleo, gás natural, carvão e bioenergia – é responsável por quase 40% das emissões de metano da atividade humana.\n",
        "\n",
        "• A concentração atmosférica do metano mais que dobrou desde os tempos pré-industriais. Felizmente ela é muito menor que a do CO2 - mede-se em partes\n",
        "por bilhão de ar em vez de partes por milhão, caso do gás carbônico. O metano\n",
        "também dura menos na atmosfera, aproximadamente 12 anos, contra 150 do CO2, daí ele ser classificado como um poluente climático de vida curta (SLCP).\n",
        "\n",
        "• O metano também contribui para a formação de ozônio troposférico (O3\n",
        "), que, como ele, é um gás de efeito estufa de curta duração, mas poderoso. O chamado ozônio de superfície também é um poluente do ar com\n",
        "efeitos prejudiciais para a saúde humana, os ecossistemas e a agricultura\n",
        "\n",
        "Reduções rápidas e sustentáveis nas emissões de metano são essenciais para limitar o aquecimento global a curto prazo e melhorar a qualidade do ar. \n"
      ],
      "metadata": {
        "id": "csc10qM4UXXR"
      },
      "id": "csc10qM4UXXR"
    },
    {
      "cell_type": "markdown",
      "source": [
        "**Outras fontes consultadas:**\n",
        "\n",
        "ALENCAR, Ane et al. Desafios e Oportunidades para Redução das Emissões de Metano no Brasil, 2022 - Observatório do Clima 20 Anos\n",
        "\n",
        "MACHADO, Naiara. Quatro passos para enfrentar o problema global do metano no O&G, 2022 - Agência EPBR (Consultado em https://epbr.com.br/)\n",
        "\n",
        "Methane Tracker Base 2023 - https://www.iea.org/data-and-statistics/data-tools/methane-tracker-data-explorer"
      ],
      "metadata": {
        "id": "c7GpMzVavs8o"
      },
      "id": "c7GpMzVavs8o"
    },
    {
      "cell_type": "markdown",
      "source": [
        "### **1.1. Problema de aprendizado supervisionado ou não supervisionado e Hipóteses sobre o problema**\n",
        "\n",
        "Esse alto potencial de aquecimento e a menor duração na atmosfera fazem do metano\n",
        "um bom alvo para políticas de redução imediata de emissões de gases de efeito estufa\n",
        "que ajudem a humanidade a ganhar tempo para fazer a transição energética para uma\n",
        "economia sem combustíveis fósseis e, assim, manter viva a meta do Acordo de Paris de\n",
        "limitar o aquecimento da Terra a 1,5ºC em relação à era pré-industrial.\n",
        "\n",
        "O Brasil é o quinto maior emissor de metano do mundo. Sozinho ele emite o\n",
        "equivalente a 5,5% do metano do planeta, enquanto a participação do país nas\n",
        "emissões gerais de gases de efeito estufa é de 3,3%. As emissões brasileiras em\n",
        "2020 foram estimadas pelo Observatório do Clima em 21,7 milhões de toneladas em\n",
        "2020, o que corresponde a 565 milhões de toneladas de CO2\n",
        " equivalente (MtCO2\n",
        "e)\n",
        "ou 26% das emissões totais de gases de efeito estufa do país. \n"
      ],
      "metadata": {
        "id": "6OEmNYE9UrhL"
      },
      "id": "6OEmNYE9UrhL"
    },
    {
      "cell_type": "markdown",
      "source": [
        "### **1.2. Definição do Problema** \n"
      ],
      "metadata": {
        "id": "d7IGB7oSUubq"
      },
      "id": "d7IGB7oSUubq"
    },
    {
      "cell_type": "markdown",
      "source": [
        "## **2. Importação de pacotes e bibliotecas**"
      ],
      "metadata": {
        "id": "MU_TrWUDQW0c"
      },
      "id": "MU_TrWUDQW0c"
    },
    {
      "cell_type": "code",
      "execution_count": 228,
      "id": "12ac16b7",
      "metadata": {
        "_cell_guid": "b1076dfc-b9ad-4769-8c92-a6c4dae69d19",
        "_uuid": "8f2839f25d086af736a60e9eeb907d3b93b6e0e5",
        "execution": {
          "iopub.execute_input": "2023-04-29T18:09:50.222706Z",
          "iopub.status.busy": "2023-04-29T18:09:50.222123Z",
          "iopub.status.idle": "2023-04-29T18:09:50.243604Z",
          "shell.execute_reply": "2023-04-29T18:09:50.242565Z"
        },
        "papermill": {
          "duration": 0.033507,
          "end_time": "2023-04-29T18:09:50.246555",
          "exception": false,
          "start_time": "2023-04-29T18:09:50.213048",
          "status": "completed"
        },
        "tags": [],
        "id": "12ac16b7"
      },
      "outputs": [],
      "source": [
        "\n",
        "import plotly.express as px\n",
        "\n",
        "# Importando bibliotecas e pacotes que serão utilizados na análise\n",
        "\n",
        "# Importação de Bibliotecas\n",
        "import pandas as pd\n",
        "import numpy as np\n",
        "import glob\n",
        "import seaborn as sns\n",
        "import statistics\n",
        "import matplotlib.pyplot as plt\n",
        "from matplotlib import cm\n",
        "import plotly.express as px\n",
        "from pandas import set_option\n",
        "from pandas.plotting import scatter_matrix\n",
        "\n",
        "# para tratamento de data\n",
        "import datetime\n",
        "\n",
        "# para tratamento de missings\n",
        "import missingno as ms \n",
        "\n",
        "# Configuração para não exibir os warnings\n",
        "import warnings\n",
        "warnings.filterwarnings(\"ignore\")\n",
        "\n",
        "## transformações numéricas\n",
        "from sklearn.preprocessing import MinMaxScaler # para normalização\n",
        "from sklearn.preprocessing import StandardScaler # para padronização\n",
        "\n",
        "## transformações categóricas\n",
        "from sklearn.preprocessing import OneHotEncoder\n",
        "from sklearn.preprocessing import OrdinalEncoder"
      ]
    },
    {
      "cell_type": "code",
      "source": [
        "# Versões das Bibliotecas utilizadas\n",
        "\n",
        "pd_pd = pd.__version__\n",
        "np_np = np.__version__\n",
        "sns_sns = sns.__version__\n",
        "\n",
        "print('Versões utilizadas na análise:')\n",
        "print('Pandas = '+pd_pd)\n",
        "print('Numpy = '+np_np)\n",
        "print('Seaborn = '+sns_sns)"
      ],
      "metadata": {
        "colab": {
          "base_uri": "https://localhost:8080/"
        },
        "id": "k-s2_RuUmuOc",
        "outputId": "5298c948-2c01-43a6-f690-f99533059e03"
      },
      "id": "k-s2_RuUmuOc",
      "execution_count": 229,
      "outputs": [
        {
          "output_type": "stream",
          "name": "stdout",
          "text": [
            "Versões utilizadas na análise:\n",
            "Pandas = 1.5.3\n",
            "Numpy = 1.22.4\n",
            "Seaborn = 0.12.2\n"
          ]
        }
      ]
    },
    {
      "cell_type": "markdown",
      "source": [
        "## **3. Carregamento dos dados**"
      ],
      "metadata": {
        "id": "WnngyyVTmxk_"
      },
      "id": "WnngyyVTmxk_"
    },
    {
      "cell_type": "code",
      "execution_count": 230,
      "id": "c5c41b7b",
      "metadata": {
        "execution": {
          "iopub.execute_input": "2023-04-29T18:09:50.261156Z",
          "iopub.status.busy": "2023-04-29T18:09:50.260365Z",
          "iopub.status.idle": "2023-04-29T18:09:50.301299Z",
          "shell.execute_reply": "2023-04-29T18:09:50.299731Z"
        },
        "papermill": {
          "duration": 0.051462,
          "end_time": "2023-04-29T18:09:50.304307",
          "exception": false,
          "start_time": "2023-04-29T18:09:50.252845",
          "status": "completed"
        },
        "tags": [],
        "id": "c5c41b7b"
      },
      "outputs": [],
      "source": [
        "# carregamento do dataset através da url do github\n",
        "\n",
        "df = pd.read_csv('https://raw.githubusercontent.com/simonefmr/global_emissions/main/Methane_final.csv')"
      ]
    },
    {
      "cell_type": "markdown",
      "source": [
        "### **3.1. Condições ou restrições impostas para selecionar os dados**\n",
        "\n",
        "Não houve dificuldade de carregamento dos dados nem houve necessidade de tratamento especial em relação à separador ou alteração de encoding.\n",
        "O dataset \"Pandemic Details of World\" foi obtidos através do diretório público Kaggle. A fonte de cada informação consta na coluna \"Notes\", que especifica o estudo e origem do dado."
      ],
      "metadata": {
        "id": "ChOSTgOYm8lA"
      },
      "id": "ChOSTgOYm8lA"
    },
    {
      "cell_type": "code",
      "source": [
        "# labels dos atributos do dataset\n",
        "\n",
        "df.columns"
      ],
      "metadata": {
        "colab": {
          "base_uri": "https://localhost:8080/"
        },
        "id": "xRITrRECY-pi",
        "outputId": "48aa4058-1b39-497a-a6ef-e68088fd19e3"
      },
      "id": "xRITrRECY-pi",
      "execution_count": 231,
      "outputs": [
        {
          "output_type": "execute_result",
          "data": {
            "text/plain": [
              "Index(['Unnamed: 0', 'region', 'country', 'emissions', 'type', 'segment',\n",
              "       'reason', 'baseYear', 'notes'],\n",
              "      dtype='object')"
            ]
          },
          "metadata": {},
          "execution_count": 231
        }
      ]
    },
    {
      "cell_type": "markdown",
      "source": [
        "### **3.2. Definição dos atributos**\n",
        "\n",
        "**region:** região geográfica como continente, subcontinente ou visão mundo\n",
        "\n",
        "**country:** país onde foi apurada as emissões\n",
        "\n",
        "**emissions:** emissão de Metano em kt (kiloton)\n",
        "\n",
        "**type:** setor da economia onde as emissões são geradas \n",
        "\n",
        "**Segment:** sub-setor da economia onde as emissões são geradas\n",
        "\n",
        "**reason:** razão da emissão, pode ser \"Fugitive\" (não intencional), \"Vented\" (ventilado - liberado por razões de segurança) ou \"Flared\" (resíduo de queima incompleta que não é viável para venda e acaba sendo liberado na atmosfera). \n",
        "\n",
        "**baseYear:** base de ano onde houve o rastreio das emissões\n",
        "\n",
        "**notes:** notas explicativas informando a fonte dos dados\n",
        "\n"
      ],
      "metadata": {
        "id": "2ZNg_blsnj3P"
      },
      "id": "2ZNg_blsnj3P"
    },
    {
      "cell_type": "markdown",
      "source": [
        "## **4. Análise de Dados**"
      ],
      "metadata": {
        "id": "ytwQUHUazQ54"
      },
      "id": "ytwQUHUazQ54"
    },
    {
      "cell_type": "markdown",
      "source": [
        "### **4.1. Limpeza preliminar dos dados**"
      ],
      "metadata": {
        "id": "j-pyH131y_qi"
      },
      "id": "j-pyH131y_qi"
    },
    {
      "cell_type": "code",
      "execution_count": 232,
      "id": "2c405db1",
      "metadata": {
        "execution": {
          "iopub.execute_input": "2023-04-29T18:09:50.366879Z",
          "iopub.status.busy": "2023-04-29T18:09:50.366460Z",
          "iopub.status.idle": "2023-04-29T18:09:50.374755Z",
          "shell.execute_reply": "2023-04-29T18:09:50.373633Z"
        },
        "papermill": {
          "duration": 0.018044,
          "end_time": "2023-04-29T18:09:50.377021",
          "exception": false,
          "start_time": "2023-04-29T18:09:50.358977",
          "status": "completed"
        },
        "tags": [],
        "id": "2c405db1"
      },
      "outputs": [],
      "source": [
        "# Elimino coluna \"Unnamed\" que não possui dados relevantes\n",
        "\n",
        "df.drop(columns=['Unnamed: 0'], inplace=True)"
      ]
    },
    {
      "cell_type": "code",
      "execution_count": 233,
      "id": "58eb3868",
      "metadata": {
        "execution": {
          "iopub.execute_input": "2023-04-29T18:09:50.391220Z",
          "iopub.status.busy": "2023-04-29T18:09:50.390795Z",
          "iopub.status.idle": "2023-04-29T18:09:50.415481Z",
          "shell.execute_reply": "2023-04-29T18:09:50.414070Z"
        },
        "papermill": {
          "duration": 0.03451,
          "end_time": "2023-04-29T18:09:50.417741",
          "exception": false,
          "start_time": "2023-04-29T18:09:50.383231",
          "status": "completed"
        },
        "tags": [],
        "colab": {
          "base_uri": "https://localhost:8080/"
        },
        "id": "58eb3868",
        "outputId": "c285034f-11c6-4604-c7f4-f9d7a46ca6d7"
      },
      "outputs": [
        {
          "output_type": "stream",
          "name": "stdout",
          "text": [
            "<class 'pandas.core.frame.DataFrame'>\n",
            "RangeIndex: 1550 entries, 0 to 1549\n",
            "Data columns (total 8 columns):\n",
            " #   Column     Non-Null Count  Dtype  \n",
            "---  ------     --------------  -----  \n",
            " 0   region     1550 non-null   object \n",
            " 1   country    1550 non-null   object \n",
            " 2   emissions  1548 non-null   float64\n",
            " 3   type       1550 non-null   object \n",
            " 4   segment    1550 non-null   object \n",
            " 5   reason     1550 non-null   object \n",
            " 6   baseYear   1548 non-null   object \n",
            " 7   notes      1550 non-null   object \n",
            "dtypes: float64(1), object(7)\n",
            "memory usage: 97.0+ KB\n"
          ]
        }
      ],
      "source": [
        "# Busco informações sobre contagem de não nulos e tipo de cada atributo\n",
        "\n",
        "df.info()"
      ]
    },
    {
      "cell_type": "code",
      "execution_count": 234,
      "id": "59f7762b",
      "metadata": {
        "execution": {
          "iopub.execute_input": "2023-04-29T18:09:50.318251Z",
          "iopub.status.busy": "2023-04-29T18:09:50.317795Z",
          "iopub.status.idle": "2023-04-29T18:09:50.349983Z",
          "shell.execute_reply": "2023-04-29T18:09:50.348699Z"
        },
        "papermill": {
          "duration": 0.042228,
          "end_time": "2023-04-29T18:09:50.352645",
          "exception": false,
          "start_time": "2023-04-29T18:09:50.310417",
          "status": "completed"
        },
        "tags": [],
        "colab": {
          "base_uri": "https://localhost:8080/",
          "height": 206
        },
        "id": "59f7762b",
        "outputId": "5a38625b-aa53-4df2-b5c8-619b9ca3f337"
      },
      "outputs": [
        {
          "output_type": "execute_result",
          "data": {
            "text/plain": [
              "   region  country   emissions         type                           segment  \\\n",
              "0  Africa  Algeria  257.611206  Agriculture                             Total   \n",
              "1  Africa  Algeria    0.052000       Energy                         Bioenergy   \n",
              "2  Africa  Algeria  130.798996       Energy  Gas pipelines and LNG facilities   \n",
              "3  Africa  Algeria   69.741898       Energy  Gas pipelines and LNG facilities   \n",
              "4  Africa  Algeria  213.987000       Energy                       Onshore gas   \n",
              "\n",
              "     reason   baseYear                                              notes  \n",
              "0       All  2019-2021  Average based on United Nations Framework Conv...  \n",
              "1       All       2022  Estimates from end-uses are for 2020 or 2021 (...  \n",
              "2  Fugitive       2022                                      Not available  \n",
              "3    Vented       2022                                      Not available  \n",
              "4  Fugitive       2022                                      Not available  "
            ],
            "text/html": [
              "\n",
              "  <div id=\"df-b7799fdd-f005-4cf8-8af4-50895616ca72\">\n",
              "    <div class=\"colab-df-container\">\n",
              "      <div>\n",
              "<style scoped>\n",
              "    .dataframe tbody tr th:only-of-type {\n",
              "        vertical-align: middle;\n",
              "    }\n",
              "\n",
              "    .dataframe tbody tr th {\n",
              "        vertical-align: top;\n",
              "    }\n",
              "\n",
              "    .dataframe thead th {\n",
              "        text-align: right;\n",
              "    }\n",
              "</style>\n",
              "<table border=\"1\" class=\"dataframe\">\n",
              "  <thead>\n",
              "    <tr style=\"text-align: right;\">\n",
              "      <th></th>\n",
              "      <th>region</th>\n",
              "      <th>country</th>\n",
              "      <th>emissions</th>\n",
              "      <th>type</th>\n",
              "      <th>segment</th>\n",
              "      <th>reason</th>\n",
              "      <th>baseYear</th>\n",
              "      <th>notes</th>\n",
              "    </tr>\n",
              "  </thead>\n",
              "  <tbody>\n",
              "    <tr>\n",
              "      <th>0</th>\n",
              "      <td>Africa</td>\n",
              "      <td>Algeria</td>\n",
              "      <td>257.611206</td>\n",
              "      <td>Agriculture</td>\n",
              "      <td>Total</td>\n",
              "      <td>All</td>\n",
              "      <td>2019-2021</td>\n",
              "      <td>Average based on United Nations Framework Conv...</td>\n",
              "    </tr>\n",
              "    <tr>\n",
              "      <th>1</th>\n",
              "      <td>Africa</td>\n",
              "      <td>Algeria</td>\n",
              "      <td>0.052000</td>\n",
              "      <td>Energy</td>\n",
              "      <td>Bioenergy</td>\n",
              "      <td>All</td>\n",
              "      <td>2022</td>\n",
              "      <td>Estimates from end-uses are for 2020 or 2021 (...</td>\n",
              "    </tr>\n",
              "    <tr>\n",
              "      <th>2</th>\n",
              "      <td>Africa</td>\n",
              "      <td>Algeria</td>\n",
              "      <td>130.798996</td>\n",
              "      <td>Energy</td>\n",
              "      <td>Gas pipelines and LNG facilities</td>\n",
              "      <td>Fugitive</td>\n",
              "      <td>2022</td>\n",
              "      <td>Not available</td>\n",
              "    </tr>\n",
              "    <tr>\n",
              "      <th>3</th>\n",
              "      <td>Africa</td>\n",
              "      <td>Algeria</td>\n",
              "      <td>69.741898</td>\n",
              "      <td>Energy</td>\n",
              "      <td>Gas pipelines and LNG facilities</td>\n",
              "      <td>Vented</td>\n",
              "      <td>2022</td>\n",
              "      <td>Not available</td>\n",
              "    </tr>\n",
              "    <tr>\n",
              "      <th>4</th>\n",
              "      <td>Africa</td>\n",
              "      <td>Algeria</td>\n",
              "      <td>213.987000</td>\n",
              "      <td>Energy</td>\n",
              "      <td>Onshore gas</td>\n",
              "      <td>Fugitive</td>\n",
              "      <td>2022</td>\n",
              "      <td>Not available</td>\n",
              "    </tr>\n",
              "  </tbody>\n",
              "</table>\n",
              "</div>\n",
              "      <button class=\"colab-df-convert\" onclick=\"convertToInteractive('df-b7799fdd-f005-4cf8-8af4-50895616ca72')\"\n",
              "              title=\"Convert this dataframe to an interactive table.\"\n",
              "              style=\"display:none;\">\n",
              "        \n",
              "  <svg xmlns=\"http://www.w3.org/2000/svg\" height=\"24px\"viewBox=\"0 0 24 24\"\n",
              "       width=\"24px\">\n",
              "    <path d=\"M0 0h24v24H0V0z\" fill=\"none\"/>\n",
              "    <path d=\"M18.56 5.44l.94 2.06.94-2.06 2.06-.94-2.06-.94-.94-2.06-.94 2.06-2.06.94zm-11 1L8.5 8.5l.94-2.06 2.06-.94-2.06-.94L8.5 2.5l-.94 2.06-2.06.94zm10 10l.94 2.06.94-2.06 2.06-.94-2.06-.94-.94-2.06-.94 2.06-2.06.94z\"/><path d=\"M17.41 7.96l-1.37-1.37c-.4-.4-.92-.59-1.43-.59-.52 0-1.04.2-1.43.59L10.3 9.45l-7.72 7.72c-.78.78-.78 2.05 0 2.83L4 21.41c.39.39.9.59 1.41.59.51 0 1.02-.2 1.41-.59l7.78-7.78 2.81-2.81c.8-.78.8-2.07 0-2.86zM5.41 20L4 18.59l7.72-7.72 1.47 1.35L5.41 20z\"/>\n",
              "  </svg>\n",
              "      </button>\n",
              "      \n",
              "  <style>\n",
              "    .colab-df-container {\n",
              "      display:flex;\n",
              "      flex-wrap:wrap;\n",
              "      gap: 12px;\n",
              "    }\n",
              "\n",
              "    .colab-df-convert {\n",
              "      background-color: #E8F0FE;\n",
              "      border: none;\n",
              "      border-radius: 50%;\n",
              "      cursor: pointer;\n",
              "      display: none;\n",
              "      fill: #1967D2;\n",
              "      height: 32px;\n",
              "      padding: 0 0 0 0;\n",
              "      width: 32px;\n",
              "    }\n",
              "\n",
              "    .colab-df-convert:hover {\n",
              "      background-color: #E2EBFA;\n",
              "      box-shadow: 0px 1px 2px rgba(60, 64, 67, 0.3), 0px 1px 3px 1px rgba(60, 64, 67, 0.15);\n",
              "      fill: #174EA6;\n",
              "    }\n",
              "\n",
              "    [theme=dark] .colab-df-convert {\n",
              "      background-color: #3B4455;\n",
              "      fill: #D2E3FC;\n",
              "    }\n",
              "\n",
              "    [theme=dark] .colab-df-convert:hover {\n",
              "      background-color: #434B5C;\n",
              "      box-shadow: 0px 1px 3px 1px rgba(0, 0, 0, 0.15);\n",
              "      filter: drop-shadow(0px 1px 2px rgba(0, 0, 0, 0.3));\n",
              "      fill: #FFFFFF;\n",
              "    }\n",
              "  </style>\n",
              "\n",
              "      <script>\n",
              "        const buttonEl =\n",
              "          document.querySelector('#df-b7799fdd-f005-4cf8-8af4-50895616ca72 button.colab-df-convert');\n",
              "        buttonEl.style.display =\n",
              "          google.colab.kernel.accessAllowed ? 'block' : 'none';\n",
              "\n",
              "        async function convertToInteractive(key) {\n",
              "          const element = document.querySelector('#df-b7799fdd-f005-4cf8-8af4-50895616ca72');\n",
              "          const dataTable =\n",
              "            await google.colab.kernel.invokeFunction('convertToInteractive',\n",
              "                                                     [key], {});\n",
              "          if (!dataTable) return;\n",
              "\n",
              "          const docLinkHtml = 'Like what you see? Visit the ' +\n",
              "            '<a target=\"_blank\" href=https://colab.research.google.com/notebooks/data_table.ipynb>data table notebook</a>'\n",
              "            + ' to learn more about interactive tables.';\n",
              "          element.innerHTML = '';\n",
              "          dataTable['output_type'] = 'display_data';\n",
              "          await google.colab.output.renderOutput(dataTable, element);\n",
              "          const docLink = document.createElement('div');\n",
              "          docLink.innerHTML = docLinkHtml;\n",
              "          element.appendChild(docLink);\n",
              "        }\n",
              "      </script>\n",
              "    </div>\n",
              "  </div>\n",
              "  "
            ]
          },
          "metadata": {},
          "execution_count": 234
        }
      ],
      "source": [
        "# Exibindo as primeiras linhas verifico que o dataset foi carregado corretamente\n",
        "\n",
        "df.head()"
      ]
    },
    {
      "cell_type": "code",
      "source": [
        "# Exibindo as últimas linhas\n",
        "\n",
        "df.tail()"
      ],
      "metadata": {
        "colab": {
          "base_uri": "https://localhost:8080/",
          "height": 206
        },
        "id": "arODT2B4ZVMD",
        "outputId": "f961ded3-4247-4e25-e5cb-ac3342b855a0"
      },
      "id": "arODT2B4ZVMD",
      "execution_count": 235,
      "outputs": [
        {
          "output_type": "execute_result",
          "data": {
            "text/plain": [
              "     region country      emissions    type  \\\n",
              "1545  World   World            NaN  Energy   \n",
              "1546  World   World   30296.500000  Energy   \n",
              "1547  World   World  133350.984375  Energy   \n",
              "1548  World   World    9737.874023   Other   \n",
              "1549  World   World   70758.710938   Waste   \n",
              "\n",
              "                                             segment reason   baseYear  \\\n",
              "1545  Satellite-detected large oil and gas emissions    All        NaN   \n",
              "1546                                      Steam coal    All       2022   \n",
              "1547                                           Total    All       2022   \n",
              "1548                                           Total    All  2019-2021   \n",
              "1549                                           Total    All  2019-2021   \n",
              "\n",
              "                                                  notes  \n",
              "1545                                      Not available  \n",
              "1546                                      Not available  \n",
              "1547  Estimates from end-uses are for 2020 or 2021 (...  \n",
              "1548  Average based on United Nations Framework Conv...  \n",
              "1549  Average based on United Nations Framework Conv...  "
            ],
            "text/html": [
              "\n",
              "  <div id=\"df-1e8bb816-1c2d-4db7-a18d-6691406207eb\">\n",
              "    <div class=\"colab-df-container\">\n",
              "      <div>\n",
              "<style scoped>\n",
              "    .dataframe tbody tr th:only-of-type {\n",
              "        vertical-align: middle;\n",
              "    }\n",
              "\n",
              "    .dataframe tbody tr th {\n",
              "        vertical-align: top;\n",
              "    }\n",
              "\n",
              "    .dataframe thead th {\n",
              "        text-align: right;\n",
              "    }\n",
              "</style>\n",
              "<table border=\"1\" class=\"dataframe\">\n",
              "  <thead>\n",
              "    <tr style=\"text-align: right;\">\n",
              "      <th></th>\n",
              "      <th>region</th>\n",
              "      <th>country</th>\n",
              "      <th>emissions</th>\n",
              "      <th>type</th>\n",
              "      <th>segment</th>\n",
              "      <th>reason</th>\n",
              "      <th>baseYear</th>\n",
              "      <th>notes</th>\n",
              "    </tr>\n",
              "  </thead>\n",
              "  <tbody>\n",
              "    <tr>\n",
              "      <th>1545</th>\n",
              "      <td>World</td>\n",
              "      <td>World</td>\n",
              "      <td>NaN</td>\n",
              "      <td>Energy</td>\n",
              "      <td>Satellite-detected large oil and gas emissions</td>\n",
              "      <td>All</td>\n",
              "      <td>NaN</td>\n",
              "      <td>Not available</td>\n",
              "    </tr>\n",
              "    <tr>\n",
              "      <th>1546</th>\n",
              "      <td>World</td>\n",
              "      <td>World</td>\n",
              "      <td>30296.500000</td>\n",
              "      <td>Energy</td>\n",
              "      <td>Steam coal</td>\n",
              "      <td>All</td>\n",
              "      <td>2022</td>\n",
              "      <td>Not available</td>\n",
              "    </tr>\n",
              "    <tr>\n",
              "      <th>1547</th>\n",
              "      <td>World</td>\n",
              "      <td>World</td>\n",
              "      <td>133350.984375</td>\n",
              "      <td>Energy</td>\n",
              "      <td>Total</td>\n",
              "      <td>All</td>\n",
              "      <td>2022</td>\n",
              "      <td>Estimates from end-uses are for 2020 or 2021 (...</td>\n",
              "    </tr>\n",
              "    <tr>\n",
              "      <th>1548</th>\n",
              "      <td>World</td>\n",
              "      <td>World</td>\n",
              "      <td>9737.874023</td>\n",
              "      <td>Other</td>\n",
              "      <td>Total</td>\n",
              "      <td>All</td>\n",
              "      <td>2019-2021</td>\n",
              "      <td>Average based on United Nations Framework Conv...</td>\n",
              "    </tr>\n",
              "    <tr>\n",
              "      <th>1549</th>\n",
              "      <td>World</td>\n",
              "      <td>World</td>\n",
              "      <td>70758.710938</td>\n",
              "      <td>Waste</td>\n",
              "      <td>Total</td>\n",
              "      <td>All</td>\n",
              "      <td>2019-2021</td>\n",
              "      <td>Average based on United Nations Framework Conv...</td>\n",
              "    </tr>\n",
              "  </tbody>\n",
              "</table>\n",
              "</div>\n",
              "      <button class=\"colab-df-convert\" onclick=\"convertToInteractive('df-1e8bb816-1c2d-4db7-a18d-6691406207eb')\"\n",
              "              title=\"Convert this dataframe to an interactive table.\"\n",
              "              style=\"display:none;\">\n",
              "        \n",
              "  <svg xmlns=\"http://www.w3.org/2000/svg\" height=\"24px\"viewBox=\"0 0 24 24\"\n",
              "       width=\"24px\">\n",
              "    <path d=\"M0 0h24v24H0V0z\" fill=\"none\"/>\n",
              "    <path d=\"M18.56 5.44l.94 2.06.94-2.06 2.06-.94-2.06-.94-.94-2.06-.94 2.06-2.06.94zm-11 1L8.5 8.5l.94-2.06 2.06-.94-2.06-.94L8.5 2.5l-.94 2.06-2.06.94zm10 10l.94 2.06.94-2.06 2.06-.94-2.06-.94-.94-2.06-.94 2.06-2.06.94z\"/><path d=\"M17.41 7.96l-1.37-1.37c-.4-.4-.92-.59-1.43-.59-.52 0-1.04.2-1.43.59L10.3 9.45l-7.72 7.72c-.78.78-.78 2.05 0 2.83L4 21.41c.39.39.9.59 1.41.59.51 0 1.02-.2 1.41-.59l7.78-7.78 2.81-2.81c.8-.78.8-2.07 0-2.86zM5.41 20L4 18.59l7.72-7.72 1.47 1.35L5.41 20z\"/>\n",
              "  </svg>\n",
              "      </button>\n",
              "      \n",
              "  <style>\n",
              "    .colab-df-container {\n",
              "      display:flex;\n",
              "      flex-wrap:wrap;\n",
              "      gap: 12px;\n",
              "    }\n",
              "\n",
              "    .colab-df-convert {\n",
              "      background-color: #E8F0FE;\n",
              "      border: none;\n",
              "      border-radius: 50%;\n",
              "      cursor: pointer;\n",
              "      display: none;\n",
              "      fill: #1967D2;\n",
              "      height: 32px;\n",
              "      padding: 0 0 0 0;\n",
              "      width: 32px;\n",
              "    }\n",
              "\n",
              "    .colab-df-convert:hover {\n",
              "      background-color: #E2EBFA;\n",
              "      box-shadow: 0px 1px 2px rgba(60, 64, 67, 0.3), 0px 1px 3px 1px rgba(60, 64, 67, 0.15);\n",
              "      fill: #174EA6;\n",
              "    }\n",
              "\n",
              "    [theme=dark] .colab-df-convert {\n",
              "      background-color: #3B4455;\n",
              "      fill: #D2E3FC;\n",
              "    }\n",
              "\n",
              "    [theme=dark] .colab-df-convert:hover {\n",
              "      background-color: #434B5C;\n",
              "      box-shadow: 0px 1px 3px 1px rgba(0, 0, 0, 0.15);\n",
              "      filter: drop-shadow(0px 1px 2px rgba(0, 0, 0, 0.3));\n",
              "      fill: #FFFFFF;\n",
              "    }\n",
              "  </style>\n",
              "\n",
              "      <script>\n",
              "        const buttonEl =\n",
              "          document.querySelector('#df-1e8bb816-1c2d-4db7-a18d-6691406207eb button.colab-df-convert');\n",
              "        buttonEl.style.display =\n",
              "          google.colab.kernel.accessAllowed ? 'block' : 'none';\n",
              "\n",
              "        async function convertToInteractive(key) {\n",
              "          const element = document.querySelector('#df-1e8bb816-1c2d-4db7-a18d-6691406207eb');\n",
              "          const dataTable =\n",
              "            await google.colab.kernel.invokeFunction('convertToInteractive',\n",
              "                                                     [key], {});\n",
              "          if (!dataTable) return;\n",
              "\n",
              "          const docLinkHtml = 'Like what you see? Visit the ' +\n",
              "            '<a target=\"_blank\" href=https://colab.research.google.com/notebooks/data_table.ipynb>data table notebook</a>'\n",
              "            + ' to learn more about interactive tables.';\n",
              "          element.innerHTML = '';\n",
              "          dataTable['output_type'] = 'display_data';\n",
              "          await google.colab.output.renderOutput(dataTable, element);\n",
              "          const docLink = document.createElement('div');\n",
              "          docLink.innerHTML = docLinkHtml;\n",
              "          element.appendChild(docLink);\n",
              "        }\n",
              "      </script>\n",
              "    </div>\n",
              "  </div>\n",
              "  "
            ]
          },
          "metadata": {},
          "execution_count": 235
        }
      ]
    },
    {
      "cell_type": "code",
      "execution_count": 236,
      "id": "45b43537",
      "metadata": {
        "execution": {
          "iopub.execute_input": "2023-04-29T18:09:52.593795Z",
          "iopub.status.busy": "2023-04-29T18:09:52.592944Z",
          "iopub.status.idle": "2023-04-29T18:09:52.600347Z",
          "shell.execute_reply": "2023-04-29T18:09:52.599068Z"
        },
        "papermill": {
          "duration": 0.019175,
          "end_time": "2023-04-29T18:09:52.602793",
          "exception": false,
          "start_time": "2023-04-29T18:09:52.583618",
          "status": "completed"
        },
        "tags": [],
        "colab": {
          "base_uri": "https://localhost:8080/"
        },
        "id": "45b43537",
        "outputId": "d1234067-f90f-4d6e-b825-0e8c548fe0c3"
      },
      "outputs": [
        {
          "output_type": "execute_result",
          "data": {
            "text/plain": [
              "(1526, 8)"
            ]
          },
          "metadata": {},
          "execution_count": 236
        }
      ],
      "source": [
        "# Removendo valores referente à \"Mundo\" e \"Total\" para evitar duplicidade nos dados\n",
        "\n",
        "df = df[df.region != 'World']\n",
        "\n",
        "df.shape"
      ]
    },
    {
      "cell_type": "markdown",
      "source": [
        "### **4.2. Análise Descritiva**"
      ],
      "metadata": {
        "id": "sZxSUYKkzonh"
      },
      "id": "sZxSUYKkzonh"
    },
    {
      "cell_type": "code",
      "source": [
        "# Resumo estatístico das emissões geradas\n",
        "\n",
        "df.describe()\n",
        "\n"
      ],
      "metadata": {
        "colab": {
          "base_uri": "https://localhost:8080/",
          "height": 300
        },
        "id": "XPgyrjdHaB_5",
        "outputId": "d32ee5e7-bd17-44d0-ee4c-84c68841951e"
      },
      "id": "XPgyrjdHaB_5",
      "execution_count": 237,
      "outputs": [
        {
          "output_type": "execute_result",
          "data": {
            "text/plain": [
              "          emissions\n",
              "count   1526.000000\n",
              "mean     331.984226\n",
              "std     1451.481353\n",
              "min        0.000459\n",
              "25%        2.588755\n",
              "50%       22.501150\n",
              "75%      114.979780\n",
              "max    25372.222656"
            ],
            "text/html": [
              "\n",
              "  <div id=\"df-62243051-6fb0-4ece-a8b7-3aa75b277f95\">\n",
              "    <div class=\"colab-df-container\">\n",
              "      <div>\n",
              "<style scoped>\n",
              "    .dataframe tbody tr th:only-of-type {\n",
              "        vertical-align: middle;\n",
              "    }\n",
              "\n",
              "    .dataframe tbody tr th {\n",
              "        vertical-align: top;\n",
              "    }\n",
              "\n",
              "    .dataframe thead th {\n",
              "        text-align: right;\n",
              "    }\n",
              "</style>\n",
              "<table border=\"1\" class=\"dataframe\">\n",
              "  <thead>\n",
              "    <tr style=\"text-align: right;\">\n",
              "      <th></th>\n",
              "      <th>emissions</th>\n",
              "    </tr>\n",
              "  </thead>\n",
              "  <tbody>\n",
              "    <tr>\n",
              "      <th>count</th>\n",
              "      <td>1526.000000</td>\n",
              "    </tr>\n",
              "    <tr>\n",
              "      <th>mean</th>\n",
              "      <td>331.984226</td>\n",
              "    </tr>\n",
              "    <tr>\n",
              "      <th>std</th>\n",
              "      <td>1451.481353</td>\n",
              "    </tr>\n",
              "    <tr>\n",
              "      <th>min</th>\n",
              "      <td>0.000459</td>\n",
              "    </tr>\n",
              "    <tr>\n",
              "      <th>25%</th>\n",
              "      <td>2.588755</td>\n",
              "    </tr>\n",
              "    <tr>\n",
              "      <th>50%</th>\n",
              "      <td>22.501150</td>\n",
              "    </tr>\n",
              "    <tr>\n",
              "      <th>75%</th>\n",
              "      <td>114.979780</td>\n",
              "    </tr>\n",
              "    <tr>\n",
              "      <th>max</th>\n",
              "      <td>25372.222656</td>\n",
              "    </tr>\n",
              "  </tbody>\n",
              "</table>\n",
              "</div>\n",
              "      <button class=\"colab-df-convert\" onclick=\"convertToInteractive('df-62243051-6fb0-4ece-a8b7-3aa75b277f95')\"\n",
              "              title=\"Convert this dataframe to an interactive table.\"\n",
              "              style=\"display:none;\">\n",
              "        \n",
              "  <svg xmlns=\"http://www.w3.org/2000/svg\" height=\"24px\"viewBox=\"0 0 24 24\"\n",
              "       width=\"24px\">\n",
              "    <path d=\"M0 0h24v24H0V0z\" fill=\"none\"/>\n",
              "    <path d=\"M18.56 5.44l.94 2.06.94-2.06 2.06-.94-2.06-.94-.94-2.06-.94 2.06-2.06.94zm-11 1L8.5 8.5l.94-2.06 2.06-.94-2.06-.94L8.5 2.5l-.94 2.06-2.06.94zm10 10l.94 2.06.94-2.06 2.06-.94-2.06-.94-.94-2.06-.94 2.06-2.06.94z\"/><path d=\"M17.41 7.96l-1.37-1.37c-.4-.4-.92-.59-1.43-.59-.52 0-1.04.2-1.43.59L10.3 9.45l-7.72 7.72c-.78.78-.78 2.05 0 2.83L4 21.41c.39.39.9.59 1.41.59.51 0 1.02-.2 1.41-.59l7.78-7.78 2.81-2.81c.8-.78.8-2.07 0-2.86zM5.41 20L4 18.59l7.72-7.72 1.47 1.35L5.41 20z\"/>\n",
              "  </svg>\n",
              "      </button>\n",
              "      \n",
              "  <style>\n",
              "    .colab-df-container {\n",
              "      display:flex;\n",
              "      flex-wrap:wrap;\n",
              "      gap: 12px;\n",
              "    }\n",
              "\n",
              "    .colab-df-convert {\n",
              "      background-color: #E8F0FE;\n",
              "      border: none;\n",
              "      border-radius: 50%;\n",
              "      cursor: pointer;\n",
              "      display: none;\n",
              "      fill: #1967D2;\n",
              "      height: 32px;\n",
              "      padding: 0 0 0 0;\n",
              "      width: 32px;\n",
              "    }\n",
              "\n",
              "    .colab-df-convert:hover {\n",
              "      background-color: #E2EBFA;\n",
              "      box-shadow: 0px 1px 2px rgba(60, 64, 67, 0.3), 0px 1px 3px 1px rgba(60, 64, 67, 0.15);\n",
              "      fill: #174EA6;\n",
              "    }\n",
              "\n",
              "    [theme=dark] .colab-df-convert {\n",
              "      background-color: #3B4455;\n",
              "      fill: #D2E3FC;\n",
              "    }\n",
              "\n",
              "    [theme=dark] .colab-df-convert:hover {\n",
              "      background-color: #434B5C;\n",
              "      box-shadow: 0px 1px 3px 1px rgba(0, 0, 0, 0.15);\n",
              "      filter: drop-shadow(0px 1px 2px rgba(0, 0, 0, 0.3));\n",
              "      fill: #FFFFFF;\n",
              "    }\n",
              "  </style>\n",
              "\n",
              "      <script>\n",
              "        const buttonEl =\n",
              "          document.querySelector('#df-62243051-6fb0-4ece-a8b7-3aa75b277f95 button.colab-df-convert');\n",
              "        buttonEl.style.display =\n",
              "          google.colab.kernel.accessAllowed ? 'block' : 'none';\n",
              "\n",
              "        async function convertToInteractive(key) {\n",
              "          const element = document.querySelector('#df-62243051-6fb0-4ece-a8b7-3aa75b277f95');\n",
              "          const dataTable =\n",
              "            await google.colab.kernel.invokeFunction('convertToInteractive',\n",
              "                                                     [key], {});\n",
              "          if (!dataTable) return;\n",
              "\n",
              "          const docLinkHtml = 'Like what you see? Visit the ' +\n",
              "            '<a target=\"_blank\" href=https://colab.research.google.com/notebooks/data_table.ipynb>data table notebook</a>'\n",
              "            + ' to learn more about interactive tables.';\n",
              "          element.innerHTML = '';\n",
              "          dataTable['output_type'] = 'display_data';\n",
              "          await google.colab.output.renderOutput(dataTable, element);\n",
              "          const docLink = document.createElement('div');\n",
              "          docLink.innerHTML = docLinkHtml;\n",
              "          element.appendChild(docLink);\n",
              "        }\n",
              "      </script>\n",
              "    </div>\n",
              "  </div>\n",
              "  "
            ]
          },
          "metadata": {},
          "execution_count": 237
        }
      ]
    },
    {
      "cell_type": "code",
      "source": [
        "df.head()"
      ],
      "metadata": {
        "colab": {
          "base_uri": "https://localhost:8080/",
          "height": 206
        },
        "id": "Qsio3Y2M7yzW",
        "outputId": "97149dc5-8bb7-4ab0-be7e-efc679aff004"
      },
      "id": "Qsio3Y2M7yzW",
      "execution_count": 238,
      "outputs": [
        {
          "output_type": "execute_result",
          "data": {
            "text/plain": [
              "   region  country   emissions         type                           segment  \\\n",
              "0  Africa  Algeria  257.611206  Agriculture                             Total   \n",
              "1  Africa  Algeria    0.052000       Energy                         Bioenergy   \n",
              "2  Africa  Algeria  130.798996       Energy  Gas pipelines and LNG facilities   \n",
              "3  Africa  Algeria   69.741898       Energy  Gas pipelines and LNG facilities   \n",
              "4  Africa  Algeria  213.987000       Energy                       Onshore gas   \n",
              "\n",
              "     reason   baseYear                                              notes  \n",
              "0       All  2019-2021  Average based on United Nations Framework Conv...  \n",
              "1       All       2022  Estimates from end-uses are for 2020 or 2021 (...  \n",
              "2  Fugitive       2022                                      Not available  \n",
              "3    Vented       2022                                      Not available  \n",
              "4  Fugitive       2022                                      Not available  "
            ],
            "text/html": [
              "\n",
              "  <div id=\"df-e9955421-5a1c-46ad-bc88-c6a6c57f048f\">\n",
              "    <div class=\"colab-df-container\">\n",
              "      <div>\n",
              "<style scoped>\n",
              "    .dataframe tbody tr th:only-of-type {\n",
              "        vertical-align: middle;\n",
              "    }\n",
              "\n",
              "    .dataframe tbody tr th {\n",
              "        vertical-align: top;\n",
              "    }\n",
              "\n",
              "    .dataframe thead th {\n",
              "        text-align: right;\n",
              "    }\n",
              "</style>\n",
              "<table border=\"1\" class=\"dataframe\">\n",
              "  <thead>\n",
              "    <tr style=\"text-align: right;\">\n",
              "      <th></th>\n",
              "      <th>region</th>\n",
              "      <th>country</th>\n",
              "      <th>emissions</th>\n",
              "      <th>type</th>\n",
              "      <th>segment</th>\n",
              "      <th>reason</th>\n",
              "      <th>baseYear</th>\n",
              "      <th>notes</th>\n",
              "    </tr>\n",
              "  </thead>\n",
              "  <tbody>\n",
              "    <tr>\n",
              "      <th>0</th>\n",
              "      <td>Africa</td>\n",
              "      <td>Algeria</td>\n",
              "      <td>257.611206</td>\n",
              "      <td>Agriculture</td>\n",
              "      <td>Total</td>\n",
              "      <td>All</td>\n",
              "      <td>2019-2021</td>\n",
              "      <td>Average based on United Nations Framework Conv...</td>\n",
              "    </tr>\n",
              "    <tr>\n",
              "      <th>1</th>\n",
              "      <td>Africa</td>\n",
              "      <td>Algeria</td>\n",
              "      <td>0.052000</td>\n",
              "      <td>Energy</td>\n",
              "      <td>Bioenergy</td>\n",
              "      <td>All</td>\n",
              "      <td>2022</td>\n",
              "      <td>Estimates from end-uses are for 2020 or 2021 (...</td>\n",
              "    </tr>\n",
              "    <tr>\n",
              "      <th>2</th>\n",
              "      <td>Africa</td>\n",
              "      <td>Algeria</td>\n",
              "      <td>130.798996</td>\n",
              "      <td>Energy</td>\n",
              "      <td>Gas pipelines and LNG facilities</td>\n",
              "      <td>Fugitive</td>\n",
              "      <td>2022</td>\n",
              "      <td>Not available</td>\n",
              "    </tr>\n",
              "    <tr>\n",
              "      <th>3</th>\n",
              "      <td>Africa</td>\n",
              "      <td>Algeria</td>\n",
              "      <td>69.741898</td>\n",
              "      <td>Energy</td>\n",
              "      <td>Gas pipelines and LNG facilities</td>\n",
              "      <td>Vented</td>\n",
              "      <td>2022</td>\n",
              "      <td>Not available</td>\n",
              "    </tr>\n",
              "    <tr>\n",
              "      <th>4</th>\n",
              "      <td>Africa</td>\n",
              "      <td>Algeria</td>\n",
              "      <td>213.987000</td>\n",
              "      <td>Energy</td>\n",
              "      <td>Onshore gas</td>\n",
              "      <td>Fugitive</td>\n",
              "      <td>2022</td>\n",
              "      <td>Not available</td>\n",
              "    </tr>\n",
              "  </tbody>\n",
              "</table>\n",
              "</div>\n",
              "      <button class=\"colab-df-convert\" onclick=\"convertToInteractive('df-e9955421-5a1c-46ad-bc88-c6a6c57f048f')\"\n",
              "              title=\"Convert this dataframe to an interactive table.\"\n",
              "              style=\"display:none;\">\n",
              "        \n",
              "  <svg xmlns=\"http://www.w3.org/2000/svg\" height=\"24px\"viewBox=\"0 0 24 24\"\n",
              "       width=\"24px\">\n",
              "    <path d=\"M0 0h24v24H0V0z\" fill=\"none\"/>\n",
              "    <path d=\"M18.56 5.44l.94 2.06.94-2.06 2.06-.94-2.06-.94-.94-2.06-.94 2.06-2.06.94zm-11 1L8.5 8.5l.94-2.06 2.06-.94-2.06-.94L8.5 2.5l-.94 2.06-2.06.94zm10 10l.94 2.06.94-2.06 2.06-.94-2.06-.94-.94-2.06-.94 2.06-2.06.94z\"/><path d=\"M17.41 7.96l-1.37-1.37c-.4-.4-.92-.59-1.43-.59-.52 0-1.04.2-1.43.59L10.3 9.45l-7.72 7.72c-.78.78-.78 2.05 0 2.83L4 21.41c.39.39.9.59 1.41.59.51 0 1.02-.2 1.41-.59l7.78-7.78 2.81-2.81c.8-.78.8-2.07 0-2.86zM5.41 20L4 18.59l7.72-7.72 1.47 1.35L5.41 20z\"/>\n",
              "  </svg>\n",
              "      </button>\n",
              "      \n",
              "  <style>\n",
              "    .colab-df-container {\n",
              "      display:flex;\n",
              "      flex-wrap:wrap;\n",
              "      gap: 12px;\n",
              "    }\n",
              "\n",
              "    .colab-df-convert {\n",
              "      background-color: #E8F0FE;\n",
              "      border: none;\n",
              "      border-radius: 50%;\n",
              "      cursor: pointer;\n",
              "      display: none;\n",
              "      fill: #1967D2;\n",
              "      height: 32px;\n",
              "      padding: 0 0 0 0;\n",
              "      width: 32px;\n",
              "    }\n",
              "\n",
              "    .colab-df-convert:hover {\n",
              "      background-color: #E2EBFA;\n",
              "      box-shadow: 0px 1px 2px rgba(60, 64, 67, 0.3), 0px 1px 3px 1px rgba(60, 64, 67, 0.15);\n",
              "      fill: #174EA6;\n",
              "    }\n",
              "\n",
              "    [theme=dark] .colab-df-convert {\n",
              "      background-color: #3B4455;\n",
              "      fill: #D2E3FC;\n",
              "    }\n",
              "\n",
              "    [theme=dark] .colab-df-convert:hover {\n",
              "      background-color: #434B5C;\n",
              "      box-shadow: 0px 1px 3px 1px rgba(0, 0, 0, 0.15);\n",
              "      filter: drop-shadow(0px 1px 2px rgba(0, 0, 0, 0.3));\n",
              "      fill: #FFFFFF;\n",
              "    }\n",
              "  </style>\n",
              "\n",
              "      <script>\n",
              "        const buttonEl =\n",
              "          document.querySelector('#df-e9955421-5a1c-46ad-bc88-c6a6c57f048f button.colab-df-convert');\n",
              "        buttonEl.style.display =\n",
              "          google.colab.kernel.accessAllowed ? 'block' : 'none';\n",
              "\n",
              "        async function convertToInteractive(key) {\n",
              "          const element = document.querySelector('#df-e9955421-5a1c-46ad-bc88-c6a6c57f048f');\n",
              "          const dataTable =\n",
              "            await google.colab.kernel.invokeFunction('convertToInteractive',\n",
              "                                                     [key], {});\n",
              "          if (!dataTable) return;\n",
              "\n",
              "          const docLinkHtml = 'Like what you see? Visit the ' +\n",
              "            '<a target=\"_blank\" href=https://colab.research.google.com/notebooks/data_table.ipynb>data table notebook</a>'\n",
              "            + ' to learn more about interactive tables.';\n",
              "          element.innerHTML = '';\n",
              "          dataTable['output_type'] = 'display_data';\n",
              "          await google.colab.output.renderOutput(dataTable, element);\n",
              "          const docLink = document.createElement('div');\n",
              "          docLink.innerHTML = docLinkHtml;\n",
              "          element.appendChild(docLink);\n",
              "        }\n",
              "      </script>\n",
              "    </div>\n",
              "  </div>\n",
              "  "
            ]
          },
          "metadata": {},
          "execution_count": 238
        }
      ]
    },
    {
      "cell_type": "code",
      "source": [
        "# Resumo estatístico das emissões geradas no triênio 2019-2021\n",
        "\n",
        "df[df['baseYear']=='2019-2021'].describe()"
      ],
      "metadata": {
        "colab": {
          "base_uri": "https://localhost:8080/",
          "height": 300
        },
        "id": "rEC9eX0jj3rP",
        "outputId": "0b274a12-7690-4538-80ed-fce72d29330a"
      },
      "id": "rEC9eX0jj3rP",
      "execution_count": 239,
      "outputs": [
        {
          "output_type": "execute_result",
          "data": {
            "text/plain": [
              "          emissions\n",
              "count    312.000000\n",
              "mean     756.133279\n",
              "std     2079.713788\n",
              "min        0.051872\n",
              "25%       23.579745\n",
              "50%      143.009361\n",
              "75%      620.715546\n",
              "max    18501.914062"
            ],
            "text/html": [
              "\n",
              "  <div id=\"df-84fb1d4b-0192-4a01-b935-baa10f40b740\">\n",
              "    <div class=\"colab-df-container\">\n",
              "      <div>\n",
              "<style scoped>\n",
              "    .dataframe tbody tr th:only-of-type {\n",
              "        vertical-align: middle;\n",
              "    }\n",
              "\n",
              "    .dataframe tbody tr th {\n",
              "        vertical-align: top;\n",
              "    }\n",
              "\n",
              "    .dataframe thead th {\n",
              "        text-align: right;\n",
              "    }\n",
              "</style>\n",
              "<table border=\"1\" class=\"dataframe\">\n",
              "  <thead>\n",
              "    <tr style=\"text-align: right;\">\n",
              "      <th></th>\n",
              "      <th>emissions</th>\n",
              "    </tr>\n",
              "  </thead>\n",
              "  <tbody>\n",
              "    <tr>\n",
              "      <th>count</th>\n",
              "      <td>312.000000</td>\n",
              "    </tr>\n",
              "    <tr>\n",
              "      <th>mean</th>\n",
              "      <td>756.133279</td>\n",
              "    </tr>\n",
              "    <tr>\n",
              "      <th>std</th>\n",
              "      <td>2079.713788</td>\n",
              "    </tr>\n",
              "    <tr>\n",
              "      <th>min</th>\n",
              "      <td>0.051872</td>\n",
              "    </tr>\n",
              "    <tr>\n",
              "      <th>25%</th>\n",
              "      <td>23.579745</td>\n",
              "    </tr>\n",
              "    <tr>\n",
              "      <th>50%</th>\n",
              "      <td>143.009361</td>\n",
              "    </tr>\n",
              "    <tr>\n",
              "      <th>75%</th>\n",
              "      <td>620.715546</td>\n",
              "    </tr>\n",
              "    <tr>\n",
              "      <th>max</th>\n",
              "      <td>18501.914062</td>\n",
              "    </tr>\n",
              "  </tbody>\n",
              "</table>\n",
              "</div>\n",
              "      <button class=\"colab-df-convert\" onclick=\"convertToInteractive('df-84fb1d4b-0192-4a01-b935-baa10f40b740')\"\n",
              "              title=\"Convert this dataframe to an interactive table.\"\n",
              "              style=\"display:none;\">\n",
              "        \n",
              "  <svg xmlns=\"http://www.w3.org/2000/svg\" height=\"24px\"viewBox=\"0 0 24 24\"\n",
              "       width=\"24px\">\n",
              "    <path d=\"M0 0h24v24H0V0z\" fill=\"none\"/>\n",
              "    <path d=\"M18.56 5.44l.94 2.06.94-2.06 2.06-.94-2.06-.94-.94-2.06-.94 2.06-2.06.94zm-11 1L8.5 8.5l.94-2.06 2.06-.94-2.06-.94L8.5 2.5l-.94 2.06-2.06.94zm10 10l.94 2.06.94-2.06 2.06-.94-2.06-.94-.94-2.06-.94 2.06-2.06.94z\"/><path d=\"M17.41 7.96l-1.37-1.37c-.4-.4-.92-.59-1.43-.59-.52 0-1.04.2-1.43.59L10.3 9.45l-7.72 7.72c-.78.78-.78 2.05 0 2.83L4 21.41c.39.39.9.59 1.41.59.51 0 1.02-.2 1.41-.59l7.78-7.78 2.81-2.81c.8-.78.8-2.07 0-2.86zM5.41 20L4 18.59l7.72-7.72 1.47 1.35L5.41 20z\"/>\n",
              "  </svg>\n",
              "      </button>\n",
              "      \n",
              "  <style>\n",
              "    .colab-df-container {\n",
              "      display:flex;\n",
              "      flex-wrap:wrap;\n",
              "      gap: 12px;\n",
              "    }\n",
              "\n",
              "    .colab-df-convert {\n",
              "      background-color: #E8F0FE;\n",
              "      border: none;\n",
              "      border-radius: 50%;\n",
              "      cursor: pointer;\n",
              "      display: none;\n",
              "      fill: #1967D2;\n",
              "      height: 32px;\n",
              "      padding: 0 0 0 0;\n",
              "      width: 32px;\n",
              "    }\n",
              "\n",
              "    .colab-df-convert:hover {\n",
              "      background-color: #E2EBFA;\n",
              "      box-shadow: 0px 1px 2px rgba(60, 64, 67, 0.3), 0px 1px 3px 1px rgba(60, 64, 67, 0.15);\n",
              "      fill: #174EA6;\n",
              "    }\n",
              "\n",
              "    [theme=dark] .colab-df-convert {\n",
              "      background-color: #3B4455;\n",
              "      fill: #D2E3FC;\n",
              "    }\n",
              "\n",
              "    [theme=dark] .colab-df-convert:hover {\n",
              "      background-color: #434B5C;\n",
              "      box-shadow: 0px 1px 3px 1px rgba(0, 0, 0, 0.15);\n",
              "      filter: drop-shadow(0px 1px 2px rgba(0, 0, 0, 0.3));\n",
              "      fill: #FFFFFF;\n",
              "    }\n",
              "  </style>\n",
              "\n",
              "      <script>\n",
              "        const buttonEl =\n",
              "          document.querySelector('#df-84fb1d4b-0192-4a01-b935-baa10f40b740 button.colab-df-convert');\n",
              "        buttonEl.style.display =\n",
              "          google.colab.kernel.accessAllowed ? 'block' : 'none';\n",
              "\n",
              "        async function convertToInteractive(key) {\n",
              "          const element = document.querySelector('#df-84fb1d4b-0192-4a01-b935-baa10f40b740');\n",
              "          const dataTable =\n",
              "            await google.colab.kernel.invokeFunction('convertToInteractive',\n",
              "                                                     [key], {});\n",
              "          if (!dataTable) return;\n",
              "\n",
              "          const docLinkHtml = 'Like what you see? Visit the ' +\n",
              "            '<a target=\"_blank\" href=https://colab.research.google.com/notebooks/data_table.ipynb>data table notebook</a>'\n",
              "            + ' to learn more about interactive tables.';\n",
              "          element.innerHTML = '';\n",
              "          dataTable['output_type'] = 'display_data';\n",
              "          await google.colab.output.renderOutput(dataTable, element);\n",
              "          const docLink = document.createElement('div');\n",
              "          docLink.innerHTML = docLinkHtml;\n",
              "          element.appendChild(docLink);\n",
              "        }\n",
              "      </script>\n",
              "    </div>\n",
              "  </div>\n",
              "  "
            ]
          },
          "metadata": {},
          "execution_count": 239
        }
      ]
    },
    {
      "cell_type": "code",
      "source": [
        "# Resumo estatístico das emissões geradas no ano 2022\n",
        "\n",
        "df[df['baseYear']=='2022'].describe()"
      ],
      "metadata": {
        "colab": {
          "base_uri": "https://localhost:8080/",
          "height": 300
        },
        "id": "ZKN3fquBj311",
        "outputId": "c6c5e4ce-f765-4393-ad4f-7005eb3b0144"
      },
      "id": "ZKN3fquBj311",
      "execution_count": 240,
      "outputs": [
        {
          "output_type": "execute_result",
          "data": {
            "text/plain": [
              "          emissions\n",
              "count   1214.000000\n",
              "mean     222.977220\n",
              "std     1217.206963\n",
              "min        0.000459\n",
              "25%        1.645602\n",
              "50%       14.140725\n",
              "75%       68.814074\n",
              "max    25372.222656"
            ],
            "text/html": [
              "\n",
              "  <div id=\"df-0238c41d-c9fe-4e2d-8b4e-1dc687ec55bd\">\n",
              "    <div class=\"colab-df-container\">\n",
              "      <div>\n",
              "<style scoped>\n",
              "    .dataframe tbody tr th:only-of-type {\n",
              "        vertical-align: middle;\n",
              "    }\n",
              "\n",
              "    .dataframe tbody tr th {\n",
              "        vertical-align: top;\n",
              "    }\n",
              "\n",
              "    .dataframe thead th {\n",
              "        text-align: right;\n",
              "    }\n",
              "</style>\n",
              "<table border=\"1\" class=\"dataframe\">\n",
              "  <thead>\n",
              "    <tr style=\"text-align: right;\">\n",
              "      <th></th>\n",
              "      <th>emissions</th>\n",
              "    </tr>\n",
              "  </thead>\n",
              "  <tbody>\n",
              "    <tr>\n",
              "      <th>count</th>\n",
              "      <td>1214.000000</td>\n",
              "    </tr>\n",
              "    <tr>\n",
              "      <th>mean</th>\n",
              "      <td>222.977220</td>\n",
              "    </tr>\n",
              "    <tr>\n",
              "      <th>std</th>\n",
              "      <td>1217.206963</td>\n",
              "    </tr>\n",
              "    <tr>\n",
              "      <th>min</th>\n",
              "      <td>0.000459</td>\n",
              "    </tr>\n",
              "    <tr>\n",
              "      <th>25%</th>\n",
              "      <td>1.645602</td>\n",
              "    </tr>\n",
              "    <tr>\n",
              "      <th>50%</th>\n",
              "      <td>14.140725</td>\n",
              "    </tr>\n",
              "    <tr>\n",
              "      <th>75%</th>\n",
              "      <td>68.814074</td>\n",
              "    </tr>\n",
              "    <tr>\n",
              "      <th>max</th>\n",
              "      <td>25372.222656</td>\n",
              "    </tr>\n",
              "  </tbody>\n",
              "</table>\n",
              "</div>\n",
              "      <button class=\"colab-df-convert\" onclick=\"convertToInteractive('df-0238c41d-c9fe-4e2d-8b4e-1dc687ec55bd')\"\n",
              "              title=\"Convert this dataframe to an interactive table.\"\n",
              "              style=\"display:none;\">\n",
              "        \n",
              "  <svg xmlns=\"http://www.w3.org/2000/svg\" height=\"24px\"viewBox=\"0 0 24 24\"\n",
              "       width=\"24px\">\n",
              "    <path d=\"M0 0h24v24H0V0z\" fill=\"none\"/>\n",
              "    <path d=\"M18.56 5.44l.94 2.06.94-2.06 2.06-.94-2.06-.94-.94-2.06-.94 2.06-2.06.94zm-11 1L8.5 8.5l.94-2.06 2.06-.94-2.06-.94L8.5 2.5l-.94 2.06-2.06.94zm10 10l.94 2.06.94-2.06 2.06-.94-2.06-.94-.94-2.06-.94 2.06-2.06.94z\"/><path d=\"M17.41 7.96l-1.37-1.37c-.4-.4-.92-.59-1.43-.59-.52 0-1.04.2-1.43.59L10.3 9.45l-7.72 7.72c-.78.78-.78 2.05 0 2.83L4 21.41c.39.39.9.59 1.41.59.51 0 1.02-.2 1.41-.59l7.78-7.78 2.81-2.81c.8-.78.8-2.07 0-2.86zM5.41 20L4 18.59l7.72-7.72 1.47 1.35L5.41 20z\"/>\n",
              "  </svg>\n",
              "      </button>\n",
              "      \n",
              "  <style>\n",
              "    .colab-df-container {\n",
              "      display:flex;\n",
              "      flex-wrap:wrap;\n",
              "      gap: 12px;\n",
              "    }\n",
              "\n",
              "    .colab-df-convert {\n",
              "      background-color: #E8F0FE;\n",
              "      border: none;\n",
              "      border-radius: 50%;\n",
              "      cursor: pointer;\n",
              "      display: none;\n",
              "      fill: #1967D2;\n",
              "      height: 32px;\n",
              "      padding: 0 0 0 0;\n",
              "      width: 32px;\n",
              "    }\n",
              "\n",
              "    .colab-df-convert:hover {\n",
              "      background-color: #E2EBFA;\n",
              "      box-shadow: 0px 1px 2px rgba(60, 64, 67, 0.3), 0px 1px 3px 1px rgba(60, 64, 67, 0.15);\n",
              "      fill: #174EA6;\n",
              "    }\n",
              "\n",
              "    [theme=dark] .colab-df-convert {\n",
              "      background-color: #3B4455;\n",
              "      fill: #D2E3FC;\n",
              "    }\n",
              "\n",
              "    [theme=dark] .colab-df-convert:hover {\n",
              "      background-color: #434B5C;\n",
              "      box-shadow: 0px 1px 3px 1px rgba(0, 0, 0, 0.15);\n",
              "      filter: drop-shadow(0px 1px 2px rgba(0, 0, 0, 0.3));\n",
              "      fill: #FFFFFF;\n",
              "    }\n",
              "  </style>\n",
              "\n",
              "      <script>\n",
              "        const buttonEl =\n",
              "          document.querySelector('#df-0238c41d-c9fe-4e2d-8b4e-1dc687ec55bd button.colab-df-convert');\n",
              "        buttonEl.style.display =\n",
              "          google.colab.kernel.accessAllowed ? 'block' : 'none';\n",
              "\n",
              "        async function convertToInteractive(key) {\n",
              "          const element = document.querySelector('#df-0238c41d-c9fe-4e2d-8b4e-1dc687ec55bd');\n",
              "          const dataTable =\n",
              "            await google.colab.kernel.invokeFunction('convertToInteractive',\n",
              "                                                     [key], {});\n",
              "          if (!dataTable) return;\n",
              "\n",
              "          const docLinkHtml = 'Like what you see? Visit the ' +\n",
              "            '<a target=\"_blank\" href=https://colab.research.google.com/notebooks/data_table.ipynb>data table notebook</a>'\n",
              "            + ' to learn more about interactive tables.';\n",
              "          element.innerHTML = '';\n",
              "          dataTable['output_type'] = 'display_data';\n",
              "          await google.colab.output.renderOutput(dataTable, element);\n",
              "          const docLink = document.createElement('div');\n",
              "          docLink.innerHTML = docLinkHtml;\n",
              "          element.appendChild(docLink);\n",
              "        }\n",
              "      </script>\n",
              "    </div>\n",
              "  </div>\n",
              "  "
            ]
          },
          "metadata": {},
          "execution_count": 240
        }
      ]
    },
    {
      "cell_type": "code",
      "source": [
        "# Exibindo os dados únicos do atributo ANO BASE\n",
        "\n",
        "\n",
        "df['baseYear'].unique()        # O dataset apresenta apenas duas variáveis de\n",
        "                               # base temporal 2019-2021 (3 anos) e 2022."
      ],
      "metadata": {
        "colab": {
          "base_uri": "https://localhost:8080/"
        },
        "id": "5s7lVKUvaRxE",
        "outputId": "cba83603-2c88-4d90-e9b7-81449cf28df3"
      },
      "id": "5s7lVKUvaRxE",
      "execution_count": 241,
      "outputs": [
        {
          "output_type": "execute_result",
          "data": {
            "text/plain": [
              "array(['2019-2021', '2022'], dtype=object)"
            ]
          },
          "metadata": {},
          "execution_count": 241
        }
      ]
    },
    {
      "cell_type": "code",
      "execution_count": 242,
      "id": "e3d228dc",
      "metadata": {
        "execution": {
          "iopub.execute_input": "2023-04-29T18:09:52.500885Z",
          "iopub.status.busy": "2023-04-29T18:09:52.500462Z",
          "iopub.status.idle": "2023-04-29T18:09:52.510741Z",
          "shell.execute_reply": "2023-04-29T18:09:52.509385Z"
        },
        "papermill": {
          "duration": 0.020898,
          "end_time": "2023-04-29T18:09:52.513364",
          "exception": false,
          "start_time": "2023-04-29T18:09:52.492466",
          "status": "completed"
        },
        "tags": [],
        "colab": {
          "base_uri": "https://localhost:8080/"
        },
        "id": "e3d228dc",
        "outputId": "e94a5bbd-fd81-4461-94bd-50e153b1ae5c"
      },
      "outputs": [
        {
          "output_type": "execute_result",
          "data": {
            "text/plain": [
              "Energy         1214\n",
              "Agriculture     104\n",
              "Other           104\n",
              "Waste           104\n",
              "Name: type, dtype: int64"
            ]
          },
          "metadata": {},
          "execution_count": 242
        }
      ],
      "source": [
        "# Contagem de dados por tipo de emissão\n",
        "\n",
        "df['type'].value_counts()"
      ]
    },
    {
      "cell_type": "code",
      "execution_count": 243,
      "id": "2268c67f",
      "metadata": {
        "execution": {
          "iopub.execute_input": "2023-04-29T18:09:52.528250Z",
          "iopub.status.busy": "2023-04-29T18:09:52.527844Z",
          "iopub.status.idle": "2023-04-29T18:09:52.537973Z",
          "shell.execute_reply": "2023-04-29T18:09:52.536682Z"
        },
        "papermill": {
          "duration": 0.020617,
          "end_time": "2023-04-29T18:09:52.540530",
          "exception": false,
          "start_time": "2023-04-29T18:09:52.519913",
          "status": "completed"
        },
        "tags": [],
        "colab": {
          "base_uri": "https://localhost:8080/"
        },
        "id": "2268c67f",
        "outputId": "63014a1d-795f-479e-f72f-a1ccddcc8d01"
      },
      "outputs": [
        {
          "output_type": "execute_result",
          "data": {
            "text/plain": [
              "Total                                             410\n",
              "Onshore oil                                       214\n",
              "Gas pipelines and LNG facilities                  162\n",
              "Offshore oil                                      156\n",
              "Onshore gas                                       142\n",
              "Offshore gas                                      116\n",
              "Other from oil and gas                             97\n",
              "Bioenergy                                          92\n",
              "Other from coal                                    65\n",
              "Steam coal                                         29\n",
              "Coking coal                                        23\n",
              "Satellite-detected large oil and gas emissions     20\n",
              "Name: segment, dtype: int64"
            ]
          },
          "metadata": {},
          "execution_count": 243
        }
      ],
      "source": [
        "df['segment'].value_counts()"
      ]
    },
    {
      "cell_type": "code",
      "source": [
        "df['reason'].value_counts()"
      ],
      "metadata": {
        "colab": {
          "base_uri": "https://localhost:8080/"
        },
        "id": "6QIevVYACs57",
        "outputId": "92756cca-e1b3-4127-b930-45801761c545"
      },
      "id": "6QIevVYACs57",
      "execution_count": 244,
      "outputs": [
        {
          "output_type": "execute_result",
          "data": {
            "text/plain": [
              "All         736\n",
              "Fugitive    337\n",
              "Vented      337\n",
              "Flared      116\n",
              "Name: reason, dtype: int64"
            ]
          },
          "metadata": {},
          "execution_count": 244
        }
      ]
    },
    {
      "cell_type": "code",
      "execution_count": 245,
      "id": "444e5281",
      "metadata": {
        "execution": {
          "iopub.execute_input": "2023-04-29T18:09:52.556339Z",
          "iopub.status.busy": "2023-04-29T18:09:52.555446Z",
          "iopub.status.idle": "2023-04-29T18:09:52.574049Z",
          "shell.execute_reply": "2023-04-29T18:09:52.572638Z"
        },
        "papermill": {
          "duration": 0.029292,
          "end_time": "2023-04-29T18:09:52.576656",
          "exception": false,
          "start_time": "2023-04-29T18:09:52.547364",
          "status": "completed"
        },
        "tags": [],
        "colab": {
          "base_uri": "https://localhost:8080/",
          "height": 206
        },
        "id": "444e5281",
        "outputId": "0754dd3d-74dd-44a8-b35a-09f39379d035"
      },
      "outputs": [
        {
          "output_type": "execute_result",
          "data": {
            "text/plain": [
              "   region  country   emissions    type                           segment  \\\n",
              "1  Africa  Algeria    0.052000  Energy                         Bioenergy   \n",
              "2  Africa  Algeria  130.798996  Energy  Gas pipelines and LNG facilities   \n",
              "3  Africa  Algeria   69.741898  Energy  Gas pipelines and LNG facilities   \n",
              "4  Africa  Algeria  213.987000  Energy                       Onshore gas   \n",
              "5  Africa  Algeria  464.308014  Energy                       Onshore gas   \n",
              "\n",
              "     reason baseYear                                              notes  \n",
              "1       All     2022  Estimates from end-uses are for 2020 or 2021 (...  \n",
              "2  Fugitive     2022                                      Not available  \n",
              "3    Vented     2022                                      Not available  \n",
              "4  Fugitive     2022                                      Not available  \n",
              "5    Vented     2022                                      Not available  "
            ],
            "text/html": [
              "\n",
              "  <div id=\"df-352541d0-9571-4b61-ace3-c5d392566339\">\n",
              "    <div class=\"colab-df-container\">\n",
              "      <div>\n",
              "<style scoped>\n",
              "    .dataframe tbody tr th:only-of-type {\n",
              "        vertical-align: middle;\n",
              "    }\n",
              "\n",
              "    .dataframe tbody tr th {\n",
              "        vertical-align: top;\n",
              "    }\n",
              "\n",
              "    .dataframe thead th {\n",
              "        text-align: right;\n",
              "    }\n",
              "</style>\n",
              "<table border=\"1\" class=\"dataframe\">\n",
              "  <thead>\n",
              "    <tr style=\"text-align: right;\">\n",
              "      <th></th>\n",
              "      <th>region</th>\n",
              "      <th>country</th>\n",
              "      <th>emissions</th>\n",
              "      <th>type</th>\n",
              "      <th>segment</th>\n",
              "      <th>reason</th>\n",
              "      <th>baseYear</th>\n",
              "      <th>notes</th>\n",
              "    </tr>\n",
              "  </thead>\n",
              "  <tbody>\n",
              "    <tr>\n",
              "      <th>1</th>\n",
              "      <td>Africa</td>\n",
              "      <td>Algeria</td>\n",
              "      <td>0.052000</td>\n",
              "      <td>Energy</td>\n",
              "      <td>Bioenergy</td>\n",
              "      <td>All</td>\n",
              "      <td>2022</td>\n",
              "      <td>Estimates from end-uses are for 2020 or 2021 (...</td>\n",
              "    </tr>\n",
              "    <tr>\n",
              "      <th>2</th>\n",
              "      <td>Africa</td>\n",
              "      <td>Algeria</td>\n",
              "      <td>130.798996</td>\n",
              "      <td>Energy</td>\n",
              "      <td>Gas pipelines and LNG facilities</td>\n",
              "      <td>Fugitive</td>\n",
              "      <td>2022</td>\n",
              "      <td>Not available</td>\n",
              "    </tr>\n",
              "    <tr>\n",
              "      <th>3</th>\n",
              "      <td>Africa</td>\n",
              "      <td>Algeria</td>\n",
              "      <td>69.741898</td>\n",
              "      <td>Energy</td>\n",
              "      <td>Gas pipelines and LNG facilities</td>\n",
              "      <td>Vented</td>\n",
              "      <td>2022</td>\n",
              "      <td>Not available</td>\n",
              "    </tr>\n",
              "    <tr>\n",
              "      <th>4</th>\n",
              "      <td>Africa</td>\n",
              "      <td>Algeria</td>\n",
              "      <td>213.987000</td>\n",
              "      <td>Energy</td>\n",
              "      <td>Onshore gas</td>\n",
              "      <td>Fugitive</td>\n",
              "      <td>2022</td>\n",
              "      <td>Not available</td>\n",
              "    </tr>\n",
              "    <tr>\n",
              "      <th>5</th>\n",
              "      <td>Africa</td>\n",
              "      <td>Algeria</td>\n",
              "      <td>464.308014</td>\n",
              "      <td>Energy</td>\n",
              "      <td>Onshore gas</td>\n",
              "      <td>Vented</td>\n",
              "      <td>2022</td>\n",
              "      <td>Not available</td>\n",
              "    </tr>\n",
              "  </tbody>\n",
              "</table>\n",
              "</div>\n",
              "      <button class=\"colab-df-convert\" onclick=\"convertToInteractive('df-352541d0-9571-4b61-ace3-c5d392566339')\"\n",
              "              title=\"Convert this dataframe to an interactive table.\"\n",
              "              style=\"display:none;\">\n",
              "        \n",
              "  <svg xmlns=\"http://www.w3.org/2000/svg\" height=\"24px\"viewBox=\"0 0 24 24\"\n",
              "       width=\"24px\">\n",
              "    <path d=\"M0 0h24v24H0V0z\" fill=\"none\"/>\n",
              "    <path d=\"M18.56 5.44l.94 2.06.94-2.06 2.06-.94-2.06-.94-.94-2.06-.94 2.06-2.06.94zm-11 1L8.5 8.5l.94-2.06 2.06-.94-2.06-.94L8.5 2.5l-.94 2.06-2.06.94zm10 10l.94 2.06.94-2.06 2.06-.94-2.06-.94-.94-2.06-.94 2.06-2.06.94z\"/><path d=\"M17.41 7.96l-1.37-1.37c-.4-.4-.92-.59-1.43-.59-.52 0-1.04.2-1.43.59L10.3 9.45l-7.72 7.72c-.78.78-.78 2.05 0 2.83L4 21.41c.39.39.9.59 1.41.59.51 0 1.02-.2 1.41-.59l7.78-7.78 2.81-2.81c.8-.78.8-2.07 0-2.86zM5.41 20L4 18.59l7.72-7.72 1.47 1.35L5.41 20z\"/>\n",
              "  </svg>\n",
              "      </button>\n",
              "      \n",
              "  <style>\n",
              "    .colab-df-container {\n",
              "      display:flex;\n",
              "      flex-wrap:wrap;\n",
              "      gap: 12px;\n",
              "    }\n",
              "\n",
              "    .colab-df-convert {\n",
              "      background-color: #E8F0FE;\n",
              "      border: none;\n",
              "      border-radius: 50%;\n",
              "      cursor: pointer;\n",
              "      display: none;\n",
              "      fill: #1967D2;\n",
              "      height: 32px;\n",
              "      padding: 0 0 0 0;\n",
              "      width: 32px;\n",
              "    }\n",
              "\n",
              "    .colab-df-convert:hover {\n",
              "      background-color: #E2EBFA;\n",
              "      box-shadow: 0px 1px 2px rgba(60, 64, 67, 0.3), 0px 1px 3px 1px rgba(60, 64, 67, 0.15);\n",
              "      fill: #174EA6;\n",
              "    }\n",
              "\n",
              "    [theme=dark] .colab-df-convert {\n",
              "      background-color: #3B4455;\n",
              "      fill: #D2E3FC;\n",
              "    }\n",
              "\n",
              "    [theme=dark] .colab-df-convert:hover {\n",
              "      background-color: #434B5C;\n",
              "      box-shadow: 0px 1px 3px 1px rgba(0, 0, 0, 0.15);\n",
              "      filter: drop-shadow(0px 1px 2px rgba(0, 0, 0, 0.3));\n",
              "      fill: #FFFFFF;\n",
              "    }\n",
              "  </style>\n",
              "\n",
              "      <script>\n",
              "        const buttonEl =\n",
              "          document.querySelector('#df-352541d0-9571-4b61-ace3-c5d392566339 button.colab-df-convert');\n",
              "        buttonEl.style.display =\n",
              "          google.colab.kernel.accessAllowed ? 'block' : 'none';\n",
              "\n",
              "        async function convertToInteractive(key) {\n",
              "          const element = document.querySelector('#df-352541d0-9571-4b61-ace3-c5d392566339');\n",
              "          const dataTable =\n",
              "            await google.colab.kernel.invokeFunction('convertToInteractive',\n",
              "                                                     [key], {});\n",
              "          if (!dataTable) return;\n",
              "\n",
              "          const docLinkHtml = 'Like what you see? Visit the ' +\n",
              "            '<a target=\"_blank\" href=https://colab.research.google.com/notebooks/data_table.ipynb>data table notebook</a>'\n",
              "            + ' to learn more about interactive tables.';\n",
              "          element.innerHTML = '';\n",
              "          dataTable['output_type'] = 'display_data';\n",
              "          await google.colab.output.renderOutput(dataTable, element);\n",
              "          const docLink = document.createElement('div');\n",
              "          docLink.innerHTML = docLinkHtml;\n",
              "          element.appendChild(docLink);\n",
              "        }\n",
              "      </script>\n",
              "    </div>\n",
              "  </div>\n",
              "  "
            ]
          },
          "metadata": {},
          "execution_count": 245
        }
      ],
      "source": [
        "temp=df[df['type']=='Energy']\n",
        "temp.head()"
      ]
    },
    {
      "cell_type": "markdown",
      "source": [
        "### **4.3. Tratamento de Missings**"
      ],
      "metadata": {
        "id": "onUVfFRyz59V"
      },
      "id": "onUVfFRyz59V"
    },
    {
      "cell_type": "code",
      "execution_count": 246,
      "id": "94331b81",
      "metadata": {
        "execution": {
          "iopub.execute_input": "2023-04-29T18:09:50.432679Z",
          "iopub.status.busy": "2023-04-29T18:09:50.431851Z",
          "iopub.status.idle": "2023-04-29T18:09:50.441322Z",
          "shell.execute_reply": "2023-04-29T18:09:50.440348Z"
        },
        "papermill": {
          "duration": 0.019764,
          "end_time": "2023-04-29T18:09:50.443775",
          "exception": false,
          "start_time": "2023-04-29T18:09:50.424011",
          "status": "completed"
        },
        "tags": [],
        "colab": {
          "base_uri": "https://localhost:8080/"
        },
        "id": "94331b81",
        "outputId": "c67408af-cc7d-4447-fe69-c105111de76c"
      },
      "outputs": [
        {
          "output_type": "execute_result",
          "data": {
            "text/plain": [
              "region       0\n",
              "country      0\n",
              "emissions    0\n",
              "type         0\n",
              "segment      0\n",
              "reason       0\n",
              "baseYear     0\n",
              "notes        0\n",
              "dtype: int64"
            ]
          },
          "metadata": {},
          "execution_count": 246
        }
      ],
      "source": [
        "# Contagem de nulos\n",
        "\n",
        "df.isnull().sum()"
      ]
    },
    {
      "cell_type": "code",
      "source": [
        "\n",
        "# Exibindo visualização matricial que evidencia a ausência de nulidade do dataset\n",
        "# Neste caso não será preciso fazer ajustes de faltantes\n",
        "\n",
        "ms.matrix(df)"
      ],
      "metadata": {
        "colab": {
          "base_uri": "https://localhost:8080/",
          "height": 698
        },
        "id": "kRWwqDm5kk0K",
        "outputId": "6d4a43fc-2367-4216-92e9-fa725a3fa908"
      },
      "id": "kRWwqDm5kk0K",
      "execution_count": 247,
      "outputs": [
        {
          "output_type": "execute_result",
          "data": {
            "text/plain": [
              "<Axes: >"
            ]
          },
          "metadata": {},
          "execution_count": 247
        },
        {
          "output_type": "display_data",
          "data": {
            "text/plain": [
              "<Figure size 2500x1000 with 2 Axes>"
            ],
            "image/png": "[encoded data removed]"
          },
          "metadata": {}
        }
      ]
    },
    {
      "cell_type": "code",
      "source": [],
      "metadata": {
        "id": "9S17fSBWk-zP"
      },
      "id": "9S17fSBWk-zP",
      "execution_count": 247,
      "outputs": []
    },
    {
      "cell_type": "code",
      "source": [
        "# salvando um novo dataset para tratamento de missings\n",
        "\n",
        "# recuperando os nomes das colunas\n",
        "col = list(df.columns)\n",
        "\n",
        "# o novo dataset irá conter todas as colunas do dataset original\n",
        "dfSemMissings = df[col[:]]\n",
        "\n",
        "# \n",
        "dfSemMissings = \n"
      ],
      "metadata": {
        "id": "rKSyKhasbaqA"
      },
      "execution_count": 253,
      "outputs": [],
      "id": "rKSyKhasbaqA"
    },
    {
      "cell_type": "code",
      "source": [
        "# exibindo as dimensões do dataset\n",
        "print(df.shape)\n",
        "\n",
        "# eliminando linhas que tenham ALGUM valor missing\n",
        "dfSemMissings.dropna(how='any', inplace=True) # CUIDADO! Não fizemos uma cópia do dataset original!\n",
        "\n",
        "# exibindo as dimensões do dataset\n",
        "print(dfSemMissings.shape)"
      ],
      "metadata": {
        "colab": {
          "base_uri": "https://localhost:8080/"
        },
        "id": "tRZF3er2l0GQ",
        "outputId": "1c8c1efd-5809-4a86-cc60-8c1dbb892dfc"
      },
      "id": "tRZF3er2l0GQ",
      "execution_count": 252,
      "outputs": [
        {
          "output_type": "stream",
          "name": "stdout",
          "text": [
            "(1526, 8)\n",
            "(1526, 8)\n"
          ]
        }
      ]
    },
    {
      "cell_type": "code",
      "source": [
        "# verificando novamente  nulls no dataset\n",
        "\n",
        "dfSemMissings.isnull().sum()"
      ],
      "metadata": {
        "colab": {
          "base_uri": "https://localhost:8080/"
        },
        "id": "PaAlVg6NlQuz",
        "outputId": "0bee5320-0907-4482-d361-ae68f621728e"
      },
      "id": "PaAlVg6NlQuz",
      "execution_count": 250,
      "outputs": [
        {
          "output_type": "execute_result",
          "data": {
            "text/plain": [
              "region       0\n",
              "country      0\n",
              "emissions    0\n",
              "type         0\n",
              "segment      0\n",
              "reason       0\n",
              "baseYear     0\n",
              "notes        0\n",
              "dtype: int64"
            ]
          },
          "metadata": {},
          "execution_count": 250
        }
      ]
    },
    {
      "cell_type": "markdown",
      "source": [
        "## **5. Visualizações**"
      ],
      "metadata": {
        "id": "lZ3YcBPy9HkH"
      },
      "id": "lZ3YcBPy9HkH"
    },
    {
      "cell_type": "code",
      "source": [
        "\n",
        "# Plotando o gráfico Scatter Plot com Seaborn (IPI - FUMO)\n",
        "plt.figure(figsize = (10,6))\n",
        "sns.scatterplot(x='baseYear', y='emissi', data=ipi_sud);"
      ],
      "metadata": {
        "id": "j3-bl584LkW3",
        "outputId": "666fef78-0041-4045-d7d7-68a09b4f3931",
        "colab": {
          "base_uri": "https://localhost:8080/",
          "height": 217
        }
      },
      "id": "j3-bl584LkW3",
      "execution_count": 251,
      "outputs": [
        {
          "output_type": "error",
          "ename": "NameError",
          "evalue": "ignored",
          "traceback": [
            "\u001b[0;31m---------------------------------------------------------------------------\u001b[0m",
            "\u001b[0;31mNameError\u001b[0m                                 Traceback (most recent call last)",
            "\u001b[0;32m<ipython-input-251-bcef928b4f12>\u001b[0m in \u001b[0;36m<cell line: 3>\u001b[0;34m()\u001b[0m\n\u001b[1;32m      1\u001b[0m \u001b[0;31m# Plotando o gráfico Scatter Plot com Seaborn (IPI - FUMO)\u001b[0m\u001b[0;34m\u001b[0m\u001b[0;34m\u001b[0m\u001b[0m\n\u001b[1;32m      2\u001b[0m \u001b[0mplt\u001b[0m\u001b[0;34m.\u001b[0m\u001b[0mfigure\u001b[0m\u001b[0;34m(\u001b[0m\u001b[0mfigsize\u001b[0m \u001b[0;34m=\u001b[0m \u001b[0;34m(\u001b[0m\u001b[0;36m10\u001b[0m\u001b[0;34m,\u001b[0m\u001b[0;36m6\u001b[0m\u001b[0;34m)\u001b[0m\u001b[0;34m)\u001b[0m\u001b[0;34m\u001b[0m\u001b[0;34m\u001b[0m\u001b[0m\n\u001b[0;32m----> 3\u001b[0;31m \u001b[0msns\u001b[0m\u001b[0;34m.\u001b[0m\u001b[0mscatterplot\u001b[0m\u001b[0;34m(\u001b[0m\u001b[0mx\u001b[0m\u001b[0;34m=\u001b[0m\u001b[0;34m'baseYear'\u001b[0m\u001b[0;34m,\u001b[0m \u001b[0my\u001b[0m\u001b[0;34m=\u001b[0m\u001b[0;34m'emissi'\u001b[0m\u001b[0;34m,\u001b[0m \u001b[0mdata\u001b[0m\u001b[0;34m=\u001b[0m\u001b[0mipi_sud\u001b[0m\u001b[0;34m)\u001b[0m\u001b[0;34m;\u001b[0m\u001b[0;34m\u001b[0m\u001b[0;34m\u001b[0m\u001b[0m\n\u001b[0m",
            "\u001b[0;31mNameError\u001b[0m: name 'ipi_sud' is not defined"
          ]
        },
        {
          "output_type": "display_data",
          "data": {
            "text/plain": [
              "<Figure size 1000x600 with 0 Axes>"
            ]
          },
          "metadata": {}
        }
      ]
    },
    {
      "cell_type": "code",
      "source": [
        "# Gráfico de linhas com Seaborn\n",
        "plt.figure(figsize = (10,6))\n",
        "sns.lineplot(data=ipi_sud.drop(['Ano'], axis=1));"
      ],
      "metadata": {
        "id": "xRP48hPLMhjI"
      },
      "id": "xRP48hPLMhjI",
      "execution_count": null,
      "outputs": []
    },
    {
      "cell_type": "code",
      "source": [
        "# Plotando boxplot com Seaborn para visualizacao do resultado das primeiras 100 linhas\n",
        "\n",
        "# Selecao de colunas para a visualizacao\n",
        "ipi_cols1 = ipi_sud[['IPI - FUMO', 'IPI - BEBIDAS', 'IPI - AUTOMÓVEIS']]\n",
        "\n",
        "plt.figure(figsize = (15,10))\n",
        "sns.boxplot(data=ipi_cols1[1:100]);"
      ],
      "metadata": {
        "id": "MnRoD6wlMmmP"
      },
      "id": "MnRoD6wlMmmP",
      "execution_count": null,
      "outputs": []
    },
    {
      "cell_type": "code",
      "source": [
        "# Grafico de correlacao com Seaborn\n",
        "plt.figure(figsize = (15,10))\n",
        "sns.heatmap(ipi_cols1.corr(), annot=True, cmap= 'RdBu', vmin=-1, vmax=1, linewidths=3,linecolor='white');"
      ],
      "metadata": {
        "id": "OjZPgn_PMt7o"
      },
      "id": "OjZPgn_PMt7o",
      "execution_count": null,
      "outputs": []
    },
    {
      "cell_type": "code",
      "source": [
        "\n",
        "# Plotando pair plot 1 com Seaborn para visualizacao em uma so figura do histograma da diagonal principal e do scatterplot\n",
        "sns.pairplot(ipi_cols1);"
      ],
      "metadata": {
        "id": "k3YBf8-CMxzN"
      },
      "id": "k3YBf8-CMxzN",
      "execution_count": null,
      "outputs": []
    },
    {
      "cell_type": "code",
      "source": [
        "\n",
        "# Plotando pair plot 2 com Seaborn configurando o parametro hue\n",
        "\n",
        "# Selecao de colunas para a visualizacao\n",
        "ipi_cols2 = ipi_sud[['UF', 'IPI - FUMO', 'IPI - BEBIDAS', 'IPI - AUTOMÓVEIS']]\n",
        "\n",
        "sns.pairplot(ipi_cols2, hue='UF');"
      ],
      "metadata": {
        "id": "6iotkzG9M1Jt"
      },
      "id": "6iotkzG9M1Jt",
      "execution_count": null,
      "outputs": []
    },
    {
      "cell_type": "code",
      "source": [
        "\n",
        "# Gráfico de barras: IPI - FUMO x UF\n",
        "plt.bar(ipi_cols2['UF'], ipi_cols2['IPI - FUMO'])\n",
        "plt.title('IPI - FUMO x Estado');"
      ],
      "metadata": {
        "id": "2kD9US1-M8iA"
      },
      "id": "2kD9US1-M8iA",
      "execution_count": null,
      "outputs": []
    },
    {
      "cell_type": "code",
      "source": [
        "\n",
        "# Histograma \n",
        "ipi_cols2.hist(figsize = (15,10))\n",
        "plt.show()"
      ],
      "metadata": {
        "id": "XMqxNLjNNAkZ"
      },
      "id": "XMqxNLjNNAkZ",
      "execution_count": null,
      "outputs": []
    },
    {
      "cell_type": "code",
      "source": [
        "\n",
        "# Density Plot\n",
        "ipi_cols2.plot(kind = 'density', subplots = True, layout = (3,3), sharex = False, figsize = (15,10))\n",
        "plt.show()"
      ],
      "metadata": {
        "id": "Picn4M0yNE5m"
      },
      "id": "Picn4M0yNE5m",
      "execution_count": null,
      "outputs": []
    },
    {
      "cell_type": "code",
      "execution_count": null,
      "id": "ce6ab811",
      "metadata": {
        "execution": {
          "iopub.execute_input": "2023-04-29T18:09:52.618652Z",
          "iopub.status.busy": "2023-04-29T18:09:52.618232Z",
          "iopub.status.idle": "2023-04-29T18:09:54.133101Z",
          "shell.execute_reply": "2023-04-29T18:09:54.132028Z"
        },
        "papermill": {
          "duration": 1.525894,
          "end_time": "2023-04-29T18:09:54.135604",
          "exception": false,
          "start_time": "2023-04-29T18:09:52.609710",
          "status": "completed"
        },
        "tags": [],
        "id": "ce6ab811"
      },
      "outputs": [],
      "source": [
        "#Region wise segment analysis\n",
        "px.sunburst(temp,values='emissions',path=['region','segment'],color='region',width=700,height=700)"
      ]
    },
    {
      "cell_type": "code",
      "execution_count": null,
      "id": "9b0f69a9",
      "metadata": {
        "execution": {
          "iopub.execute_input": "2023-04-29T18:09:54.152637Z",
          "iopub.status.busy": "2023-04-29T18:09:54.151422Z",
          "iopub.status.idle": "2023-04-29T18:09:54.161907Z",
          "shell.execute_reply": "2023-04-29T18:09:54.160683Z"
        },
        "papermill": {
          "duration": 0.021538,
          "end_time": "2023-04-29T18:09:54.164480",
          "exception": false,
          "start_time": "2023-04-29T18:09:54.142942",
          "status": "completed"
        },
        "tags": [],
        "id": "9b0f69a9"
      },
      "outputs": [],
      "source": [
        "temp1=temp.groupby('segment').sum().reset_index()\n",
        "temp1.sort_values('emissions',ascending=False,inplace=True)"
      ]
    },
    {
      "cell_type": "code",
      "execution_count": null,
      "id": "6d34efd0",
      "metadata": {
        "execution": {
          "iopub.execute_input": "2023-04-29T18:09:54.181092Z",
          "iopub.status.busy": "2023-04-29T18:09:54.180674Z",
          "iopub.status.idle": "2023-04-29T18:09:54.321708Z",
          "shell.execute_reply": "2023-04-29T18:09:54.320445Z"
        },
        "papermill": {
          "duration": 0.152515,
          "end_time": "2023-04-29T18:09:54.324524",
          "exception": false,
          "start_time": "2023-04-29T18:09:54.172009",
          "status": "completed"
        },
        "tags": [],
        "id": "6d34efd0"
      },
      "outputs": [],
      "source": [
        "# Segment vs Emissions\n",
        "px.bar(temp1,x='segment',y='emissions',color='segment',labels={'emissions':'Methane emission'})"
      ]
    },
    {
      "cell_type": "code",
      "execution_count": null,
      "id": "5ec43e15",
      "metadata": {
        "execution": {
          "iopub.execute_input": "2023-04-29T18:09:54.384292Z",
          "iopub.status.busy": "2023-04-29T18:09:54.383796Z",
          "iopub.status.idle": "2023-04-29T18:09:54.400911Z",
          "shell.execute_reply": "2023-04-29T18:09:54.399721Z"
        },
        "papermill": {
          "duration": 0.029424,
          "end_time": "2023-04-29T18:09:54.403587",
          "exception": false,
          "start_time": "2023-04-29T18:09:54.374163",
          "status": "completed"
        },
        "tags": [],
        "id": "5ec43e15"
      },
      "outputs": [],
      "source": [
        "temp2=df.loc[np.where((temp2['segment']=='Total'))]\n",
        "temp2.groupby('type').sum().reset_index()"
      ]
    },
    {
      "cell_type": "code",
      "execution_count": null,
      "id": "40887c06",
      "metadata": {
        "execution": {
          "iopub.execute_input": "2023-04-29T18:09:54.421727Z",
          "iopub.status.busy": "2023-04-29T18:09:54.421269Z",
          "iopub.status.idle": "2023-04-29T18:09:54.497252Z",
          "shell.execute_reply": "2023-04-29T18:09:54.495951Z"
        },
        "papermill": {
          "duration": 0.088334,
          "end_time": "2023-04-29T18:09:54.500129",
          "exception": false,
          "start_time": "2023-04-29T18:09:54.411795",
          "status": "completed"
        },
        "tags": [],
        "id": "40887c06"
      },
      "outputs": [],
      "source": [
        "#Emission vs Type analysis\n",
        "px.pie(temp2,values='emissions',names='type',hole=0.5)"
      ]
    },
    {
      "cell_type": "code",
      "execution_count": null,
      "id": "f3962111",
      "metadata": {
        "execution": {
          "iopub.execute_input": "2023-04-29T18:09:54.602634Z",
          "iopub.status.busy": "2023-04-29T18:09:54.601630Z",
          "iopub.status.idle": "2023-04-29T18:09:54.612881Z",
          "shell.execute_reply": "2023-04-29T18:09:54.611566Z"
        },
        "papermill": {
          "duration": 0.023967,
          "end_time": "2023-04-29T18:09:54.615429",
          "exception": false,
          "start_time": "2023-04-29T18:09:54.591462",
          "status": "completed"
        },
        "tags": [],
        "id": "f3962111"
      },
      "outputs": [],
      "source": [
        "temp3=temp3.groupby(['segment','reason']).sum().reset_index()\n",
        "temp3.drop(index=[18],inplace=True)"
      ]
    },
    {
      "cell_type": "code",
      "execution_count": null,
      "id": "80bdcb1f",
      "metadata": {
        "execution": {
          "iopub.execute_input": "2023-04-29T18:09:54.635526Z",
          "iopub.status.busy": "2023-04-29T18:09:54.634557Z",
          "iopub.status.idle": "2023-04-29T18:09:54.710741Z",
          "shell.execute_reply": "2023-04-29T18:09:54.709374Z"
        },
        "papermill": {
          "duration": 0.089448,
          "end_time": "2023-04-29T18:09:54.713851",
          "exception": false,
          "start_time": "2023-04-29T18:09:54.624403",
          "status": "completed"
        },
        "tags": [],
        "id": "80bdcb1f"
      },
      "outputs": [],
      "source": [
        "#segment and Reason vs Emissions\n",
        "px.bar(temp3,x='emissions',y='segment',color='reason')"
      ]
    },
    {
      "cell_type": "markdown",
      "source": [
        "## **6. Pré-processamento**"
      ],
      "metadata": {
        "id": "xatwePtC0Ksz"
      },
      "id": "xatwePtC0Ksz"
    },
    {
      "cell_type": "markdown",
      "source": [
        "### **6.1. Divisão do dataset em conjunto de treino e teste**"
      ],
      "metadata": {
        "id": "vgLcWB0T9NP6"
      },
      "id": "vgLcWB0T9NP6"
    },
    {
      "cell_type": "code",
      "source": [],
      "metadata": {
        "id": "fGXnlQxBH007"
      },
      "id": "fGXnlQxBH007",
      "execution_count": null,
      "outputs": []
    },
    {
      "cell_type": "markdown",
      "source": [
        "### **6.2. Normalização e padronização**\n",
        "\n",
        "Se a distribuição é normal, padronize. Caso contrário, normalize.\n",
        "\n",
        "Os problemas de modelagem preditiva são muitas vezes complexos, não sendo clara a melhor transformação para realizar. Na dúvida, use a normalização. Se tiver tempo, explore os modelos com os dados sem transformação, com a padronização e com a normalização e veja se os resultados são significativamente diferentes e se o custo x benefício vale a pena.\n",
        "\n",
        "Como a padronização resulta em valores positivos e negativos, pode ser interessante normalizar os dados após a padronização.\n",
        "\n",
        "É possível definir os valores de mínimo e máximo de acordo com o conhecimento no negócio (e não simplesmente se ater aos valores observados)."
      ],
      "metadata": {
        "id": "8lCAG7c8GX_L"
      },
      "id": "8lCAG7c8GX_L"
    },
    {
      "cell_type": "code",
      "source": [
        "# Normalização\n",
        "\n",
        "# Definindo o transformador como min max scaler\n",
        "scaler = MinMaxScaler()\n",
        "\n",
        "# transformando os dados\n",
        "scaled = scaler.fit_transform(dfSemMissings)\n",
        "print(scaled)"
      ],
      "metadata": {
        "id": "BQ-7VPYHGsws"
      },
      "id": "BQ-7VPYHGsws",
      "execution_count": null,
      "outputs": []
    },
    {
      "cell_type": "code",
      "source": [
        "# Padronização \n",
        "\n",
        "# definindo o transformador como standard scaler\n",
        "scaler = StandardScaler()\n",
        "\n",
        "# transformando os dados\n",
        "scaled = scaler.fit_transform(df)\n",
        "print(scaled)"
      ],
      "metadata": {
        "id": "YQ5yjy-7Gzr3"
      },
      "id": "YQ5yjy-7Gzr3",
      "execution_count": null,
      "outputs": []
    },
    {
      "cell_type": "markdown",
      "source": [
        "### **6.3. Transformações categóricas** "
      ],
      "metadata": {
        "id": "AT6LKPVGGYEZ"
      },
      "id": "AT6LKPVGGYEZ"
    },
    {
      "cell_type": "code",
      "source": [
        "# separando o array em componentes de input e output\n",
        "\n",
        "X = dataset.values[:,0:8]\n",
        "y = dataset.values[:,8]"
      ],
      "metadata": {
        "id": "sNtjNwBIHSpM"
      },
      "id": "sNtjNwBIHSpM",
      "execution_count": null,
      "outputs": []
    },
    {
      "cell_type": "markdown",
      "source": [
        "**Codificação Ordinal**"
      ],
      "metadata": {
        "id": "0INdvYELGYHc"
      },
      "id": "0INdvYELGYHc"
    },
    {
      "cell_type": "code",
      "source": [
        "# ordinal encoding para os atributos X\n",
        "encoded_X = OrdinalEncoder().fit_transform(X)\n",
        "\n",
        "#exibindo os datos transformados\n",
        "print('Atributos transformados:')\n",
        "print(encoded_X[:5, :]) # 5 primeiras linhas, todas as colunas"
      ],
      "metadata": {
        "id": "x2vQviXgHa7i"
      },
      "id": "x2vQviXgHa7i",
      "execution_count": null,
      "outputs": []
    },
    {
      "cell_type": "markdown",
      "source": [
        "**One-hot encoding**"
      ],
      "metadata": {
        "id": "gMOXpF6vHkrr"
      },
      "id": "gMOXpF6vHkrr"
    },
    {
      "cell_type": "code",
      "source": [
        "# one hot encode para os atributos X\n",
        "encoded_X = OneHotEncoder(sparse=False).fit_transform(X)\n",
        "\n",
        "#exibindo dados transformados\n",
        "print('Atributos transformados:')\n",
        "print(encoded_X[:5, :]) # 5 primeiras linhas e todas colunas"
      ],
      "metadata": {
        "id": "xDO9_kQdHn1m"
      },
      "id": "xDO9_kQdHn1m",
      "execution_count": null,
      "outputs": []
    },
    {
      "cell_type": "markdown",
      "source": [
        "**Dummy Variable Encoding**"
      ],
      "metadata": {
        "id": "xOV5lEljIJCU"
      },
      "id": "xOV5lEljIJCU"
    },
    {
      "cell_type": "code",
      "source": [
        "# definindo o transformador como one hot encoding (com Dummy variable encoder)\n",
        "encoder = OneHotEncoder(drop='first', sparse=False)\n",
        "\n",
        "# transformando os dados\n",
        "dummy = encoder.fit_transform(data)\n",
        "print(dummy)"
      ],
      "metadata": {
        "id": "0lYTCoM9IIaa"
      },
      "id": "0lYTCoM9IIaa",
      "execution_count": null,
      "outputs": []
    },
    {
      "cell_type": "code",
      "execution_count": null,
      "id": "447f3688",
      "metadata": {
        "papermill": {
          "duration": 0.009134,
          "end_time": "2023-04-29T18:09:54.732749",
          "exception": false,
          "start_time": "2023-04-29T18:09:54.723615",
          "status": "completed"
        },
        "tags": [],
        "id": "447f3688"
      },
      "outputs": [],
      "source": []
    },
    {
      "cell_type": "markdown",
      "source": [
        "## **Conclusão**\n",
        "\n",
        "Assim, propomos que o Brasil adote uma meta de redução de 36% das suas\n",
        "emissões de metano até 2030 quando comparado com 2020, sendo essa uma\n",
        "contribuição significativa do país para meta do Compromisso Global do Metano\n",
        "de redução de 30% das emissões de metano até 2030.\n",
        "Para atingir essa meta é necessário, entre outras práticas, zerar o desmatamento\n",
        "ilegal e o fogo associado a ele, reduzir o uso de lenha para cocção, controlar as\n",
        "emissões fugitivas da indústria de petróleo e gás, recuperar pelo menos 50% de\n",
        "todo metano gerado nos aterros sanitários, ampliar a recuperação de metano do\n",
        "tratamento de resíduos animais, alcançar 30% de terminação intensiva do rebanho\n",
        "bovinho de corte, conversão de 75% do cultivo de arroz para preparo antecipado e\n",
        "cortar pela metade a prática de queima da palha de cana-de-açúcar ainda existente.\n",
        "Essa meta pode ser alcançada com políticas regulatórias, de capacitação e de\n",
        "incentivos econômicos nos setores público e priva "
      ],
      "metadata": {
        "id": "JGhCDYj3vEu-"
      },
      "id": "JGhCDYj3vEu-"
    }
  ],
  "metadata": {
    "kernelspec": {
      "display_name": "Python 3",
      "language": "python",
      "name": "python3"
    },
    "language_info": {
      "codemirror_mode": {
        "name": "ipython",
        "version": 3
      },
      "file_extension": ".py",
      "mimetype": "text/x-python",
      "name": "python",
      "nbconvert_exporter": "python",
      "pygments_lexer": "ipython3",
      "version": "3.7.12"
    },
    "papermill": {
      "default_parameters": {},
      "duration": 16.12901,
      "end_time": "2023-04-29T18:09:55.565239",
      "environment_variables": {},
      "exception": null,
      "input_path": "__notebook__.ipynb",
      "output_path": "__notebook__.ipynb",
      "parameters": {},
      "start_time": "2023-04-29T18:09:39.436229",
      "version": "2.4.0"
    },
    "colab": {
      "provenance": [],
      "toc_visible": true
    }
  },
  "nbformat": 4,
  "nbformat_minor": 5
}