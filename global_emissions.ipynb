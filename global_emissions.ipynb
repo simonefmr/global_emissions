{
 "cells": [
  {
   "cell_type": "code",
   "execution_count": 1,
   "id": "12ac16b7",
   "metadata": {
    "_cell_guid": "b1076dfc-b9ad-4769-8c92-a6c4dae69d19",
    "_uuid": "8f2839f25d086af736a60e9eeb907d3b93b6e0e5",
    "execution": {
     "iopub.execute_input": "2023-04-29T18:09:50.222706Z",
     "iopub.status.busy": "2023-04-29T18:09:50.222123Z",
     "iopub.status.idle": "2023-04-29T18:09:50.243604Z",
     "shell.execute_reply": "2023-04-29T18:09:50.242565Z"
    },
    "papermill": {
     "duration": 0.033507,
     "end_time": "2023-04-29T18:09:50.246555",
     "exception": false,
     "start_time": "2023-04-29T18:09:50.213048",
     "status": "completed"
    },
    "tags": []
   },
   "outputs": [
    {
     "name": "stdout",
     "output_type": "stream",
     "text": [
      "/kaggle/input/global-methane-emissions/Methane_final.csv\n"
     ]
    }
   ],
   "source": [
    "# This Python 3 environment comes with many helpful analytics libraries installed\n",
    "# It is defined by the kaggle/python Docker image: https://github.com/kaggle/docker-python\n",
    "# For example, here's several helpful packages to load\n",
    "\n",
    "import numpy as np # linear algebra\n",
    "import pandas as pd # data processing, CSV file I/O (e.g. pd.read_csv)\n",
    "\n",
    "# Input data files are available in the read-only \"../input/\" directory\n",
    "# For example, running this (by clicking run or pressing Shift+Enter) will list all files under the input directory\n",
    "\n",
    "import os\n",
    "for dirname, _, filenames in os.walk('/kaggle/input'):\n",
    "    for filename in filenames:\n",
    "        print(os.path.join(dirname, filename))\n",
    "\n",
    "# You can write up to 20GB to the current directory (/kaggle/working/) that gets preserved as output when you create a version using \"Save & Run All\" \n",
    "# You can also write temporary files to /kaggle/temp/, but they won't be saved outside of the current session"
   ]
  },
  {
   "cell_type": "code",
   "execution_count": 2,
   "id": "c5c41b7b",
   "metadata": {
    "execution": {
     "iopub.execute_input": "2023-04-29T18:09:50.261156Z",
     "iopub.status.busy": "2023-04-29T18:09:50.260365Z",
     "iopub.status.idle": "2023-04-29T18:09:50.301299Z",
     "shell.execute_reply": "2023-04-29T18:09:50.299731Z"
    },
    "papermill": {
     "duration": 0.051462,
     "end_time": "2023-04-29T18:09:50.304307",
     "exception": false,
     "start_time": "2023-04-29T18:09:50.252845",
     "status": "completed"
    },
    "tags": []
   },
   "outputs": [],
   "source": [
    "df = pd.read_csv('/kaggle/input/global-methane-emissions/Methane_final.csv')"
   ]
  },
  {
   "cell_type": "code",
   "execution_count": 3,
   "id": "59f7762b",
   "metadata": {
    "execution": {
     "iopub.execute_input": "2023-04-29T18:09:50.318251Z",
     "iopub.status.busy": "2023-04-29T18:09:50.317795Z",
     "iopub.status.idle": "2023-04-29T18:09:50.349983Z",
     "shell.execute_reply": "2023-04-29T18:09:50.348699Z"
    },
    "papermill": {
     "duration": 0.042228,
     "end_time": "2023-04-29T18:09:50.352645",
     "exception": false,
     "start_time": "2023-04-29T18:09:50.310417",
     "status": "completed"
    },
    "tags": []
   },
   "outputs": [
    {
     "data": {
      "text/html": [
       "<div>\n",
       "<style scoped>\n",
       "    .dataframe tbody tr th:only-of-type {\n",
       "        vertical-align: middle;\n",
       "    }\n",
       "\n",
       "    .dataframe tbody tr th {\n",
       "        vertical-align: top;\n",
       "    }\n",
       "\n",
       "    .dataframe thead th {\n",
       "        text-align: right;\n",
       "    }\n",
       "</style>\n",
       "<table border=\"1\" class=\"dataframe\">\n",
       "  <thead>\n",
       "    <tr style=\"text-align: right;\">\n",
       "      <th></th>\n",
       "      <th>Unnamed: 0</th>\n",
       "      <th>region</th>\n",
       "      <th>country</th>\n",
       "      <th>emissions</th>\n",
       "      <th>type</th>\n",
       "      <th>segment</th>\n",
       "      <th>reason</th>\n",
       "      <th>baseYear</th>\n",
       "      <th>notes</th>\n",
       "    </tr>\n",
       "  </thead>\n",
       "  <tbody>\n",
       "    <tr>\n",
       "      <th>0</th>\n",
       "      <td>0</td>\n",
       "      <td>Africa</td>\n",
       "      <td>Algeria</td>\n",
       "      <td>257.611206</td>\n",
       "      <td>Agriculture</td>\n",
       "      <td>Total</td>\n",
       "      <td>All</td>\n",
       "      <td>2019-2021</td>\n",
       "      <td>Average based on United Nations Framework Conv...</td>\n",
       "    </tr>\n",
       "    <tr>\n",
       "      <th>1</th>\n",
       "      <td>1</td>\n",
       "      <td>Africa</td>\n",
       "      <td>Algeria</td>\n",
       "      <td>0.052000</td>\n",
       "      <td>Energy</td>\n",
       "      <td>Bioenergy</td>\n",
       "      <td>All</td>\n",
       "      <td>2022</td>\n",
       "      <td>Estimates from end-uses are for 2020 or 2021 (...</td>\n",
       "    </tr>\n",
       "    <tr>\n",
       "      <th>2</th>\n",
       "      <td>2</td>\n",
       "      <td>Africa</td>\n",
       "      <td>Algeria</td>\n",
       "      <td>130.798996</td>\n",
       "      <td>Energy</td>\n",
       "      <td>Gas pipelines and LNG facilities</td>\n",
       "      <td>Fugitive</td>\n",
       "      <td>2022</td>\n",
       "      <td>Not available</td>\n",
       "    </tr>\n",
       "    <tr>\n",
       "      <th>3</th>\n",
       "      <td>3</td>\n",
       "      <td>Africa</td>\n",
       "      <td>Algeria</td>\n",
       "      <td>69.741898</td>\n",
       "      <td>Energy</td>\n",
       "      <td>Gas pipelines and LNG facilities</td>\n",
       "      <td>Vented</td>\n",
       "      <td>2022</td>\n",
       "      <td>Not available</td>\n",
       "    </tr>\n",
       "    <tr>\n",
       "      <th>4</th>\n",
       "      <td>4</td>\n",
       "      <td>Africa</td>\n",
       "      <td>Algeria</td>\n",
       "      <td>213.987000</td>\n",
       "      <td>Energy</td>\n",
       "      <td>Onshore gas</td>\n",
       "      <td>Fugitive</td>\n",
       "      <td>2022</td>\n",
       "      <td>Not available</td>\n",
       "    </tr>\n",
       "  </tbody>\n",
       "</table>\n",
       "</div>"
      ],
      "text/plain": [
       "   Unnamed: 0  region  country   emissions         type  \\\n",
       "0           0  Africa  Algeria  257.611206  Agriculture   \n",
       "1           1  Africa  Algeria    0.052000       Energy   \n",
       "2           2  Africa  Algeria  130.798996       Energy   \n",
       "3           3  Africa  Algeria   69.741898       Energy   \n",
       "4           4  Africa  Algeria  213.987000       Energy   \n",
       "\n",
       "                            segment    reason   baseYear  \\\n",
       "0                             Total       All  2019-2021   \n",
       "1                         Bioenergy       All       2022   \n",
       "2  Gas pipelines and LNG facilities  Fugitive       2022   \n",
       "3  Gas pipelines and LNG facilities    Vented       2022   \n",
       "4                       Onshore gas  Fugitive       2022   \n",
       "\n",
       "                                               notes  \n",
       "0  Average based on United Nations Framework Conv...  \n",
       "1  Estimates from end-uses are for 2020 or 2021 (...  \n",
       "2                                      Not available  \n",
       "3                                      Not available  \n",
       "4                                      Not available  "
      ]
     },
     "execution_count": 3,
     "metadata": {},
     "output_type": "execute_result"
    }
   ],
   "source": [
    "df.head()"
   ]
  },
  {
   "cell_type": "code",
   "execution_count": 4,
   "id": "2c405db1",
   "metadata": {
    "execution": {
     "iopub.execute_input": "2023-04-29T18:09:50.366879Z",
     "iopub.status.busy": "2023-04-29T18:09:50.366460Z",
     "iopub.status.idle": "2023-04-29T18:09:50.374755Z",
     "shell.execute_reply": "2023-04-29T18:09:50.373633Z"
    },
    "papermill": {
     "duration": 0.018044,
     "end_time": "2023-04-29T18:09:50.377021",
     "exception": false,
     "start_time": "2023-04-29T18:09:50.358977",
     "status": "completed"
    },
    "tags": []
   },
   "outputs": [],
   "source": [
    "df.drop(columns=['Unnamed: 0'],inplace=True)"
   ]
  },
  {
   "cell_type": "code",
   "execution_count": 5,
   "id": "58eb3868",
   "metadata": {
    "execution": {
     "iopub.execute_input": "2023-04-29T18:09:50.391220Z",
     "iopub.status.busy": "2023-04-29T18:09:50.390795Z",
     "iopub.status.idle": "2023-04-29T18:09:50.415481Z",
     "shell.execute_reply": "2023-04-29T18:09:50.414070Z"
    },
    "papermill": {
     "duration": 0.03451,
     "end_time": "2023-04-29T18:09:50.417741",
     "exception": false,
     "start_time": "2023-04-29T18:09:50.383231",
     "status": "completed"
    },
    "tags": []
   },
   "outputs": [
    {
     "name": "stdout",
     "output_type": "stream",
     "text": [
      "<class 'pandas.core.frame.DataFrame'>\n",
      "RangeIndex: 1548 entries, 0 to 1547\n",
      "Data columns (total 8 columns):\n",
      " #   Column     Non-Null Count  Dtype  \n",
      "---  ------     --------------  -----  \n",
      " 0   region     1548 non-null   object \n",
      " 1   country    1548 non-null   object \n",
      " 2   emissions  1548 non-null   float64\n",
      " 3   type       1548 non-null   object \n",
      " 4   segment    1548 non-null   object \n",
      " 5   reason     1548 non-null   object \n",
      " 6   baseYear   1548 non-null   object \n",
      " 7   notes      1548 non-null   object \n",
      "dtypes: float64(1), object(7)\n",
      "memory usage: 96.9+ KB\n"
     ]
    }
   ],
   "source": [
    "df.info()"
   ]
  },
  {
   "cell_type": "code",
   "execution_count": 6,
   "id": "94331b81",
   "metadata": {
    "execution": {
     "iopub.execute_input": "2023-04-29T18:09:50.432679Z",
     "iopub.status.busy": "2023-04-29T18:09:50.431851Z",
     "iopub.status.idle": "2023-04-29T18:09:50.441322Z",
     "shell.execute_reply": "2023-04-29T18:09:50.440348Z"
    },
    "papermill": {
     "duration": 0.019764,
     "end_time": "2023-04-29T18:09:50.443775",
     "exception": false,
     "start_time": "2023-04-29T18:09:50.424011",
     "status": "completed"
    },
    "tags": []
   },
   "outputs": [
    {
     "data": {
      "text/plain": [
       "region       0\n",
       "country      0\n",
       "emissions    0\n",
       "type         0\n",
       "segment      0\n",
       "reason       0\n",
       "baseYear     0\n",
       "notes        0\n",
       "dtype: int64"
      ]
     },
     "execution_count": 6,
     "metadata": {},
     "output_type": "execute_result"
    }
   ],
   "source": [
    "df.isnull().sum()"
   ]
  },
  {
   "cell_type": "code",
   "execution_count": 7,
   "id": "c05a400e",
   "metadata": {
    "execution": {
     "iopub.execute_input": "2023-04-29T18:09:50.459690Z",
     "iopub.status.busy": "2023-04-29T18:09:50.459045Z",
     "iopub.status.idle": "2023-04-29T18:09:52.482783Z",
     "shell.execute_reply": "2023-04-29T18:09:52.481492Z"
    },
    "papermill": {
     "duration": 2.035064,
     "end_time": "2023-04-29T18:09:52.485916",
     "exception": false,
     "start_time": "2023-04-29T18:09:50.450852",
     "status": "completed"
    },
    "tags": []
   },
   "outputs": [],
   "source": [
    "import pandas as pd\n",
    "import numpy as np\n",
    "import plotly.express as px\n",
    "import matplotlib.pyplot as plt\n",
    "import warnings\n",
    "warnings.filterwarnings('ignore')"
   ]
  },
  {
   "cell_type": "code",
   "execution_count": 8,
   "id": "e3d228dc",
   "metadata": {
    "execution": {
     "iopub.execute_input": "2023-04-29T18:09:52.500885Z",
     "iopub.status.busy": "2023-04-29T18:09:52.500462Z",
     "iopub.status.idle": "2023-04-29T18:09:52.510741Z",
     "shell.execute_reply": "2023-04-29T18:09:52.509385Z"
    },
    "papermill": {
     "duration": 0.020898,
     "end_time": "2023-04-29T18:09:52.513364",
     "exception": false,
     "start_time": "2023-04-29T18:09:52.492466",
     "status": "completed"
    },
    "tags": []
   },
   "outputs": [
    {
     "data": {
      "text/plain": [
       "Energy         1233\n",
       "Agriculture     105\n",
       "Other           105\n",
       "Waste           105\n",
       "Name: type, dtype: int64"
      ]
     },
     "execution_count": 8,
     "metadata": {},
     "output_type": "execute_result"
    }
   ],
   "source": [
    "df['type'].value_counts()"
   ]
  },
  {
   "cell_type": "code",
   "execution_count": 9,
   "id": "2268c67f",
   "metadata": {
    "execution": {
     "iopub.execute_input": "2023-04-29T18:09:52.528250Z",
     "iopub.status.busy": "2023-04-29T18:09:52.527844Z",
     "iopub.status.idle": "2023-04-29T18:09:52.537973Z",
     "shell.execute_reply": "2023-04-29T18:09:52.536682Z"
    },
    "papermill": {
     "duration": 0.020617,
     "end_time": "2023-04-29T18:09:52.540530",
     "exception": false,
     "start_time": "2023-04-29T18:09:52.519913",
     "status": "completed"
    },
    "tags": []
   },
   "outputs": [
    {
     "data": {
      "text/plain": [
       "Total                                             414\n",
       "Onshore oil                                       217\n",
       "Gas pipelines and LNG facilities                  164\n",
       "Offshore oil                                      159\n",
       "Onshore gas                                       144\n",
       "Offshore gas                                      118\n",
       "Other from oil and gas                             98\n",
       "Bioenergy                                          93\n",
       "Other from coal                                    66\n",
       "Steam coal                                         30\n",
       "Coking coal                                        24\n",
       "Satellite-detected large oil and gas emissions     21\n",
       "Name: segment, dtype: int64"
      ]
     },
     "execution_count": 9,
     "metadata": {},
     "output_type": "execute_result"
    }
   ],
   "source": [
    "df['segment'].value_counts()"
   ]
  },
  {
   "cell_type": "code",
   "execution_count": 10,
   "id": "444e5281",
   "metadata": {
    "execution": {
     "iopub.execute_input": "2023-04-29T18:09:52.556339Z",
     "iopub.status.busy": "2023-04-29T18:09:52.555446Z",
     "iopub.status.idle": "2023-04-29T18:09:52.574049Z",
     "shell.execute_reply": "2023-04-29T18:09:52.572638Z"
    },
    "papermill": {
     "duration": 0.029292,
     "end_time": "2023-04-29T18:09:52.576656",
     "exception": false,
     "start_time": "2023-04-29T18:09:52.547364",
     "status": "completed"
    },
    "tags": []
   },
   "outputs": [
    {
     "data": {
      "text/html": [
       "<div>\n",
       "<style scoped>\n",
       "    .dataframe tbody tr th:only-of-type {\n",
       "        vertical-align: middle;\n",
       "    }\n",
       "\n",
       "    .dataframe tbody tr th {\n",
       "        vertical-align: top;\n",
       "    }\n",
       "\n",
       "    .dataframe thead th {\n",
       "        text-align: right;\n",
       "    }\n",
       "</style>\n",
       "<table border=\"1\" class=\"dataframe\">\n",
       "  <thead>\n",
       "    <tr style=\"text-align: right;\">\n",
       "      <th></th>\n",
       "      <th>region</th>\n",
       "      <th>country</th>\n",
       "      <th>emissions</th>\n",
       "      <th>type</th>\n",
       "      <th>segment</th>\n",
       "      <th>reason</th>\n",
       "      <th>baseYear</th>\n",
       "      <th>notes</th>\n",
       "    </tr>\n",
       "  </thead>\n",
       "  <tbody>\n",
       "    <tr>\n",
       "      <th>1</th>\n",
       "      <td>Africa</td>\n",
       "      <td>Algeria</td>\n",
       "      <td>0.052000</td>\n",
       "      <td>Energy</td>\n",
       "      <td>Bioenergy</td>\n",
       "      <td>All</td>\n",
       "      <td>2022</td>\n",
       "      <td>Estimates from end-uses are for 2020 or 2021 (...</td>\n",
       "    </tr>\n",
       "    <tr>\n",
       "      <th>2</th>\n",
       "      <td>Africa</td>\n",
       "      <td>Algeria</td>\n",
       "      <td>130.798996</td>\n",
       "      <td>Energy</td>\n",
       "      <td>Gas pipelines and LNG facilities</td>\n",
       "      <td>Fugitive</td>\n",
       "      <td>2022</td>\n",
       "      <td>Not available</td>\n",
       "    </tr>\n",
       "    <tr>\n",
       "      <th>3</th>\n",
       "      <td>Africa</td>\n",
       "      <td>Algeria</td>\n",
       "      <td>69.741898</td>\n",
       "      <td>Energy</td>\n",
       "      <td>Gas pipelines and LNG facilities</td>\n",
       "      <td>Vented</td>\n",
       "      <td>2022</td>\n",
       "      <td>Not available</td>\n",
       "    </tr>\n",
       "    <tr>\n",
       "      <th>4</th>\n",
       "      <td>Africa</td>\n",
       "      <td>Algeria</td>\n",
       "      <td>213.987000</td>\n",
       "      <td>Energy</td>\n",
       "      <td>Onshore gas</td>\n",
       "      <td>Fugitive</td>\n",
       "      <td>2022</td>\n",
       "      <td>Not available</td>\n",
       "    </tr>\n",
       "    <tr>\n",
       "      <th>5</th>\n",
       "      <td>Africa</td>\n",
       "      <td>Algeria</td>\n",
       "      <td>464.308014</td>\n",
       "      <td>Energy</td>\n",
       "      <td>Onshore gas</td>\n",
       "      <td>Vented</td>\n",
       "      <td>2022</td>\n",
       "      <td>Not available</td>\n",
       "    </tr>\n",
       "  </tbody>\n",
       "</table>\n",
       "</div>"
      ],
      "text/plain": [
       "   region  country   emissions    type                           segment  \\\n",
       "1  Africa  Algeria    0.052000  Energy                         Bioenergy   \n",
       "2  Africa  Algeria  130.798996  Energy  Gas pipelines and LNG facilities   \n",
       "3  Africa  Algeria   69.741898  Energy  Gas pipelines and LNG facilities   \n",
       "4  Africa  Algeria  213.987000  Energy                       Onshore gas   \n",
       "5  Africa  Algeria  464.308014  Energy                       Onshore gas   \n",
       "\n",
       "     reason baseYear                                              notes  \n",
       "1       All     2022  Estimates from end-uses are for 2020 or 2021 (...  \n",
       "2  Fugitive     2022                                      Not available  \n",
       "3    Vented     2022                                      Not available  \n",
       "4  Fugitive     2022                                      Not available  \n",
       "5    Vented     2022                                      Not available  "
      ]
     },
     "execution_count": 10,
     "metadata": {},
     "output_type": "execute_result"
    }
   ],
   "source": [
    "temp=df[df['type']=='Energy']\n",
    "temp.head()"
   ]
  },
  {
   "cell_type": "code",
   "execution_count": 11,
   "id": "45b43537",
   "metadata": {
    "execution": {
     "iopub.execute_input": "2023-04-29T18:09:52.593795Z",
     "iopub.status.busy": "2023-04-29T18:09:52.592944Z",
     "iopub.status.idle": "2023-04-29T18:09:52.600347Z",
     "shell.execute_reply": "2023-04-29T18:09:52.599068Z"
    },
    "papermill": {
     "duration": 0.019175,
     "end_time": "2023-04-29T18:09:52.602793",
     "exception": false,
     "start_time": "2023-04-29T18:09:52.583618",
     "status": "completed"
    },
    "tags": []
   },
   "outputs": [],
   "source": [
    "#Removing World & Total Values\n",
    "temp=temp[(temp['region']!='World')&(temp['segment']!='Total')]"
   ]
  },
  {
   "cell_type": "code",
   "execution_count": 12,
   "id": "ce6ab811",
   "metadata": {
    "execution": {
     "iopub.execute_input": "2023-04-29T18:09:52.618652Z",
     "iopub.status.busy": "2023-04-29T18:09:52.618232Z",
     "iopub.status.idle": "2023-04-29T18:09:54.133101Z",
     "shell.execute_reply": "2023-04-29T18:09:54.132028Z"
    },
    "papermill": {
     "duration": 1.525894,
     "end_time": "2023-04-29T18:09:54.135604",
     "exception": false,
     "start_time": "2023-04-29T18:09:52.609710",
     "status": "completed"
    },
    "tags": []
   },
   "outputs": [
    {
     "data": {
      "text/html": [
       "        <script type=\"text/javascript\">\n",
       "        window.PlotlyConfig = {MathJaxConfig: 'local'};\n",
       "        if (window.MathJax && window.MathJax.Hub && window.MathJax.Hub.Config) {window.MathJax.Hub.Config({SVG: {font: \"STIX-Web\"}});}\n",
       "        if (typeof require !== 'undefined') {\n",
       "        require.undef(\"plotly\");\n",
       "        requirejs.config({\n",
       "            paths: {\n",
       "                'plotly': ['https://cdn.plot.ly/plotly-2.18.0.min']\n",
       "            }\n",
       "        });\n",
       "        require(['plotly'], function(Plotly) {\n",
       "            window._Plotly = Plotly;\n",
       "        });\n",
       "        }\n",
       "        </script>\n",
       "        "
      ]
     },
     "metadata": {},
     "output_type": "display_data"
    },
    {
     "data": {
      "text/html": [
       "<div>                            <div id=\"8683649d-643e-4db1-a67c-5ad05ca4d259\" class=\"plotly-graph-div\" style=\"height:700px; width:700px;\"></div>            <script type=\"text/javascript\">                require([\"plotly\"], function(Plotly) {                    window.PLOTLYENV=window.PLOTLYENV || {};                                    if (document.getElementById(\"8683649d-643e-4db1-a67c-5ad05ca4d259\")) {                    Plotly.newPlot(                        \"8683649d-643e-4db1-a67c-5ad05ca4d259\",                        [{\"branchvalues\":\"total\",\"customdata\":[[\"Africa\"],[\"Middle East\"],[\"Europe\"],[\"Central and South America\"],[\"Asia Pacific\"],[\"Africa\"],[\"Russia & Caspian\"],[\"Other\"],[\"North America\"],[\"Middle East\"],[\"North America\"],[\"Europe\"],[\"Asia Pacific\"],[\"Africa\"],[\"Russia & Caspian\"],[\"Other\"],[\"North America\"],[\"Middle East\"],[\"Europe\"],[\"Central and South America\"],[\"Asia Pacific\"],[\"Central and South America\"],[\"Africa\"],[\"Other\"],[\"Africa\"],[\"North America\"],[\"Middle East\"],[\"Europe\"],[\"Central and South America\"],[\"Asia Pacific\"],[\"Africa\"],[\"Russia & Caspian\"],[\"Other\"],[\"North America\"],[\"Russia & Caspian\"],[\"Middle East\"],[\"Central and South America\"],[\"Asia Pacific\"],[\"Africa\"],[\"Russia & Caspian\"],[\"North America\"],[\"Middle East\"],[\"Europe\"],[\"Central and South America\"],[\"Asia Pacific\"],[\"Europe\"],[\"Other\"],[\"Russia & Caspian\"],[\"North America\"],[\"Middle East\"],[\"Europe\"],[\"Central and South America\"],[\"Asia Pacific\"],[\"Africa\"],[\"Russia & Caspian\"],[\"Other\"],[\"North America\"],[\"Middle East\"],[\"North America\"],[\"Europe\"],[\"Asia Pacific\"],[\"Africa\"],[\"Russia & Caspian\"],[\"Other\"],[\"North America\"],[\"Middle East\"],[\"Europe\"],[\"Central and South America\"],[\"Asia Pacific\"],[\"Central and South America\"],[\"Other\"],[\"Other\"],[\"Africa\"],[\"Middle East\"],[\"Europe\"],[\"Central and South America\"],[\"Asia Pacific\"],[\"Africa\"],[\"Russia & Caspian\"],[\"Other\"],[\"North America\"],[\"Middle East\"],[\"Russia & Caspian\"],[\"Europe\"],[\"Asia Pacific\"],[\"Africa\"],[\"Russia & Caspian\"],[\"Other\"],[\"North America\"],[\"Middle East\"],[\"Europe\"],[\"Central and South America\"],[\"Asia Pacific\"],[\"Central and South America\"],[\"Russia & Caspian\"]],\"domain\":{\"x\":[0.0,1.0],\"y\":[0.0,1.0]},\"hovertemplate\":\"labels=%{label}<br>emissions=%{value}<br>parent=%{parent}<br>id=%{id}<br>region=%{customdata[0]}<extra></extra>\",\"ids\":[\"Africa/Bioenergy\",\"Middle East/Other from oil and gas\",\"Europe/Other from oil and gas\",\"Central and South America/Other from oil and gas\",\"Asia Pacific/Other from oil and gas\",\"Africa/Other from oil and gas\",\"Russia & Caspian/Other from coal\",\"Other/Other from coal\",\"North America/Other from coal\",\"Middle East/Other from coal\",\"North America/Other from oil and gas\",\"Europe/Other from coal\",\"Asia Pacific/Other from coal\",\"Africa/Other from coal\",\"Russia & Caspian/Onshore oil\",\"Other/Onshore oil\",\"North America/Onshore oil\",\"Middle East/Onshore oil\",\"Europe/Onshore oil\",\"Central and South America/Onshore oil\",\"Asia Pacific/Onshore oil\",\"Central and South America/Other from coal\",\"Africa/Onshore oil\",\"Other/Other from oil and gas\",\"Africa/Satellite-detected large oil and gas emissions\",\"North America\",\"Middle East\",\"Europe\",\"Central and South America\",\"Asia Pacific\",\"Africa\",\"Russia & Caspian/Steam coal\",\"Other/Steam coal\",\"North America/Steam coal\",\"Russia & Caspian/Other from oil and gas\",\"Middle East/Steam coal\",\"Central and South America/Steam coal\",\"Asia Pacific/Steam coal\",\"Africa/Steam coal\",\"Russia & Caspian/Satellite-detected large oil and gas emissions\",\"North America/Satellite-detected large oil and gas emissions\",\"Middle East/Satellite-detected large oil and gas emissions\",\"Europe/Satellite-detected large oil and gas emissions\",\"Central and South America/Satellite-detected large oil and gas emissions\",\"Asia Pacific/Satellite-detected large oil and gas emissions\",\"Europe/Steam coal\",\"Other\",\"Russia & Caspian/Onshore gas\",\"North America/Onshore gas\",\"Middle East/Gas pipelines and LNG facilities\",\"Europe/Gas pipelines and LNG facilities\",\"Central and South America/Gas pipelines and LNG facilities\",\"Asia Pacific/Gas pipelines and LNG facilities\",\"Africa/Gas pipelines and LNG facilities\",\"Russia & Caspian/Coking coal\",\"Other/Coking coal\",\"North America/Coking coal\",\"Middle East/Coking coal\",\"North America/Gas pipelines and LNG facilities\",\"Europe/Coking coal\",\"Asia Pacific/Coking coal\",\"Africa/Coking coal\",\"Russia & Caspian/Bioenergy\",\"Other/Bioenergy\",\"North America/Bioenergy\",\"Middle East/Bioenergy\",\"Europe/Bioenergy\",\"Central and South America/Bioenergy\",\"Asia Pacific/Bioenergy\",\"Central and South America/Coking coal\",\"Other/Onshore gas\",\"Other/Gas pipelines and LNG facilities\",\"Africa/Offshore gas\",\"Middle East/Onshore gas\",\"Europe/Onshore gas\",\"Central and South America/Onshore gas\",\"Asia Pacific/Onshore gas\",\"Africa/Onshore gas\",\"Russia & Caspian/Offshore oil\",\"Other/Offshore oil\",\"North America/Offshore oil\",\"Middle East/Offshore oil\",\"Russia & Caspian/Gas pipelines and LNG facilities\",\"Europe/Offshore oil\",\"Asia Pacific/Offshore oil\",\"Africa/Offshore oil\",\"Russia & Caspian/Offshore gas\",\"Other/Offshore gas\",\"North America/Offshore gas\",\"Middle East/Offshore gas\",\"Europe/Offshore gas\",\"Central and South America/Offshore gas\",\"Asia Pacific/Offshore gas\",\"Central and South America/Offshore oil\",\"Russia & Caspian\"],\"labels\":[\"Bioenergy\",\"Other from oil and gas\",\"Other from oil and gas\",\"Other from oil and gas\",\"Other from oil and gas\",\"Other from oil and gas\",\"Other from coal\",\"Other from coal\",\"Other from coal\",\"Other from coal\",\"Other from oil and gas\",\"Other from coal\",\"Other from coal\",\"Other from coal\",\"Onshore oil\",\"Onshore oil\",\"Onshore oil\",\"Onshore oil\",\"Onshore oil\",\"Onshore oil\",\"Onshore oil\",\"Other from coal\",\"Onshore oil\",\"Other from oil and gas\",\"Satellite-detected large oil and gas emissions\",\"North America\",\"Middle East\",\"Europe\",\"Central and South America\",\"Asia Pacific\",\"Africa\",\"Steam coal\",\"Steam coal\",\"Steam coal\",\"Other from oil and gas\",\"Steam coal\",\"Steam coal\",\"Steam coal\",\"Steam coal\",\"Satellite-detected large oil and gas emissions\",\"Satellite-detected large oil and gas emissions\",\"Satellite-detected large oil and gas emissions\",\"Satellite-detected large oil and gas emissions\",\"Satellite-detected large oil and gas emissions\",\"Satellite-detected large oil and gas emissions\",\"Steam coal\",\"Other\",\"Onshore gas\",\"Onshore gas\",\"Gas pipelines and LNG facilities\",\"Gas pipelines and LNG facilities\",\"Gas pipelines and LNG facilities\",\"Gas pipelines and LNG facilities\",\"Gas pipelines and LNG facilities\",\"Coking coal\",\"Coking coal\",\"Coking coal\",\"Coking coal\",\"Gas pipelines and LNG facilities\",\"Coking coal\",\"Coking coal\",\"Coking coal\",\"Bioenergy\",\"Bioenergy\",\"Bioenergy\",\"Bioenergy\",\"Bioenergy\",\"Bioenergy\",\"Bioenergy\",\"Coking coal\",\"Onshore gas\",\"Gas pipelines and LNG facilities\",\"Offshore gas\",\"Onshore gas\",\"Onshore gas\",\"Onshore gas\",\"Onshore gas\",\"Onshore gas\",\"Offshore oil\",\"Offshore oil\",\"Offshore oil\",\"Offshore oil\",\"Gas pipelines and LNG facilities\",\"Offshore oil\",\"Offshore oil\",\"Offshore oil\",\"Offshore gas\",\"Offshore gas\",\"Offshore gas\",\"Offshore gas\",\"Offshore gas\",\"Offshore gas\",\"Offshore gas\",\"Offshore oil\",\"Russia & Caspian\"],\"marker\":{\"colors\":[\"#636efa\",\"#EF553B\",\"#00cc96\",\"#ab63fa\",\"#FFA15A\",\"#636efa\",\"#19d3f3\",\"#FF6692\",\"#B6E880\",\"#EF553B\",\"#B6E880\",\"#00cc96\",\"#FFA15A\",\"#636efa\",\"#19d3f3\",\"#FF6692\",\"#B6E880\",\"#EF553B\",\"#00cc96\",\"#ab63fa\",\"#FFA15A\",\"#ab63fa\",\"#636efa\",\"#FF6692\",\"#636efa\",\"#B6E880\",\"#EF553B\",\"#00cc96\",\"#ab63fa\",\"#FFA15A\",\"#636efa\",\"#19d3f3\",\"#FF6692\",\"#B6E880\",\"#19d3f3\",\"#EF553B\",\"#ab63fa\",\"#FFA15A\",\"#636efa\",\"#19d3f3\",\"#B6E880\",\"#EF553B\",\"#00cc96\",\"#ab63fa\",\"#FFA15A\",\"#00cc96\",\"#FF6692\",\"#19d3f3\",\"#B6E880\",\"#EF553B\",\"#00cc96\",\"#ab63fa\",\"#FFA15A\",\"#636efa\",\"#19d3f3\",\"#FF6692\",\"#B6E880\",\"#EF553B\",\"#B6E880\",\"#00cc96\",\"#FFA15A\",\"#636efa\",\"#19d3f3\",\"#FF6692\",\"#B6E880\",\"#EF553B\",\"#00cc96\",\"#ab63fa\",\"#FFA15A\",\"#ab63fa\",\"#FF6692\",\"#FF6692\",\"#636efa\",\"#EF553B\",\"#00cc96\",\"#ab63fa\",\"#FFA15A\",\"#636efa\",\"#19d3f3\",\"#FF6692\",\"#B6E880\",\"#EF553B\",\"#19d3f3\",\"#00cc96\",\"#FFA15A\",\"#636efa\",\"#19d3f3\",\"#FF6692\",\"#B6E880\",\"#EF553B\",\"#00cc96\",\"#ab63fa\",\"#FFA15A\",\"#ab63fa\",\"#19d3f3\"]},\"name\":\"\",\"parents\":[\"Africa\",\"Middle East\",\"Europe\",\"Central and South America\",\"Asia Pacific\",\"Africa\",\"Russia & Caspian\",\"Other\",\"North America\",\"Middle East\",\"North America\",\"Europe\",\"Asia Pacific\",\"Africa\",\"Russia & Caspian\",\"Other\",\"North America\",\"Middle East\",\"Europe\",\"Central and South America\",\"Asia Pacific\",\"Central and South America\",\"Africa\",\"Other\",\"Africa\",\"\",\"\",\"\",\"\",\"\",\"\",\"Russia & Caspian\",\"Other\",\"North America\",\"Russia & Caspian\",\"Middle East\",\"Central and South America\",\"Asia Pacific\",\"Africa\",\"Russia & Caspian\",\"North America\",\"Middle East\",\"Europe\",\"Central and South America\",\"Asia Pacific\",\"Europe\",\"\",\"Russia & Caspian\",\"North America\",\"Middle East\",\"Europe\",\"Central and South America\",\"Asia Pacific\",\"Africa\",\"Russia & Caspian\",\"Other\",\"North America\",\"Middle East\",\"North America\",\"Europe\",\"Asia Pacific\",\"Africa\",\"Russia & Caspian\",\"Other\",\"North America\",\"Middle East\",\"Europe\",\"Central and South America\",\"Asia Pacific\",\"Central and South America\",\"Other\",\"Other\",\"Africa\",\"Middle East\",\"Europe\",\"Central and South America\",\"Asia Pacific\",\"Africa\",\"Russia & Caspian\",\"Other\",\"North America\",\"Middle East\",\"Russia & Caspian\",\"Europe\",\"Asia Pacific\",\"Africa\",\"Russia & Caspian\",\"Other\",\"North America\",\"Middle East\",\"Europe\",\"Central and South America\",\"Asia Pacific\",\"Central and South America\",\"\"],\"values\":[2948.11202929914,172.63882112503052,490.25170052051544,120.38978591561317,755.8738211393356,98.28119658166543,135.82365942001343,35.80628967285156,24.79606431722641,1.3120796643197534,682.3980941772461,464.6865867078303,988.2669673673809,44.484001331496984,8103.991293430328,169.05092096328735,6346.88267993927,9633.234406337142,266.7061402415857,3453.331796333194,1890.6945101991296,4.1663658688776195,4468.8914928676095,28.12497329711914,72.0,20899.358121551573,16270.411918900907,6882.477476314409,7323.162745520007,41620.08553819265,13267.93909550435,3241.906005859375,838.1268920898438,1201.6836290359497,145.21930599212646,0.5593019723892212,371.2563014328479,22227.517842829227,1120.2797584533691,2489.2999992370605,357.6000061035156,134.4000016450882,7.800000190734864,27.299999237060547,18.00000023841858,1045.9436118677258,2420.880063492863,6543.4507220983505,6680.345411300659,1360.741253376007,1714.1594553813338,599.9649664126337,2265.579352617264,635.7206603847444,1913.9650573730466,17.066499710083008,918.8790855407715,35.70140075683594,3224.3882751464844,642.4851621389389,6671.294979095459,88.29019927978516,29.472000455483794,1187.4720458984375,348.9199981689453,9.655999910086393,1592.1999818086624,354.21199092268944,3456.3639911413193,25.47529983520508,25.5791072845459,114.00376892089844,486.39373986423016,1150.6298131793737,363.6694374021608,751.7600395083427,1509.0012030899525,1073.1618391359225,955.1674590110779,0.028835613338742197,1001.8004970550537,1947.3134101629257,2724.4659948349,146.38957866979763,776.787482346408,2232.324178306386,380.0955047607422,5.620730042457579,111.66438076645136,1824.2254307717085,148.18582138512284,325.5057812035084,1060.7053881287575,1289.8004188500345,26662.857002472505],\"type\":\"sunburst\"}],                        {\"template\":{\"data\":{\"histogram2dcontour\":[{\"type\":\"histogram2dcontour\",\"colorbar\":{\"outlinewidth\":0,\"ticks\":\"\"},\"colorscale\":[[0.0,\"#0d0887\"],[0.1111111111111111,\"#46039f\"],[0.2222222222222222,\"#7201a8\"],[0.3333333333333333,\"#9c179e\"],[0.4444444444444444,\"#bd3786\"],[0.5555555555555556,\"#d8576b\"],[0.6666666666666666,\"#ed7953\"],[0.7777777777777778,\"#fb9f3a\"],[0.8888888888888888,\"#fdca26\"],[1.0,\"#f0f921\"]]}],\"choropleth\":[{\"type\":\"choropleth\",\"colorbar\":{\"outlinewidth\":0,\"ticks\":\"\"}}],\"histogram2d\":[{\"type\":\"histogram2d\",\"colorbar\":{\"outlinewidth\":0,\"ticks\":\"\"},\"colorscale\":[[0.0,\"#0d0887\"],[0.1111111111111111,\"#46039f\"],[0.2222222222222222,\"#7201a8\"],[0.3333333333333333,\"#9c179e\"],[0.4444444444444444,\"#bd3786\"],[0.5555555555555556,\"#d8576b\"],[0.6666666666666666,\"#ed7953\"],[0.7777777777777778,\"#fb9f3a\"],[0.8888888888888888,\"#fdca26\"],[1.0,\"#f0f921\"]]}],\"heatmap\":[{\"type\":\"heatmap\",\"colorbar\":{\"outlinewidth\":0,\"ticks\":\"\"},\"colorscale\":[[0.0,\"#0d0887\"],[0.1111111111111111,\"#46039f\"],[0.2222222222222222,\"#7201a8\"],[0.3333333333333333,\"#9c179e\"],[0.4444444444444444,\"#bd3786\"],[0.5555555555555556,\"#d8576b\"],[0.6666666666666666,\"#ed7953\"],[0.7777777777777778,\"#fb9f3a\"],[0.8888888888888888,\"#fdca26\"],[1.0,\"#f0f921\"]]}],\"heatmapgl\":[{\"type\":\"heatmapgl\",\"colorbar\":{\"outlinewidth\":0,\"ticks\":\"\"},\"colorscale\":[[0.0,\"#0d0887\"],[0.1111111111111111,\"#46039f\"],[0.2222222222222222,\"#7201a8\"],[0.3333333333333333,\"#9c179e\"],[0.4444444444444444,\"#bd3786\"],[0.5555555555555556,\"#d8576b\"],[0.6666666666666666,\"#ed7953\"],[0.7777777777777778,\"#fb9f3a\"],[0.8888888888888888,\"#fdca26\"],[1.0,\"#f0f921\"]]}],\"contourcarpet\":[{\"type\":\"contourcarpet\",\"colorbar\":{\"outlinewidth\":0,\"ticks\":\"\"}}],\"contour\":[{\"type\":\"contour\",\"colorbar\":{\"outlinewidth\":0,\"ticks\":\"\"},\"colorscale\":[[0.0,\"#0d0887\"],[0.1111111111111111,\"#46039f\"],[0.2222222222222222,\"#7201a8\"],[0.3333333333333333,\"#9c179e\"],[0.4444444444444444,\"#bd3786\"],[0.5555555555555556,\"#d8576b\"],[0.6666666666666666,\"#ed7953\"],[0.7777777777777778,\"#fb9f3a\"],[0.8888888888888888,\"#fdca26\"],[1.0,\"#f0f921\"]]}],\"surface\":[{\"type\":\"surface\",\"colorbar\":{\"outlinewidth\":0,\"ticks\":\"\"},\"colorscale\":[[0.0,\"#0d0887\"],[0.1111111111111111,\"#46039f\"],[0.2222222222222222,\"#7201a8\"],[0.3333333333333333,\"#9c179e\"],[0.4444444444444444,\"#bd3786\"],[0.5555555555555556,\"#d8576b\"],[0.6666666666666666,\"#ed7953\"],[0.7777777777777778,\"#fb9f3a\"],[0.8888888888888888,\"#fdca26\"],[1.0,\"#f0f921\"]]}],\"mesh3d\":[{\"type\":\"mesh3d\",\"colorbar\":{\"outlinewidth\":0,\"ticks\":\"\"}}],\"scatter\":[{\"fillpattern\":{\"fillmode\":\"overlay\",\"size\":10,\"solidity\":0.2},\"type\":\"scatter\"}],\"parcoords\":[{\"type\":\"parcoords\",\"line\":{\"colorbar\":{\"outlinewidth\":0,\"ticks\":\"\"}}}],\"scatterpolargl\":[{\"type\":\"scatterpolargl\",\"marker\":{\"colorbar\":{\"outlinewidth\":0,\"ticks\":\"\"}}}],\"bar\":[{\"error_x\":{\"color\":\"#2a3f5f\"},\"error_y\":{\"color\":\"#2a3f5f\"},\"marker\":{\"line\":{\"color\":\"#E5ECF6\",\"width\":0.5},\"pattern\":{\"fillmode\":\"overlay\",\"size\":10,\"solidity\":0.2}},\"type\":\"bar\"}],\"scattergeo\":[{\"type\":\"scattergeo\",\"marker\":{\"colorbar\":{\"outlinewidth\":0,\"ticks\":\"\"}}}],\"scatterpolar\":[{\"type\":\"scatterpolar\",\"marker\":{\"colorbar\":{\"outlinewidth\":0,\"ticks\":\"\"}}}],\"histogram\":[{\"marker\":{\"pattern\":{\"fillmode\":\"overlay\",\"size\":10,\"solidity\":0.2}},\"type\":\"histogram\"}],\"scattergl\":[{\"type\":\"scattergl\",\"marker\":{\"colorbar\":{\"outlinewidth\":0,\"ticks\":\"\"}}}],\"scatter3d\":[{\"type\":\"scatter3d\",\"line\":{\"colorbar\":{\"outlinewidth\":0,\"ticks\":\"\"}},\"marker\":{\"colorbar\":{\"outlinewidth\":0,\"ticks\":\"\"}}}],\"scattermapbox\":[{\"type\":\"scattermapbox\",\"marker\":{\"colorbar\":{\"outlinewidth\":0,\"ticks\":\"\"}}}],\"scatterternary\":[{\"type\":\"scatterternary\",\"marker\":{\"colorbar\":{\"outlinewidth\":0,\"ticks\":\"\"}}}],\"scattercarpet\":[{\"type\":\"scattercarpet\",\"marker\":{\"colorbar\":{\"outlinewidth\":0,\"ticks\":\"\"}}}],\"carpet\":[{\"aaxis\":{\"endlinecolor\":\"#2a3f5f\",\"gridcolor\":\"white\",\"linecolor\":\"white\",\"minorgridcolor\":\"white\",\"startlinecolor\":\"#2a3f5f\"},\"baxis\":{\"endlinecolor\":\"#2a3f5f\",\"gridcolor\":\"white\",\"linecolor\":\"white\",\"minorgridcolor\":\"white\",\"startlinecolor\":\"#2a3f5f\"},\"type\":\"carpet\"}],\"table\":[{\"cells\":{\"fill\":{\"color\":\"#EBF0F8\"},\"line\":{\"color\":\"white\"}},\"header\":{\"fill\":{\"color\":\"#C8D4E3\"},\"line\":{\"color\":\"white\"}},\"type\":\"table\"}],\"barpolar\":[{\"marker\":{\"line\":{\"color\":\"#E5ECF6\",\"width\":0.5},\"pattern\":{\"fillmode\":\"overlay\",\"size\":10,\"solidity\":0.2}},\"type\":\"barpolar\"}],\"pie\":[{\"automargin\":true,\"type\":\"pie\"}]},\"layout\":{\"autotypenumbers\":\"strict\",\"colorway\":[\"#636efa\",\"#EF553B\",\"#00cc96\",\"#ab63fa\",\"#FFA15A\",\"#19d3f3\",\"#FF6692\",\"#B6E880\",\"#FF97FF\",\"#FECB52\"],\"font\":{\"color\":\"#2a3f5f\"},\"hovermode\":\"closest\",\"hoverlabel\":{\"align\":\"left\"},\"paper_bgcolor\":\"white\",\"plot_bgcolor\":\"#E5ECF6\",\"polar\":{\"bgcolor\":\"#E5ECF6\",\"angularaxis\":{\"gridcolor\":\"white\",\"linecolor\":\"white\",\"ticks\":\"\"},\"radialaxis\":{\"gridcolor\":\"white\",\"linecolor\":\"white\",\"ticks\":\"\"}},\"ternary\":{\"bgcolor\":\"#E5ECF6\",\"aaxis\":{\"gridcolor\":\"white\",\"linecolor\":\"white\",\"ticks\":\"\"},\"baxis\":{\"gridcolor\":\"white\",\"linecolor\":\"white\",\"ticks\":\"\"},\"caxis\":{\"gridcolor\":\"white\",\"linecolor\":\"white\",\"ticks\":\"\"}},\"coloraxis\":{\"colorbar\":{\"outlinewidth\":0,\"ticks\":\"\"}},\"colorscale\":{\"sequential\":[[0.0,\"#0d0887\"],[0.1111111111111111,\"#46039f\"],[0.2222222222222222,\"#7201a8\"],[0.3333333333333333,\"#9c179e\"],[0.4444444444444444,\"#bd3786\"],[0.5555555555555556,\"#d8576b\"],[0.6666666666666666,\"#ed7953\"],[0.7777777777777778,\"#fb9f3a\"],[0.8888888888888888,\"#fdca26\"],[1.0,\"#f0f921\"]],\"sequentialminus\":[[0.0,\"#0d0887\"],[0.1111111111111111,\"#46039f\"],[0.2222222222222222,\"#7201a8\"],[0.3333333333333333,\"#9c179e\"],[0.4444444444444444,\"#bd3786\"],[0.5555555555555556,\"#d8576b\"],[0.6666666666666666,\"#ed7953\"],[0.7777777777777778,\"#fb9f3a\"],[0.8888888888888888,\"#fdca26\"],[1.0,\"#f0f921\"]],\"diverging\":[[0,\"#8e0152\"],[0.1,\"#c51b7d\"],[0.2,\"#de77ae\"],[0.3,\"#f1b6da\"],[0.4,\"#fde0ef\"],[0.5,\"#f7f7f7\"],[0.6,\"#e6f5d0\"],[0.7,\"#b8e186\"],[0.8,\"#7fbc41\"],[0.9,\"#4d9221\"],[1,\"#276419\"]]},\"xaxis\":{\"gridcolor\":\"white\",\"linecolor\":\"white\",\"ticks\":\"\",\"title\":{\"standoff\":15},\"zerolinecolor\":\"white\",\"automargin\":true,\"zerolinewidth\":2},\"yaxis\":{\"gridcolor\":\"white\",\"linecolor\":\"white\",\"ticks\":\"\",\"title\":{\"standoff\":15},\"zerolinecolor\":\"white\",\"automargin\":true,\"zerolinewidth\":2},\"scene\":{\"xaxis\":{\"backgroundcolor\":\"#E5ECF6\",\"gridcolor\":\"white\",\"linecolor\":\"white\",\"showbackground\":true,\"ticks\":\"\",\"zerolinecolor\":\"white\",\"gridwidth\":2},\"yaxis\":{\"backgroundcolor\":\"#E5ECF6\",\"gridcolor\":\"white\",\"linecolor\":\"white\",\"showbackground\":true,\"ticks\":\"\",\"zerolinecolor\":\"white\",\"gridwidth\":2},\"zaxis\":{\"backgroundcolor\":\"#E5ECF6\",\"gridcolor\":\"white\",\"linecolor\":\"white\",\"showbackground\":true,\"ticks\":\"\",\"zerolinecolor\":\"white\",\"gridwidth\":2}},\"shapedefaults\":{\"line\":{\"color\":\"#2a3f5f\"}},\"annotationdefaults\":{\"arrowcolor\":\"#2a3f5f\",\"arrowhead\":0,\"arrowwidth\":1},\"geo\":{\"bgcolor\":\"white\",\"landcolor\":\"#E5ECF6\",\"subunitcolor\":\"white\",\"showland\":true,\"showlakes\":true,\"lakecolor\":\"white\"},\"title\":{\"x\":0.05},\"mapbox\":{\"style\":\"light\"}}},\"legend\":{\"tracegroupgap\":0},\"margin\":{\"t\":60},\"height\":700,\"width\":700},                        {\"responsive\": true}                    ).then(function(){\n",
       "                            \n",
       "var gd = document.getElementById('8683649d-643e-4db1-a67c-5ad05ca4d259');\n",
       "var x = new MutationObserver(function (mutations, observer) {{\n",
       "        var display = window.getComputedStyle(gd).display;\n",
       "        if (!display || display === 'none') {{\n",
       "            console.log([gd, 'removed!']);\n",
       "            Plotly.purge(gd);\n",
       "            observer.disconnect();\n",
       "        }}\n",
       "}});\n",
       "\n",
       "// Listen for the removal of the full notebook cells\n",
       "var notebookContainer = gd.closest('#notebook-container');\n",
       "if (notebookContainer) {{\n",
       "    x.observe(notebookContainer, {childList: true});\n",
       "}}\n",
       "\n",
       "// Listen for the clearing of the current output cell\n",
       "var outputEl = gd.closest('.output');\n",
       "if (outputEl) {{\n",
       "    x.observe(outputEl, {childList: true});\n",
       "}}\n",
       "\n",
       "                        })                };                });            </script>        </div>"
      ]
     },
     "metadata": {},
     "output_type": "display_data"
    }
   ],
   "source": [
    "#Region wise segment analysis\n",
    "px.sunburst(temp,values='emissions',path=['region','segment'],color='region',width=700,height=700)"
   ]
  },
  {
   "cell_type": "code",
   "execution_count": 13,
   "id": "9b0f69a9",
   "metadata": {
    "execution": {
     "iopub.execute_input": "2023-04-29T18:09:54.152637Z",
     "iopub.status.busy": "2023-04-29T18:09:54.151422Z",
     "iopub.status.idle": "2023-04-29T18:09:54.161907Z",
     "shell.execute_reply": "2023-04-29T18:09:54.160683Z"
    },
    "papermill": {
     "duration": 0.021538,
     "end_time": "2023-04-29T18:09:54.164480",
     "exception": false,
     "start_time": "2023-04-29T18:09:54.142942",
     "status": "completed"
    },
    "tags": []
   },
   "outputs": [],
   "source": [
    "temp1=temp.groupby('segment').sum().reset_index()\n",
    "temp1.sort_values('emissions',ascending=False,inplace=True)"
   ]
  },
  {
   "cell_type": "code",
   "execution_count": 14,
   "id": "6d34efd0",
   "metadata": {
    "execution": {
     "iopub.execute_input": "2023-04-29T18:09:54.181092Z",
     "iopub.status.busy": "2023-04-29T18:09:54.180674Z",
     "iopub.status.idle": "2023-04-29T18:09:54.321708Z",
     "shell.execute_reply": "2023-04-29T18:09:54.320445Z"
    },
    "papermill": {
     "duration": 0.152515,
     "end_time": "2023-04-29T18:09:54.324524",
     "exception": false,
     "start_time": "2023-04-29T18:09:54.172009",
     "status": "completed"
    },
    "tags": []
   },
   "outputs": [
    {
     "data": {
      "text/html": [
       "<div>                            <div id=\"f800e69c-8b3a-437e-a152-a07f6f4bed8d\" class=\"plotly-graph-div\" style=\"height:525px; width:100%;\"></div>            <script type=\"text/javascript\">                require([\"plotly\"], function(Plotly) {                    window.PLOTLYENV=window.PLOTLYENV || {};                                    if (document.getElementById(\"f800e69c-8b3a-437e-a152-a07f6f4bed8d\")) {                    Plotly.newPlot(                        \"f800e69c-8b3a-437e-a152-a07f6f4bed8d\",                        [{\"alignmentgroup\":\"True\",\"hovertemplate\":\"segment=%{x}<br>Methane emission=%{y}<extra></extra>\",\"legendgroup\":\"Onshore oil\",\"marker\":{\"color\":\"#636efa\",\"pattern\":{\"shape\":\"\"}},\"name\":\"Onshore oil\",\"offsetgroup\":\"Onshore oil\",\"orientation\":\"v\",\"showlegend\":true,\"textposition\":\"auto\",\"x\":[\"Onshore oil\"],\"xaxis\":\"x\",\"y\":[34332.783240311546],\"yaxis\":\"y\",\"type\":\"bar\"},{\"alignmentgroup\":\"True\",\"hovertemplate\":\"segment=%{x}<br>Methane emission=%{y}<extra></extra>\",\"legendgroup\":\"Steam coal\",\"marker\":{\"color\":\"#EF553B\",\"pattern\":{\"shape\":\"\"}},\"name\":\"Steam coal\",\"offsetgroup\":\"Steam coal\",\"orientation\":\"v\",\"showlegend\":true,\"textposition\":\"auto\",\"x\":[\"Steam coal\"],\"xaxis\":\"x\",\"y\":[30047.273343540728],\"yaxis\":\"y\",\"type\":\"bar\"},{\"alignmentgroup\":\"True\",\"hovertemplate\":\"segment=%{x}<br>Methane emission=%{y}<extra></extra>\",\"legendgroup\":\"Onshore gas\",\"marker\":{\"color\":\"#00cc96\",\"pattern\":{\"shape\":\"\"}},\"name\":\"Onshore gas\",\"offsetgroup\":\"Onshore gas\",\"orientation\":\"v\",\"showlegend\":true,\"textposition\":\"auto\",\"x\":[\"Onshore gas\"],\"xaxis\":\"x\",\"y\":[18097.597572999308],\"yaxis\":\"y\",\"type\":\"bar\"},{\"alignmentgroup\":\"True\",\"hovertemplate\":\"segment=%{x}<br>Methane emission=%{y}<extra></extra>\",\"legendgroup\":\"Gas pipelines and LNG facilities\",\"marker\":{\"color\":\"#ab63fa\",\"pattern\":{\"shape\":\"\"}},\"name\":\"Gas pipelines and LNG facilities\",\"offsetgroup\":\"Gas pipelines and LNG facilities\",\"orientation\":\"v\",\"showlegend\":true,\"textposition\":\"auto\",\"x\":[\"Gas pipelines and LNG facilities\"],\"xaxis\":\"x\",\"y\":[12639.023727074265],\"yaxis\":\"y\",\"type\":\"bar\"},{\"alignmentgroup\":\"True\",\"hovertemplate\":\"segment=%{x}<br>Methane emission=%{y}<extra></extra>\",\"legendgroup\":\"Coking coal\",\"marker\":{\"color\":\"#FFA15A\",\"pattern\":{\"shape\":\"\"}},\"name\":\"Coking coal\",\"offsetgroup\":\"Coking coal\",\"orientation\":\"v\",\"showlegend\":true,\"textposition\":\"auto\",\"x\":[\"Coking coal\"],\"xaxis\":\"x\",\"y\":[10313.157683730125],\"yaxis\":\"y\",\"type\":\"bar\"},{\"alignmentgroup\":\"True\",\"hovertemplate\":\"segment=%{x}<br>Methane emission=%{y}<extra></extra>\",\"legendgroup\":\"Bioenergy\",\"marker\":{\"color\":\"#19d3f3\",\"pattern\":{\"shape\":\"\"}},\"name\":\"Bioenergy\",\"offsetgroup\":\"Bioenergy\",\"orientation\":\"v\",\"showlegend\":true,\"textposition\":\"auto\",\"x\":[\"Bioenergy\"],\"xaxis\":\"x\",\"y\":[9926.408037604764],\"yaxis\":\"y\",\"type\":\"bar\"},{\"alignmentgroup\":\"True\",\"hovertemplate\":\"segment=%{x}<br>Methane emission=%{y}<extra></extra>\",\"legendgroup\":\"Offshore oil\",\"marker\":{\"color\":\"#FF6692\",\"pattern\":{\"shape\":\"\"}},\"name\":\"Offshore oil\",\"offsetgroup\":\"Offshore oil\",\"orientation\":\"v\",\"showlegend\":true,\"textposition\":\"auto\",\"x\":[\"Offshore oil\"],\"xaxis\":\"x\",\"y\":[8349.611860015022],\"yaxis\":\"y\",\"type\":\"bar\"},{\"alignmentgroup\":\"True\",\"hovertemplate\":\"segment=%{x}<br>Methane emission=%{y}<extra></extra>\",\"legendgroup\":\"Offshore gas\",\"marker\":{\"color\":\"#B6E880\",\"pattern\":{\"shape\":\"\"}},\"name\":\"Offshore gas\",\"offsetgroup\":\"Offshore gas\",\"orientation\":\"v\",\"showlegend\":true,\"textposition\":\"auto\",\"x\":[\"Offshore gas\"],\"xaxis\":\"x\",\"y\":[4342.3967769229785],\"yaxis\":\"y\",\"type\":\"bar\"},{\"alignmentgroup\":\"True\",\"hovertemplate\":\"segment=%{x}<br>Methane emission=%{y}<extra></extra>\",\"legendgroup\":\"Satellite-detected large oil and gas emissions\",\"marker\":{\"color\":\"#FF97FF\",\"pattern\":{\"shape\":\"\"}},\"name\":\"Satellite-detected large oil and gas emissions\",\"offsetgroup\":\"Satellite-detected large oil and gas emissions\",\"orientation\":\"v\",\"showlegend\":true,\"textposition\":\"auto\",\"x\":[\"Satellite-detected large oil and gas emissions\"],\"xaxis\":\"x\",\"y\":[3106.4000066518784],\"yaxis\":\"y\",\"type\":\"bar\"},{\"alignmentgroup\":\"True\",\"hovertemplate\":\"segment=%{x}<br>Methane emission=%{y}<extra></extra>\",\"legendgroup\":\"Other from oil and gas\",\"marker\":{\"color\":\"#FECB52\",\"pattern\":{\"shape\":\"\"}},\"name\":\"Other from oil and gas\",\"offsetgroup\":\"Other from oil and gas\",\"orientation\":\"v\",\"showlegend\":true,\"textposition\":\"auto\",\"x\":[\"Other from oil and gas\"],\"xaxis\":\"x\",\"y\":[2493.177698748652],\"yaxis\":\"y\",\"type\":\"bar\"},{\"alignmentgroup\":\"True\",\"hovertemplate\":\"segment=%{x}<br>Methane emission=%{y}<extra></extra>\",\"legendgroup\":\"Other from coal\",\"marker\":{\"color\":\"#636efa\",\"pattern\":{\"shape\":\"\"}},\"name\":\"Other from coal\",\"offsetgroup\":\"Other from coal\",\"orientation\":\"v\",\"showlegend\":true,\"textposition\":\"auto\",\"x\":[\"Other from coal\"],\"xaxis\":\"x\",\"y\":[1699.342014349997],\"yaxis\":\"y\",\"type\":\"bar\"}],                        {\"template\":{\"data\":{\"histogram2dcontour\":[{\"type\":\"histogram2dcontour\",\"colorbar\":{\"outlinewidth\":0,\"ticks\":\"\"},\"colorscale\":[[0.0,\"#0d0887\"],[0.1111111111111111,\"#46039f\"],[0.2222222222222222,\"#7201a8\"],[0.3333333333333333,\"#9c179e\"],[0.4444444444444444,\"#bd3786\"],[0.5555555555555556,\"#d8576b\"],[0.6666666666666666,\"#ed7953\"],[0.7777777777777778,\"#fb9f3a\"],[0.8888888888888888,\"#fdca26\"],[1.0,\"#f0f921\"]]}],\"choropleth\":[{\"type\":\"choropleth\",\"colorbar\":{\"outlinewidth\":0,\"ticks\":\"\"}}],\"histogram2d\":[{\"type\":\"histogram2d\",\"colorbar\":{\"outlinewidth\":0,\"ticks\":\"\"},\"colorscale\":[[0.0,\"#0d0887\"],[0.1111111111111111,\"#46039f\"],[0.2222222222222222,\"#7201a8\"],[0.3333333333333333,\"#9c179e\"],[0.4444444444444444,\"#bd3786\"],[0.5555555555555556,\"#d8576b\"],[0.6666666666666666,\"#ed7953\"],[0.7777777777777778,\"#fb9f3a\"],[0.8888888888888888,\"#fdca26\"],[1.0,\"#f0f921\"]]}],\"heatmap\":[{\"type\":\"heatmap\",\"colorbar\":{\"outlinewidth\":0,\"ticks\":\"\"},\"colorscale\":[[0.0,\"#0d0887\"],[0.1111111111111111,\"#46039f\"],[0.2222222222222222,\"#7201a8\"],[0.3333333333333333,\"#9c179e\"],[0.4444444444444444,\"#bd3786\"],[0.5555555555555556,\"#d8576b\"],[0.6666666666666666,\"#ed7953\"],[0.7777777777777778,\"#fb9f3a\"],[0.8888888888888888,\"#fdca26\"],[1.0,\"#f0f921\"]]}],\"heatmapgl\":[{\"type\":\"heatmapgl\",\"colorbar\":{\"outlinewidth\":0,\"ticks\":\"\"},\"colorscale\":[[0.0,\"#0d0887\"],[0.1111111111111111,\"#46039f\"],[0.2222222222222222,\"#7201a8\"],[0.3333333333333333,\"#9c179e\"],[0.4444444444444444,\"#bd3786\"],[0.5555555555555556,\"#d8576b\"],[0.6666666666666666,\"#ed7953\"],[0.7777777777777778,\"#fb9f3a\"],[0.8888888888888888,\"#fdca26\"],[1.0,\"#f0f921\"]]}],\"contourcarpet\":[{\"type\":\"contourcarpet\",\"colorbar\":{\"outlinewidth\":0,\"ticks\":\"\"}}],\"contour\":[{\"type\":\"contour\",\"colorbar\":{\"outlinewidth\":0,\"ticks\":\"\"},\"colorscale\":[[0.0,\"#0d0887\"],[0.1111111111111111,\"#46039f\"],[0.2222222222222222,\"#7201a8\"],[0.3333333333333333,\"#9c179e\"],[0.4444444444444444,\"#bd3786\"],[0.5555555555555556,\"#d8576b\"],[0.6666666666666666,\"#ed7953\"],[0.7777777777777778,\"#fb9f3a\"],[0.8888888888888888,\"#fdca26\"],[1.0,\"#f0f921\"]]}],\"surface\":[{\"type\":\"surface\",\"colorbar\":{\"outlinewidth\":0,\"ticks\":\"\"},\"colorscale\":[[0.0,\"#0d0887\"],[0.1111111111111111,\"#46039f\"],[0.2222222222222222,\"#7201a8\"],[0.3333333333333333,\"#9c179e\"],[0.4444444444444444,\"#bd3786\"],[0.5555555555555556,\"#d8576b\"],[0.6666666666666666,\"#ed7953\"],[0.7777777777777778,\"#fb9f3a\"],[0.8888888888888888,\"#fdca26\"],[1.0,\"#f0f921\"]]}],\"mesh3d\":[{\"type\":\"mesh3d\",\"colorbar\":{\"outlinewidth\":0,\"ticks\":\"\"}}],\"scatter\":[{\"fillpattern\":{\"fillmode\":\"overlay\",\"size\":10,\"solidity\":0.2},\"type\":\"scatter\"}],\"parcoords\":[{\"type\":\"parcoords\",\"line\":{\"colorbar\":{\"outlinewidth\":0,\"ticks\":\"\"}}}],\"scatterpolargl\":[{\"type\":\"scatterpolargl\",\"marker\":{\"colorbar\":{\"outlinewidth\":0,\"ticks\":\"\"}}}],\"bar\":[{\"error_x\":{\"color\":\"#2a3f5f\"},\"error_y\":{\"color\":\"#2a3f5f\"},\"marker\":{\"line\":{\"color\":\"#E5ECF6\",\"width\":0.5},\"pattern\":{\"fillmode\":\"overlay\",\"size\":10,\"solidity\":0.2}},\"type\":\"bar\"}],\"scattergeo\":[{\"type\":\"scattergeo\",\"marker\":{\"colorbar\":{\"outlinewidth\":0,\"ticks\":\"\"}}}],\"scatterpolar\":[{\"type\":\"scatterpolar\",\"marker\":{\"colorbar\":{\"outlinewidth\":0,\"ticks\":\"\"}}}],\"histogram\":[{\"marker\":{\"pattern\":{\"fillmode\":\"overlay\",\"size\":10,\"solidity\":0.2}},\"type\":\"histogram\"}],\"scattergl\":[{\"type\":\"scattergl\",\"marker\":{\"colorbar\":{\"outlinewidth\":0,\"ticks\":\"\"}}}],\"scatter3d\":[{\"type\":\"scatter3d\",\"line\":{\"colorbar\":{\"outlinewidth\":0,\"ticks\":\"\"}},\"marker\":{\"colorbar\":{\"outlinewidth\":0,\"ticks\":\"\"}}}],\"scattermapbox\":[{\"type\":\"scattermapbox\",\"marker\":{\"colorbar\":{\"outlinewidth\":0,\"ticks\":\"\"}}}],\"scatterternary\":[{\"type\":\"scatterternary\",\"marker\":{\"colorbar\":{\"outlinewidth\":0,\"ticks\":\"\"}}}],\"scattercarpet\":[{\"type\":\"scattercarpet\",\"marker\":{\"colorbar\":{\"outlinewidth\":0,\"ticks\":\"\"}}}],\"carpet\":[{\"aaxis\":{\"endlinecolor\":\"#2a3f5f\",\"gridcolor\":\"white\",\"linecolor\":\"white\",\"minorgridcolor\":\"white\",\"startlinecolor\":\"#2a3f5f\"},\"baxis\":{\"endlinecolor\":\"#2a3f5f\",\"gridcolor\":\"white\",\"linecolor\":\"white\",\"minorgridcolor\":\"white\",\"startlinecolor\":\"#2a3f5f\"},\"type\":\"carpet\"}],\"table\":[{\"cells\":{\"fill\":{\"color\":\"#EBF0F8\"},\"line\":{\"color\":\"white\"}},\"header\":{\"fill\":{\"color\":\"#C8D4E3\"},\"line\":{\"color\":\"white\"}},\"type\":\"table\"}],\"barpolar\":[{\"marker\":{\"line\":{\"color\":\"#E5ECF6\",\"width\":0.5},\"pattern\":{\"fillmode\":\"overlay\",\"size\":10,\"solidity\":0.2}},\"type\":\"barpolar\"}],\"pie\":[{\"automargin\":true,\"type\":\"pie\"}]},\"layout\":{\"autotypenumbers\":\"strict\",\"colorway\":[\"#636efa\",\"#EF553B\",\"#00cc96\",\"#ab63fa\",\"#FFA15A\",\"#19d3f3\",\"#FF6692\",\"#B6E880\",\"#FF97FF\",\"#FECB52\"],\"font\":{\"color\":\"#2a3f5f\"},\"hovermode\":\"closest\",\"hoverlabel\":{\"align\":\"left\"},\"paper_bgcolor\":\"white\",\"plot_bgcolor\":\"#E5ECF6\",\"polar\":{\"bgcolor\":\"#E5ECF6\",\"angularaxis\":{\"gridcolor\":\"white\",\"linecolor\":\"white\",\"ticks\":\"\"},\"radialaxis\":{\"gridcolor\":\"white\",\"linecolor\":\"white\",\"ticks\":\"\"}},\"ternary\":{\"bgcolor\":\"#E5ECF6\",\"aaxis\":{\"gridcolor\":\"white\",\"linecolor\":\"white\",\"ticks\":\"\"},\"baxis\":{\"gridcolor\":\"white\",\"linecolor\":\"white\",\"ticks\":\"\"},\"caxis\":{\"gridcolor\":\"white\",\"linecolor\":\"white\",\"ticks\":\"\"}},\"coloraxis\":{\"colorbar\":{\"outlinewidth\":0,\"ticks\":\"\"}},\"colorscale\":{\"sequential\":[[0.0,\"#0d0887\"],[0.1111111111111111,\"#46039f\"],[0.2222222222222222,\"#7201a8\"],[0.3333333333333333,\"#9c179e\"],[0.4444444444444444,\"#bd3786\"],[0.5555555555555556,\"#d8576b\"],[0.6666666666666666,\"#ed7953\"],[0.7777777777777778,\"#fb9f3a\"],[0.8888888888888888,\"#fdca26\"],[1.0,\"#f0f921\"]],\"sequentialminus\":[[0.0,\"#0d0887\"],[0.1111111111111111,\"#46039f\"],[0.2222222222222222,\"#7201a8\"],[0.3333333333333333,\"#9c179e\"],[0.4444444444444444,\"#bd3786\"],[0.5555555555555556,\"#d8576b\"],[0.6666666666666666,\"#ed7953\"],[0.7777777777777778,\"#fb9f3a\"],[0.8888888888888888,\"#fdca26\"],[1.0,\"#f0f921\"]],\"diverging\":[[0,\"#8e0152\"],[0.1,\"#c51b7d\"],[0.2,\"#de77ae\"],[0.3,\"#f1b6da\"],[0.4,\"#fde0ef\"],[0.5,\"#f7f7f7\"],[0.6,\"#e6f5d0\"],[0.7,\"#b8e186\"],[0.8,\"#7fbc41\"],[0.9,\"#4d9221\"],[1,\"#276419\"]]},\"xaxis\":{\"gridcolor\":\"white\",\"linecolor\":\"white\",\"ticks\":\"\",\"title\":{\"standoff\":15},\"zerolinecolor\":\"white\",\"automargin\":true,\"zerolinewidth\":2},\"yaxis\":{\"gridcolor\":\"white\",\"linecolor\":\"white\",\"ticks\":\"\",\"title\":{\"standoff\":15},\"zerolinecolor\":\"white\",\"automargin\":true,\"zerolinewidth\":2},\"scene\":{\"xaxis\":{\"backgroundcolor\":\"#E5ECF6\",\"gridcolor\":\"white\",\"linecolor\":\"white\",\"showbackground\":true,\"ticks\":\"\",\"zerolinecolor\":\"white\",\"gridwidth\":2},\"yaxis\":{\"backgroundcolor\":\"#E5ECF6\",\"gridcolor\":\"white\",\"linecolor\":\"white\",\"showbackground\":true,\"ticks\":\"\",\"zerolinecolor\":\"white\",\"gridwidth\":2},\"zaxis\":{\"backgroundcolor\":\"#E5ECF6\",\"gridcolor\":\"white\",\"linecolor\":\"white\",\"showbackground\":true,\"ticks\":\"\",\"zerolinecolor\":\"white\",\"gridwidth\":2}},\"shapedefaults\":{\"line\":{\"color\":\"#2a3f5f\"}},\"annotationdefaults\":{\"arrowcolor\":\"#2a3f5f\",\"arrowhead\":0,\"arrowwidth\":1},\"geo\":{\"bgcolor\":\"white\",\"landcolor\":\"#E5ECF6\",\"subunitcolor\":\"white\",\"showland\":true,\"showlakes\":true,\"lakecolor\":\"white\"},\"title\":{\"x\":0.05},\"mapbox\":{\"style\":\"light\"}}},\"xaxis\":{\"anchor\":\"y\",\"domain\":[0.0,1.0],\"title\":{\"text\":\"segment\"},\"categoryorder\":\"array\",\"categoryarray\":[\"Onshore oil\",\"Steam coal\",\"Onshore gas\",\"Gas pipelines and LNG facilities\",\"Coking coal\",\"Bioenergy\",\"Offshore oil\",\"Offshore gas\",\"Satellite-detected large oil and gas emissions\",\"Other from oil and gas\",\"Other from coal\"]},\"yaxis\":{\"anchor\":\"x\",\"domain\":[0.0,1.0],\"title\":{\"text\":\"Methane emission\"}},\"legend\":{\"title\":{\"text\":\"segment\"},\"tracegroupgap\":0},\"margin\":{\"t\":60},\"barmode\":\"relative\"},                        {\"responsive\": true}                    ).then(function(){\n",
       "                            \n",
       "var gd = document.getElementById('f800e69c-8b3a-437e-a152-a07f6f4bed8d');\n",
       "var x = new MutationObserver(function (mutations, observer) {{\n",
       "        var display = window.getComputedStyle(gd).display;\n",
       "        if (!display || display === 'none') {{\n",
       "            console.log([gd, 'removed!']);\n",
       "            Plotly.purge(gd);\n",
       "            observer.disconnect();\n",
       "        }}\n",
       "}});\n",
       "\n",
       "// Listen for the removal of the full notebook cells\n",
       "var notebookContainer = gd.closest('#notebook-container');\n",
       "if (notebookContainer) {{\n",
       "    x.observe(notebookContainer, {childList: true});\n",
       "}}\n",
       "\n",
       "// Listen for the clearing of the current output cell\n",
       "var outputEl = gd.closest('.output');\n",
       "if (outputEl) {{\n",
       "    x.observe(outputEl, {childList: true});\n",
       "}}\n",
       "\n",
       "                        })                };                });            </script>        </div>"
      ]
     },
     "metadata": {},
     "output_type": "display_data"
    }
   ],
   "source": [
    "# Segment vs Emissions\n",
    "px.bar(temp1,x='segment',y='emissions',color='segment',labels={'emissions':'Methane emission'})"
   ]
  },
  {
   "cell_type": "code",
   "execution_count": 15,
   "id": "0bd34197",
   "metadata": {
    "execution": {
     "iopub.execute_input": "2023-04-29T18:09:54.341767Z",
     "iopub.status.busy": "2023-04-29T18:09:54.341360Z",
     "iopub.status.idle": "2023-04-29T18:09:54.363037Z",
     "shell.execute_reply": "2023-04-29T18:09:54.361799Z"
    },
    "papermill": {
     "duration": 0.033703,
     "end_time": "2023-04-29T18:09:54.365933",
     "exception": false,
     "start_time": "2023-04-29T18:09:54.332230",
     "status": "completed"
    },
    "tags": []
   },
   "outputs": [
    {
     "data": {
      "text/html": [
       "<div>\n",
       "<style scoped>\n",
       "    .dataframe tbody tr th:only-of-type {\n",
       "        vertical-align: middle;\n",
       "    }\n",
       "\n",
       "    .dataframe tbody tr th {\n",
       "        vertical-align: top;\n",
       "    }\n",
       "\n",
       "    .dataframe thead th {\n",
       "        text-align: right;\n",
       "    }\n",
       "</style>\n",
       "<table border=\"1\" class=\"dataframe\">\n",
       "  <thead>\n",
       "    <tr style=\"text-align: right;\">\n",
       "      <th></th>\n",
       "      <th>region</th>\n",
       "      <th>country</th>\n",
       "      <th>emissions</th>\n",
       "      <th>type</th>\n",
       "      <th>segment</th>\n",
       "      <th>reason</th>\n",
       "      <th>baseYear</th>\n",
       "      <th>notes</th>\n",
       "    </tr>\n",
       "  </thead>\n",
       "  <tbody>\n",
       "    <tr>\n",
       "      <th>0</th>\n",
       "      <td>Africa</td>\n",
       "      <td>Algeria</td>\n",
       "      <td>257.611206</td>\n",
       "      <td>Agriculture</td>\n",
       "      <td>Total</td>\n",
       "      <td>All</td>\n",
       "      <td>2019-2021</td>\n",
       "      <td>Average based on United Nations Framework Conv...</td>\n",
       "    </tr>\n",
       "    <tr>\n",
       "      <th>1</th>\n",
       "      <td>Africa</td>\n",
       "      <td>Algeria</td>\n",
       "      <td>0.052000</td>\n",
       "      <td>Energy</td>\n",
       "      <td>Bioenergy</td>\n",
       "      <td>All</td>\n",
       "      <td>2022</td>\n",
       "      <td>Estimates from end-uses are for 2020 or 2021 (...</td>\n",
       "    </tr>\n",
       "    <tr>\n",
       "      <th>2</th>\n",
       "      <td>Africa</td>\n",
       "      <td>Algeria</td>\n",
       "      <td>130.798996</td>\n",
       "      <td>Energy</td>\n",
       "      <td>Gas pipelines and LNG facilities</td>\n",
       "      <td>Fugitive</td>\n",
       "      <td>2022</td>\n",
       "      <td>Not available</td>\n",
       "    </tr>\n",
       "    <tr>\n",
       "      <th>3</th>\n",
       "      <td>Africa</td>\n",
       "      <td>Algeria</td>\n",
       "      <td>69.741898</td>\n",
       "      <td>Energy</td>\n",
       "      <td>Gas pipelines and LNG facilities</td>\n",
       "      <td>Vented</td>\n",
       "      <td>2022</td>\n",
       "      <td>Not available</td>\n",
       "    </tr>\n",
       "    <tr>\n",
       "      <th>4</th>\n",
       "      <td>Africa</td>\n",
       "      <td>Algeria</td>\n",
       "      <td>213.987000</td>\n",
       "      <td>Energy</td>\n",
       "      <td>Onshore gas</td>\n",
       "      <td>Fugitive</td>\n",
       "      <td>2022</td>\n",
       "      <td>Not available</td>\n",
       "    </tr>\n",
       "    <tr>\n",
       "      <th>...</th>\n",
       "      <td>...</td>\n",
       "      <td>...</td>\n",
       "      <td>...</td>\n",
       "      <td>...</td>\n",
       "      <td>...</td>\n",
       "      <td>...</td>\n",
       "      <td>...</td>\n",
       "      <td>...</td>\n",
       "    </tr>\n",
       "    <tr>\n",
       "      <th>1521</th>\n",
       "      <td>Russia &amp; Caspian</td>\n",
       "      <td>Uzbekistan</td>\n",
       "      <td>16.973917</td>\n",
       "      <td>Energy</td>\n",
       "      <td>Other from oil and gas</td>\n",
       "      <td>All</td>\n",
       "      <td>2022</td>\n",
       "      <td>Estimates from end-uses are for 2020 or 2021 (...</td>\n",
       "    </tr>\n",
       "    <tr>\n",
       "      <th>1522</th>\n",
       "      <td>Russia &amp; Caspian</td>\n",
       "      <td>Uzbekistan</td>\n",
       "      <td>18.299999</td>\n",
       "      <td>Energy</td>\n",
       "      <td>Satellite-detected large oil and gas emissions</td>\n",
       "      <td>All</td>\n",
       "      <td>2022</td>\n",
       "      <td>Not available</td>\n",
       "    </tr>\n",
       "    <tr>\n",
       "      <th>1523</th>\n",
       "      <td>Russia &amp; Caspian</td>\n",
       "      <td>Uzbekistan</td>\n",
       "      <td>780.916138</td>\n",
       "      <td>Energy</td>\n",
       "      <td>Total</td>\n",
       "      <td>All</td>\n",
       "      <td>2022</td>\n",
       "      <td>Estimates from end-uses are for 2020 or 2021 (...</td>\n",
       "    </tr>\n",
       "    <tr>\n",
       "      <th>1524</th>\n",
       "      <td>Russia &amp; Caspian</td>\n",
       "      <td>Uzbekistan</td>\n",
       "      <td>3.845616</td>\n",
       "      <td>Other</td>\n",
       "      <td>Total</td>\n",
       "      <td>All</td>\n",
       "      <td>2019-2021</td>\n",
       "      <td>Average based on United Nations Framework Conv...</td>\n",
       "    </tr>\n",
       "    <tr>\n",
       "      <th>1525</th>\n",
       "      <td>Russia &amp; Caspian</td>\n",
       "      <td>Uzbekistan</td>\n",
       "      <td>280.418243</td>\n",
       "      <td>Waste</td>\n",
       "      <td>Total</td>\n",
       "      <td>All</td>\n",
       "      <td>2019-2021</td>\n",
       "      <td>Average based on United Nations Framework Conv...</td>\n",
       "    </tr>\n",
       "  </tbody>\n",
       "</table>\n",
       "<p>1526 rows × 8 columns</p>\n",
       "</div>"
      ],
      "text/plain": [
       "                region     country   emissions         type  \\\n",
       "0               Africa     Algeria  257.611206  Agriculture   \n",
       "1               Africa     Algeria    0.052000       Energy   \n",
       "2               Africa     Algeria  130.798996       Energy   \n",
       "3               Africa     Algeria   69.741898       Energy   \n",
       "4               Africa     Algeria  213.987000       Energy   \n",
       "...                ...         ...         ...          ...   \n",
       "1521  Russia & Caspian  Uzbekistan   16.973917       Energy   \n",
       "1522  Russia & Caspian  Uzbekistan   18.299999       Energy   \n",
       "1523  Russia & Caspian  Uzbekistan  780.916138       Energy   \n",
       "1524  Russia & Caspian  Uzbekistan    3.845616        Other   \n",
       "1525  Russia & Caspian  Uzbekistan  280.418243        Waste   \n",
       "\n",
       "                                             segment    reason   baseYear  \\\n",
       "0                                              Total       All  2019-2021   \n",
       "1                                          Bioenergy       All       2022   \n",
       "2                   Gas pipelines and LNG facilities  Fugitive       2022   \n",
       "3                   Gas pipelines and LNG facilities    Vented       2022   \n",
       "4                                        Onshore gas  Fugitive       2022   \n",
       "...                                              ...       ...        ...   \n",
       "1521                          Other from oil and gas       All       2022   \n",
       "1522  Satellite-detected large oil and gas emissions       All       2022   \n",
       "1523                                           Total       All       2022   \n",
       "1524                                           Total       All  2019-2021   \n",
       "1525                                           Total       All  2019-2021   \n",
       "\n",
       "                                                  notes  \n",
       "0     Average based on United Nations Framework Conv...  \n",
       "1     Estimates from end-uses are for 2020 or 2021 (...  \n",
       "2                                         Not available  \n",
       "3                                         Not available  \n",
       "4                                         Not available  \n",
       "...                                                 ...  \n",
       "1521  Estimates from end-uses are for 2020 or 2021 (...  \n",
       "1522                                      Not available  \n",
       "1523  Estimates from end-uses are for 2020 or 2021 (...  \n",
       "1524  Average based on United Nations Framework Conv...  \n",
       "1525  Average based on United Nations Framework Conv...  \n",
       "\n",
       "[1526 rows x 8 columns]"
      ]
     },
     "execution_count": 15,
     "metadata": {},
     "output_type": "execute_result"
    }
   ],
   "source": [
    "temp2=df[df['country']!='World']\n",
    "temp2"
   ]
  },
  {
   "cell_type": "code",
   "execution_count": 16,
   "id": "5ec43e15",
   "metadata": {
    "execution": {
     "iopub.execute_input": "2023-04-29T18:09:54.384292Z",
     "iopub.status.busy": "2023-04-29T18:09:54.383796Z",
     "iopub.status.idle": "2023-04-29T18:09:54.400911Z",
     "shell.execute_reply": "2023-04-29T18:09:54.399721Z"
    },
    "papermill": {
     "duration": 0.029424,
     "end_time": "2023-04-29T18:09:54.403587",
     "exception": false,
     "start_time": "2023-04-29T18:09:54.374163",
     "status": "completed"
    },
    "tags": []
   },
   "outputs": [
    {
     "data": {
      "text/html": [
       "<div>\n",
       "<style scoped>\n",
       "    .dataframe tbody tr th:only-of-type {\n",
       "        vertical-align: middle;\n",
       "    }\n",
       "\n",
       "    .dataframe tbody tr th {\n",
       "        vertical-align: top;\n",
       "    }\n",
       "\n",
       "    .dataframe thead th {\n",
       "        text-align: right;\n",
       "    }\n",
       "</style>\n",
       "<table border=\"1\" class=\"dataframe\">\n",
       "  <thead>\n",
       "    <tr style=\"text-align: right;\">\n",
       "      <th></th>\n",
       "      <th>type</th>\n",
       "      <th>emissions</th>\n",
       "    </tr>\n",
       "  </thead>\n",
       "  <tbody>\n",
       "    <tr>\n",
       "      <th>0</th>\n",
       "      <td>Agriculture</td>\n",
       "      <td>150805.103144</td>\n",
       "    </tr>\n",
       "    <tr>\n",
       "      <th>1</th>\n",
       "      <td>Energy</td>\n",
       "      <td>135347.173195</td>\n",
       "    </tr>\n",
       "    <tr>\n",
       "      <th>2</th>\n",
       "      <td>Other</td>\n",
       "      <td>10028.772862</td>\n",
       "    </tr>\n",
       "    <tr>\n",
       "      <th>3</th>\n",
       "      <td>Waste</td>\n",
       "      <td>75079.707008</td>\n",
       "    </tr>\n",
       "  </tbody>\n",
       "</table>\n",
       "</div>"
      ],
      "text/plain": [
       "          type      emissions\n",
       "0  Agriculture  150805.103144\n",
       "1       Energy  135347.173195\n",
       "2        Other   10028.772862\n",
       "3        Waste   75079.707008"
      ]
     },
     "execution_count": 16,
     "metadata": {},
     "output_type": "execute_result"
    }
   ],
   "source": [
    "temp2=df.loc[np.where((temp2['segment']=='Total'))]\n",
    "temp2.groupby('type').sum().reset_index()"
   ]
  },
  {
   "cell_type": "code",
   "execution_count": 17,
   "id": "40887c06",
   "metadata": {
    "execution": {
     "iopub.execute_input": "2023-04-29T18:09:54.421727Z",
     "iopub.status.busy": "2023-04-29T18:09:54.421269Z",
     "iopub.status.idle": "2023-04-29T18:09:54.497252Z",
     "shell.execute_reply": "2023-04-29T18:09:54.495951Z"
    },
    "papermill": {
     "duration": 0.088334,
     "end_time": "2023-04-29T18:09:54.500129",
     "exception": false,
     "start_time": "2023-04-29T18:09:54.411795",
     "status": "completed"
    },
    "tags": []
   },
   "outputs": [
    {
     "data": {
      "text/html": [
       "<div>                            <div id=\"dc6d4407-80be-4acf-8aef-702cb788e32b\" class=\"plotly-graph-div\" style=\"height:525px; width:100%;\"></div>            <script type=\"text/javascript\">                require([\"plotly\"], function(Plotly) {                    window.PLOTLYENV=window.PLOTLYENV || {};                                    if (document.getElementById(\"dc6d4407-80be-4acf-8aef-702cb788e32b\")) {                    Plotly.newPlot(                        \"dc6d4407-80be-4acf-8aef-702cb788e32b\",                        [{\"domain\":{\"x\":[0.0,1.0],\"y\":[0.0,1.0]},\"hole\":0.5,\"hovertemplate\":\"type=%{label}<br>emissions=%{value}<extra></extra>\",\"labels\":[\"Agriculture\",\"Energy\",\"Other\",\"Waste\",\"Agriculture\",\"Energy\",\"Other\",\"Waste\",\"Agriculture\",\"Energy\",\"Other\",\"Waste\",\"Agriculture\",\"Energy\",\"Other\",\"Waste\",\"Agriculture\",\"Energy\",\"Other\",\"Waste\",\"Agriculture\",\"Other\",\"Waste\",\"Agriculture\",\"Energy\",\"Other\",\"Waste\",\"Agriculture\",\"Energy\",\"Other\",\"Waste\",\"Agriculture\",\"Energy\",\"Other\",\"Waste\",\"Agriculture\",\"Energy\",\"Other\",\"Waste\",\"Agriculture\",\"Energy\",\"Other\",\"Waste\",\"Agriculture\",\"Energy\",\"Other\",\"Waste\",\"Agriculture\",\"Energy\",\"Other\",\"Waste\",\"Agriculture\",\"Energy\",\"Other\",\"Waste\",\"Agriculture\",\"Energy\",\"Other\",\"Waste\",\"Agriculture\",\"Other\",\"Waste\",\"Agriculture\",\"Energy\",\"Other\",\"Waste\",\"Agriculture\",\"Energy\",\"Other\",\"Waste\",\"Agriculture\",\"Other\",\"Waste\",\"Agriculture\",\"Energy\",\"Other\",\"Waste\",\"Agriculture\",\"Other\",\"Waste\",\"Agriculture\",\"Energy\",\"Other\",\"Waste\",\"Agriculture\",\"Energy\",\"Other\",\"Waste\",\"Agriculture\",\"Energy\",\"Other\",\"Waste\",\"Agriculture\",\"Energy\",\"Other\",\"Waste\",\"Agriculture\",\"Energy\",\"Other\",\"Waste\",\"Agriculture\",\"Energy\",\"Other\",\"Waste\",\"Agriculture\",\"Energy\",\"Other\",\"Waste\",\"Agriculture\",\"Other\",\"Waste\",\"Agriculture\",\"Other\",\"Waste\",\"Agriculture\",\"Energy\",\"Other\",\"Waste\",\"Agriculture\",\"Energy\",\"Other\",\"Waste\",\"Agriculture\",\"Energy\",\"Other\",\"Waste\",\"Agriculture\",\"Energy\",\"Other\",\"Waste\",\"Agriculture\",\"Energy\",\"Other\",\"Waste\",\"Agriculture\",\"Energy\",\"Other\",\"Waste\",\"Agriculture\",\"Energy\",\"Other\",\"Waste\",\"Agriculture\",\"Energy\",\"Other\",\"Waste\",\"Agriculture\",\"Energy\",\"Other\",\"Waste\",\"Agriculture\",\"Energy\",\"Other\",\"Waste\",\"Agriculture\",\"Energy\",\"Other\",\"Waste\",\"Agriculture\",\"Energy\",\"Other\",\"Waste\",\"Agriculture\",\"Energy\",\"Other\",\"Waste\",\"Agriculture\",\"Energy\",\"Other\",\"Waste\",\"Agriculture\",\"Energy\",\"Other\",\"Waste\",\"Agriculture\",\"Energy\",\"Other\",\"Waste\",\"Agriculture\",\"Energy\",\"Other\",\"Waste\",\"Agriculture\",\"Energy\",\"Other\",\"Waste\",\"Agriculture\",\"Energy\",\"Other\",\"Waste\",\"Agriculture\",\"Energy\",\"Other\",\"Waste\",\"Agriculture\",\"Energy\",\"Other\",\"Waste\",\"Agriculture\",\"Energy\",\"Other\",\"Waste\",\"Agriculture\",\"Energy\",\"Other\",\"Waste\",\"Agriculture\",\"Energy\",\"Other\",\"Waste\",\"Agriculture\",\"Energy\",\"Other\",\"Waste\",\"Agriculture\",\"Energy\",\"Other\",\"Waste\",\"Agriculture\",\"Energy\",\"Other\",\"Waste\",\"Agriculture\",\"Energy\",\"Other\",\"Waste\",\"Agriculture\",\"Energy\",\"Other\",\"Waste\",\"Agriculture\",\"Energy\",\"Other\",\"Waste\",\"Agriculture\",\"Energy\",\"Other\",\"Waste\",\"Agriculture\",\"Energy\",\"Other\",\"Waste\",\"Agriculture\",\"Energy\",\"Other\",\"Waste\",\"Agriculture\",\"Energy\",\"Other\",\"Waste\",\"Agriculture\",\"Energy\",\"Other\",\"Waste\",\"Agriculture\",\"Energy\",\"Other\",\"Waste\",\"Agriculture\",\"Energy\",\"Other\",\"Waste\",\"Agriculture\",\"Energy\",\"Other\",\"Waste\",\"Agriculture\",\"Energy\",\"Other\",\"Waste\",\"Agriculture\",\"Energy\",\"Other\",\"Waste\",\"Agriculture\",\"Energy\",\"Other\",\"Waste\",\"Agriculture\",\"Energy\",\"Other\",\"Waste\",\"Agriculture\",\"Energy\",\"Other\",\"Waste\",\"Agriculture\",\"Energy\",\"Other\",\"Waste\",\"Agriculture\",\"Energy\",\"Other\",\"Waste\",\"Agriculture\",\"Energy\",\"Other\",\"Waste\",\"Agriculture\",\"Energy\",\"Other\",\"Waste\",\"Agriculture\",\"Energy\",\"Other\",\"Waste\",\"Agriculture\",\"Energy\",\"Other\",\"Waste\",\"Agriculture\",\"Energy\",\"Other\",\"Waste\",\"Agriculture\",\"Energy\",\"Other\",\"Waste\",\"Agriculture\",\"Energy\",\"Other\",\"Waste\",\"Agriculture\",\"Energy\",\"Other\",\"Waste\",\"Agriculture\",\"Energy\",\"Other\",\"Waste\",\"Agriculture\",\"Energy\",\"Other\",\"Waste\",\"Agriculture\",\"Energy\",\"Other\",\"Waste\",\"Agriculture\",\"Energy\",\"Other\",\"Waste\",\"Agriculture\",\"Energy\",\"Other\",\"Waste\",\"Agriculture\",\"Energy\",\"Other\",\"Waste\",\"Agriculture\",\"Energy\",\"Other\",\"Waste\",\"Agriculture\",\"Energy\",\"Other\",\"Waste\",\"Agriculture\",\"Energy\",\"Other\",\"Waste\",\"Agriculture\",\"Energy\",\"Other\",\"Waste\",\"Agriculture\",\"Energy\",\"Other\",\"Waste\",\"Agriculture\",\"Energy\",\"Other\",\"Waste\",\"Agriculture\",\"Energy\",\"Other\",\"Waste\",\"Agriculture\",\"Energy\",\"Other\",\"Waste\",\"Agriculture\",\"Energy\",\"Other\",\"Waste\",\"Agriculture\",\"Energy\",\"Other\",\"Waste\",\"Agriculture\",\"Energy\",\"Other\",\"Waste\",\"Agriculture\",\"Energy\",\"Other\",\"Waste\",\"Agriculture\",\"Energy\",\"Other\",\"Waste\",\"Agriculture\",\"Energy\",\"Other\",\"Waste\",\"Agriculture\",\"Energy\",\"Other\",\"Waste\"],\"legendgroup\":\"\",\"name\":\"\",\"showlegend\":true,\"values\":[257.6112060546875,2669.194580078125,6.475720882415772,510.9656066894531,400.9695739746094,568.7333374023438,81.70992279052734,151.49404907226562,105.69103240966795,26.6285400390625,43.24774169921875,42.10737228393555,97.25849151611328,6.199222564697266,2.236912250518799,843.4016723632812,279.5312194824219,216.560775756836,23.94275665283203,194.51437377929688,250.8168029785156,173.46914672851562,22.85633850097656,1223.9329833984375,51.41695022583008,13.205078125,70.19759368896484,23.8709659576416,264.7666931152344,11.99696445465088,30.08274269104004,185.7007751464844,93.39645385742188,28.767297744750977,220.2355194091797,555.5286865234375,260.6929016113281,201.8346710205078,566.8305053710938,684.5322265625,958.0424194335938,12.003130912780762,947.93408203125,0.438739001750946,169.01870727539062,2.3649120330810547,11.922514915466309,120.17935180664062,5.936958312988281,2.5068612098693848,24.038236618041992,1910.0897216796875,464.2127685546875,177.9381866455078,414.8589172363281,5.590458393096924,248.5525665283203,5.498744964599609,21.208723068237305,29.567506790161133,3.931763887405396,14.088419914245604,169.0322265625,120.73609161376952,26.986873626708984,159.3824005126953,438.159423828125,0.0080000003799796,17.251436233520508,68.93671417236328,52.83677673339844,26.177602767944336,8.758500099182129,1250.951904296875,143.8259735107422,34.40288162231445,180.646713256836,9.208291053771973,15.316903114318848,19.37256050109864,67.41584777832031,1599.4412841796875,3.0724658966064453,83.35655975341797,295.3795166015625,22.181472778320312,6.258478164672852,405.1220397949219,210.65399169921875,227.3558959960937,106.01947784423828,155.7392578125,181.9879150390625,2.631089210510254,1.329381227493286,15.859238624572754,696.4396362304688,40.86768341064453,10.043743133544922,152.30502319335938,2082.188232421875,3306.0712890625,347.1287841796875,862.4360961914062,261.5225524902344,13.024876594543455,4.177417755126953,101.4332275390625,0.078720711171627,0.0518720373511314,2.491305351257324,86.26763916015625,9.578605651855469,49.99830627441406,625.7147827148438,29.507999420166016,23.82088088989257,108.4111557006836,760.32275390625,1239.0296630859375,42.40746307373047,834.2140502929688,695.7181396484375,76.9888916015625,3.3333332538604736,121.76155090332033,1549.11083984375,143.06582641601562,36.831764221191406,233.21359252929688,1180.221923828125,203.3902282714844,1225.0953369140625,227.552978515625,50.73590850830078,19.2255916595459,9.78065299987793,37.90462112426758,97.72246551513672,77.23422241210938,4.220635890960693,108.2469711303711,2450.463134765625,2232.23876953125,241.8041534423828,619.0491333007812,2410.234375,334.3358459472656,54.36891174316406,825.30224609375,0.8412342667579651,43.50729370117188,0.2182318568229675,9.676277160644531,18501.9140625,25372.22265625,1377.8709716796875,10424.1416015625,18358.517578125,5185.236328125,571.2567138671875,5551.7607421875,3518.344482421875,5080.369140625,1156.4476318359375,4568.9384765625,991.6493530273438,283.3003234863281,21.91791725158692,243.30145263671875,508.4415588378906,200.3266448974609,28.59282493591309,527.2578125,189.0501708984375,474.0210876464844,27.7065544128418,893.9114379882812,549.2429809570312,216.8521881103516,6.77065896987915,16.66093635559082,1155.9993896484375,37.33414077758789,8.055159568786621,165.2618865966797,3300.293701171875,527.3272094726562,149.16900634765625,436.8053588867188,5319.4560546875,920.3993530273438,156.03668212890625,854.3361206054688,1714.848876953125,116.43431091308594,52.23356628417969,649.79248046875,2078.933837890625,535.2486572265625,56.79174041748047,703.9661254882812,2193.2626953125,60.93199920654297,34.768653869628906,783.7750244140625,3152.9326171875,1307.0936279296875,85.4056396484375,705.7312622070312,673.754150390625,128.09658813476562,146.38304138183594,87.08856201171875,14020.0888671875,1756.495361328125,387.7013854980469,3800.05712890625,1795.9031982421875,778.1613159179688,17.213926315307617,643.7293090820312,267.4549255371094,21.06509017944336,2.341588258743286,160.3751678466797,359.8713684082031,277.0992736816406,3.937007188796997,235.403060913086,57.39715576171875,47.569732666015625,1.915329933166504,8.31496524810791,835.0689086914062,16.34809112548828,13.040079116821287,115.26103973388672,639.6949462890625,131.71063232421875,50.463600158691406,355.07745361328125,4.345527648925781,209.22000122070312,5.858375072479248,62.29243469238281,751.9459228515625,7.599424362182617,3.5114591121673584,138.26727294921875,1015.0640869140624,2642.70361328125,10.820260047912598,379.9532775878906,240.09361267089844,41.51583480834961,5.735045909881592,40.26875686645508,27.72345733642578,11.624244689941406,2.18104100227356,37.32962417602539,8851.337890625,2760.969970703125,290.8985595703125,4320.9970703125,1564.2218017578125,193.59646606445312,39.94035720825195,630.8741455078125,1269.36865234375,353.0937194824219,67.88993072509766,605.1366577148438,39.840087890625,43.2089958190918,0.6706947088241577,282.4595642089844,800.047119140625,285.7864685058594,30.06378936767578,579.596923828125,466.8436584472656,29.25938034057617,15.82078742980957,137.8373260498047,103.60773468017578,41.1037712097168,5.547865867614746,46.46012496948242,2284.248779296875,448.1883544921875,84.71975708007812,2321.68505859375,2811.933837890625,600.064453125,98.36200714111328,1850.4228515625,139.63568115234375,55.59594345092773,8.988862991333008,249.8030548095703,615.5054321289062,865.2888793945312,44.48818588256836,347.61395263671875,367.9289245605469,285.4109191894531,11.696823120117188,244.40768432617188,48.42922592163086,7.726953983306885,1.593956470489502,17.910375595092773,128.65838623046875,31.990554809570312,10.069866180419922,159.8013458251953,377.1493225097656,553.4212036132812,71.82522583007812,401.859619140625,1064.6658935546875,274.63140869140625,64.70419311523438,1113.1412353515625,0.9645923376083374,190.6852569580078,1.48150372505188,172.3936004638672,802.454345703125,5629.822265625,37.20094299316406,931.3856201171876,168.22393798828125,2515.052734375,3.4219236373901367,362.1964721679688,25.815542221069336,47.20696640014648,0.5782174468040466,200.5210418701172,7.323050498962402,1002.0822143554688,0.8249784111976624,257.99493408203125,12.067669868469238,4.712915897369385,0.7648441195487976,112.2239990234375,37.05989837646485,869.2565307617188,9.764742851257324,64.55561828613281,11.3685884475708,1138.517822265625,5.521563529968262,64.40309143066406,121.0209732055664,3051.0966796875,27.8301010131836,955.779541015625,133.05282592773438,237.66441345214844,1.1841530799865725,169.2044219970703,47.43784332275391,1439.1328125,2.969593048095703,462.6634826660156,181.29298400878903,145.18161010742188,0.5342848896980286,161.4936981201172,1072.710693359375,2548.3984375,42.62068176269531,897.9652709960938,2420.791015625,1581.3292236328125,54.36140441894531,1994.62744140625,9409.3251953125,16769.630859375,538.3626098632812,5117.92822265625,7259.01416015625,2420.8798828125,682.0879516601562,3214.4951171875,195.1975250244141,323.2549743652344,0.96043461561203,104.27503204345705,762.0980834960938,2740.561279296875,17.407060623168945,198.9350128173828,2022.095947265625,18078.083984375,323.421630859375,3931.244384765625,304.87176513671875,4740.041015625,1.4148011207580566,48.02981185913086,901.6826171875,780.9161376953125,3.845616340637207,280.4182434082031],\"type\":\"pie\"}],                        {\"template\":{\"data\":{\"histogram2dcontour\":[{\"type\":\"histogram2dcontour\",\"colorbar\":{\"outlinewidth\":0,\"ticks\":\"\"},\"colorscale\":[[0.0,\"#0d0887\"],[0.1111111111111111,\"#46039f\"],[0.2222222222222222,\"#7201a8\"],[0.3333333333333333,\"#9c179e\"],[0.4444444444444444,\"#bd3786\"],[0.5555555555555556,\"#d8576b\"],[0.6666666666666666,\"#ed7953\"],[0.7777777777777778,\"#fb9f3a\"],[0.8888888888888888,\"#fdca26\"],[1.0,\"#f0f921\"]]}],\"choropleth\":[{\"type\":\"choropleth\",\"colorbar\":{\"outlinewidth\":0,\"ticks\":\"\"}}],\"histogram2d\":[{\"type\":\"histogram2d\",\"colorbar\":{\"outlinewidth\":0,\"ticks\":\"\"},\"colorscale\":[[0.0,\"#0d0887\"],[0.1111111111111111,\"#46039f\"],[0.2222222222222222,\"#7201a8\"],[0.3333333333333333,\"#9c179e\"],[0.4444444444444444,\"#bd3786\"],[0.5555555555555556,\"#d8576b\"],[0.6666666666666666,\"#ed7953\"],[0.7777777777777778,\"#fb9f3a\"],[0.8888888888888888,\"#fdca26\"],[1.0,\"#f0f921\"]]}],\"heatmap\":[{\"type\":\"heatmap\",\"colorbar\":{\"outlinewidth\":0,\"ticks\":\"\"},\"colorscale\":[[0.0,\"#0d0887\"],[0.1111111111111111,\"#46039f\"],[0.2222222222222222,\"#7201a8\"],[0.3333333333333333,\"#9c179e\"],[0.4444444444444444,\"#bd3786\"],[0.5555555555555556,\"#d8576b\"],[0.6666666666666666,\"#ed7953\"],[0.7777777777777778,\"#fb9f3a\"],[0.8888888888888888,\"#fdca26\"],[1.0,\"#f0f921\"]]}],\"heatmapgl\":[{\"type\":\"heatmapgl\",\"colorbar\":{\"outlinewidth\":0,\"ticks\":\"\"},\"colorscale\":[[0.0,\"#0d0887\"],[0.1111111111111111,\"#46039f\"],[0.2222222222222222,\"#7201a8\"],[0.3333333333333333,\"#9c179e\"],[0.4444444444444444,\"#bd3786\"],[0.5555555555555556,\"#d8576b\"],[0.6666666666666666,\"#ed7953\"],[0.7777777777777778,\"#fb9f3a\"],[0.8888888888888888,\"#fdca26\"],[1.0,\"#f0f921\"]]}],\"contourcarpet\":[{\"type\":\"contourcarpet\",\"colorbar\":{\"outlinewidth\":0,\"ticks\":\"\"}}],\"contour\":[{\"type\":\"contour\",\"colorbar\":{\"outlinewidth\":0,\"ticks\":\"\"},\"colorscale\":[[0.0,\"#0d0887\"],[0.1111111111111111,\"#46039f\"],[0.2222222222222222,\"#7201a8\"],[0.3333333333333333,\"#9c179e\"],[0.4444444444444444,\"#bd3786\"],[0.5555555555555556,\"#d8576b\"],[0.6666666666666666,\"#ed7953\"],[0.7777777777777778,\"#fb9f3a\"],[0.8888888888888888,\"#fdca26\"],[1.0,\"#f0f921\"]]}],\"surface\":[{\"type\":\"surface\",\"colorbar\":{\"outlinewidth\":0,\"ticks\":\"\"},\"colorscale\":[[0.0,\"#0d0887\"],[0.1111111111111111,\"#46039f\"],[0.2222222222222222,\"#7201a8\"],[0.3333333333333333,\"#9c179e\"],[0.4444444444444444,\"#bd3786\"],[0.5555555555555556,\"#d8576b\"],[0.6666666666666666,\"#ed7953\"],[0.7777777777777778,\"#fb9f3a\"],[0.8888888888888888,\"#fdca26\"],[1.0,\"#f0f921\"]]}],\"mesh3d\":[{\"type\":\"mesh3d\",\"colorbar\":{\"outlinewidth\":0,\"ticks\":\"\"}}],\"scatter\":[{\"fillpattern\":{\"fillmode\":\"overlay\",\"size\":10,\"solidity\":0.2},\"type\":\"scatter\"}],\"parcoords\":[{\"type\":\"parcoords\",\"line\":{\"colorbar\":{\"outlinewidth\":0,\"ticks\":\"\"}}}],\"scatterpolargl\":[{\"type\":\"scatterpolargl\",\"marker\":{\"colorbar\":{\"outlinewidth\":0,\"ticks\":\"\"}}}],\"bar\":[{\"error_x\":{\"color\":\"#2a3f5f\"},\"error_y\":{\"color\":\"#2a3f5f\"},\"marker\":{\"line\":{\"color\":\"#E5ECF6\",\"width\":0.5},\"pattern\":{\"fillmode\":\"overlay\",\"size\":10,\"solidity\":0.2}},\"type\":\"bar\"}],\"scattergeo\":[{\"type\":\"scattergeo\",\"marker\":{\"colorbar\":{\"outlinewidth\":0,\"ticks\":\"\"}}}],\"scatterpolar\":[{\"type\":\"scatterpolar\",\"marker\":{\"colorbar\":{\"outlinewidth\":0,\"ticks\":\"\"}}}],\"histogram\":[{\"marker\":{\"pattern\":{\"fillmode\":\"overlay\",\"size\":10,\"solidity\":0.2}},\"type\":\"histogram\"}],\"scattergl\":[{\"type\":\"scattergl\",\"marker\":{\"colorbar\":{\"outlinewidth\":0,\"ticks\":\"\"}}}],\"scatter3d\":[{\"type\":\"scatter3d\",\"line\":{\"colorbar\":{\"outlinewidth\":0,\"ticks\":\"\"}},\"marker\":{\"colorbar\":{\"outlinewidth\":0,\"ticks\":\"\"}}}],\"scattermapbox\":[{\"type\":\"scattermapbox\",\"marker\":{\"colorbar\":{\"outlinewidth\":0,\"ticks\":\"\"}}}],\"scatterternary\":[{\"type\":\"scatterternary\",\"marker\":{\"colorbar\":{\"outlinewidth\":0,\"ticks\":\"\"}}}],\"scattercarpet\":[{\"type\":\"scattercarpet\",\"marker\":{\"colorbar\":{\"outlinewidth\":0,\"ticks\":\"\"}}}],\"carpet\":[{\"aaxis\":{\"endlinecolor\":\"#2a3f5f\",\"gridcolor\":\"white\",\"linecolor\":\"white\",\"minorgridcolor\":\"white\",\"startlinecolor\":\"#2a3f5f\"},\"baxis\":{\"endlinecolor\":\"#2a3f5f\",\"gridcolor\":\"white\",\"linecolor\":\"white\",\"minorgridcolor\":\"white\",\"startlinecolor\":\"#2a3f5f\"},\"type\":\"carpet\"}],\"table\":[{\"cells\":{\"fill\":{\"color\":\"#EBF0F8\"},\"line\":{\"color\":\"white\"}},\"header\":{\"fill\":{\"color\":\"#C8D4E3\"},\"line\":{\"color\":\"white\"}},\"type\":\"table\"}],\"barpolar\":[{\"marker\":{\"line\":{\"color\":\"#E5ECF6\",\"width\":0.5},\"pattern\":{\"fillmode\":\"overlay\",\"size\":10,\"solidity\":0.2}},\"type\":\"barpolar\"}],\"pie\":[{\"automargin\":true,\"type\":\"pie\"}]},\"layout\":{\"autotypenumbers\":\"strict\",\"colorway\":[\"#636efa\",\"#EF553B\",\"#00cc96\",\"#ab63fa\",\"#FFA15A\",\"#19d3f3\",\"#FF6692\",\"#B6E880\",\"#FF97FF\",\"#FECB52\"],\"font\":{\"color\":\"#2a3f5f\"},\"hovermode\":\"closest\",\"hoverlabel\":{\"align\":\"left\"},\"paper_bgcolor\":\"white\",\"plot_bgcolor\":\"#E5ECF6\",\"polar\":{\"bgcolor\":\"#E5ECF6\",\"angularaxis\":{\"gridcolor\":\"white\",\"linecolor\":\"white\",\"ticks\":\"\"},\"radialaxis\":{\"gridcolor\":\"white\",\"linecolor\":\"white\",\"ticks\":\"\"}},\"ternary\":{\"bgcolor\":\"#E5ECF6\",\"aaxis\":{\"gridcolor\":\"white\",\"linecolor\":\"white\",\"ticks\":\"\"},\"baxis\":{\"gridcolor\":\"white\",\"linecolor\":\"white\",\"ticks\":\"\"},\"caxis\":{\"gridcolor\":\"white\",\"linecolor\":\"white\",\"ticks\":\"\"}},\"coloraxis\":{\"colorbar\":{\"outlinewidth\":0,\"ticks\":\"\"}},\"colorscale\":{\"sequential\":[[0.0,\"#0d0887\"],[0.1111111111111111,\"#46039f\"],[0.2222222222222222,\"#7201a8\"],[0.3333333333333333,\"#9c179e\"],[0.4444444444444444,\"#bd3786\"],[0.5555555555555556,\"#d8576b\"],[0.6666666666666666,\"#ed7953\"],[0.7777777777777778,\"#fb9f3a\"],[0.8888888888888888,\"#fdca26\"],[1.0,\"#f0f921\"]],\"sequentialminus\":[[0.0,\"#0d0887\"],[0.1111111111111111,\"#46039f\"],[0.2222222222222222,\"#7201a8\"],[0.3333333333333333,\"#9c179e\"],[0.4444444444444444,\"#bd3786\"],[0.5555555555555556,\"#d8576b\"],[0.6666666666666666,\"#ed7953\"],[0.7777777777777778,\"#fb9f3a\"],[0.8888888888888888,\"#fdca26\"],[1.0,\"#f0f921\"]],\"diverging\":[[0,\"#8e0152\"],[0.1,\"#c51b7d\"],[0.2,\"#de77ae\"],[0.3,\"#f1b6da\"],[0.4,\"#fde0ef\"],[0.5,\"#f7f7f7\"],[0.6,\"#e6f5d0\"],[0.7,\"#b8e186\"],[0.8,\"#7fbc41\"],[0.9,\"#4d9221\"],[1,\"#276419\"]]},\"xaxis\":{\"gridcolor\":\"white\",\"linecolor\":\"white\",\"ticks\":\"\",\"title\":{\"standoff\":15},\"zerolinecolor\":\"white\",\"automargin\":true,\"zerolinewidth\":2},\"yaxis\":{\"gridcolor\":\"white\",\"linecolor\":\"white\",\"ticks\":\"\",\"title\":{\"standoff\":15},\"zerolinecolor\":\"white\",\"automargin\":true,\"zerolinewidth\":2},\"scene\":{\"xaxis\":{\"backgroundcolor\":\"#E5ECF6\",\"gridcolor\":\"white\",\"linecolor\":\"white\",\"showbackground\":true,\"ticks\":\"\",\"zerolinecolor\":\"white\",\"gridwidth\":2},\"yaxis\":{\"backgroundcolor\":\"#E5ECF6\",\"gridcolor\":\"white\",\"linecolor\":\"white\",\"showbackground\":true,\"ticks\":\"\",\"zerolinecolor\":\"white\",\"gridwidth\":2},\"zaxis\":{\"backgroundcolor\":\"#E5ECF6\",\"gridcolor\":\"white\",\"linecolor\":\"white\",\"showbackground\":true,\"ticks\":\"\",\"zerolinecolor\":\"white\",\"gridwidth\":2}},\"shapedefaults\":{\"line\":{\"color\":\"#2a3f5f\"}},\"annotationdefaults\":{\"arrowcolor\":\"#2a3f5f\",\"arrowhead\":0,\"arrowwidth\":1},\"geo\":{\"bgcolor\":\"white\",\"landcolor\":\"#E5ECF6\",\"subunitcolor\":\"white\",\"showland\":true,\"showlakes\":true,\"lakecolor\":\"white\"},\"title\":{\"x\":0.05},\"mapbox\":{\"style\":\"light\"}}},\"legend\":{\"tracegroupgap\":0},\"margin\":{\"t\":60}},                        {\"responsive\": true}                    ).then(function(){\n",
       "                            \n",
       "var gd = document.getElementById('dc6d4407-80be-4acf-8aef-702cb788e32b');\n",
       "var x = new MutationObserver(function (mutations, observer) {{\n",
       "        var display = window.getComputedStyle(gd).display;\n",
       "        if (!display || display === 'none') {{\n",
       "            console.log([gd, 'removed!']);\n",
       "            Plotly.purge(gd);\n",
       "            observer.disconnect();\n",
       "        }}\n",
       "}});\n",
       "\n",
       "// Listen for the removal of the full notebook cells\n",
       "var notebookContainer = gd.closest('#notebook-container');\n",
       "if (notebookContainer) {{\n",
       "    x.observe(notebookContainer, {childList: true});\n",
       "}}\n",
       "\n",
       "// Listen for the clearing of the current output cell\n",
       "var outputEl = gd.closest('.output');\n",
       "if (outputEl) {{\n",
       "    x.observe(outputEl, {childList: true});\n",
       "}}\n",
       "\n",
       "                        })                };                });            </script>        </div>"
      ]
     },
     "metadata": {},
     "output_type": "display_data"
    }
   ],
   "source": [
    "#Emission vs Type analysis\n",
    "px.pie(temp2,values='emissions',names='type',hole=0.5)"
   ]
  },
  {
   "cell_type": "code",
   "execution_count": 18,
   "id": "188d7b9e",
   "metadata": {
    "execution": {
     "iopub.execute_input": "2023-04-29T18:09:54.519438Z",
     "iopub.status.busy": "2023-04-29T18:09:54.518586Z",
     "iopub.status.idle": "2023-04-29T18:09:54.540215Z",
     "shell.execute_reply": "2023-04-29T18:09:54.538601Z"
    },
    "papermill": {
     "duration": 0.034128,
     "end_time": "2023-04-29T18:09:54.542897",
     "exception": false,
     "start_time": "2023-04-29T18:09:54.508769",
     "status": "completed"
    },
    "tags": []
   },
   "outputs": [
    {
     "data": {
      "text/html": [
       "<div>\n",
       "<style scoped>\n",
       "    .dataframe tbody tr th:only-of-type {\n",
       "        vertical-align: middle;\n",
       "    }\n",
       "\n",
       "    .dataframe tbody tr th {\n",
       "        vertical-align: top;\n",
       "    }\n",
       "\n",
       "    .dataframe thead th {\n",
       "        text-align: right;\n",
       "    }\n",
       "</style>\n",
       "<table border=\"1\" class=\"dataframe\">\n",
       "  <thead>\n",
       "    <tr style=\"text-align: right;\">\n",
       "      <th></th>\n",
       "      <th>region</th>\n",
       "      <th>country</th>\n",
       "      <th>emissions</th>\n",
       "      <th>type</th>\n",
       "      <th>segment</th>\n",
       "      <th>reason</th>\n",
       "      <th>baseYear</th>\n",
       "      <th>notes</th>\n",
       "    </tr>\n",
       "  </thead>\n",
       "  <tbody>\n",
       "    <tr>\n",
       "      <th>0</th>\n",
       "      <td>Africa</td>\n",
       "      <td>Algeria</td>\n",
       "      <td>257.611206</td>\n",
       "      <td>Agriculture</td>\n",
       "      <td>Total</td>\n",
       "      <td>All</td>\n",
       "      <td>2019-2021</td>\n",
       "      <td>Average based on United Nations Framework Conv...</td>\n",
       "    </tr>\n",
       "    <tr>\n",
       "      <th>1</th>\n",
       "      <td>Africa</td>\n",
       "      <td>Algeria</td>\n",
       "      <td>0.052000</td>\n",
       "      <td>Energy</td>\n",
       "      <td>Bioenergy</td>\n",
       "      <td>All</td>\n",
       "      <td>2022</td>\n",
       "      <td>Estimates from end-uses are for 2020 or 2021 (...</td>\n",
       "    </tr>\n",
       "    <tr>\n",
       "      <th>2</th>\n",
       "      <td>Africa</td>\n",
       "      <td>Algeria</td>\n",
       "      <td>130.798996</td>\n",
       "      <td>Energy</td>\n",
       "      <td>Gas pipelines and LNG facilities</td>\n",
       "      <td>Fugitive</td>\n",
       "      <td>2022</td>\n",
       "      <td>Not available</td>\n",
       "    </tr>\n",
       "    <tr>\n",
       "      <th>3</th>\n",
       "      <td>Africa</td>\n",
       "      <td>Algeria</td>\n",
       "      <td>69.741898</td>\n",
       "      <td>Energy</td>\n",
       "      <td>Gas pipelines and LNG facilities</td>\n",
       "      <td>Vented</td>\n",
       "      <td>2022</td>\n",
       "      <td>Not available</td>\n",
       "    </tr>\n",
       "    <tr>\n",
       "      <th>4</th>\n",
       "      <td>Africa</td>\n",
       "      <td>Algeria</td>\n",
       "      <td>213.987000</td>\n",
       "      <td>Energy</td>\n",
       "      <td>Onshore gas</td>\n",
       "      <td>Fugitive</td>\n",
       "      <td>2022</td>\n",
       "      <td>Not available</td>\n",
       "    </tr>\n",
       "    <tr>\n",
       "      <th>...</th>\n",
       "      <td>...</td>\n",
       "      <td>...</td>\n",
       "      <td>...</td>\n",
       "      <td>...</td>\n",
       "      <td>...</td>\n",
       "      <td>...</td>\n",
       "      <td>...</td>\n",
       "      <td>...</td>\n",
       "    </tr>\n",
       "    <tr>\n",
       "      <th>1521</th>\n",
       "      <td>Russia &amp; Caspian</td>\n",
       "      <td>Uzbekistan</td>\n",
       "      <td>16.973917</td>\n",
       "      <td>Energy</td>\n",
       "      <td>Other from oil and gas</td>\n",
       "      <td>All</td>\n",
       "      <td>2022</td>\n",
       "      <td>Estimates from end-uses are for 2020 or 2021 (...</td>\n",
       "    </tr>\n",
       "    <tr>\n",
       "      <th>1522</th>\n",
       "      <td>Russia &amp; Caspian</td>\n",
       "      <td>Uzbekistan</td>\n",
       "      <td>18.299999</td>\n",
       "      <td>Energy</td>\n",
       "      <td>Satellite-detected large oil and gas emissions</td>\n",
       "      <td>All</td>\n",
       "      <td>2022</td>\n",
       "      <td>Not available</td>\n",
       "    </tr>\n",
       "    <tr>\n",
       "      <th>1523</th>\n",
       "      <td>Russia &amp; Caspian</td>\n",
       "      <td>Uzbekistan</td>\n",
       "      <td>780.916138</td>\n",
       "      <td>Energy</td>\n",
       "      <td>Total</td>\n",
       "      <td>All</td>\n",
       "      <td>2022</td>\n",
       "      <td>Estimates from end-uses are for 2020 or 2021 (...</td>\n",
       "    </tr>\n",
       "    <tr>\n",
       "      <th>1524</th>\n",
       "      <td>Russia &amp; Caspian</td>\n",
       "      <td>Uzbekistan</td>\n",
       "      <td>3.845616</td>\n",
       "      <td>Other</td>\n",
       "      <td>Total</td>\n",
       "      <td>All</td>\n",
       "      <td>2019-2021</td>\n",
       "      <td>Average based on United Nations Framework Conv...</td>\n",
       "    </tr>\n",
       "    <tr>\n",
       "      <th>1525</th>\n",
       "      <td>Russia &amp; Caspian</td>\n",
       "      <td>Uzbekistan</td>\n",
       "      <td>280.418243</td>\n",
       "      <td>Waste</td>\n",
       "      <td>Total</td>\n",
       "      <td>All</td>\n",
       "      <td>2019-2021</td>\n",
       "      <td>Average based on United Nations Framework Conv...</td>\n",
       "    </tr>\n",
       "  </tbody>\n",
       "</table>\n",
       "<p>1526 rows × 8 columns</p>\n",
       "</div>"
      ],
      "text/plain": [
       "                region     country   emissions         type  \\\n",
       "0               Africa     Algeria  257.611206  Agriculture   \n",
       "1               Africa     Algeria    0.052000       Energy   \n",
       "2               Africa     Algeria  130.798996       Energy   \n",
       "3               Africa     Algeria   69.741898       Energy   \n",
       "4               Africa     Algeria  213.987000       Energy   \n",
       "...                ...         ...         ...          ...   \n",
       "1521  Russia & Caspian  Uzbekistan   16.973917       Energy   \n",
       "1522  Russia & Caspian  Uzbekistan   18.299999       Energy   \n",
       "1523  Russia & Caspian  Uzbekistan  780.916138       Energy   \n",
       "1524  Russia & Caspian  Uzbekistan    3.845616        Other   \n",
       "1525  Russia & Caspian  Uzbekistan  280.418243        Waste   \n",
       "\n",
       "                                             segment    reason   baseYear  \\\n",
       "0                                              Total       All  2019-2021   \n",
       "1                                          Bioenergy       All       2022   \n",
       "2                   Gas pipelines and LNG facilities  Fugitive       2022   \n",
       "3                   Gas pipelines and LNG facilities    Vented       2022   \n",
       "4                                        Onshore gas  Fugitive       2022   \n",
       "...                                              ...       ...        ...   \n",
       "1521                          Other from oil and gas       All       2022   \n",
       "1522  Satellite-detected large oil and gas emissions       All       2022   \n",
       "1523                                           Total       All       2022   \n",
       "1524                                           Total       All  2019-2021   \n",
       "1525                                           Total       All  2019-2021   \n",
       "\n",
       "                                                  notes  \n",
       "0     Average based on United Nations Framework Conv...  \n",
       "1     Estimates from end-uses are for 2020 or 2021 (...  \n",
       "2                                         Not available  \n",
       "3                                         Not available  \n",
       "4                                         Not available  \n",
       "...                                                 ...  \n",
       "1521  Estimates from end-uses are for 2020 or 2021 (...  \n",
       "1522                                      Not available  \n",
       "1523  Estimates from end-uses are for 2020 or 2021 (...  \n",
       "1524  Average based on United Nations Framework Conv...  \n",
       "1525  Average based on United Nations Framework Conv...  \n",
       "\n",
       "[1526 rows x 8 columns]"
      ]
     },
     "execution_count": 18,
     "metadata": {},
     "output_type": "execute_result"
    }
   ],
   "source": [
    "temp3=df[df['country']!='World']\n",
    "temp3"
   ]
  },
  {
   "cell_type": "code",
   "execution_count": 19,
   "id": "540432fd",
   "metadata": {
    "execution": {
     "iopub.execute_input": "2023-04-29T18:09:54.562503Z",
     "iopub.status.busy": "2023-04-29T18:09:54.562058Z",
     "iopub.status.idle": "2023-04-29T18:09:54.580222Z",
     "shell.execute_reply": "2023-04-29T18:09:54.579060Z"
    },
    "papermill": {
     "duration": 0.030628,
     "end_time": "2023-04-29T18:09:54.582383",
     "exception": false,
     "start_time": "2023-04-29T18:09:54.551755",
     "status": "completed"
    },
    "tags": []
   },
   "outputs": [
    {
     "data": {
      "text/html": [
       "<div>\n",
       "<style scoped>\n",
       "    .dataframe tbody tr th:only-of-type {\n",
       "        vertical-align: middle;\n",
       "    }\n",
       "\n",
       "    .dataframe tbody tr th {\n",
       "        vertical-align: top;\n",
       "    }\n",
       "\n",
       "    .dataframe thead th {\n",
       "        text-align: right;\n",
       "    }\n",
       "</style>\n",
       "<table border=\"1\" class=\"dataframe\">\n",
       "  <thead>\n",
       "    <tr style=\"text-align: right;\">\n",
       "      <th></th>\n",
       "      <th>region</th>\n",
       "      <th>country</th>\n",
       "      <th>emissions</th>\n",
       "      <th>type</th>\n",
       "      <th>segment</th>\n",
       "      <th>reason</th>\n",
       "      <th>baseYear</th>\n",
       "      <th>notes</th>\n",
       "    </tr>\n",
       "  </thead>\n",
       "  <tbody>\n",
       "    <tr>\n",
       "      <th>0</th>\n",
       "      <td>Africa</td>\n",
       "      <td>Algeria</td>\n",
       "      <td>257.611206</td>\n",
       "      <td>Agriculture</td>\n",
       "      <td>Total</td>\n",
       "      <td>All</td>\n",
       "      <td>2019-2021</td>\n",
       "      <td>Average based on United Nations Framework Conv...</td>\n",
       "    </tr>\n",
       "    <tr>\n",
       "      <th>1</th>\n",
       "      <td>Africa</td>\n",
       "      <td>Algeria</td>\n",
       "      <td>0.052000</td>\n",
       "      <td>Energy</td>\n",
       "      <td>Bioenergy</td>\n",
       "      <td>All</td>\n",
       "      <td>2022</td>\n",
       "      <td>Estimates from end-uses are for 2020 or 2021 (...</td>\n",
       "    </tr>\n",
       "    <tr>\n",
       "      <th>2</th>\n",
       "      <td>Africa</td>\n",
       "      <td>Algeria</td>\n",
       "      <td>130.798996</td>\n",
       "      <td>Energy</td>\n",
       "      <td>Gas pipelines and LNG facilities</td>\n",
       "      <td>Fugitive</td>\n",
       "      <td>2022</td>\n",
       "      <td>Not available</td>\n",
       "    </tr>\n",
       "    <tr>\n",
       "      <th>3</th>\n",
       "      <td>Africa</td>\n",
       "      <td>Algeria</td>\n",
       "      <td>69.741898</td>\n",
       "      <td>Energy</td>\n",
       "      <td>Gas pipelines and LNG facilities</td>\n",
       "      <td>Vented</td>\n",
       "      <td>2022</td>\n",
       "      <td>Not available</td>\n",
       "    </tr>\n",
       "    <tr>\n",
       "      <th>4</th>\n",
       "      <td>Africa</td>\n",
       "      <td>Algeria</td>\n",
       "      <td>213.987000</td>\n",
       "      <td>Energy</td>\n",
       "      <td>Onshore gas</td>\n",
       "      <td>Fugitive</td>\n",
       "      <td>2022</td>\n",
       "      <td>Not available</td>\n",
       "    </tr>\n",
       "  </tbody>\n",
       "</table>\n",
       "</div>"
      ],
      "text/plain": [
       "   region  country   emissions         type                           segment  \\\n",
       "0  Africa  Algeria  257.611206  Agriculture                             Total   \n",
       "1  Africa  Algeria    0.052000       Energy                         Bioenergy   \n",
       "2  Africa  Algeria  130.798996       Energy  Gas pipelines and LNG facilities   \n",
       "3  Africa  Algeria   69.741898       Energy  Gas pipelines and LNG facilities   \n",
       "4  Africa  Algeria  213.987000       Energy                       Onshore gas   \n",
       "\n",
       "     reason   baseYear                                              notes  \n",
       "0       All  2019-2021  Average based on United Nations Framework Conv...  \n",
       "1       All       2022  Estimates from end-uses are for 2020 or 2021 (...  \n",
       "2  Fugitive       2022                                      Not available  \n",
       "3    Vented       2022                                      Not available  \n",
       "4  Fugitive       2022                                      Not available  "
      ]
     },
     "execution_count": 19,
     "metadata": {},
     "output_type": "execute_result"
    }
   ],
   "source": [
    "temp3=temp3[~((temp3['type']=='Energy')&(temp3['segment']=='Total'))]\n",
    "temp3.head()"
   ]
  },
  {
   "cell_type": "code",
   "execution_count": 20,
   "id": "f3962111",
   "metadata": {
    "execution": {
     "iopub.execute_input": "2023-04-29T18:09:54.602634Z",
     "iopub.status.busy": "2023-04-29T18:09:54.601630Z",
     "iopub.status.idle": "2023-04-29T18:09:54.612881Z",
     "shell.execute_reply": "2023-04-29T18:09:54.611566Z"
    },
    "papermill": {
     "duration": 0.023967,
     "end_time": "2023-04-29T18:09:54.615429",
     "exception": false,
     "start_time": "2023-04-29T18:09:54.591462",
     "status": "completed"
    },
    "tags": []
   },
   "outputs": [],
   "source": [
    "temp3=temp3.groupby(['segment','reason']).sum().reset_index()\n",
    "temp3.drop(index=[18],inplace=True)"
   ]
  },
  {
   "cell_type": "code",
   "execution_count": 21,
   "id": "80bdcb1f",
   "metadata": {
    "execution": {
     "iopub.execute_input": "2023-04-29T18:09:54.635526Z",
     "iopub.status.busy": "2023-04-29T18:09:54.634557Z",
     "iopub.status.idle": "2023-04-29T18:09:54.710741Z",
     "shell.execute_reply": "2023-04-29T18:09:54.709374Z"
    },
    "papermill": {
     "duration": 0.089448,
     "end_time": "2023-04-29T18:09:54.713851",
     "exception": false,
     "start_time": "2023-04-29T18:09:54.624403",
     "status": "completed"
    },
    "tags": []
   },
   "outputs": [
    {
     "data": {
      "text/html": [
       "<div>                            <div id=\"6fbdc2ec-a1f1-4524-b0bf-853dcdf8d794\" class=\"plotly-graph-div\" style=\"height:525px; width:100%;\"></div>            <script type=\"text/javascript\">                require([\"plotly\"], function(Plotly) {                    window.PLOTLYENV=window.PLOTLYENV || {};                                    if (document.getElementById(\"6fbdc2ec-a1f1-4524-b0bf-853dcdf8d794\")) {                    Plotly.newPlot(                        \"6fbdc2ec-a1f1-4524-b0bf-853dcdf8d794\",                        [{\"alignmentgroup\":\"True\",\"hovertemplate\":\"reason=All<br>emissions=%{x}<br>segment=%{y}<extra></extra>\",\"legendgroup\":\"All\",\"marker\":{\"color\":\"#636efa\",\"pattern\":{\"shape\":\"\"}},\"name\":\"All\",\"offsetgroup\":\"All\",\"orientation\":\"h\",\"showlegend\":true,\"textposition\":\"auto\",\"x\":[9926.408037604764,10313.157683730125,1699.342014349997,2493.177698748652,3106.4000066518784,30047.273343540728],\"xaxis\":\"x\",\"y\":[\"Bioenergy\",\"Coking coal\",\"Other from coal\",\"Other from oil and gas\",\"Satellite-detected large oil and gas emissions\",\"Steam coal\"],\"yaxis\":\"y\",\"type\":\"bar\"},{\"alignmentgroup\":\"True\",\"hovertemplate\":\"reason=Fugitive<br>emissions=%{x}<br>segment=%{y}<extra></extra>\",\"legendgroup\":\"Fugitive\",\"marker\":{\"color\":\"#EF553B\",\"pattern\":{\"shape\":\"\"}},\"name\":\"Fugitive\",\"offsetgroup\":\"Fugitive\",\"orientation\":\"h\",\"showlegend\":true,\"textposition\":\"auto\",\"x\":[8243.553746704012,1369.931111591868,485.012469198904,5709.396677585086,1921.28505943669],\"xaxis\":\"x\",\"y\":[\"Gas pipelines and LNG facilities\",\"Offshore gas\",\"Offshore oil\",\"Onshore gas\",\"Onshore oil\"],\"yaxis\":\"y\",\"type\":\"bar\"},{\"alignmentgroup\":\"True\",\"hovertemplate\":\"reason=Vented<br>emissions=%{x}<br>segment=%{y}<extra></extra>\",\"legendgroup\":\"Vented\",\"marker\":{\"color\":\"#00cc96\",\"pattern\":{\"shape\":\"\"}},\"name\":\"Vented\",\"offsetgroup\":\"Vented\",\"orientation\":\"h\",\"showlegend\":true,\"textposition\":\"auto\",\"x\":[4395.469980370253,2972.4656653311104,6570.998807357624,12388.200895414222,26029.764491464943],\"xaxis\":\"x\",\"y\":[\"Gas pipelines and LNG facilities\",\"Offshore gas\",\"Offshore oil\",\"Onshore gas\",\"Onshore oil\"],\"yaxis\":\"y\",\"type\":\"bar\"},{\"alignmentgroup\":\"True\",\"hovertemplate\":\"reason=Flared<br>emissions=%{x}<br>segment=%{y}<extra></extra>\",\"legendgroup\":\"Flared\",\"marker\":{\"color\":\"#ab63fa\",\"pattern\":{\"shape\":\"\"}},\"name\":\"Flared\",\"offsetgroup\":\"Flared\",\"orientation\":\"h\",\"showlegend\":true,\"textposition\":\"auto\",\"x\":[1293.600583458494,6381.7336894099135],\"xaxis\":\"x\",\"y\":[\"Offshore oil\",\"Onshore oil\"],\"yaxis\":\"y\",\"type\":\"bar\"}],                        {\"template\":{\"data\":{\"histogram2dcontour\":[{\"type\":\"histogram2dcontour\",\"colorbar\":{\"outlinewidth\":0,\"ticks\":\"\"},\"colorscale\":[[0.0,\"#0d0887\"],[0.1111111111111111,\"#46039f\"],[0.2222222222222222,\"#7201a8\"],[0.3333333333333333,\"#9c179e\"],[0.4444444444444444,\"#bd3786\"],[0.5555555555555556,\"#d8576b\"],[0.6666666666666666,\"#ed7953\"],[0.7777777777777778,\"#fb9f3a\"],[0.8888888888888888,\"#fdca26\"],[1.0,\"#f0f921\"]]}],\"choropleth\":[{\"type\":\"choropleth\",\"colorbar\":{\"outlinewidth\":0,\"ticks\":\"\"}}],\"histogram2d\":[{\"type\":\"histogram2d\",\"colorbar\":{\"outlinewidth\":0,\"ticks\":\"\"},\"colorscale\":[[0.0,\"#0d0887\"],[0.1111111111111111,\"#46039f\"],[0.2222222222222222,\"#7201a8\"],[0.3333333333333333,\"#9c179e\"],[0.4444444444444444,\"#bd3786\"],[0.5555555555555556,\"#d8576b\"],[0.6666666666666666,\"#ed7953\"],[0.7777777777777778,\"#fb9f3a\"],[0.8888888888888888,\"#fdca26\"],[1.0,\"#f0f921\"]]}],\"heatmap\":[{\"type\":\"heatmap\",\"colorbar\":{\"outlinewidth\":0,\"ticks\":\"\"},\"colorscale\":[[0.0,\"#0d0887\"],[0.1111111111111111,\"#46039f\"],[0.2222222222222222,\"#7201a8\"],[0.3333333333333333,\"#9c179e\"],[0.4444444444444444,\"#bd3786\"],[0.5555555555555556,\"#d8576b\"],[0.6666666666666666,\"#ed7953\"],[0.7777777777777778,\"#fb9f3a\"],[0.8888888888888888,\"#fdca26\"],[1.0,\"#f0f921\"]]}],\"heatmapgl\":[{\"type\":\"heatmapgl\",\"colorbar\":{\"outlinewidth\":0,\"ticks\":\"\"},\"colorscale\":[[0.0,\"#0d0887\"],[0.1111111111111111,\"#46039f\"],[0.2222222222222222,\"#7201a8\"],[0.3333333333333333,\"#9c179e\"],[0.4444444444444444,\"#bd3786\"],[0.5555555555555556,\"#d8576b\"],[0.6666666666666666,\"#ed7953\"],[0.7777777777777778,\"#fb9f3a\"],[0.8888888888888888,\"#fdca26\"],[1.0,\"#f0f921\"]]}],\"contourcarpet\":[{\"type\":\"contourcarpet\",\"colorbar\":{\"outlinewidth\":0,\"ticks\":\"\"}}],\"contour\":[{\"type\":\"contour\",\"colorbar\":{\"outlinewidth\":0,\"ticks\":\"\"},\"colorscale\":[[0.0,\"#0d0887\"],[0.1111111111111111,\"#46039f\"],[0.2222222222222222,\"#7201a8\"],[0.3333333333333333,\"#9c179e\"],[0.4444444444444444,\"#bd3786\"],[0.5555555555555556,\"#d8576b\"],[0.6666666666666666,\"#ed7953\"],[0.7777777777777778,\"#fb9f3a\"],[0.8888888888888888,\"#fdca26\"],[1.0,\"#f0f921\"]]}],\"surface\":[{\"type\":\"surface\",\"colorbar\":{\"outlinewidth\":0,\"ticks\":\"\"},\"colorscale\":[[0.0,\"#0d0887\"],[0.1111111111111111,\"#46039f\"],[0.2222222222222222,\"#7201a8\"],[0.3333333333333333,\"#9c179e\"],[0.4444444444444444,\"#bd3786\"],[0.5555555555555556,\"#d8576b\"],[0.6666666666666666,\"#ed7953\"],[0.7777777777777778,\"#fb9f3a\"],[0.8888888888888888,\"#fdca26\"],[1.0,\"#f0f921\"]]}],\"mesh3d\":[{\"type\":\"mesh3d\",\"colorbar\":{\"outlinewidth\":0,\"ticks\":\"\"}}],\"scatter\":[{\"fillpattern\":{\"fillmode\":\"overlay\",\"size\":10,\"solidity\":0.2},\"type\":\"scatter\"}],\"parcoords\":[{\"type\":\"parcoords\",\"line\":{\"colorbar\":{\"outlinewidth\":0,\"ticks\":\"\"}}}],\"scatterpolargl\":[{\"type\":\"scatterpolargl\",\"marker\":{\"colorbar\":{\"outlinewidth\":0,\"ticks\":\"\"}}}],\"bar\":[{\"error_x\":{\"color\":\"#2a3f5f\"},\"error_y\":{\"color\":\"#2a3f5f\"},\"marker\":{\"line\":{\"color\":\"#E5ECF6\",\"width\":0.5},\"pattern\":{\"fillmode\":\"overlay\",\"size\":10,\"solidity\":0.2}},\"type\":\"bar\"}],\"scattergeo\":[{\"type\":\"scattergeo\",\"marker\":{\"colorbar\":{\"outlinewidth\":0,\"ticks\":\"\"}}}],\"scatterpolar\":[{\"type\":\"scatterpolar\",\"marker\":{\"colorbar\":{\"outlinewidth\":0,\"ticks\":\"\"}}}],\"histogram\":[{\"marker\":{\"pattern\":{\"fillmode\":\"overlay\",\"size\":10,\"solidity\":0.2}},\"type\":\"histogram\"}],\"scattergl\":[{\"type\":\"scattergl\",\"marker\":{\"colorbar\":{\"outlinewidth\":0,\"ticks\":\"\"}}}],\"scatter3d\":[{\"type\":\"scatter3d\",\"line\":{\"colorbar\":{\"outlinewidth\":0,\"ticks\":\"\"}},\"marker\":{\"colorbar\":{\"outlinewidth\":0,\"ticks\":\"\"}}}],\"scattermapbox\":[{\"type\":\"scattermapbox\",\"marker\":{\"colorbar\":{\"outlinewidth\":0,\"ticks\":\"\"}}}],\"scatterternary\":[{\"type\":\"scatterternary\",\"marker\":{\"colorbar\":{\"outlinewidth\":0,\"ticks\":\"\"}}}],\"scattercarpet\":[{\"type\":\"scattercarpet\",\"marker\":{\"colorbar\":{\"outlinewidth\":0,\"ticks\":\"\"}}}],\"carpet\":[{\"aaxis\":{\"endlinecolor\":\"#2a3f5f\",\"gridcolor\":\"white\",\"linecolor\":\"white\",\"minorgridcolor\":\"white\",\"startlinecolor\":\"#2a3f5f\"},\"baxis\":{\"endlinecolor\":\"#2a3f5f\",\"gridcolor\":\"white\",\"linecolor\":\"white\",\"minorgridcolor\":\"white\",\"startlinecolor\":\"#2a3f5f\"},\"type\":\"carpet\"}],\"table\":[{\"cells\":{\"fill\":{\"color\":\"#EBF0F8\"},\"line\":{\"color\":\"white\"}},\"header\":{\"fill\":{\"color\":\"#C8D4E3\"},\"line\":{\"color\":\"white\"}},\"type\":\"table\"}],\"barpolar\":[{\"marker\":{\"line\":{\"color\":\"#E5ECF6\",\"width\":0.5},\"pattern\":{\"fillmode\":\"overlay\",\"size\":10,\"solidity\":0.2}},\"type\":\"barpolar\"}],\"pie\":[{\"automargin\":true,\"type\":\"pie\"}]},\"layout\":{\"autotypenumbers\":\"strict\",\"colorway\":[\"#636efa\",\"#EF553B\",\"#00cc96\",\"#ab63fa\",\"#FFA15A\",\"#19d3f3\",\"#FF6692\",\"#B6E880\",\"#FF97FF\",\"#FECB52\"],\"font\":{\"color\":\"#2a3f5f\"},\"hovermode\":\"closest\",\"hoverlabel\":{\"align\":\"left\"},\"paper_bgcolor\":\"white\",\"plot_bgcolor\":\"#E5ECF6\",\"polar\":{\"bgcolor\":\"#E5ECF6\",\"angularaxis\":{\"gridcolor\":\"white\",\"linecolor\":\"white\",\"ticks\":\"\"},\"radialaxis\":{\"gridcolor\":\"white\",\"linecolor\":\"white\",\"ticks\":\"\"}},\"ternary\":{\"bgcolor\":\"#E5ECF6\",\"aaxis\":{\"gridcolor\":\"white\",\"linecolor\":\"white\",\"ticks\":\"\"},\"baxis\":{\"gridcolor\":\"white\",\"linecolor\":\"white\",\"ticks\":\"\"},\"caxis\":{\"gridcolor\":\"white\",\"linecolor\":\"white\",\"ticks\":\"\"}},\"coloraxis\":{\"colorbar\":{\"outlinewidth\":0,\"ticks\":\"\"}},\"colorscale\":{\"sequential\":[[0.0,\"#0d0887\"],[0.1111111111111111,\"#46039f\"],[0.2222222222222222,\"#7201a8\"],[0.3333333333333333,\"#9c179e\"],[0.4444444444444444,\"#bd3786\"],[0.5555555555555556,\"#d8576b\"],[0.6666666666666666,\"#ed7953\"],[0.7777777777777778,\"#fb9f3a\"],[0.8888888888888888,\"#fdca26\"],[1.0,\"#f0f921\"]],\"sequentialminus\":[[0.0,\"#0d0887\"],[0.1111111111111111,\"#46039f\"],[0.2222222222222222,\"#7201a8\"],[0.3333333333333333,\"#9c179e\"],[0.4444444444444444,\"#bd3786\"],[0.5555555555555556,\"#d8576b\"],[0.6666666666666666,\"#ed7953\"],[0.7777777777777778,\"#fb9f3a\"],[0.8888888888888888,\"#fdca26\"],[1.0,\"#f0f921\"]],\"diverging\":[[0,\"#8e0152\"],[0.1,\"#c51b7d\"],[0.2,\"#de77ae\"],[0.3,\"#f1b6da\"],[0.4,\"#fde0ef\"],[0.5,\"#f7f7f7\"],[0.6,\"#e6f5d0\"],[0.7,\"#b8e186\"],[0.8,\"#7fbc41\"],[0.9,\"#4d9221\"],[1,\"#276419\"]]},\"xaxis\":{\"gridcolor\":\"white\",\"linecolor\":\"white\",\"ticks\":\"\",\"title\":{\"standoff\":15},\"zerolinecolor\":\"white\",\"automargin\":true,\"zerolinewidth\":2},\"yaxis\":{\"gridcolor\":\"white\",\"linecolor\":\"white\",\"ticks\":\"\",\"title\":{\"standoff\":15},\"zerolinecolor\":\"white\",\"automargin\":true,\"zerolinewidth\":2},\"scene\":{\"xaxis\":{\"backgroundcolor\":\"#E5ECF6\",\"gridcolor\":\"white\",\"linecolor\":\"white\",\"showbackground\":true,\"ticks\":\"\",\"zerolinecolor\":\"white\",\"gridwidth\":2},\"yaxis\":{\"backgroundcolor\":\"#E5ECF6\",\"gridcolor\":\"white\",\"linecolor\":\"white\",\"showbackground\":true,\"ticks\":\"\",\"zerolinecolor\":\"white\",\"gridwidth\":2},\"zaxis\":{\"backgroundcolor\":\"#E5ECF6\",\"gridcolor\":\"white\",\"linecolor\":\"white\",\"showbackground\":true,\"ticks\":\"\",\"zerolinecolor\":\"white\",\"gridwidth\":2}},\"shapedefaults\":{\"line\":{\"color\":\"#2a3f5f\"}},\"annotationdefaults\":{\"arrowcolor\":\"#2a3f5f\",\"arrowhead\":0,\"arrowwidth\":1},\"geo\":{\"bgcolor\":\"white\",\"landcolor\":\"#E5ECF6\",\"subunitcolor\":\"white\",\"showland\":true,\"showlakes\":true,\"lakecolor\":\"white\"},\"title\":{\"x\":0.05},\"mapbox\":{\"style\":\"light\"}}},\"xaxis\":{\"anchor\":\"y\",\"domain\":[0.0,1.0],\"title\":{\"text\":\"emissions\"}},\"yaxis\":{\"anchor\":\"x\",\"domain\":[0.0,1.0],\"title\":{\"text\":\"segment\"}},\"legend\":{\"title\":{\"text\":\"reason\"},\"tracegroupgap\":0},\"margin\":{\"t\":60},\"barmode\":\"relative\"},                        {\"responsive\": true}                    ).then(function(){\n",
       "                            \n",
       "var gd = document.getElementById('6fbdc2ec-a1f1-4524-b0bf-853dcdf8d794');\n",
       "var x = new MutationObserver(function (mutations, observer) {{\n",
       "        var display = window.getComputedStyle(gd).display;\n",
       "        if (!display || display === 'none') {{\n",
       "            console.log([gd, 'removed!']);\n",
       "            Plotly.purge(gd);\n",
       "            observer.disconnect();\n",
       "        }}\n",
       "}});\n",
       "\n",
       "// Listen for the removal of the full notebook cells\n",
       "var notebookContainer = gd.closest('#notebook-container');\n",
       "if (notebookContainer) {{\n",
       "    x.observe(notebookContainer, {childList: true});\n",
       "}}\n",
       "\n",
       "// Listen for the clearing of the current output cell\n",
       "var outputEl = gd.closest('.output');\n",
       "if (outputEl) {{\n",
       "    x.observe(outputEl, {childList: true});\n",
       "}}\n",
       "\n",
       "                        })                };                });            </script>        </div>"
      ]
     },
     "metadata": {},
     "output_type": "display_data"
    }
   ],
   "source": [
    "#segment and Reason vs Emissions\n",
    "px.bar(temp3,x='emissions',y='segment',color='reason')"
   ]
  },
  {
   "cell_type": "code",
   "execution_count": null,
   "id": "447f3688",
   "metadata": {
    "papermill": {
     "duration": 0.009134,
     "end_time": "2023-04-29T18:09:54.732749",
     "exception": false,
     "start_time": "2023-04-29T18:09:54.723615",
     "status": "completed"
    },
    "tags": []
   },
   "outputs": [],
   "source": []
  }
 ],
 "metadata": {
  "kernelspec": {
   "display_name": "Python 3",
   "language": "python",
   "name": "python3"
  },
  "language_info": {
   "codemirror_mode": {
    "name": "ipython",
    "version": 3
   },
   "file_extension": ".py",
   "mimetype": "text/x-python",
   "name": "python",
   "nbconvert_exporter": "python",
   "pygments_lexer": "ipython3",
   "version": "3.7.12"
  },
  "papermill": {
   "default_parameters": {},
   "duration": 16.12901,
   "end_time": "2023-04-29T18:09:55.565239",
   "environment_variables": {},
   "exception": null,
   "input_path": "__notebook__.ipynb",
   "output_path": "__notebook__.ipynb",
   "parameters": {},
   "start_time": "2023-04-29T18:09:39.436229",
   "version": "2.4.0"
  }
 },
 "nbformat": 4,
 "nbformat_minor": 5
}
