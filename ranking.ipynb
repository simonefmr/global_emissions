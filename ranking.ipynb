{
  "nbformat": 4,
  "nbformat_minor": 0,
  "metadata": {
    "colab": {
      "provenance": [],
      "toc_visible": true,
      "authorship_tag": "ABX9TyPZZtDRHqR0sywnERpkfeQ5",
      "include_colab_link": true
    },
    "kernelspec": {
      "name": "python3",
      "display_name": "Python 3"
    },
    "language_info": {
      "name": "python"
    }
  },
  "cells": [
    {
      "cell_type": "markdown",
      "metadata": {
        "id": "view-in-github",
        "colab_type": "text"
      },
      "source": [
        "<a href=\"https://colab.research.google.com/github/simonefmr/mvp_pucrio/blob/main/ranking.ipynb\" target=\"_parent\"><img src=\"https://colab.research.google.com/assets/colab-badge.svg\" alt=\"Open In Colab\"/></a>"
      ]
    },
    {
      "cell_type": "code",
      "execution_count": 171,
      "metadata": {
        "id": "VrG0esgmfhru"
      },
      "outputs": [],
      "source": []
    },
    {
      "cell_type": "markdown",
      "source": [
        "https://www3.bcb.gov.br/ranking/historico.do"
      ],
      "metadata": {
        "id": "lD53zieVfj5y"
      }
    },
    {
      "cell_type": "markdown",
      "source": [
        "# **Pós Graduação Ciência de Dados - PUC Rio**\n",
        "# **MVP Sprint I: Análise de Dados e Boas Práticas**\n",
        "## Aluna: Simone de Fátima Marques Ramos"
      ],
      "metadata": {
        "id": "XYhwDEg6Pdzx"
      }
    },
    {
      "cell_type": "markdown",
      "source": [
        "## **1. Introdução**\n",
        "\n",
        "O  Ranking Bacen é formado a partir das reclamações do público registradas nos canais de atendimento do Banco Central (BC): internet, correspondência, presencialmente ou telefone (145). As demandas são analisadas de forma amostral pelo BC.\n",
        "\n",
        "Participam do Ranking: bancos (comerciais, múltiplos, cooperativos, de investimentos), sociedades de crédito, financiamento e investimento (SCFI), instituições de pagamento e administradoras de consórcio.\n",
        "\n",
        "São divulgados três arquivos, no formato CSV, com os seguintes detalhamentos:\n",
        "\n",
        "I- Bancos e financeiras - Reclamações e quantidades de clientes por instituição financeira:\n",
        "Apresenta as quantidades de reclamações e clientes, por instituição financeira, referentes ao mês\n",
        "selecionado.\n",
        "\n",
        "II- Bancos e financeiras - Irregularidades por instituição financeira:\n",
        "Apresenta as quantidades de reclamações, por irregularidade e instituição financeira, referentes ao\n",
        "mês selecionado.\n",
        "\n",
        "III- Bancos e financeiras - Tabela de irregularidades:\n",
        "Apresenta a tabela de irregularidades referente ao mês selecionado.\n",
        "\n",
        "Neste projeto, irei abordar apenas os dados das Irregularidades por instituição financeira (II)."
      ],
      "metadata": {
        "id": "XRImLIgNgLOZ"
      }
    },
    {
      "cell_type": "markdown",
      "source": [
        "### **1.1. Problema de aprendizado supervisionado ou não supervisionado e Hipóteses sobre o problema**\n",
        "\n",
        "Fazem parte do ranking as reclamações que foram analisadas e encerradas como:\n",
        "\n",
        "Reclamações reguladas procedentes: casos em que houve sinal de descumprimento de lei ou norma pela instituição financeira no período indicado.\n",
        "Reclamações reguladas – outras: casos em que não houve sinal de descumprimento de lei ou norma pela instituição financeira no período indicado (inclui as reclamações encerradas como improcedentes e não conclusivas).\n",
        "Reclamações não reguladas: casos que não são tratados por lei ou norma expedida pelo Banco Central e não são sujeitos a sua supervisão.\n",
        "Total de reclamações: total de reclamações reguladas procedentes, reclamações reguladas – outras e reclamações não reguladas.\n",
        "\n",
        "Neste projeto analizarei apenas o **primeiro trimestre de 2023**. Sem base histórica, trataremos como um problema de **aprendizado não supervisionado**, sendo o objetivo entender as possíveis relações entre os dados apresentados."
      ],
      "metadata": {
        "id": "pKxheYHrgLZ0"
      }
    },
    {
      "cell_type": "markdown",
      "source": [
        "### **1.2. Definição do Problema** \n",
        "\n",
        "\n",
        "O alto índice de reclamações ou reincidência das mesmas, podem levar o Banco Central a multar as instituições financeiras ou aplicar outras ferramentas de supervisão, como termos de compromisso, acordos de leniência, e medidas coercitivas e acautelatórias.\n",
        "\n",
        "As instituições são classificadas pela ordem decrescente do índice de reclamações, ou seja, da mais reclamada para a menos reclamada.\n",
        "\n",
        "As Reclamações reguladas – outras e as Reclamações não reguladas são divulgadas, porém não influenciam na posição das instituições no ranking.\n",
        "\n",
        "No processo de análise, pode ser identificada mais de uma irregularidade para uma mesma reclamação. Nesse caso, cada irregularidade conta como uma ocorrência para cálculo do Ranking de Reclamações.\n",
        "\n",
        "Tentar entender as origens das reclamações é essencial para monitoramento do correto funcionamento do sistema financeiro pelo Bacen, assim como pelas instituições financeiras, que buscam atendimento de qualidade e não desejam ter suas atividades limitadas ou restritas por força de sanção."
      ],
      "metadata": {
        "id": "oN9ciXUngeCX"
      }
    },
    {
      "cell_type": "markdown",
      "source": [
        "## **2. Importação de pacotes e bibliotecas**"
      ],
      "metadata": {
        "id": "qVyNwmyvgLc_"
      }
    },
    {
      "cell_type": "code",
      "source": [
        "# Importando bibliotecas e pacotes que serão utilizados na análise\n",
        "\n",
        "# Importação de Bibliotecas\n",
        "import pandas as pd\n",
        "import numpy as np\n",
        "import glob\n",
        "import seaborn as sns\n",
        "import statistics\n",
        "import matplotlib.pyplot as plt\n",
        "import matplotlib as mpl\n",
        "from matplotlib.patches import Patch, Polygon\n",
        "from matplotlib.lines import Line2D\n",
        "import plotly.express as px\n",
        "from pandas import set_option\n",
        "from pandas.plotting import scatter_matrix\n",
        "\n",
        "from IPython.utils.sysinfo import encoding\n",
        "\n",
        "# para tratamento de data\n",
        "import datetime\n",
        "\n",
        "# para tratamento de missings\n",
        "import missingno as ms \n",
        "\n",
        "# Configuração para não exibir os warnings\n",
        "import warnings\n",
        "warnings.filterwarnings(\"ignore\")\n",
        "\n",
        "## transformações numéricas\n",
        "from sklearn.preprocessing import MinMaxScaler # para normalização\n",
        "from sklearn.preprocessing import StandardScaler # para padronização\n",
        "\n",
        "## transformações categóricas\n",
        "from sklearn.preprocessing import OneHotEncoder\n",
        "from sklearn.preprocessing import OrdinalEncoder"
      ],
      "metadata": {
        "id": "WqEg-Kbpz-UP"
      },
      "execution_count": 172,
      "outputs": []
    },
    {
      "cell_type": "code",
      "source": [
        "# Versões das Bibliotecas utilizadas\n",
        "\n",
        "pd_pd = pd.__version__\n",
        "np_np = np.__version__\n",
        "sns_sns = sns.__version__\n",
        "\n",
        "print('Versões utilizadas na análise:')\n",
        "print('Pandas = '+pd_pd)\n",
        "print('Numpy = '+np_np)\n",
        "print('Seaborn = '+sns_sns)"
      ],
      "metadata": {
        "colab": {
          "base_uri": "https://localhost:8080/"
        },
        "id": "AftRnx6N0GuH",
        "outputId": "b7b68682-2a2c-481c-b985-0f53cb8b82a1"
      },
      "execution_count": 173,
      "outputs": [
        {
          "output_type": "stream",
          "name": "stdout",
          "text": [
            "Versões utilizadas na análise:\n",
            "Pandas = 1.5.3\n",
            "Numpy = 1.22.4\n",
            "Seaborn = 0.12.2\n"
          ]
        }
      ]
    },
    {
      "cell_type": "markdown",
      "source": [
        "## **3. Carregamento dos dados**\n",
        "\n",
        "Os dados estão disponíveis no site do Banco Central e são publicados desde 2014. \n",
        "O relatório trimestral é divulgado no formato CSV, disponível para download, não sendo possível sua consulta direta no site. \n",
        "\n",
        "https://www3.bcb.gov.br/ranking/historico.do\n"
      ],
      "metadata": {
        "id": "Lloyb_80gLf8"
      }
    },
    {
      "cell_type": "code",
      "source": [
        "# Definindo a url dos dados\n",
        "\n",
        "url = 'https://raw.githubusercontent.com/simonefmr/teste/main/ranking_irregularidades.csv'"
      ],
      "metadata": {
        "id": "pMbA_-Ee0KG5"
      },
      "execution_count": 174,
      "outputs": []
    },
    {
      "cell_type": "code",
      "source": [
        "# Carregando o dataset através da url do github\n",
        "\n",
        "df = pd.read_csv(url, sep=';', encoding='ISO-8859-1')"
      ],
      "metadata": {
        "id": "hchA9mjL1EEg"
      },
      "execution_count": 175,
      "outputs": []
    },
    {
      "cell_type": "markdown",
      "source": [
        "### **3.1. Condições ou restrições impostas para selecionar os dados**\n",
        "\n",
        "Não houve dificuldade de carregamento dos dados. Foi preciso ajustar o separador e o encoding para correta leitura do dataset."
      ],
      "metadata": {
        "id": "gNLm-mExgLi8"
      }
    },
    {
      "cell_type": "markdown",
      "source": [
        "### **3.2. Definição dos atributos**"
      ],
      "metadata": {
        "id": "8adPE9XCgLl8"
      }
    },
    {
      "cell_type": "code",
      "source": [
        "# labels dos atributos do dataset\n",
        "\n",
        "df.columns"
      ],
      "metadata": {
        "colab": {
          "base_uri": "https://localhost:8080/"
        },
        "id": "1Gr7d7ij3jhr",
        "outputId": "e0937a17-f67a-4acd-c44b-83cfe974f7d8"
      },
      "execution_count": 176,
      "outputs": [
        {
          "output_type": "execute_result",
          "data": {
            "text/plain": [
              "Index(['Ano', 'Trimestre', 'Categoria', 'Tipo', 'CNPJ IF',\n",
              "       'Instituição financeira', 'Irregularidade',\n",
              "       'Quantidade de reclamações reguladas procedentes',\n",
              "       'Quantidade de reclamações reguladas - outras',\n",
              "       'Quantidade de reclamações não reguladas',\n",
              "       'Quantidade total de reclamações', 'Unnamed: 11'],\n",
              "      dtype='object')"
            ]
          },
          "metadata": {},
          "execution_count": 176
        }
      ]
    },
    {
      "cell_type": "markdown",
      "source": [
        "**Definindo o que cada atributo representa**\n",
        "\n",
        "**Ano:** Ano de referência.\n",
        "\n",
        "**Trimestre:** Trimestre de referência\n",
        "\n",
        "**Categoria Listagem do ranking:** Mais de dois milhões de clientes ou Menos de dois milhões de clientes.\n",
        "\n",
        "**Tipo:** Tipo de instituição: Bancos e financeiras ou\n",
        "Conglomerados.\n",
        "\n",
        "**CNPJ IF:** CNPJ da instituição financeira (para bancos e financeiras). *Para conglomerados, esse campo não é preenchido.*\n",
        "\n",
        "**Instituição financeira:** Nome da instituição financeira ou do conglomerado.\n",
        "\n",
        "**Irregularidade:** Nome da irregularidade.\n",
        "\n",
        "**Quantidade de reclamações reguladas procedentes:** Quantidade de reclamações reguladas procedentes,\n",
        "associadas à irregularidade, encerradas no mês de\n",
        "referência.\n",
        "\n",
        "**Quantidade de reclamações reguladas - outras:** Quantidade de reclamações reguladas – outras, associadas à irregularidade, encerradas no mês de referência (Não procedentes).\n",
        "\n",
        "**Quantidade de reclamações não reguladas:** Quantidade de reclamações não reguladas, associadas à irregularidade, encerradas no mês de referência (Irreguladas são reclamações que não tem base regulamentada ou que sua regulamentação não é de competência do Banco Central.\n",
        "\n",
        "**Quantidade total de reclamações:** Quantidade total de reclamações, associadas à irregularidade, encerradas no mês de referência."
      ],
      "metadata": {
        "id": "KI60qLUq3oN3"
      }
    },
    {
      "cell_type": "markdown",
      "source": [
        "## **4. Análise de Dados**"
      ],
      "metadata": {
        "id": "8cqbAd99gLoz"
      }
    },
    {
      "cell_type": "markdown",
      "source": [
        "### **4.1. Limpeza preliminar dos dados**"
      ],
      "metadata": {
        "id": "d4hN4DZhgLr0"
      }
    },
    {
      "cell_type": "code",
      "source": [
        "# Eliminando a coluna \"Unnamed\" que não possui dados\n",
        "\n",
        "df.drop(columns=['Unnamed: 11'], inplace=True)"
      ],
      "metadata": {
        "id": "6swXh5In6ZOz"
      },
      "execution_count": 177,
      "outputs": []
    },
    {
      "cell_type": "code",
      "source": [
        "# Busco informações sobre contagem de não nulos e tipo de cada atributo\n",
        "\n",
        "df.info()"
      ],
      "metadata": {
        "colab": {
          "base_uri": "https://localhost:8080/"
        },
        "id": "fg5upg8_6lvE",
        "outputId": "ab87f0f0-79a6-41a5-e7a5-5b2272fb7c7c"
      },
      "execution_count": 178,
      "outputs": [
        {
          "output_type": "stream",
          "name": "stdout",
          "text": [
            "<class 'pandas.core.frame.DataFrame'>\n",
            "RangeIndex: 3515 entries, 0 to 3514\n",
            "Data columns (total 11 columns):\n",
            " #   Column                                           Non-Null Count  Dtype \n",
            "---  ------                                           --------------  ----- \n",
            " 0   Ano                                              3515 non-null   int64 \n",
            " 1   Trimestre                                        3515 non-null   object\n",
            " 2   Categoria                                        3515 non-null   object\n",
            " 3   Tipo                                             3515 non-null   object\n",
            " 4   CNPJ IF                                          3515 non-null   object\n",
            " 5   Instituição financeira                           3515 non-null   object\n",
            " 6   Irregularidade                                   3515 non-null   object\n",
            " 7   Quantidade de reclamações reguladas procedentes  3515 non-null   int64 \n",
            " 8   Quantidade de reclamações reguladas - outras     3515 non-null   int64 \n",
            " 9   Quantidade de reclamações não reguladas          3515 non-null   int64 \n",
            " 10  Quantidade total de reclamações                  3515 non-null   int64 \n",
            "dtypes: int64(5), object(6)\n",
            "memory usage: 302.2+ KB\n"
          ]
        }
      ]
    },
    {
      "cell_type": "code",
      "source": [
        "# Vamos excluir as colunas \"Tipo\" e \"CNPJ IF\" pois não apresentam dados\n",
        "# relevantes para a análise\n",
        "\n",
        "df.drop(columns=['Tipo', 'CNPJ IF'], inplace=True)"
      ],
      "metadata": {
        "id": "uuc24Mnd8iGF"
      },
      "execution_count": 179,
      "outputs": []
    },
    {
      "cell_type": "code",
      "source": [
        "# Classificando a coluna \"Ano\" como data\n",
        "\n",
        "df['Ano'] = pd.to_datetime(df['Ano'], format='%Y')\n",
        "df.dtypes"
      ],
      "metadata": {
        "colab": {
          "base_uri": "https://localhost:8080/"
        },
        "id": "_Ti1Kzor_zdI",
        "outputId": "cd08dd09-7911-4001-c594-c0070370f35a"
      },
      "execution_count": 180,
      "outputs": [
        {
          "output_type": "execute_result",
          "data": {
            "text/plain": [
              "Ano                                                datetime64[ns]\n",
              "Trimestre                                                  object\n",
              "Categoria                                                  object\n",
              "Instituição financeira                                     object\n",
              "Irregularidade                                             object\n",
              "Quantidade de reclamações reguladas procedentes             int64\n",
              "Quantidade de reclamações reguladas - outras                int64\n",
              "Quantidade de reclamações não reguladas                     int64\n",
              "Quantidade total de reclamações                             int64\n",
              "dtype: object"
            ]
          },
          "metadata": {},
          "execution_count": 180
        }
      ]
    },
    {
      "cell_type": "code",
      "source": [
        "# Exibindo as primeiras linhas verifico que o dataset foi carregado corretamente\n",
        "\n",
        "df.head()"
      ],
      "metadata": {
        "colab": {
          "base_uri": "https://localhost:8080/",
          "height": 753
        },
        "id": "h-iusPtJ6rIU",
        "outputId": "871c280c-01c8-4468-ebd7-c9863d6f9367"
      },
      "execution_count": 181,
      "outputs": [
        {
          "output_type": "execute_result",
          "data": {
            "text/plain": [
              "         Ano Trimestre                                          Categoria  \\\n",
              "0 2023-01-01        1º  Demais Bancos, Financeiras e Instituições de P...   \n",
              "1 2023-01-01        1º  Demais Bancos, Financeiras e Instituições de P...   \n",
              "2 2023-01-01        1º  Demais Bancos, Financeiras e Instituições de P...   \n",
              "3 2023-01-01        1º  Demais Bancos, Financeiras e Instituições de P...   \n",
              "4 2023-01-01        1º  Demais Bancos, Financeiras e Instituições de P...   \n",
              "\n",
              "      Instituição financeira  \\\n",
              "0  ABC-BRASIL (conglomerado)   \n",
              "1  ABC-BRASIL (conglomerado)   \n",
              "2  ABC-BRASIL (conglomerado)   \n",
              "3  ABC-BRASIL (conglomerado)   \n",
              "4  ABC-BRASIL (conglomerado)   \n",
              "\n",
              "                                      Irregularidade  \\\n",
              "0  Cobrança irregular de tarifa relacionada a con...   \n",
              "1  Débito em conta não autorizado pelo cliente, o...   \n",
              "2  Insatisfação com a resposta recebida da instit...   \n",
              "3  Insatisfação com o atendimento prestado pelo S...   \n",
              "4  Irregularidades relacionadas ao acompanhamento...   \n",
              "\n",
              "   Quantidade de reclamações reguladas procedentes  \\\n",
              "0                                                0   \n",
              "1                                                0   \n",
              "2                                                0   \n",
              "3                                                0   \n",
              "4                                                1   \n",
              "\n",
              "   Quantidade de reclamações reguladas - outras  \\\n",
              "0                                             1   \n",
              "1                                             1   \n",
              "2                                             2   \n",
              "3                                             0   \n",
              "4                                             0   \n",
              "\n",
              "   Quantidade de reclamações não reguladas  Quantidade total de reclamações  \n",
              "0                                        0                                1  \n",
              "1                                        0                                1  \n",
              "2                                        0                                2  \n",
              "3                                        1                                1  \n",
              "4                                        0                                1  "
            ],
            "text/html": [
              "\n",
              "  <div id=\"df-4daeebd1-447d-495e-afa6-56876929e8e9\">\n",
              "    <div class=\"colab-df-container\">\n",
              "      <div>\n",
              "<style scoped>\n",
              "    .dataframe tbody tr th:only-of-type {\n",
              "        vertical-align: middle;\n",
              "    }\n",
              "\n",
              "    .dataframe tbody tr th {\n",
              "        vertical-align: top;\n",
              "    }\n",
              "\n",
              "    .dataframe thead th {\n",
              "        text-align: right;\n",
              "    }\n",
              "</style>\n",
              "<table border=\"1\" class=\"dataframe\">\n",
              "  <thead>\n",
              "    <tr style=\"text-align: right;\">\n",
              "      <th></th>\n",
              "      <th>Ano</th>\n",
              "      <th>Trimestre</th>\n",
              "      <th>Categoria</th>\n",
              "      <th>Instituição financeira</th>\n",
              "      <th>Irregularidade</th>\n",
              "      <th>Quantidade de reclamações reguladas procedentes</th>\n",
              "      <th>Quantidade de reclamações reguladas - outras</th>\n",
              "      <th>Quantidade de reclamações não reguladas</th>\n",
              "      <th>Quantidade total de reclamações</th>\n",
              "    </tr>\n",
              "  </thead>\n",
              "  <tbody>\n",
              "    <tr>\n",
              "      <th>0</th>\n",
              "      <td>2023-01-01</td>\n",
              "      <td>1º</td>\n",
              "      <td>Demais Bancos, Financeiras e Instituições de P...</td>\n",
              "      <td>ABC-BRASIL (conglomerado)</td>\n",
              "      <td>Cobrança irregular de tarifa relacionada a con...</td>\n",
              "      <td>0</td>\n",
              "      <td>1</td>\n",
              "      <td>0</td>\n",
              "      <td>1</td>\n",
              "    </tr>\n",
              "    <tr>\n",
              "      <th>1</th>\n",
              "      <td>2023-01-01</td>\n",
              "      <td>1º</td>\n",
              "      <td>Demais Bancos, Financeiras e Instituições de P...</td>\n",
              "      <td>ABC-BRASIL (conglomerado)</td>\n",
              "      <td>Débito em conta não autorizado pelo cliente, o...</td>\n",
              "      <td>0</td>\n",
              "      <td>1</td>\n",
              "      <td>0</td>\n",
              "      <td>1</td>\n",
              "    </tr>\n",
              "    <tr>\n",
              "      <th>2</th>\n",
              "      <td>2023-01-01</td>\n",
              "      <td>1º</td>\n",
              "      <td>Demais Bancos, Financeiras e Instituições de P...</td>\n",
              "      <td>ABC-BRASIL (conglomerado)</td>\n",
              "      <td>Insatisfação com a resposta recebida da instit...</td>\n",
              "      <td>0</td>\n",
              "      <td>2</td>\n",
              "      <td>0</td>\n",
              "      <td>2</td>\n",
              "    </tr>\n",
              "    <tr>\n",
              "      <th>3</th>\n",
              "      <td>2023-01-01</td>\n",
              "      <td>1º</td>\n",
              "      <td>Demais Bancos, Financeiras e Instituições de P...</td>\n",
              "      <td>ABC-BRASIL (conglomerado)</td>\n",
              "      <td>Insatisfação com o atendimento prestado pelo S...</td>\n",
              "      <td>0</td>\n",
              "      <td>0</td>\n",
              "      <td>1</td>\n",
              "      <td>1</td>\n",
              "    </tr>\n",
              "    <tr>\n",
              "      <th>4</th>\n",
              "      <td>2023-01-01</td>\n",
              "      <td>1º</td>\n",
              "      <td>Demais Bancos, Financeiras e Instituições de P...</td>\n",
              "      <td>ABC-BRASIL (conglomerado)</td>\n",
              "      <td>Irregularidades relacionadas ao acompanhamento...</td>\n",
              "      <td>1</td>\n",
              "      <td>0</td>\n",
              "      <td>0</td>\n",
              "      <td>1</td>\n",
              "    </tr>\n",
              "  </tbody>\n",
              "</table>\n",
              "</div>\n",
              "      <button class=\"colab-df-convert\" onclick=\"convertToInteractive('df-4daeebd1-447d-495e-afa6-56876929e8e9')\"\n",
              "              title=\"Convert this dataframe to an interactive table.\"\n",
              "              style=\"display:none;\">\n",
              "        \n",
              "  <svg xmlns=\"http://www.w3.org/2000/svg\" height=\"24px\"viewBox=\"0 0 24 24\"\n",
              "       width=\"24px\">\n",
              "    <path d=\"M0 0h24v24H0V0z\" fill=\"none\"/>\n",
              "    <path d=\"M18.56 5.44l.94 2.06.94-2.06 2.06-.94-2.06-.94-.94-2.06-.94 2.06-2.06.94zm-11 1L8.5 8.5l.94-2.06 2.06-.94-2.06-.94L8.5 2.5l-.94 2.06-2.06.94zm10 10l.94 2.06.94-2.06 2.06-.94-2.06-.94-.94-2.06-.94 2.06-2.06.94z\"/><path d=\"M17.41 7.96l-1.37-1.37c-.4-.4-.92-.59-1.43-.59-.52 0-1.04.2-1.43.59L10.3 9.45l-7.72 7.72c-.78.78-.78 2.05 0 2.83L4 21.41c.39.39.9.59 1.41.59.51 0 1.02-.2 1.41-.59l7.78-7.78 2.81-2.81c.8-.78.8-2.07 0-2.86zM5.41 20L4 18.59l7.72-7.72 1.47 1.35L5.41 20z\"/>\n",
              "  </svg>\n",
              "      </button>\n",
              "      \n",
              "  <style>\n",
              "    .colab-df-container {\n",
              "      display:flex;\n",
              "      flex-wrap:wrap;\n",
              "      gap: 12px;\n",
              "    }\n",
              "\n",
              "    .colab-df-convert {\n",
              "      background-color: #E8F0FE;\n",
              "      border: none;\n",
              "      border-radius: 50%;\n",
              "      cursor: pointer;\n",
              "      display: none;\n",
              "      fill: #1967D2;\n",
              "      height: 32px;\n",
              "      padding: 0 0 0 0;\n",
              "      width: 32px;\n",
              "    }\n",
              "\n",
              "    .colab-df-convert:hover {\n",
              "      background-color: #E2EBFA;\n",
              "      box-shadow: 0px 1px 2px rgba(60, 64, 67, 0.3), 0px 1px 3px 1px rgba(60, 64, 67, 0.15);\n",
              "      fill: #174EA6;\n",
              "    }\n",
              "\n",
              "    [theme=dark] .colab-df-convert {\n",
              "      background-color: #3B4455;\n",
              "      fill: #D2E3FC;\n",
              "    }\n",
              "\n",
              "    [theme=dark] .colab-df-convert:hover {\n",
              "      background-color: #434B5C;\n",
              "      box-shadow: 0px 1px 3px 1px rgba(0, 0, 0, 0.15);\n",
              "      filter: drop-shadow(0px 1px 2px rgba(0, 0, 0, 0.3));\n",
              "      fill: #FFFFFF;\n",
              "    }\n",
              "  </style>\n",
              "\n",
              "      <script>\n",
              "        const buttonEl =\n",
              "          document.querySelector('#df-4daeebd1-447d-495e-afa6-56876929e8e9 button.colab-df-convert');\n",
              "        buttonEl.style.display =\n",
              "          google.colab.kernel.accessAllowed ? 'block' : 'none';\n",
              "\n",
              "        async function convertToInteractive(key) {\n",
              "          const element = document.querySelector('#df-4daeebd1-447d-495e-afa6-56876929e8e9');\n",
              "          const dataTable =\n",
              "            await google.colab.kernel.invokeFunction('convertToInteractive',\n",
              "                                                     [key], {});\n",
              "          if (!dataTable) return;\n",
              "\n",
              "          const docLinkHtml = 'Like what you see? Visit the ' +\n",
              "            '<a target=\"_blank\" href=https://colab.research.google.com/notebooks/data_table.ipynb>data table notebook</a>'\n",
              "            + ' to learn more about interactive tables.';\n",
              "          element.innerHTML = '';\n",
              "          dataTable['output_type'] = 'display_data';\n",
              "          await google.colab.output.renderOutput(dataTable, element);\n",
              "          const docLink = document.createElement('div');\n",
              "          docLink.innerHTML = docLinkHtml;\n",
              "          element.appendChild(docLink);\n",
              "        }\n",
              "      </script>\n",
              "    </div>\n",
              "  </div>\n",
              "  "
            ]
          },
          "metadata": {},
          "execution_count": 181
        }
      ]
    },
    {
      "cell_type": "code",
      "source": [
        "# Exibindo as últimas linhas\n",
        "\n",
        "df.tail()"
      ],
      "metadata": {
        "colab": {
          "base_uri": "https://localhost:8080/",
          "height": 753
        },
        "id": "zdUc2f0S6rLJ",
        "outputId": "d04da5ec-ccab-499f-ce3b-1ad19f799245"
      },
      "execution_count": 182,
      "outputs": [
        {
          "output_type": "execute_result",
          "data": {
            "text/plain": [
              "            Ano Trimestre                                          Categoria  \\\n",
              "3510 2023-01-01        1º  Demais Bancos, Financeiras e Instituições de P...   \n",
              "3511 2023-01-01        1º  Demais Bancos, Financeiras e Instituições de P...   \n",
              "3512 2023-01-01        1º  Demais Bancos, Financeiras e Instituições de P...   \n",
              "3513 2023-01-01        1º  Demais Bancos, Financeiras e Instituições de P...   \n",
              "3514 2023-01-01        1º  Demais Bancos, Financeiras e Instituições de P...   \n",
              "\n",
              "           Instituição financeira  \\\n",
              "3510  YAMAHA MOTOR (conglomerado)   \n",
              "3511  YAMAHA MOTOR (conglomerado)   \n",
              "3512  YAMAHA MOTOR (conglomerado)   \n",
              "3513  YAMAHA MOTOR (conglomerado)   \n",
              "3514  YAMAHA MOTOR (conglomerado)   \n",
              "\n",
              "                                         Irregularidade  \\\n",
              "3510  Irregularidades relacionadas ao fornecimento d...   \n",
              "3511  Irregularidades relacionadas ao fornecimento d...   \n",
              "3512  Irregularidades relativas a integridade, confi...   \n",
              "3513       Reclamações relacionadas a assuntos diversos   \n",
              "3514  Renegociação de dívida (exceto cartão de crédito)   \n",
              "\n",
              "      Quantidade de reclamações reguladas procedentes  \\\n",
              "3510                                                0   \n",
              "3511                                                0   \n",
              "3512                                                1   \n",
              "3513                                                0   \n",
              "3514                                                0   \n",
              "\n",
              "      Quantidade de reclamações reguladas - outras  \\\n",
              "3510                                             1   \n",
              "3511                                             2   \n",
              "3512                                             2   \n",
              "3513                                             0   \n",
              "3514                                             0   \n",
              "\n",
              "      Quantidade de reclamações não reguladas  Quantidade total de reclamações  \n",
              "3510                                        0                                1  \n",
              "3511                                        0                                2  \n",
              "3512                                        0                                3  \n",
              "3513                                        2                                2  \n",
              "3514                                        1                                1  "
            ],
            "text/html": [
              "\n",
              "  <div id=\"df-5c6f468b-7116-4a53-bfc3-c560252785e5\">\n",
              "    <div class=\"colab-df-container\">\n",
              "      <div>\n",
              "<style scoped>\n",
              "    .dataframe tbody tr th:only-of-type {\n",
              "        vertical-align: middle;\n",
              "    }\n",
              "\n",
              "    .dataframe tbody tr th {\n",
              "        vertical-align: top;\n",
              "    }\n",
              "\n",
              "    .dataframe thead th {\n",
              "        text-align: right;\n",
              "    }\n",
              "</style>\n",
              "<table border=\"1\" class=\"dataframe\">\n",
              "  <thead>\n",
              "    <tr style=\"text-align: right;\">\n",
              "      <th></th>\n",
              "      <th>Ano</th>\n",
              "      <th>Trimestre</th>\n",
              "      <th>Categoria</th>\n",
              "      <th>Instituição financeira</th>\n",
              "      <th>Irregularidade</th>\n",
              "      <th>Quantidade de reclamações reguladas procedentes</th>\n",
              "      <th>Quantidade de reclamações reguladas - outras</th>\n",
              "      <th>Quantidade de reclamações não reguladas</th>\n",
              "      <th>Quantidade total de reclamações</th>\n",
              "    </tr>\n",
              "  </thead>\n",
              "  <tbody>\n",
              "    <tr>\n",
              "      <th>3510</th>\n",
              "      <td>2023-01-01</td>\n",
              "      <td>1º</td>\n",
              "      <td>Demais Bancos, Financeiras e Instituições de P...</td>\n",
              "      <td>YAMAHA MOTOR (conglomerado)</td>\n",
              "      <td>Irregularidades relacionadas ao fornecimento d...</td>\n",
              "      <td>0</td>\n",
              "      <td>1</td>\n",
              "      <td>0</td>\n",
              "      <td>1</td>\n",
              "    </tr>\n",
              "    <tr>\n",
              "      <th>3511</th>\n",
              "      <td>2023-01-01</td>\n",
              "      <td>1º</td>\n",
              "      <td>Demais Bancos, Financeiras e Instituições de P...</td>\n",
              "      <td>YAMAHA MOTOR (conglomerado)</td>\n",
              "      <td>Irregularidades relacionadas ao fornecimento d...</td>\n",
              "      <td>0</td>\n",
              "      <td>2</td>\n",
              "      <td>0</td>\n",
              "      <td>2</td>\n",
              "    </tr>\n",
              "    <tr>\n",
              "      <th>3512</th>\n",
              "      <td>2023-01-01</td>\n",
              "      <td>1º</td>\n",
              "      <td>Demais Bancos, Financeiras e Instituições de P...</td>\n",
              "      <td>YAMAHA MOTOR (conglomerado)</td>\n",
              "      <td>Irregularidades relativas a integridade, confi...</td>\n",
              "      <td>1</td>\n",
              "      <td>2</td>\n",
              "      <td>0</td>\n",
              "      <td>3</td>\n",
              "    </tr>\n",
              "    <tr>\n",
              "      <th>3513</th>\n",
              "      <td>2023-01-01</td>\n",
              "      <td>1º</td>\n",
              "      <td>Demais Bancos, Financeiras e Instituições de P...</td>\n",
              "      <td>YAMAHA MOTOR (conglomerado)</td>\n",
              "      <td>Reclamações relacionadas a assuntos diversos</td>\n",
              "      <td>0</td>\n",
              "      <td>0</td>\n",
              "      <td>2</td>\n",
              "      <td>2</td>\n",
              "    </tr>\n",
              "    <tr>\n",
              "      <th>3514</th>\n",
              "      <td>2023-01-01</td>\n",
              "      <td>1º</td>\n",
              "      <td>Demais Bancos, Financeiras e Instituições de P...</td>\n",
              "      <td>YAMAHA MOTOR (conglomerado)</td>\n",
              "      <td>Renegociação de dívida (exceto cartão de crédito)</td>\n",
              "      <td>0</td>\n",
              "      <td>0</td>\n",
              "      <td>1</td>\n",
              "      <td>1</td>\n",
              "    </tr>\n",
              "  </tbody>\n",
              "</table>\n",
              "</div>\n",
              "      <button class=\"colab-df-convert\" onclick=\"convertToInteractive('df-5c6f468b-7116-4a53-bfc3-c560252785e5')\"\n",
              "              title=\"Convert this dataframe to an interactive table.\"\n",
              "              style=\"display:none;\">\n",
              "        \n",
              "  <svg xmlns=\"http://www.w3.org/2000/svg\" height=\"24px\"viewBox=\"0 0 24 24\"\n",
              "       width=\"24px\">\n",
              "    <path d=\"M0 0h24v24H0V0z\" fill=\"none\"/>\n",
              "    <path d=\"M18.56 5.44l.94 2.06.94-2.06 2.06-.94-2.06-.94-.94-2.06-.94 2.06-2.06.94zm-11 1L8.5 8.5l.94-2.06 2.06-.94-2.06-.94L8.5 2.5l-.94 2.06-2.06.94zm10 10l.94 2.06.94-2.06 2.06-.94-2.06-.94-.94-2.06-.94 2.06-2.06.94z\"/><path d=\"M17.41 7.96l-1.37-1.37c-.4-.4-.92-.59-1.43-.59-.52 0-1.04.2-1.43.59L10.3 9.45l-7.72 7.72c-.78.78-.78 2.05 0 2.83L4 21.41c.39.39.9.59 1.41.59.51 0 1.02-.2 1.41-.59l7.78-7.78 2.81-2.81c.8-.78.8-2.07 0-2.86zM5.41 20L4 18.59l7.72-7.72 1.47 1.35L5.41 20z\"/>\n",
              "  </svg>\n",
              "      </button>\n",
              "      \n",
              "  <style>\n",
              "    .colab-df-container {\n",
              "      display:flex;\n",
              "      flex-wrap:wrap;\n",
              "      gap: 12px;\n",
              "    }\n",
              "\n",
              "    .colab-df-convert {\n",
              "      background-color: #E8F0FE;\n",
              "      border: none;\n",
              "      border-radius: 50%;\n",
              "      cursor: pointer;\n",
              "      display: none;\n",
              "      fill: #1967D2;\n",
              "      height: 32px;\n",
              "      padding: 0 0 0 0;\n",
              "      width: 32px;\n",
              "    }\n",
              "\n",
              "    .colab-df-convert:hover {\n",
              "      background-color: #E2EBFA;\n",
              "      box-shadow: 0px 1px 2px rgba(60, 64, 67, 0.3), 0px 1px 3px 1px rgba(60, 64, 67, 0.15);\n",
              "      fill: #174EA6;\n",
              "    }\n",
              "\n",
              "    [theme=dark] .colab-df-convert {\n",
              "      background-color: #3B4455;\n",
              "      fill: #D2E3FC;\n",
              "    }\n",
              "\n",
              "    [theme=dark] .colab-df-convert:hover {\n",
              "      background-color: #434B5C;\n",
              "      box-shadow: 0px 1px 3px 1px rgba(0, 0, 0, 0.15);\n",
              "      filter: drop-shadow(0px 1px 2px rgba(0, 0, 0, 0.3));\n",
              "      fill: #FFFFFF;\n",
              "    }\n",
              "  </style>\n",
              "\n",
              "      <script>\n",
              "        const buttonEl =\n",
              "          document.querySelector('#df-5c6f468b-7116-4a53-bfc3-c560252785e5 button.colab-df-convert');\n",
              "        buttonEl.style.display =\n",
              "          google.colab.kernel.accessAllowed ? 'block' : 'none';\n",
              "\n",
              "        async function convertToInteractive(key) {\n",
              "          const element = document.querySelector('#df-5c6f468b-7116-4a53-bfc3-c560252785e5');\n",
              "          const dataTable =\n",
              "            await google.colab.kernel.invokeFunction('convertToInteractive',\n",
              "                                                     [key], {});\n",
              "          if (!dataTable) return;\n",
              "\n",
              "          const docLinkHtml = 'Like what you see? Visit the ' +\n",
              "            '<a target=\"_blank\" href=https://colab.research.google.com/notebooks/data_table.ipynb>data table notebook</a>'\n",
              "            + ' to learn more about interactive tables.';\n",
              "          element.innerHTML = '';\n",
              "          dataTable['output_type'] = 'display_data';\n",
              "          await google.colab.output.renderOutput(dataTable, element);\n",
              "          const docLink = document.createElement('div');\n",
              "          docLink.innerHTML = docLinkHtml;\n",
              "          element.appendChild(docLink);\n",
              "        }\n",
              "      </script>\n",
              "    </div>\n",
              "  </div>\n",
              "  "
            ]
          },
          "metadata": {},
          "execution_count": 182
        }
      ]
    },
    {
      "cell_type": "markdown",
      "source": [
        "### **4.2. Análise Descritiva**"
      ],
      "metadata": {
        "id": "mHsvgEtRgLuf"
      }
    },
    {
      "cell_type": "code",
      "source": [
        "# Verificando o formato do dataset\n",
        "\n",
        "df.shape"
      ],
      "metadata": {
        "colab": {
          "base_uri": "https://localhost:8080/"
        },
        "id": "9_-5S9X27FHq",
        "outputId": "82faa354-42cc-4ec3-bb4e-9baaee454b60"
      },
      "execution_count": 183,
      "outputs": [
        {
          "output_type": "execute_result",
          "data": {
            "text/plain": [
              "(3515, 9)"
            ]
          },
          "metadata": {},
          "execution_count": 183
        }
      ]
    },
    {
      "cell_type": "code",
      "source": [
        "# Resumo estatístico dos dados completos\n",
        "df.describe()"
      ],
      "metadata": {
        "colab": {
          "base_uri": "https://localhost:8080/",
          "height": 361
        },
        "id": "5LstQFZA6qTn",
        "outputId": "dd937047-6bd4-4ce6-b2a8-e375fa11550f"
      },
      "execution_count": 184,
      "outputs": [
        {
          "output_type": "execute_result",
          "data": {
            "text/plain": [
              "       Quantidade de reclamações reguladas procedentes  \\\n",
              "count                                      3515.000000   \n",
              "mean                                          5.427596   \n",
              "std                                          21.396468   \n",
              "min                                           0.000000   \n",
              "25%                                           0.000000   \n",
              "50%                                           1.000000   \n",
              "75%                                           2.000000   \n",
              "max                                         395.000000   \n",
              "\n",
              "       Quantidade de reclamações reguladas - outras  \\\n",
              "count                                   3515.000000   \n",
              "mean                                       8.357041   \n",
              "std                                       28.102944   \n",
              "min                                        0.000000   \n",
              "25%                                        0.000000   \n",
              "50%                                        1.000000   \n",
              "75%                                        4.000000   \n",
              "max                                      439.000000   \n",
              "\n",
              "       Quantidade de reclamações não reguladas  \\\n",
              "count                              3515.000000   \n",
              "mean                                  3.493883   \n",
              "std                                  19.324201   \n",
              "min                                   0.000000   \n",
              "25%                                   0.000000   \n",
              "50%                                   0.000000   \n",
              "75%                                   1.000000   \n",
              "max                                 401.000000   \n",
              "\n",
              "       Quantidade total de reclamações  \n",
              "count                      3515.000000  \n",
              "mean                         17.278521  \n",
              "std                          47.558424  \n",
              "min                           1.000000  \n",
              "25%                           1.000000  \n",
              "50%                           3.000000  \n",
              "75%                          10.000000  \n",
              "max                         810.000000  "
            ],
            "text/html": [
              "\n",
              "  <div id=\"df-23d1d4fe-c6db-4c54-9d9e-d409e74dad12\">\n",
              "    <div class=\"colab-df-container\">\n",
              "      <div>\n",
              "<style scoped>\n",
              "    .dataframe tbody tr th:only-of-type {\n",
              "        vertical-align: middle;\n",
              "    }\n",
              "\n",
              "    .dataframe tbody tr th {\n",
              "        vertical-align: top;\n",
              "    }\n",
              "\n",
              "    .dataframe thead th {\n",
              "        text-align: right;\n",
              "    }\n",
              "</style>\n",
              "<table border=\"1\" class=\"dataframe\">\n",
              "  <thead>\n",
              "    <tr style=\"text-align: right;\">\n",
              "      <th></th>\n",
              "      <th>Quantidade de reclamações reguladas procedentes</th>\n",
              "      <th>Quantidade de reclamações reguladas - outras</th>\n",
              "      <th>Quantidade de reclamações não reguladas</th>\n",
              "      <th>Quantidade total de reclamações</th>\n",
              "    </tr>\n",
              "  </thead>\n",
              "  <tbody>\n",
              "    <tr>\n",
              "      <th>count</th>\n",
              "      <td>3515.000000</td>\n",
              "      <td>3515.000000</td>\n",
              "      <td>3515.000000</td>\n",
              "      <td>3515.000000</td>\n",
              "    </tr>\n",
              "    <tr>\n",
              "      <th>mean</th>\n",
              "      <td>5.427596</td>\n",
              "      <td>8.357041</td>\n",
              "      <td>3.493883</td>\n",
              "      <td>17.278521</td>\n",
              "    </tr>\n",
              "    <tr>\n",
              "      <th>std</th>\n",
              "      <td>21.396468</td>\n",
              "      <td>28.102944</td>\n",
              "      <td>19.324201</td>\n",
              "      <td>47.558424</td>\n",
              "    </tr>\n",
              "    <tr>\n",
              "      <th>min</th>\n",
              "      <td>0.000000</td>\n",
              "      <td>0.000000</td>\n",
              "      <td>0.000000</td>\n",
              "      <td>1.000000</td>\n",
              "    </tr>\n",
              "    <tr>\n",
              "      <th>25%</th>\n",
              "      <td>0.000000</td>\n",
              "      <td>0.000000</td>\n",
              "      <td>0.000000</td>\n",
              "      <td>1.000000</td>\n",
              "    </tr>\n",
              "    <tr>\n",
              "      <th>50%</th>\n",
              "      <td>1.000000</td>\n",
              "      <td>1.000000</td>\n",
              "      <td>0.000000</td>\n",
              "      <td>3.000000</td>\n",
              "    </tr>\n",
              "    <tr>\n",
              "      <th>75%</th>\n",
              "      <td>2.000000</td>\n",
              "      <td>4.000000</td>\n",
              "      <td>1.000000</td>\n",
              "      <td>10.000000</td>\n",
              "    </tr>\n",
              "    <tr>\n",
              "      <th>max</th>\n",
              "      <td>395.000000</td>\n",
              "      <td>439.000000</td>\n",
              "      <td>401.000000</td>\n",
              "      <td>810.000000</td>\n",
              "    </tr>\n",
              "  </tbody>\n",
              "</table>\n",
              "</div>\n",
              "      <button class=\"colab-df-convert\" onclick=\"convertToInteractive('df-23d1d4fe-c6db-4c54-9d9e-d409e74dad12')\"\n",
              "              title=\"Convert this dataframe to an interactive table.\"\n",
              "              style=\"display:none;\">\n",
              "        \n",
              "  <svg xmlns=\"http://www.w3.org/2000/svg\" height=\"24px\"viewBox=\"0 0 24 24\"\n",
              "       width=\"24px\">\n",
              "    <path d=\"M0 0h24v24H0V0z\" fill=\"none\"/>\n",
              "    <path d=\"M18.56 5.44l.94 2.06.94-2.06 2.06-.94-2.06-.94-.94-2.06-.94 2.06-2.06.94zm-11 1L8.5 8.5l.94-2.06 2.06-.94-2.06-.94L8.5 2.5l-.94 2.06-2.06.94zm10 10l.94 2.06.94-2.06 2.06-.94-2.06-.94-.94-2.06-.94 2.06-2.06.94z\"/><path d=\"M17.41 7.96l-1.37-1.37c-.4-.4-.92-.59-1.43-.59-.52 0-1.04.2-1.43.59L10.3 9.45l-7.72 7.72c-.78.78-.78 2.05 0 2.83L4 21.41c.39.39.9.59 1.41.59.51 0 1.02-.2 1.41-.59l7.78-7.78 2.81-2.81c.8-.78.8-2.07 0-2.86zM5.41 20L4 18.59l7.72-7.72 1.47 1.35L5.41 20z\"/>\n",
              "  </svg>\n",
              "      </button>\n",
              "      \n",
              "  <style>\n",
              "    .colab-df-container {\n",
              "      display:flex;\n",
              "      flex-wrap:wrap;\n",
              "      gap: 12px;\n",
              "    }\n",
              "\n",
              "    .colab-df-convert {\n",
              "      background-color: #E8F0FE;\n",
              "      border: none;\n",
              "      border-radius: 50%;\n",
              "      cursor: pointer;\n",
              "      display: none;\n",
              "      fill: #1967D2;\n",
              "      height: 32px;\n",
              "      padding: 0 0 0 0;\n",
              "      width: 32px;\n",
              "    }\n",
              "\n",
              "    .colab-df-convert:hover {\n",
              "      background-color: #E2EBFA;\n",
              "      box-shadow: 0px 1px 2px rgba(60, 64, 67, 0.3), 0px 1px 3px 1px rgba(60, 64, 67, 0.15);\n",
              "      fill: #174EA6;\n",
              "    }\n",
              "\n",
              "    [theme=dark] .colab-df-convert {\n",
              "      background-color: #3B4455;\n",
              "      fill: #D2E3FC;\n",
              "    }\n",
              "\n",
              "    [theme=dark] .colab-df-convert:hover {\n",
              "      background-color: #434B5C;\n",
              "      box-shadow: 0px 1px 3px 1px rgba(0, 0, 0, 0.15);\n",
              "      filter: drop-shadow(0px 1px 2px rgba(0, 0, 0, 0.3));\n",
              "      fill: #FFFFFF;\n",
              "    }\n",
              "  </style>\n",
              "\n",
              "      <script>\n",
              "        const buttonEl =\n",
              "          document.querySelector('#df-23d1d4fe-c6db-4c54-9d9e-d409e74dad12 button.colab-df-convert');\n",
              "        buttonEl.style.display =\n",
              "          google.colab.kernel.accessAllowed ? 'block' : 'none';\n",
              "\n",
              "        async function convertToInteractive(key) {\n",
              "          const element = document.querySelector('#df-23d1d4fe-c6db-4c54-9d9e-d409e74dad12');\n",
              "          const dataTable =\n",
              "            await google.colab.kernel.invokeFunction('convertToInteractive',\n",
              "                                                     [key], {});\n",
              "          if (!dataTable) return;\n",
              "\n",
              "          const docLinkHtml = 'Like what you see? Visit the ' +\n",
              "            '<a target=\"_blank\" href=https://colab.research.google.com/notebooks/data_table.ipynb>data table notebook</a>'\n",
              "            + ' to learn more about interactive tables.';\n",
              "          element.innerHTML = '';\n",
              "          dataTable['output_type'] = 'display_data';\n",
              "          await google.colab.output.renderOutput(dataTable, element);\n",
              "          const docLink = document.createElement('div');\n",
              "          docLink.innerHTML = docLinkHtml;\n",
              "          element.appendChild(docLink);\n",
              "        }\n",
              "      </script>\n",
              "    </div>\n",
              "  </div>\n",
              "  "
            ]
          },
          "metadata": {},
          "execution_count": 184
        }
      ]
    },
    {
      "cell_type": "markdown",
      "source": [
        "De um total de 3.515 reclamações apuradas, a média por instituição foi de 17,27, sendo o maior número de 810 para uma mesma instituição.\n",
        "A média de reclamações procedentes foi de 5,42 por instituição e o maior valor observado foi de 395 para uma mesma instituição."
      ],
      "metadata": {
        "id": "6pgMcApb9GFH"
      }
    },
    {
      "cell_type": "code",
      "source": [
        "df['Categoria'].value_counts()"
      ],
      "metadata": {
        "colab": {
          "base_uri": "https://localhost:8080/"
        },
        "id": "fvCD1tGz90GI",
        "outputId": "185bb116-7936-42db-822d-b75f1668bf9c"
      },
      "execution_count": 185,
      "outputs": [
        {
          "output_type": "execute_result",
          "data": {
            "text/plain": [
              "Demais Bancos, Financeiras e Instituições de Pagamento      2198\n",
              "Top 15 - Bancos, Financeiras e Instituições de Pagamento    1317\n",
              "Name: Categoria, dtype: int64"
            ]
          },
          "metadata": {},
          "execution_count": 185
        }
      ]
    },
    {
      "cell_type": "code",
      "source": [
        "# Resumo estatístico das Top 15 Insitituições financeiras, de pagamento ou bancos\n",
        "\n",
        "df[df['Categoria']=='Top 15 - Bancos, Financeiras e Instituições de Pagamento'].describe()"
      ],
      "metadata": {
        "colab": {
          "base_uri": "https://localhost:8080/",
          "height": 361
        },
        "id": "Ndc6aoBaPtun",
        "outputId": "86574139-8ce5-4eb5-a9e7-2fac698bb392"
      },
      "execution_count": 186,
      "outputs": [
        {
          "output_type": "execute_result",
          "data": {
            "text/plain": [
              "       Quantidade de reclamações reguladas procedentes  \\\n",
              "count                                      1317.000000   \n",
              "mean                                         10.294609   \n",
              "std                                          29.942342   \n",
              "min                                           0.000000   \n",
              "25%                                           0.000000   \n",
              "50%                                           1.000000   \n",
              "75%                                           7.000000   \n",
              "max                                         395.000000   \n",
              "\n",
              "       Quantidade de reclamações reguladas - outras  \\\n",
              "count                                   1317.000000   \n",
              "mean                                      17.311314   \n",
              "std                                       42.570238   \n",
              "min                                        0.000000   \n",
              "25%                                        0.000000   \n",
              "50%                                        2.000000   \n",
              "75%                                       13.000000   \n",
              "max                                      439.000000   \n",
              "\n",
              "       Quantidade de reclamações não reguladas  \\\n",
              "count                              1317.000000   \n",
              "mean                                  7.675778   \n",
              "std                                  30.840512   \n",
              "min                                   0.000000   \n",
              "25%                                   0.000000   \n",
              "50%                                   0.000000   \n",
              "75%                                   1.000000   \n",
              "max                                 401.000000   \n",
              "\n",
              "       Quantidade total de reclamações  \n",
              "count                      1317.000000  \n",
              "mean                         35.281701  \n",
              "std                          69.800075  \n",
              "min                           1.000000  \n",
              "25%                           2.000000  \n",
              "50%                           8.000000  \n",
              "75%                          33.000000  \n",
              "max                         810.000000  "
            ],
            "text/html": [
              "\n",
              "  <div id=\"df-2eedd67c-8b78-44e7-bf00-16443dc05779\">\n",
              "    <div class=\"colab-df-container\">\n",
              "      <div>\n",
              "<style scoped>\n",
              "    .dataframe tbody tr th:only-of-type {\n",
              "        vertical-align: middle;\n",
              "    }\n",
              "\n",
              "    .dataframe tbody tr th {\n",
              "        vertical-align: top;\n",
              "    }\n",
              "\n",
              "    .dataframe thead th {\n",
              "        text-align: right;\n",
              "    }\n",
              "</style>\n",
              "<table border=\"1\" class=\"dataframe\">\n",
              "  <thead>\n",
              "    <tr style=\"text-align: right;\">\n",
              "      <th></th>\n",
              "      <th>Quantidade de reclamações reguladas procedentes</th>\n",
              "      <th>Quantidade de reclamações reguladas - outras</th>\n",
              "      <th>Quantidade de reclamações não reguladas</th>\n",
              "      <th>Quantidade total de reclamações</th>\n",
              "    </tr>\n",
              "  </thead>\n",
              "  <tbody>\n",
              "    <tr>\n",
              "      <th>count</th>\n",
              "      <td>1317.000000</td>\n",
              "      <td>1317.000000</td>\n",
              "      <td>1317.000000</td>\n",
              "      <td>1317.000000</td>\n",
              "    </tr>\n",
              "    <tr>\n",
              "      <th>mean</th>\n",
              "      <td>10.294609</td>\n",
              "      <td>17.311314</td>\n",
              "      <td>7.675778</td>\n",
              "      <td>35.281701</td>\n",
              "    </tr>\n",
              "    <tr>\n",
              "      <th>std</th>\n",
              "      <td>29.942342</td>\n",
              "      <td>42.570238</td>\n",
              "      <td>30.840512</td>\n",
              "      <td>69.800075</td>\n",
              "    </tr>\n",
              "    <tr>\n",
              "      <th>min</th>\n",
              "      <td>0.000000</td>\n",
              "      <td>0.000000</td>\n",
              "      <td>0.000000</td>\n",
              "      <td>1.000000</td>\n",
              "    </tr>\n",
              "    <tr>\n",
              "      <th>25%</th>\n",
              "      <td>0.000000</td>\n",
              "      <td>0.000000</td>\n",
              "      <td>0.000000</td>\n",
              "      <td>2.000000</td>\n",
              "    </tr>\n",
              "    <tr>\n",
              "      <th>50%</th>\n",
              "      <td>1.000000</td>\n",
              "      <td>2.000000</td>\n",
              "      <td>0.000000</td>\n",
              "      <td>8.000000</td>\n",
              "    </tr>\n",
              "    <tr>\n",
              "      <th>75%</th>\n",
              "      <td>7.000000</td>\n",
              "      <td>13.000000</td>\n",
              "      <td>1.000000</td>\n",
              "      <td>33.000000</td>\n",
              "    </tr>\n",
              "    <tr>\n",
              "      <th>max</th>\n",
              "      <td>395.000000</td>\n",
              "      <td>439.000000</td>\n",
              "      <td>401.000000</td>\n",
              "      <td>810.000000</td>\n",
              "    </tr>\n",
              "  </tbody>\n",
              "</table>\n",
              "</div>\n",
              "      <button class=\"colab-df-convert\" onclick=\"convertToInteractive('df-2eedd67c-8b78-44e7-bf00-16443dc05779')\"\n",
              "              title=\"Convert this dataframe to an interactive table.\"\n",
              "              style=\"display:none;\">\n",
              "        \n",
              "  <svg xmlns=\"http://www.w3.org/2000/svg\" height=\"24px\"viewBox=\"0 0 24 24\"\n",
              "       width=\"24px\">\n",
              "    <path d=\"M0 0h24v24H0V0z\" fill=\"none\"/>\n",
              "    <path d=\"M18.56 5.44l.94 2.06.94-2.06 2.06-.94-2.06-.94-.94-2.06-.94 2.06-2.06.94zm-11 1L8.5 8.5l.94-2.06 2.06-.94-2.06-.94L8.5 2.5l-.94 2.06-2.06.94zm10 10l.94 2.06.94-2.06 2.06-.94-2.06-.94-.94-2.06-.94 2.06-2.06.94z\"/><path d=\"M17.41 7.96l-1.37-1.37c-.4-.4-.92-.59-1.43-.59-.52 0-1.04.2-1.43.59L10.3 9.45l-7.72 7.72c-.78.78-.78 2.05 0 2.83L4 21.41c.39.39.9.59 1.41.59.51 0 1.02-.2 1.41-.59l7.78-7.78 2.81-2.81c.8-.78.8-2.07 0-2.86zM5.41 20L4 18.59l7.72-7.72 1.47 1.35L5.41 20z\"/>\n",
              "  </svg>\n",
              "      </button>\n",
              "      \n",
              "  <style>\n",
              "    .colab-df-container {\n",
              "      display:flex;\n",
              "      flex-wrap:wrap;\n",
              "      gap: 12px;\n",
              "    }\n",
              "\n",
              "    .colab-df-convert {\n",
              "      background-color: #E8F0FE;\n",
              "      border: none;\n",
              "      border-radius: 50%;\n",
              "      cursor: pointer;\n",
              "      display: none;\n",
              "      fill: #1967D2;\n",
              "      height: 32px;\n",
              "      padding: 0 0 0 0;\n",
              "      width: 32px;\n",
              "    }\n",
              "\n",
              "    .colab-df-convert:hover {\n",
              "      background-color: #E2EBFA;\n",
              "      box-shadow: 0px 1px 2px rgba(60, 64, 67, 0.3), 0px 1px 3px 1px rgba(60, 64, 67, 0.15);\n",
              "      fill: #174EA6;\n",
              "    }\n",
              "\n",
              "    [theme=dark] .colab-df-convert {\n",
              "      background-color: #3B4455;\n",
              "      fill: #D2E3FC;\n",
              "    }\n",
              "\n",
              "    [theme=dark] .colab-df-convert:hover {\n",
              "      background-color: #434B5C;\n",
              "      box-shadow: 0px 1px 3px 1px rgba(0, 0, 0, 0.15);\n",
              "      filter: drop-shadow(0px 1px 2px rgba(0, 0, 0, 0.3));\n",
              "      fill: #FFFFFF;\n",
              "    }\n",
              "  </style>\n",
              "\n",
              "      <script>\n",
              "        const buttonEl =\n",
              "          document.querySelector('#df-2eedd67c-8b78-44e7-bf00-16443dc05779 button.colab-df-convert');\n",
              "        buttonEl.style.display =\n",
              "          google.colab.kernel.accessAllowed ? 'block' : 'none';\n",
              "\n",
              "        async function convertToInteractive(key) {\n",
              "          const element = document.querySelector('#df-2eedd67c-8b78-44e7-bf00-16443dc05779');\n",
              "          const dataTable =\n",
              "            await google.colab.kernel.invokeFunction('convertToInteractive',\n",
              "                                                     [key], {});\n",
              "          if (!dataTable) return;\n",
              "\n",
              "          const docLinkHtml = 'Like what you see? Visit the ' +\n",
              "            '<a target=\"_blank\" href=https://colab.research.google.com/notebooks/data_table.ipynb>data table notebook</a>'\n",
              "            + ' to learn more about interactive tables.';\n",
              "          element.innerHTML = '';\n",
              "          dataTable['output_type'] = 'display_data';\n",
              "          await google.colab.output.renderOutput(dataTable, element);\n",
              "          const docLink = document.createElement('div');\n",
              "          docLink.innerHTML = docLinkHtml;\n",
              "          element.appendChild(docLink);\n",
              "        }\n",
              "      </script>\n",
              "    </div>\n",
              "  </div>\n",
              "  "
            ]
          },
          "metadata": {},
          "execution_count": 186
        }
      ]
    },
    {
      "cell_type": "code",
      "source": [
        "# Resumo estatístico das demais instituições\n",
        "\n",
        "df[df['Categoria']=='Demais Bancos, Financeiras e Instituições de Pagamento'].describe()"
      ],
      "metadata": {
        "colab": {
          "base_uri": "https://localhost:8080/",
          "height": 361
        },
        "id": "HTVhIl9f90Ji",
        "outputId": "96f23fbc-5949-4212-bc0c-d6d59cc7021b"
      },
      "execution_count": 187,
      "outputs": [
        {
          "output_type": "execute_result",
          "data": {
            "text/plain": [
              "       Quantidade de reclamações reguladas procedentes  \\\n",
              "count                                      2198.000000   \n",
              "mean                                          2.511374   \n",
              "std                                          13.134215   \n",
              "min                                           0.000000   \n",
              "25%                                           0.000000   \n",
              "50%                                           0.000000   \n",
              "75%                                           1.000000   \n",
              "max                                         296.000000   \n",
              "\n",
              "       Quantidade de reclamações reguladas - outras  \\\n",
              "count                                   2198.000000   \n",
              "mean                                       2.991811   \n",
              "std                                       10.041241   \n",
              "min                                        0.000000   \n",
              "25%                                        0.000000   \n",
              "50%                                        1.000000   \n",
              "75%                                        2.000000   \n",
              "max                                      256.000000   \n",
              "\n",
              "       Quantidade de reclamações não reguladas  \\\n",
              "count                              2198.000000   \n",
              "mean                                  0.988171   \n",
              "std                                   3.283432   \n",
              "min                                   0.000000   \n",
              "25%                                   0.000000   \n",
              "50%                                   0.000000   \n",
              "75%                                   1.000000   \n",
              "max                                  54.000000   \n",
              "\n",
              "       Quantidade total de reclamações  \n",
              "count                      2198.000000  \n",
              "mean                          6.491356  \n",
              "std                          19.712722  \n",
              "min                           1.000000  \n",
              "25%                           1.000000  \n",
              "50%                           2.000000  \n",
              "75%                           5.000000  \n",
              "max                         465.000000  "
            ],
            "text/html": [
              "\n",
              "  <div id=\"df-f9721dfe-6bc1-4395-a840-ff2f9600ee0d\">\n",
              "    <div class=\"colab-df-container\">\n",
              "      <div>\n",
              "<style scoped>\n",
              "    .dataframe tbody tr th:only-of-type {\n",
              "        vertical-align: middle;\n",
              "    }\n",
              "\n",
              "    .dataframe tbody tr th {\n",
              "        vertical-align: top;\n",
              "    }\n",
              "\n",
              "    .dataframe thead th {\n",
              "        text-align: right;\n",
              "    }\n",
              "</style>\n",
              "<table border=\"1\" class=\"dataframe\">\n",
              "  <thead>\n",
              "    <tr style=\"text-align: right;\">\n",
              "      <th></th>\n",
              "      <th>Quantidade de reclamações reguladas procedentes</th>\n",
              "      <th>Quantidade de reclamações reguladas - outras</th>\n",
              "      <th>Quantidade de reclamações não reguladas</th>\n",
              "      <th>Quantidade total de reclamações</th>\n",
              "    </tr>\n",
              "  </thead>\n",
              "  <tbody>\n",
              "    <tr>\n",
              "      <th>count</th>\n",
              "      <td>2198.000000</td>\n",
              "      <td>2198.000000</td>\n",
              "      <td>2198.000000</td>\n",
              "      <td>2198.000000</td>\n",
              "    </tr>\n",
              "    <tr>\n",
              "      <th>mean</th>\n",
              "      <td>2.511374</td>\n",
              "      <td>2.991811</td>\n",
              "      <td>0.988171</td>\n",
              "      <td>6.491356</td>\n",
              "    </tr>\n",
              "    <tr>\n",
              "      <th>std</th>\n",
              "      <td>13.134215</td>\n",
              "      <td>10.041241</td>\n",
              "      <td>3.283432</td>\n",
              "      <td>19.712722</td>\n",
              "    </tr>\n",
              "    <tr>\n",
              "      <th>min</th>\n",
              "      <td>0.000000</td>\n",
              "      <td>0.000000</td>\n",
              "      <td>0.000000</td>\n",
              "      <td>1.000000</td>\n",
              "    </tr>\n",
              "    <tr>\n",
              "      <th>25%</th>\n",
              "      <td>0.000000</td>\n",
              "      <td>0.000000</td>\n",
              "      <td>0.000000</td>\n",
              "      <td>1.000000</td>\n",
              "    </tr>\n",
              "    <tr>\n",
              "      <th>50%</th>\n",
              "      <td>0.000000</td>\n",
              "      <td>1.000000</td>\n",
              "      <td>0.000000</td>\n",
              "      <td>2.000000</td>\n",
              "    </tr>\n",
              "    <tr>\n",
              "      <th>75%</th>\n",
              "      <td>1.000000</td>\n",
              "      <td>2.000000</td>\n",
              "      <td>1.000000</td>\n",
              "      <td>5.000000</td>\n",
              "    </tr>\n",
              "    <tr>\n",
              "      <th>max</th>\n",
              "      <td>296.000000</td>\n",
              "      <td>256.000000</td>\n",
              "      <td>54.000000</td>\n",
              "      <td>465.000000</td>\n",
              "    </tr>\n",
              "  </tbody>\n",
              "</table>\n",
              "</div>\n",
              "      <button class=\"colab-df-convert\" onclick=\"convertToInteractive('df-f9721dfe-6bc1-4395-a840-ff2f9600ee0d')\"\n",
              "              title=\"Convert this dataframe to an interactive table.\"\n",
              "              style=\"display:none;\">\n",
              "        \n",
              "  <svg xmlns=\"http://www.w3.org/2000/svg\" height=\"24px\"viewBox=\"0 0 24 24\"\n",
              "       width=\"24px\">\n",
              "    <path d=\"M0 0h24v24H0V0z\" fill=\"none\"/>\n",
              "    <path d=\"M18.56 5.44l.94 2.06.94-2.06 2.06-.94-2.06-.94-.94-2.06-.94 2.06-2.06.94zm-11 1L8.5 8.5l.94-2.06 2.06-.94-2.06-.94L8.5 2.5l-.94 2.06-2.06.94zm10 10l.94 2.06.94-2.06 2.06-.94-2.06-.94-.94-2.06-.94 2.06-2.06.94z\"/><path d=\"M17.41 7.96l-1.37-1.37c-.4-.4-.92-.59-1.43-.59-.52 0-1.04.2-1.43.59L10.3 9.45l-7.72 7.72c-.78.78-.78 2.05 0 2.83L4 21.41c.39.39.9.59 1.41.59.51 0 1.02-.2 1.41-.59l7.78-7.78 2.81-2.81c.8-.78.8-2.07 0-2.86zM5.41 20L4 18.59l7.72-7.72 1.47 1.35L5.41 20z\"/>\n",
              "  </svg>\n",
              "      </button>\n",
              "      \n",
              "  <style>\n",
              "    .colab-df-container {\n",
              "      display:flex;\n",
              "      flex-wrap:wrap;\n",
              "      gap: 12px;\n",
              "    }\n",
              "\n",
              "    .colab-df-convert {\n",
              "      background-color: #E8F0FE;\n",
              "      border: none;\n",
              "      border-radius: 50%;\n",
              "      cursor: pointer;\n",
              "      display: none;\n",
              "      fill: #1967D2;\n",
              "      height: 32px;\n",
              "      padding: 0 0 0 0;\n",
              "      width: 32px;\n",
              "    }\n",
              "\n",
              "    .colab-df-convert:hover {\n",
              "      background-color: #E2EBFA;\n",
              "      box-shadow: 0px 1px 2px rgba(60, 64, 67, 0.3), 0px 1px 3px 1px rgba(60, 64, 67, 0.15);\n",
              "      fill: #174EA6;\n",
              "    }\n",
              "\n",
              "    [theme=dark] .colab-df-convert {\n",
              "      background-color: #3B4455;\n",
              "      fill: #D2E3FC;\n",
              "    }\n",
              "\n",
              "    [theme=dark] .colab-df-convert:hover {\n",
              "      background-color: #434B5C;\n",
              "      box-shadow: 0px 1px 3px 1px rgba(0, 0, 0, 0.15);\n",
              "      filter: drop-shadow(0px 1px 2px rgba(0, 0, 0, 0.3));\n",
              "      fill: #FFFFFF;\n",
              "    }\n",
              "  </style>\n",
              "\n",
              "      <script>\n",
              "        const buttonEl =\n",
              "          document.querySelector('#df-f9721dfe-6bc1-4395-a840-ff2f9600ee0d button.colab-df-convert');\n",
              "        buttonEl.style.display =\n",
              "          google.colab.kernel.accessAllowed ? 'block' : 'none';\n",
              "\n",
              "        async function convertToInteractive(key) {\n",
              "          const element = document.querySelector('#df-f9721dfe-6bc1-4395-a840-ff2f9600ee0d');\n",
              "          const dataTable =\n",
              "            await google.colab.kernel.invokeFunction('convertToInteractive',\n",
              "                                                     [key], {});\n",
              "          if (!dataTable) return;\n",
              "\n",
              "          const docLinkHtml = 'Like what you see? Visit the ' +\n",
              "            '<a target=\"_blank\" href=https://colab.research.google.com/notebooks/data_table.ipynb>data table notebook</a>'\n",
              "            + ' to learn more about interactive tables.';\n",
              "          element.innerHTML = '';\n",
              "          dataTable['output_type'] = 'display_data';\n",
              "          await google.colab.output.renderOutput(dataTable, element);\n",
              "          const docLink = document.createElement('div');\n",
              "          docLink.innerHTML = docLinkHtml;\n",
              "          element.appendChild(docLink);\n",
              "        }\n",
              "      </script>\n",
              "    </div>\n",
              "  </div>\n",
              "  "
            ]
          },
          "metadata": {},
          "execution_count": 187
        }
      ]
    },
    {
      "cell_type": "code",
      "source": [
        "# Realizando algumas separações de dataset para melhor visualização e análises\n",
        "\n",
        "df_categoria_qtd_total = df.groupby(by=['Categoria'], as_index=False)['Quantidade total de reclamações'].sum()\n",
        "print(df_categoria_qtd_total)\n",
        "\n",
        "df_categoria_qtd_procedente = df.groupby(by=['Categoria'], as_index=False)['Quantidade de reclamações reguladas procedentes'].sum()\n",
        "print(df_categoria_qtd_procedente)"
      ],
      "metadata": {
        "colab": {
          "base_uri": "https://localhost:8080/"
        },
        "id": "p3QK2tGtkq73",
        "outputId": "55b64424-4eb7-4ead-db5f-a192e2b2e97b"
      },
      "execution_count": 188,
      "outputs": [
        {
          "output_type": "stream",
          "name": "stdout",
          "text": [
            "                                           Categoria  \\\n",
            "0  Demais Bancos, Financeiras e Instituições de P...   \n",
            "1  Top 15 - Bancos, Financeiras e Instituições de...   \n",
            "\n",
            "   Quantidade total de reclamações  \n",
            "0                            14268  \n",
            "1                            46466  \n",
            "                                           Categoria  \\\n",
            "0  Demais Bancos, Financeiras e Instituições de P...   \n",
            "1  Top 15 - Bancos, Financeiras e Instituições de...   \n",
            "\n",
            "   Quantidade de reclamações reguladas procedentes  \n",
            "0                                             5520  \n",
            "1                                            13558  \n"
          ]
        }
      ]
    },
    {
      "cell_type": "markdown",
      "source": [
        "**Avaliação Inicial**\n",
        "\n",
        "No 1ºT/2023, o total de clientes ativos em todas as instituições foi de 356.177.516. Os bancos classificados como \"Top 15\" possuem 266.027.240 clientes ativos - 74,68% (clientes podem manter contas e/ou operações em diversas instituições).  \n",
        "\n",
        "De 60734 reclamações realizadas, 19078 foram consideradas procedentes (31,41%). Destas, 71,06% foram direcionadas às 15 maiores instituições financeiras (Top 15), número condizente com o percentual de clientes de sua base."
      ],
      "metadata": {
        "id": "TK4G-tgBQYeS"
      }
    },
    {
      "cell_type": "markdown",
      "source": [
        "### **4.3. Tratamento de Missings**"
      ],
      "metadata": {
        "id": "fIeQK_h1gLx2"
      }
    },
    {
      "cell_type": "code",
      "source": [
        "# Contagem de nulos\n",
        "\n",
        "df.isnull().sum()"
      ],
      "metadata": {
        "colab": {
          "base_uri": "https://localhost:8080/"
        },
        "id": "4RQit1AOQXQd",
        "outputId": "fe4af183-d162-4201-d806-2e480fcadb63"
      },
      "execution_count": 189,
      "outputs": [
        {
          "output_type": "execute_result",
          "data": {
            "text/plain": [
              "Ano                                                0\n",
              "Trimestre                                          0\n",
              "Categoria                                          0\n",
              "Instituição financeira                             0\n",
              "Irregularidade                                     0\n",
              "Quantidade de reclamações reguladas procedentes    0\n",
              "Quantidade de reclamações reguladas - outras       0\n",
              "Quantidade de reclamações não reguladas            0\n",
              "Quantidade total de reclamações                    0\n",
              "dtype: int64"
            ]
          },
          "metadata": {},
          "execution_count": 189
        }
      ]
    },
    {
      "cell_type": "code",
      "source": [
        "# Exibindo visualização matricial que evidencia a ausência de nulidade do dataset\n",
        "\n",
        "ms.matrix(df)"
      ],
      "metadata": {
        "colab": {
          "base_uri": "https://localhost:8080/",
          "height": 603
        },
        "id": "Z8t7BCTgZvAq",
        "outputId": "5b8418c7-d4f4-4839-dc64-6cae8b40c45f"
      },
      "execution_count": 190,
      "outputs": [
        {
          "output_type": "execute_result",
          "data": {
            "text/plain": [
              "<Axes: >"
            ]
          },
          "metadata": {},
          "execution_count": 190
        },
        {
          "output_type": "display_data",
          "data": {
            "text/plain": [
              "<Figure size 2500x1000 with 2 Axes>"
            ],
            "image/png": "[encoded data removed]"
          },
          "metadata": {}
        }
      ]
    },
    {
      "cell_type": "markdown",
      "source": [
        "Neste caso não será preciso fazer ajustes de faltantes (exclusão ou substituição) pois o dataset está totalmente preenchido."
      ],
      "metadata": {
        "id": "OBLsPC22aIen"
      }
    },
    {
      "cell_type": "markdown",
      "source": [
        "## **5. Visualizações**"
      ],
      "metadata": {
        "id": "6n8WAyRSgL1B"
      }
    },
    {
      "cell_type": "code",
      "source": [
        "# Define paleta de cores\n",
        "\n",
        "cores = ['#1A3B5C', '#035B73', '#405B7E', '#CFAF96', '#98796B', '#DC7E3C']\n",
        "\n",
        "# exibe o mapa de cores\n",
        "display(cores)\n",
        "\n",
        "# define uma cor default\n",
        "corDefault = cores[1]\n",
        "\n",
        "# Carrega uma folha de estilos (opcional - questões estéticas)\n",
        "plt.style.use(\"ggplot\")\n",
        "\n",
        "# Modifica mais alguns parâmetros gráficos (opcional - questões estéticas)\n",
        "plt.rc(\"axes\", facecolor=\"#fafafa\", grid = True)\n",
        "plt.rc(\"grid\", color = \"#f0f0f0\")\n",
        "plt.rc(\"axes\", edgecolor=\"#cccccc\", lw=0.1)\n",
        "\n",
        "# plt.rcdefaults() # Restaura a configuração default"
      ],
      "metadata": {
        "colab": {
          "base_uri": "https://localhost:8080/",
          "height": 34
        },
        "id": "Eid__pAwaUxz",
        "outputId": "f33354dc-f9b1-4880-a084-416fc0753c9e"
      },
      "execution_count": 191,
      "outputs": [
        {
          "output_type": "display_data",
          "data": {
            "text/plain": [
              "['#1A3B5C', '#035B73', '#405B7E', '#CFAF96', '#98796B', '#DC7E3C']"
            ]
          },
          "metadata": {}
        }
      ]
    },
    {
      "cell_type": "markdown",
      "source": [
        "### **5.1. Cria gráfico de barras simples**"
      ],
      "metadata": {
        "id": "NsmjJsuRe7yV"
      }
    },
    {
      "cell_type": "code",
      "source": [
        "# 1: Plota as barras do total de reclamações \n",
        "\n",
        "# Função pyplot.bar()\n",
        "\n",
        "# Prepara a figura (fig) e a área do gráfico (ax)\n",
        "fig, ax = plt.subplots(figsize = (10, 6))\n",
        "\n",
        "# Define o título\n",
        "plt.title('Quantidade total de reclamações por Categoria de IF')\n",
        "\n",
        "# Define os rótulos dos eixos\n",
        "plt.xlabel('Categoria de IF')\n",
        "plt.ylabel('Total de Reclamações')\n",
        "\n",
        "# Plota o gráfico de barras\n",
        "ax.bar(x = df_categoria_qtd_total['Categoria'], height = df_categoria_qtd_total['Quantidade total de reclamações'], color = corDefault)\n",
        "\n",
        "# Exibe o gráfico\n",
        "plt.show()"
      ],
      "metadata": {
        "colab": {
          "base_uri": "https://localhost:8080/",
          "height": 569
        },
        "id": "tPlYKpDre5z4",
        "outputId": "a7c85191-1e67-4d3d-9cca-f9b2308a17fe"
      },
      "execution_count": 196,
      "outputs": [
        {
          "output_type": "display_data",
          "data": {
            "text/plain": [
              "<Figure size 1000x600 with 1 Axes>"
            ],
            "image/png": "[encoded data removed]"
          },
          "metadata": {}
        }
      ]
    },
    {
      "cell_type": "markdown",
      "source": [
        "## **6. Pré-processamento**"
      ],
      "metadata": {
        "id": "o1sqADfBooZp"
      }
    },
    {
      "cell_type": "markdown",
      "source": [
        "### **6.1. Divisão do dataset em conjunto de treino e teste**"
      ],
      "metadata": {
        "id": "RDtCcwqCoocI"
      }
    },
    {
      "cell_type": "markdown",
      "source": [
        "### **6.2. Normalização e padronização**"
      ],
      "metadata": {
        "id": "J0VOUICEow-h"
      }
    },
    {
      "cell_type": "markdown",
      "source": [
        "### **6.3. Transformações categóricas**"
      ],
      "metadata": {
        "id": "D3JrtcvBoxcS"
      }
    },
    {
      "cell_type": "markdown",
      "source": [
        "## Conclusão**"
      ],
      "metadata": {
        "id": "HZ8qBE-jpJQ5"
      }
    }
  ]
}