{
  "nbformat": 4,
  "nbformat_minor": 0,
  "metadata": {
    "colab": {
      "provenance": [],
      "toc_visible": true,
      "authorship_tag": "ABX9TyMN6+3d5SQvDBKnWd0yGmen",
      "include_colab_link": true
    },
    "kernelspec": {
      "name": "python3",
      "display_name": "Python 3"
    },
    "language_info": {
      "name": "python"
    }
  },
  "cells": [
    {
      "cell_type": "markdown",
      "metadata": {
        "id": "view-in-github",
        "colab_type": "text"
      },
      "source": [
        "<a href=\"https://colab.research.google.com/github/simonefmr/mvp_pucrio/blob/main/ranking.ipynb\" target=\"_parent\"><img src=\"https://colab.research.google.com/assets/colab-badge.svg\" alt=\"Open In Colab\"/></a>"
      ]
    },
    {
      "cell_type": "markdown",
      "source": [
        "# **Pós Graduação Ciência de Dados - PUC Rio**\n",
        "# **MVP Sprint I: Análise de Dados e Boas Práticas**\n",
        "## Aluna: Simone de Fátima Marques Ramos"
      ],
      "metadata": {
        "id": "XYhwDEg6Pdzx"
      }
    },
    {
      "cell_type": "markdown",
      "source": [
        "## **1. Introdução**\n",
        "\n",
        "Todos os anos, o número de clientes bancarizados aumenta no Brasil. O uso de contas para recebimento de pagamento movimentou as instituições financeiras na década de 2000. Nos últimos anos, com o avanço das fintechs, ficou fácil e barato ter uma conta corrente e contar com diversos produtos, sem burocracia ou as temidas filas.\n",
        "\n",
        "Cerca de 16,6 milhões de brasileiros abriram contas em instituições financeiras entre 2020 e 2021, chegando a um total de 182,2 milhões em dezembro de 2021. Em 2002 o país tinha 28% de bancarizados, em 2017 já representava 70% e em 2022 atingiu 84%. Esse avanço, nos últimos anos, é associado ao recebimento do auxílio emergencial (exigência de recebimento em conta) e ao avanço no uso do Pix como meio de pagamento.\n",
        "\n",
        "O Banco Central atua como órgão regulador de instituições financeiras, bancárias, caixas econômicas, cooperativas de crédito, bancos de câmbio etc. Ele define uma série de exigências e normas e monitora as instituições reguladas para seu correto cumprimento.\n",
        "\n",
        "Uma ferramenta utilizada nesta função é a Ouvidoria do Bacen, onde são recebidas reclamações dos clientes e usuários de instituições financeiras e o Bacen intermedia para melhor solução do conflito. Através destes registros é feito o Ranking Bacen.\n",
        "\n",
        "O  Ranking Bacen é formado a partir das reclamações do público registradas nos canais de atendimento do Banco Central (BC): internet, correspondência, presencialmente ou telefone (145). As demandas são analisadas de forma amostral pelo BC.\n",
        "\n",
        "Participam do Ranking: bancos (comerciais, múltiplos, cooperativos, de investimentos), sociedades de crédito, financiamento e investimento (SCFI), instituições de pagamento e administradoras de consórcio.\n",
        "\n",
        "São divulgados três arquivos, no formato CSV, com os seguintes detalhamentos:\n",
        "\n",
        "I- Bancos e financeiras - Reclamações e quantidades de clientes por instituição financeira:\n",
        "Apresenta as quantidades de reclamações e clientes, por instituição financeira, referentes ao mês\n",
        "selecionado.\n",
        "\n",
        "II- Bancos e financeiras - Irregularidades por instituição financeira:\n",
        "Apresenta as quantidades de reclamações, por irregularidade e instituição financeira, referentes ao\n",
        "mês selecionado.\n",
        "\n",
        "III- Bancos e financeiras - Tabela de irregularidades:\n",
        "Apresenta a tabela de irregularidades referente ao mês selecionado.\n",
        "\n",
        "Neste projeto, irei abordar apenas os dados das **Irregularidades por instituição financeira (II)**."
      ],
      "metadata": {
        "id": "XRImLIgNgLOZ"
      }
    },
    {
      "cell_type": "markdown",
      "source": [
        "### **1.1. Problema de aprendizado supervisionado ou não supervisionado e Hipóteses sobre o problema**\n",
        "\n",
        "Fazem parte do ranking as reclamações que foram analisadas e encerradas como:\n",
        "\n",
        "Reclamações reguladas procedentes: casos em que houve sinal de descumprimento de lei ou norma pela instituição financeira no período indicado.\n",
        "Reclamações reguladas – outras: casos em que não houve sinal de descumprimento de lei ou norma pela instituição financeira no período indicado (inclui as reclamações encerradas como improcedentes e não conclusivas).\n",
        "Reclamações não reguladas: casos que não são tratados por lei ou norma expedida pelo Banco Central e não são sujeitos a sua supervisão.\n",
        "Total de reclamações: total de reclamações reguladas procedentes, reclamações reguladas – outras e reclamações não reguladas.\n",
        "\n",
        "Neste projeto analizarei apenas o **primeiro trimestre de 2023**. Sem base histórica, trataremos como um problema de **aprendizado não supervisionado**, sendo o objetivo entender as possíveis relações entre os dados apresentados."
      ],
      "metadata": {
        "id": "pKxheYHrgLZ0"
      }
    },
    {
      "cell_type": "markdown",
      "source": [
        "### **1.2. Definição do Problema** \n",
        "\n",
        "\n",
        "O alto índice de reclamações ou reincidência das mesmas, podem levar o Banco Central a multar as instituições financeiras ou aplicar outras ferramentas de supervisão, como termos de compromisso, acordos de leniência, e medidas coercitivas e acautelatórias.\n",
        "\n",
        "As instituições são classificadas pela ordem decrescente do índice de reclamações, ou seja, da mais reclamada para a menos reclamada, levando-se em consideração o número de clientes ativos de cada uma. Neste projeto não farei a associação com o número de clientes. Será abordado apenas o número absoluto de ocorrências registradas e seu respectivo resultado.\n",
        "\n",
        "As Reclamações reguladas – outras e as Reclamações não reguladas são divulgadas, porém não influenciam na posição das instituições no ranking.\n",
        "\n",
        "No processo de análise, pode ser identificada mais de uma irregularidade para uma mesma reclamação. Nesse caso, cada irregularidade conta como uma ocorrência para cálculo do Ranking de Reclamações.\n",
        "\n",
        "Tentar entender as origens das reclamações é essencial para monitoramento do correto funcionamento do sistema financeiro pelo Bacen, assim como pelas instituições financeiras, que buscam atendimento de qualidade e não desejam ter suas atividades limitadas ou restritas por força de sanção."
      ],
      "metadata": {
        "id": "oN9ciXUngeCX"
      }
    },
    {
      "cell_type": "markdown",
      "source": [
        "## **2. Importação de pacotes e bibliotecas**"
      ],
      "metadata": {
        "id": "qVyNwmyvgLc_"
      }
    },
    {
      "cell_type": "code",
      "source": [
        "# Importando bibliotecas e pacotes que serão utilizados na análise\n",
        "\n",
        "# Importação de Bibliotecas\n",
        "import pandas as pd\n",
        "import numpy as np\n",
        "import glob\n",
        "import seaborn as sns\n",
        "import statistics\n",
        "import matplotlib.pyplot as plt\n",
        "import matplotlib as mpl\n",
        "from matplotlib.patches import Patch, Polygon\n",
        "import matplotlib.patheffects as path_effects\n",
        "from matplotlib.lines import Line2D\n",
        "import plotly.express as px\n",
        "from pandas import set_option\n",
        "from pandas.plotting import scatter_matrix\n",
        "\n",
        "from IPython.utils.sysinfo import encoding\n",
        "\n",
        "# para tratamento de data\n",
        "import datetime\n",
        "\n",
        "# para tratamento de missings\n",
        "import missingno as ms \n",
        "\n",
        "# Configuração para não exibir os warnings\n",
        "import warnings\n",
        "warnings.filterwarnings(\"ignore\")\n",
        "\n",
        "## transformações numéricas\n",
        "import unicodedata\n",
        "from sklearn.model_selection import train_test_split # para divisão de treino e teste\n",
        "from sklearn.preprocessing import MinMaxScaler # para normalização\n",
        "from sklearn.preprocessing import StandardScaler # para padronização\n",
        "\n",
        "## transformações categóricas\n",
        "from sklearn.preprocessing import OneHotEncoder\n",
        "from sklearn.preprocessing import OrdinalEncoder"
      ],
      "metadata": {
        "id": "WqEg-Kbpz-UP"
      },
      "execution_count": 271,
      "outputs": []
    },
    {
      "cell_type": "code",
      "source": [
        "# Versões das Bibliotecas utilizadas\n",
        "\n",
        "pd_pd = pd.__version__\n",
        "np_np = np.__version__\n",
        "sns_sns = sns.__version__\n",
        "\n",
        "print('Versões utilizadas na análise:')\n",
        "print('Pandas = '+pd_pd)\n",
        "print('Numpy = '+np_np)\n",
        "print('Seaborn = '+sns_sns)"
      ],
      "metadata": {
        "colab": {
          "base_uri": "https://localhost:8080/"
        },
        "id": "AftRnx6N0GuH",
        "outputId": "db7b48a0-4fb7-4e79-9676-b8577a75c3d7"
      },
      "execution_count": 272,
      "outputs": [
        {
          "output_type": "stream",
          "name": "stdout",
          "text": [
            "Versões utilizadas na análise:\n",
            "Pandas = 1.5.3\n",
            "Numpy = 1.22.4\n",
            "Seaborn = 0.12.2\n"
          ]
        }
      ]
    },
    {
      "cell_type": "markdown",
      "source": [
        "## **3. Carregamento dos dados**\n",
        "\n",
        "Os dados estão disponíveis no site do Banco Central e são publicados desde 2014. \n",
        "O relatório trimestral é divulgado no formato CSV, disponível para download, não sendo possível sua consulta direta no site. \n",
        "\n",
        "https://www3.bcb.gov.br/ranking/historico.do\n"
      ],
      "metadata": {
        "id": "Lloyb_80gLf8"
      }
    },
    {
      "cell_type": "code",
      "source": [
        "# Definindo a url dos dados\n",
        "\n",
        "url = 'https://raw.githubusercontent.com/simonefmr/teste/main/ranking_irregularidades.csv'"
      ],
      "metadata": {
        "id": "pMbA_-Ee0KG5"
      },
      "execution_count": 273,
      "outputs": []
    },
    {
      "cell_type": "code",
      "source": [
        "# Carregando o dataset através da url do github\n",
        "\n",
        "df = pd.read_csv(url, sep=';', encoding='ISO-8859-1')"
      ],
      "metadata": {
        "id": "hchA9mjL1EEg"
      },
      "execution_count": 274,
      "outputs": []
    },
    {
      "cell_type": "markdown",
      "source": [
        "### **3.1. Condições ou restrições impostas para selecionar os dados**\n",
        "\n",
        "Não houve dificuldade de carregamento dos dados. Foi preciso ajustar o separador e o encoding para correta leitura do dataset."
      ],
      "metadata": {
        "id": "gNLm-mExgLi8"
      }
    },
    {
      "cell_type": "markdown",
      "source": [
        "### **3.2. Definição dos atributos**"
      ],
      "metadata": {
        "id": "8adPE9XCgLl8"
      }
    },
    {
      "cell_type": "code",
      "source": [
        "# labels dos atributos do dataset\n",
        "\n",
        "df.columns"
      ],
      "metadata": {
        "colab": {
          "base_uri": "https://localhost:8080/"
        },
        "id": "1Gr7d7ij3jhr",
        "outputId": "4d84aced-ab67-47a7-e84f-e7cbba26a9f7"
      },
      "execution_count": 275,
      "outputs": [
        {
          "output_type": "execute_result",
          "data": {
            "text/plain": [
              "Index(['Ano', 'Trimestre', 'Categoria', 'Tipo', 'CNPJ IF',\n",
              "       'Instituição financeira', 'Irregularidade',\n",
              "       'Quantidade de reclamações reguladas procedentes',\n",
              "       'Quantidade de reclamações reguladas - outras',\n",
              "       'Quantidade de reclamações não reguladas',\n",
              "       'Quantidade total de reclamações', 'Unnamed: 11'],\n",
              "      dtype='object')"
            ]
          },
          "metadata": {},
          "execution_count": 275
        }
      ]
    },
    {
      "cell_type": "markdown",
      "source": [
        "**Definindo o que cada atributo representa**\n",
        "\n",
        "**Ano:** Ano de referência.\n",
        "\n",
        "**Trimestre:** Trimestre de referência\n",
        "\n",
        "**Categoria Listagem do ranking:** Mais de dois milhões de clientes ou Menos de dois milhões de clientes.\n",
        "\n",
        "**Tipo:** Tipo de instituição: Bancos e financeiras ou\n",
        "Conglomerados.\n",
        "\n",
        "**CNPJ IF:** CNPJ da instituição financeira (para bancos e financeiras). *Para conglomerados, esse campo não é preenchido.*\n",
        "\n",
        "**Instituição financeira:** Nome da instituição financeira ou do conglomerado.\n",
        "\n",
        "**Irregularidade:** Nome da irregularidade.\n",
        "\n",
        "**Quantidade de reclamações reguladas procedentes:** Quantidade de reclamações reguladas procedentes,\n",
        "associadas à irregularidade, encerradas no mês de\n",
        "referência.\n",
        "\n",
        "**Quantidade de reclamações reguladas - outras:** Quantidade de reclamações reguladas – outras, associadas à irregularidade, encerradas no mês de referência (Não procedentes).\n",
        "\n",
        "**Quantidade de reclamações não reguladas:** Quantidade de reclamações não reguladas, associadas à irregularidade, encerradas no mês de referência (Irreguladas são reclamações que não tem base regulamentada ou que sua regulamentação não é de competência do Banco Central.\n",
        "\n",
        "**Quantidade total de reclamações:** Quantidade total de reclamações, associadas à irregularidade, encerradas no mês de referência."
      ],
      "metadata": {
        "id": "KI60qLUq3oN3"
      }
    },
    {
      "cell_type": "markdown",
      "source": [
        "## **4. Análise de Dados**"
      ],
      "metadata": {
        "id": "8cqbAd99gLoz"
      }
    },
    {
      "cell_type": "markdown",
      "source": [
        "### **4.1. Limpeza preliminar dos dados**"
      ],
      "metadata": {
        "id": "d4hN4DZhgLr0"
      }
    },
    {
      "cell_type": "code",
      "source": [
        "# Eliminando a coluna \"Unnamed\" que não possui dados\n",
        "\n",
        "df.drop(columns=['Unnamed: 11'], inplace=True)"
      ],
      "metadata": {
        "id": "6swXh5In6ZOz"
      },
      "execution_count": 276,
      "outputs": []
    },
    {
      "cell_type": "code",
      "source": [
        "# Busco informações sobre contagem de não nulos e tipo de cada atributo\n",
        "\n",
        "df.info()"
      ],
      "metadata": {
        "colab": {
          "base_uri": "https://localhost:8080/"
        },
        "id": "fg5upg8_6lvE",
        "outputId": "986cbc74-35d6-48c4-c44c-5ac3dea7f5ce"
      },
      "execution_count": 277,
      "outputs": [
        {
          "output_type": "stream",
          "name": "stdout",
          "text": [
            "<class 'pandas.core.frame.DataFrame'>\n",
            "RangeIndex: 3515 entries, 0 to 3514\n",
            "Data columns (total 11 columns):\n",
            " #   Column                                           Non-Null Count  Dtype \n",
            "---  ------                                           --------------  ----- \n",
            " 0   Ano                                              3515 non-null   int64 \n",
            " 1   Trimestre                                        3515 non-null   object\n",
            " 2   Categoria                                        3515 non-null   object\n",
            " 3   Tipo                                             3515 non-null   object\n",
            " 4   CNPJ IF                                          3515 non-null   object\n",
            " 5   Instituição financeira                           3515 non-null   object\n",
            " 6   Irregularidade                                   3515 non-null   object\n",
            " 7   Quantidade de reclamações reguladas procedentes  3515 non-null   int64 \n",
            " 8   Quantidade de reclamações reguladas - outras     3515 non-null   int64 \n",
            " 9   Quantidade de reclamações não reguladas          3515 non-null   int64 \n",
            " 10  Quantidade total de reclamações                  3515 non-null   int64 \n",
            "dtypes: int64(5), object(6)\n",
            "memory usage: 302.2+ KB\n"
          ]
        }
      ]
    },
    {
      "cell_type": "code",
      "source": [
        "# Vamos excluir as colunas \"Tipo\" e \"CNPJ IF\" pois não apresentam dados\n",
        "# relevantes para a análise\n",
        "\n",
        "df.drop(columns=['Tipo', 'CNPJ IF'], inplace=True)"
      ],
      "metadata": {
        "id": "uuc24Mnd8iGF"
      },
      "execution_count": 278,
      "outputs": []
    },
    {
      "cell_type": "code",
      "source": [
        "print(df.columns)"
      ],
      "metadata": {
        "colab": {
          "base_uri": "https://localhost:8080/"
        },
        "id": "9Z0woEBOKDYb",
        "outputId": "b2517d9c-15dd-4cf6-a39b-788e4664272a"
      },
      "execution_count": 279,
      "outputs": [
        {
          "output_type": "stream",
          "name": "stdout",
          "text": [
            "Index(['Ano', 'Trimestre', 'Categoria', 'Instituição financeira',\n",
            "       'Irregularidade', 'Quantidade de reclamações reguladas procedentes',\n",
            "       'Quantidade de reclamações reguladas - outras',\n",
            "       'Quantidade de reclamações não reguladas',\n",
            "       'Quantidade total de reclamações'],\n",
            "      dtype='object')\n"
          ]
        }
      ]
    },
    {
      "cell_type": "code",
      "source": [
        "# Classificando a coluna \"Ano\" como data\n",
        "\n",
        "df['Ano'] = pd.to_datetime(df['Ano'], format='%Y')\n",
        "df.dtypes"
      ],
      "metadata": {
        "colab": {
          "base_uri": "https://localhost:8080/"
        },
        "id": "_Ti1Kzor_zdI",
        "outputId": "3fd4a2da-f0b9-4922-863b-10647eca690b"
      },
      "execution_count": 280,
      "outputs": [
        {
          "output_type": "execute_result",
          "data": {
            "text/plain": [
              "Ano                                                datetime64[ns]\n",
              "Trimestre                                                  object\n",
              "Categoria                                                  object\n",
              "Instituição financeira                                     object\n",
              "Irregularidade                                             object\n",
              "Quantidade de reclamações reguladas procedentes             int64\n",
              "Quantidade de reclamações reguladas - outras                int64\n",
              "Quantidade de reclamações não reguladas                     int64\n",
              "Quantidade total de reclamações                             int64\n",
              "dtype: object"
            ]
          },
          "metadata": {},
          "execution_count": 280
        }
      ]
    },
    {
      "cell_type": "code",
      "source": [
        "# Exibindo as primeiras linhas verifico que o dataset foi carregado corretamente\n",
        "\n",
        "df.head()"
      ],
      "metadata": {
        "colab": {
          "base_uri": "https://localhost:8080/",
          "height": 458
        },
        "id": "h-iusPtJ6rIU",
        "outputId": "fa048d67-34d6-47cc-d1e8-121731c5d93d"
      },
      "execution_count": 281,
      "outputs": [
        {
          "output_type": "execute_result",
          "data": {
            "text/plain": [
              "         Ano Trimestre                                          Categoria  \\\n",
              "0 2023-01-01        1º  Demais Bancos, Financeiras e Instituições de P...   \n",
              "1 2023-01-01        1º  Demais Bancos, Financeiras e Instituições de P...   \n",
              "2 2023-01-01        1º  Demais Bancos, Financeiras e Instituições de P...   \n",
              "3 2023-01-01        1º  Demais Bancos, Financeiras e Instituições de P...   \n",
              "4 2023-01-01        1º  Demais Bancos, Financeiras e Instituições de P...   \n",
              "\n",
              "      Instituição financeira  \\\n",
              "0  ABC-BRASIL (conglomerado)   \n",
              "1  ABC-BRASIL (conglomerado)   \n",
              "2  ABC-BRASIL (conglomerado)   \n",
              "3  ABC-BRASIL (conglomerado)   \n",
              "4  ABC-BRASIL (conglomerado)   \n",
              "\n",
              "                                      Irregularidade  \\\n",
              "0  Cobrança irregular de tarifa relacionada a con...   \n",
              "1  Débito em conta não autorizado pelo cliente, o...   \n",
              "2  Insatisfação com a resposta recebida da instit...   \n",
              "3  Insatisfação com o atendimento prestado pelo S...   \n",
              "4  Irregularidades relacionadas ao acompanhamento...   \n",
              "\n",
              "   Quantidade de reclamações reguladas procedentes  \\\n",
              "0                                                0   \n",
              "1                                                0   \n",
              "2                                                0   \n",
              "3                                                0   \n",
              "4                                                1   \n",
              "\n",
              "   Quantidade de reclamações reguladas - outras  \\\n",
              "0                                             1   \n",
              "1                                             1   \n",
              "2                                             2   \n",
              "3                                             0   \n",
              "4                                             0   \n",
              "\n",
              "   Quantidade de reclamações não reguladas  Quantidade total de reclamações  \n",
              "0                                        0                                1  \n",
              "1                                        0                                1  \n",
              "2                                        0                                2  \n",
              "3                                        1                                1  \n",
              "4                                        0                                1  "
            ],
            "text/html": [
              "\n",
              "  <div id=\"df-a1d26f1f-335d-465a-b311-c9df9ed9b0d8\">\n",
              "    <div class=\"colab-df-container\">\n",
              "      <div>\n",
              "<style scoped>\n",
              "    .dataframe tbody tr th:only-of-type {\n",
              "        vertical-align: middle;\n",
              "    }\n",
              "\n",
              "    .dataframe tbody tr th {\n",
              "        vertical-align: top;\n",
              "    }\n",
              "\n",
              "    .dataframe thead th {\n",
              "        text-align: right;\n",
              "    }\n",
              "</style>\n",
              "<table border=\"1\" class=\"dataframe\">\n",
              "  <thead>\n",
              "    <tr style=\"text-align: right;\">\n",
              "      <th></th>\n",
              "      <th>Ano</th>\n",
              "      <th>Trimestre</th>\n",
              "      <th>Categoria</th>\n",
              "      <th>Instituição financeira</th>\n",
              "      <th>Irregularidade</th>\n",
              "      <th>Quantidade de reclamações reguladas procedentes</th>\n",
              "      <th>Quantidade de reclamações reguladas - outras</th>\n",
              "      <th>Quantidade de reclamações não reguladas</th>\n",
              "      <th>Quantidade total de reclamações</th>\n",
              "    </tr>\n",
              "  </thead>\n",
              "  <tbody>\n",
              "    <tr>\n",
              "      <th>0</th>\n",
              "      <td>2023-01-01</td>\n",
              "      <td>1º</td>\n",
              "      <td>Demais Bancos, Financeiras e Instituições de P...</td>\n",
              "      <td>ABC-BRASIL (conglomerado)</td>\n",
              "      <td>Cobrança irregular de tarifa relacionada a con...</td>\n",
              "      <td>0</td>\n",
              "      <td>1</td>\n",
              "      <td>0</td>\n",
              "      <td>1</td>\n",
              "    </tr>\n",
              "    <tr>\n",
              "      <th>1</th>\n",
              "      <td>2023-01-01</td>\n",
              "      <td>1º</td>\n",
              "      <td>Demais Bancos, Financeiras e Instituições de P...</td>\n",
              "      <td>ABC-BRASIL (conglomerado)</td>\n",
              "      <td>Débito em conta não autorizado pelo cliente, o...</td>\n",
              "      <td>0</td>\n",
              "      <td>1</td>\n",
              "      <td>0</td>\n",
              "      <td>1</td>\n",
              "    </tr>\n",
              "    <tr>\n",
              "      <th>2</th>\n",
              "      <td>2023-01-01</td>\n",
              "      <td>1º</td>\n",
              "      <td>Demais Bancos, Financeiras e Instituições de P...</td>\n",
              "      <td>ABC-BRASIL (conglomerado)</td>\n",
              "      <td>Insatisfação com a resposta recebida da instit...</td>\n",
              "      <td>0</td>\n",
              "      <td>2</td>\n",
              "      <td>0</td>\n",
              "      <td>2</td>\n",
              "    </tr>\n",
              "    <tr>\n",
              "      <th>3</th>\n",
              "      <td>2023-01-01</td>\n",
              "      <td>1º</td>\n",
              "      <td>Demais Bancos, Financeiras e Instituições de P...</td>\n",
              "      <td>ABC-BRASIL (conglomerado)</td>\n",
              "      <td>Insatisfação com o atendimento prestado pelo S...</td>\n",
              "      <td>0</td>\n",
              "      <td>0</td>\n",
              "      <td>1</td>\n",
              "      <td>1</td>\n",
              "    </tr>\n",
              "    <tr>\n",
              "      <th>4</th>\n",
              "      <td>2023-01-01</td>\n",
              "      <td>1º</td>\n",
              "      <td>Demais Bancos, Financeiras e Instituições de P...</td>\n",
              "      <td>ABC-BRASIL (conglomerado)</td>\n",
              "      <td>Irregularidades relacionadas ao acompanhamento...</td>\n",
              "      <td>1</td>\n",
              "      <td>0</td>\n",
              "      <td>0</td>\n",
              "      <td>1</td>\n",
              "    </tr>\n",
              "  </tbody>\n",
              "</table>\n",
              "</div>\n",
              "      <button class=\"colab-df-convert\" onclick=\"convertToInteractive('df-a1d26f1f-335d-465a-b311-c9df9ed9b0d8')\"\n",
              "              title=\"Convert this dataframe to an interactive table.\"\n",
              "              style=\"display:none;\">\n",
              "        \n",
              "  <svg xmlns=\"http://www.w3.org/2000/svg\" height=\"24px\"viewBox=\"0 0 24 24\"\n",
              "       width=\"24px\">\n",
              "    <path d=\"M0 0h24v24H0V0z\" fill=\"none\"/>\n",
              "    <path d=\"M18.56 5.44l.94 2.06.94-2.06 2.06-.94-2.06-.94-.94-2.06-.94 2.06-2.06.94zm-11 1L8.5 8.5l.94-2.06 2.06-.94-2.06-.94L8.5 2.5l-.94 2.06-2.06.94zm10 10l.94 2.06.94-2.06 2.06-.94-2.06-.94-.94-2.06-.94 2.06-2.06.94z\"/><path d=\"M17.41 7.96l-1.37-1.37c-.4-.4-.92-.59-1.43-.59-.52 0-1.04.2-1.43.59L10.3 9.45l-7.72 7.72c-.78.78-.78 2.05 0 2.83L4 21.41c.39.39.9.59 1.41.59.51 0 1.02-.2 1.41-.59l7.78-7.78 2.81-2.81c.8-.78.8-2.07 0-2.86zM5.41 20L4 18.59l7.72-7.72 1.47 1.35L5.41 20z\"/>\n",
              "  </svg>\n",
              "      </button>\n",
              "      \n",
              "  <style>\n",
              "    .colab-df-container {\n",
              "      display:flex;\n",
              "      flex-wrap:wrap;\n",
              "      gap: 12px;\n",
              "    }\n",
              "\n",
              "    .colab-df-convert {\n",
              "      background-color: #E8F0FE;\n",
              "      border: none;\n",
              "      border-radius: 50%;\n",
              "      cursor: pointer;\n",
              "      display: none;\n",
              "      fill: #1967D2;\n",
              "      height: 32px;\n",
              "      padding: 0 0 0 0;\n",
              "      width: 32px;\n",
              "    }\n",
              "\n",
              "    .colab-df-convert:hover {\n",
              "      background-color: #E2EBFA;\n",
              "      box-shadow: 0px 1px 2px rgba(60, 64, 67, 0.3), 0px 1px 3px 1px rgba(60, 64, 67, 0.15);\n",
              "      fill: #174EA6;\n",
              "    }\n",
              "\n",
              "    [theme=dark] .colab-df-convert {\n",
              "      background-color: #3B4455;\n",
              "      fill: #D2E3FC;\n",
              "    }\n",
              "\n",
              "    [theme=dark] .colab-df-convert:hover {\n",
              "      background-color: #434B5C;\n",
              "      box-shadow: 0px 1px 3px 1px rgba(0, 0, 0, 0.15);\n",
              "      filter: drop-shadow(0px 1px 2px rgba(0, 0, 0, 0.3));\n",
              "      fill: #FFFFFF;\n",
              "    }\n",
              "  </style>\n",
              "\n",
              "      <script>\n",
              "        const buttonEl =\n",
              "          document.querySelector('#df-a1d26f1f-335d-465a-b311-c9df9ed9b0d8 button.colab-df-convert');\n",
              "        buttonEl.style.display =\n",
              "          google.colab.kernel.accessAllowed ? 'block' : 'none';\n",
              "\n",
              "        async function convertToInteractive(key) {\n",
              "          const element = document.querySelector('#df-a1d26f1f-335d-465a-b311-c9df9ed9b0d8');\n",
              "          const dataTable =\n",
              "            await google.colab.kernel.invokeFunction('convertToInteractive',\n",
              "                                                     [key], {});\n",
              "          if (!dataTable) return;\n",
              "\n",
              "          const docLinkHtml = 'Like what you see? Visit the ' +\n",
              "            '<a target=\"_blank\" href=https://colab.research.google.com/notebooks/data_table.ipynb>data table notebook</a>'\n",
              "            + ' to learn more about interactive tables.';\n",
              "          element.innerHTML = '';\n",
              "          dataTable['output_type'] = 'display_data';\n",
              "          await google.colab.output.renderOutput(dataTable, element);\n",
              "          const docLink = document.createElement('div');\n",
              "          docLink.innerHTML = docLinkHtml;\n",
              "          element.appendChild(docLink);\n",
              "        }\n",
              "      </script>\n",
              "    </div>\n",
              "  </div>\n",
              "  "
            ]
          },
          "metadata": {},
          "execution_count": 281
        }
      ]
    },
    {
      "cell_type": "code",
      "source": [
        "# Exibindo as últimas linhas\n",
        "\n",
        "df.tail()"
      ],
      "metadata": {
        "colab": {
          "base_uri": "https://localhost:8080/",
          "height": 458
        },
        "id": "zdUc2f0S6rLJ",
        "outputId": "d6c0d4ae-c48e-4f22-ada8-8fe995a3c76a"
      },
      "execution_count": 282,
      "outputs": [
        {
          "output_type": "execute_result",
          "data": {
            "text/plain": [
              "            Ano Trimestre                                          Categoria  \\\n",
              "3510 2023-01-01        1º  Demais Bancos, Financeiras e Instituições de P...   \n",
              "3511 2023-01-01        1º  Demais Bancos, Financeiras e Instituições de P...   \n",
              "3512 2023-01-01        1º  Demais Bancos, Financeiras e Instituições de P...   \n",
              "3513 2023-01-01        1º  Demais Bancos, Financeiras e Instituições de P...   \n",
              "3514 2023-01-01        1º  Demais Bancos, Financeiras e Instituições de P...   \n",
              "\n",
              "           Instituição financeira  \\\n",
              "3510  YAMAHA MOTOR (conglomerado)   \n",
              "3511  YAMAHA MOTOR (conglomerado)   \n",
              "3512  YAMAHA MOTOR (conglomerado)   \n",
              "3513  YAMAHA MOTOR (conglomerado)   \n",
              "3514  YAMAHA MOTOR (conglomerado)   \n",
              "\n",
              "                                         Irregularidade  \\\n",
              "3510  Irregularidades relacionadas ao fornecimento d...   \n",
              "3511  Irregularidades relacionadas ao fornecimento d...   \n",
              "3512  Irregularidades relativas a integridade, confi...   \n",
              "3513       Reclamações relacionadas a assuntos diversos   \n",
              "3514  Renegociação de dívida (exceto cartão de crédito)   \n",
              "\n",
              "      Quantidade de reclamações reguladas procedentes  \\\n",
              "3510                                                0   \n",
              "3511                                                0   \n",
              "3512                                                1   \n",
              "3513                                                0   \n",
              "3514                                                0   \n",
              "\n",
              "      Quantidade de reclamações reguladas - outras  \\\n",
              "3510                                             1   \n",
              "3511                                             2   \n",
              "3512                                             2   \n",
              "3513                                             0   \n",
              "3514                                             0   \n",
              "\n",
              "      Quantidade de reclamações não reguladas  Quantidade total de reclamações  \n",
              "3510                                        0                                1  \n",
              "3511                                        0                                2  \n",
              "3512                                        0                                3  \n",
              "3513                                        2                                2  \n",
              "3514                                        1                                1  "
            ],
            "text/html": [
              "\n",
              "  <div id=\"df-4fd37d10-9f73-4fcc-b9d3-e66468a1d023\">\n",
              "    <div class=\"colab-df-container\">\n",
              "      <div>\n",
              "<style scoped>\n",
              "    .dataframe tbody tr th:only-of-type {\n",
              "        vertical-align: middle;\n",
              "    }\n",
              "\n",
              "    .dataframe tbody tr th {\n",
              "        vertical-align: top;\n",
              "    }\n",
              "\n",
              "    .dataframe thead th {\n",
              "        text-align: right;\n",
              "    }\n",
              "</style>\n",
              "<table border=\"1\" class=\"dataframe\">\n",
              "  <thead>\n",
              "    <tr style=\"text-align: right;\">\n",
              "      <th></th>\n",
              "      <th>Ano</th>\n",
              "      <th>Trimestre</th>\n",
              "      <th>Categoria</th>\n",
              "      <th>Instituição financeira</th>\n",
              "      <th>Irregularidade</th>\n",
              "      <th>Quantidade de reclamações reguladas procedentes</th>\n",
              "      <th>Quantidade de reclamações reguladas - outras</th>\n",
              "      <th>Quantidade de reclamações não reguladas</th>\n",
              "      <th>Quantidade total de reclamações</th>\n",
              "    </tr>\n",
              "  </thead>\n",
              "  <tbody>\n",
              "    <tr>\n",
              "      <th>3510</th>\n",
              "      <td>2023-01-01</td>\n",
              "      <td>1º</td>\n",
              "      <td>Demais Bancos, Financeiras e Instituições de P...</td>\n",
              "      <td>YAMAHA MOTOR (conglomerado)</td>\n",
              "      <td>Irregularidades relacionadas ao fornecimento d...</td>\n",
              "      <td>0</td>\n",
              "      <td>1</td>\n",
              "      <td>0</td>\n",
              "      <td>1</td>\n",
              "    </tr>\n",
              "    <tr>\n",
              "      <th>3511</th>\n",
              "      <td>2023-01-01</td>\n",
              "      <td>1º</td>\n",
              "      <td>Demais Bancos, Financeiras e Instituições de P...</td>\n",
              "      <td>YAMAHA MOTOR (conglomerado)</td>\n",
              "      <td>Irregularidades relacionadas ao fornecimento d...</td>\n",
              "      <td>0</td>\n",
              "      <td>2</td>\n",
              "      <td>0</td>\n",
              "      <td>2</td>\n",
              "    </tr>\n",
              "    <tr>\n",
              "      <th>3512</th>\n",
              "      <td>2023-01-01</td>\n",
              "      <td>1º</td>\n",
              "      <td>Demais Bancos, Financeiras e Instituições de P...</td>\n",
              "      <td>YAMAHA MOTOR (conglomerado)</td>\n",
              "      <td>Irregularidades relativas a integridade, confi...</td>\n",
              "      <td>1</td>\n",
              "      <td>2</td>\n",
              "      <td>0</td>\n",
              "      <td>3</td>\n",
              "    </tr>\n",
              "    <tr>\n",
              "      <th>3513</th>\n",
              "      <td>2023-01-01</td>\n",
              "      <td>1º</td>\n",
              "      <td>Demais Bancos, Financeiras e Instituições de P...</td>\n",
              "      <td>YAMAHA MOTOR (conglomerado)</td>\n",
              "      <td>Reclamações relacionadas a assuntos diversos</td>\n",
              "      <td>0</td>\n",
              "      <td>0</td>\n",
              "      <td>2</td>\n",
              "      <td>2</td>\n",
              "    </tr>\n",
              "    <tr>\n",
              "      <th>3514</th>\n",
              "      <td>2023-01-01</td>\n",
              "      <td>1º</td>\n",
              "      <td>Demais Bancos, Financeiras e Instituições de P...</td>\n",
              "      <td>YAMAHA MOTOR (conglomerado)</td>\n",
              "      <td>Renegociação de dívida (exceto cartão de crédito)</td>\n",
              "      <td>0</td>\n",
              "      <td>0</td>\n",
              "      <td>1</td>\n",
              "      <td>1</td>\n",
              "    </tr>\n",
              "  </tbody>\n",
              "</table>\n",
              "</div>\n",
              "      <button class=\"colab-df-convert\" onclick=\"convertToInteractive('df-4fd37d10-9f73-4fcc-b9d3-e66468a1d023')\"\n",
              "              title=\"Convert this dataframe to an interactive table.\"\n",
              "              style=\"display:none;\">\n",
              "        \n",
              "  <svg xmlns=\"http://www.w3.org/2000/svg\" height=\"24px\"viewBox=\"0 0 24 24\"\n",
              "       width=\"24px\">\n",
              "    <path d=\"M0 0h24v24H0V0z\" fill=\"none\"/>\n",
              "    <path d=\"M18.56 5.44l.94 2.06.94-2.06 2.06-.94-2.06-.94-.94-2.06-.94 2.06-2.06.94zm-11 1L8.5 8.5l.94-2.06 2.06-.94-2.06-.94L8.5 2.5l-.94 2.06-2.06.94zm10 10l.94 2.06.94-2.06 2.06-.94-2.06-.94-.94-2.06-.94 2.06-2.06.94z\"/><path d=\"M17.41 7.96l-1.37-1.37c-.4-.4-.92-.59-1.43-.59-.52 0-1.04.2-1.43.59L10.3 9.45l-7.72 7.72c-.78.78-.78 2.05 0 2.83L4 21.41c.39.39.9.59 1.41.59.51 0 1.02-.2 1.41-.59l7.78-7.78 2.81-2.81c.8-.78.8-2.07 0-2.86zM5.41 20L4 18.59l7.72-7.72 1.47 1.35L5.41 20z\"/>\n",
              "  </svg>\n",
              "      </button>\n",
              "      \n",
              "  <style>\n",
              "    .colab-df-container {\n",
              "      display:flex;\n",
              "      flex-wrap:wrap;\n",
              "      gap: 12px;\n",
              "    }\n",
              "\n",
              "    .colab-df-convert {\n",
              "      background-color: #E8F0FE;\n",
              "      border: none;\n",
              "      border-radius: 50%;\n",
              "      cursor: pointer;\n",
              "      display: none;\n",
              "      fill: #1967D2;\n",
              "      height: 32px;\n",
              "      padding: 0 0 0 0;\n",
              "      width: 32px;\n",
              "    }\n",
              "\n",
              "    .colab-df-convert:hover {\n",
              "      background-color: #E2EBFA;\n",
              "      box-shadow: 0px 1px 2px rgba(60, 64, 67, 0.3), 0px 1px 3px 1px rgba(60, 64, 67, 0.15);\n",
              "      fill: #174EA6;\n",
              "    }\n",
              "\n",
              "    [theme=dark] .colab-df-convert {\n",
              "      background-color: #3B4455;\n",
              "      fill: #D2E3FC;\n",
              "    }\n",
              "\n",
              "    [theme=dark] .colab-df-convert:hover {\n",
              "      background-color: #434B5C;\n",
              "      box-shadow: 0px 1px 3px 1px rgba(0, 0, 0, 0.15);\n",
              "      filter: drop-shadow(0px 1px 2px rgba(0, 0, 0, 0.3));\n",
              "      fill: #FFFFFF;\n",
              "    }\n",
              "  </style>\n",
              "\n",
              "      <script>\n",
              "        const buttonEl =\n",
              "          document.querySelector('#df-4fd37d10-9f73-4fcc-b9d3-e66468a1d023 button.colab-df-convert');\n",
              "        buttonEl.style.display =\n",
              "          google.colab.kernel.accessAllowed ? 'block' : 'none';\n",
              "\n",
              "        async function convertToInteractive(key) {\n",
              "          const element = document.querySelector('#df-4fd37d10-9f73-4fcc-b9d3-e66468a1d023');\n",
              "          const dataTable =\n",
              "            await google.colab.kernel.invokeFunction('convertToInteractive',\n",
              "                                                     [key], {});\n",
              "          if (!dataTable) return;\n",
              "\n",
              "          const docLinkHtml = 'Like what you see? Visit the ' +\n",
              "            '<a target=\"_blank\" href=https://colab.research.google.com/notebooks/data_table.ipynb>data table notebook</a>'\n",
              "            + ' to learn more about interactive tables.';\n",
              "          element.innerHTML = '';\n",
              "          dataTable['output_type'] = 'display_data';\n",
              "          await google.colab.output.renderOutput(dataTable, element);\n",
              "          const docLink = document.createElement('div');\n",
              "          docLink.innerHTML = docLinkHtml;\n",
              "          element.appendChild(docLink);\n",
              "        }\n",
              "      </script>\n",
              "    </div>\n",
              "  </div>\n",
              "  "
            ]
          },
          "metadata": {},
          "execution_count": 282
        }
      ]
    },
    {
      "cell_type": "markdown",
      "source": [
        "### **4.2. Análise Descritiva**"
      ],
      "metadata": {
        "id": "mHsvgEtRgLuf"
      }
    },
    {
      "cell_type": "code",
      "source": [
        "# Verificando o formato do dataset\n",
        "\n",
        "df.shape"
      ],
      "metadata": {
        "colab": {
          "base_uri": "https://localhost:8080/"
        },
        "id": "9_-5S9X27FHq",
        "outputId": "30e37350-d031-4587-d32b-342ff04a20eb"
      },
      "execution_count": 283,
      "outputs": [
        {
          "output_type": "execute_result",
          "data": {
            "text/plain": [
              "(3515, 9)"
            ]
          },
          "metadata": {},
          "execution_count": 283
        }
      ]
    },
    {
      "cell_type": "code",
      "source": [
        "# Resumo estatístico dos dados completos\n",
        "df.describe()"
      ],
      "metadata": {
        "colab": {
          "base_uri": "https://localhost:8080/",
          "height": 300
        },
        "id": "5LstQFZA6qTn",
        "outputId": "3bf79055-2a9d-428d-a7d9-017ea0cab9f4"
      },
      "execution_count": 284,
      "outputs": [
        {
          "output_type": "execute_result",
          "data": {
            "text/plain": [
              "       Quantidade de reclamações reguladas procedentes  \\\n",
              "count                                      3515.000000   \n",
              "mean                                          5.427596   \n",
              "std                                          21.396468   \n",
              "min                                           0.000000   \n",
              "25%                                           0.000000   \n",
              "50%                                           1.000000   \n",
              "75%                                           2.000000   \n",
              "max                                         395.000000   \n",
              "\n",
              "       Quantidade de reclamações reguladas - outras  \\\n",
              "count                                   3515.000000   \n",
              "mean                                       8.357041   \n",
              "std                                       28.102944   \n",
              "min                                        0.000000   \n",
              "25%                                        0.000000   \n",
              "50%                                        1.000000   \n",
              "75%                                        4.000000   \n",
              "max                                      439.000000   \n",
              "\n",
              "       Quantidade de reclamações não reguladas  \\\n",
              "count                              3515.000000   \n",
              "mean                                  3.493883   \n",
              "std                                  19.324201   \n",
              "min                                   0.000000   \n",
              "25%                                   0.000000   \n",
              "50%                                   0.000000   \n",
              "75%                                   1.000000   \n",
              "max                                 401.000000   \n",
              "\n",
              "       Quantidade total de reclamações  \n",
              "count                      3515.000000  \n",
              "mean                         17.278521  \n",
              "std                          47.558424  \n",
              "min                           1.000000  \n",
              "25%                           1.000000  \n",
              "50%                           3.000000  \n",
              "75%                          10.000000  \n",
              "max                         810.000000  "
            ],
            "text/html": [
              "\n",
              "  <div id=\"df-042dca96-1d11-4b3b-8119-bc1e6d888498\">\n",
              "    <div class=\"colab-df-container\">\n",
              "      <div>\n",
              "<style scoped>\n",
              "    .dataframe tbody tr th:only-of-type {\n",
              "        vertical-align: middle;\n",
              "    }\n",
              "\n",
              "    .dataframe tbody tr th {\n",
              "        vertical-align: top;\n",
              "    }\n",
              "\n",
              "    .dataframe thead th {\n",
              "        text-align: right;\n",
              "    }\n",
              "</style>\n",
              "<table border=\"1\" class=\"dataframe\">\n",
              "  <thead>\n",
              "    <tr style=\"text-align: right;\">\n",
              "      <th></th>\n",
              "      <th>Quantidade de reclamações reguladas procedentes</th>\n",
              "      <th>Quantidade de reclamações reguladas - outras</th>\n",
              "      <th>Quantidade de reclamações não reguladas</th>\n",
              "      <th>Quantidade total de reclamações</th>\n",
              "    </tr>\n",
              "  </thead>\n",
              "  <tbody>\n",
              "    <tr>\n",
              "      <th>count</th>\n",
              "      <td>3515.000000</td>\n",
              "      <td>3515.000000</td>\n",
              "      <td>3515.000000</td>\n",
              "      <td>3515.000000</td>\n",
              "    </tr>\n",
              "    <tr>\n",
              "      <th>mean</th>\n",
              "      <td>5.427596</td>\n",
              "      <td>8.357041</td>\n",
              "      <td>3.493883</td>\n",
              "      <td>17.278521</td>\n",
              "    </tr>\n",
              "    <tr>\n",
              "      <th>std</th>\n",
              "      <td>21.396468</td>\n",
              "      <td>28.102944</td>\n",
              "      <td>19.324201</td>\n",
              "      <td>47.558424</td>\n",
              "    </tr>\n",
              "    <tr>\n",
              "      <th>min</th>\n",
              "      <td>0.000000</td>\n",
              "      <td>0.000000</td>\n",
              "      <td>0.000000</td>\n",
              "      <td>1.000000</td>\n",
              "    </tr>\n",
              "    <tr>\n",
              "      <th>25%</th>\n",
              "      <td>0.000000</td>\n",
              "      <td>0.000000</td>\n",
              "      <td>0.000000</td>\n",
              "      <td>1.000000</td>\n",
              "    </tr>\n",
              "    <tr>\n",
              "      <th>50%</th>\n",
              "      <td>1.000000</td>\n",
              "      <td>1.000000</td>\n",
              "      <td>0.000000</td>\n",
              "      <td>3.000000</td>\n",
              "    </tr>\n",
              "    <tr>\n",
              "      <th>75%</th>\n",
              "      <td>2.000000</td>\n",
              "      <td>4.000000</td>\n",
              "      <td>1.000000</td>\n",
              "      <td>10.000000</td>\n",
              "    </tr>\n",
              "    <tr>\n",
              "      <th>max</th>\n",
              "      <td>395.000000</td>\n",
              "      <td>439.000000</td>\n",
              "      <td>401.000000</td>\n",
              "      <td>810.000000</td>\n",
              "    </tr>\n",
              "  </tbody>\n",
              "</table>\n",
              "</div>\n",
              "      <button class=\"colab-df-convert\" onclick=\"convertToInteractive('df-042dca96-1d11-4b3b-8119-bc1e6d888498')\"\n",
              "              title=\"Convert this dataframe to an interactive table.\"\n",
              "              style=\"display:none;\">\n",
              "        \n",
              "  <svg xmlns=\"http://www.w3.org/2000/svg\" height=\"24px\"viewBox=\"0 0 24 24\"\n",
              "       width=\"24px\">\n",
              "    <path d=\"M0 0h24v24H0V0z\" fill=\"none\"/>\n",
              "    <path d=\"M18.56 5.44l.94 2.06.94-2.06 2.06-.94-2.06-.94-.94-2.06-.94 2.06-2.06.94zm-11 1L8.5 8.5l.94-2.06 2.06-.94-2.06-.94L8.5 2.5l-.94 2.06-2.06.94zm10 10l.94 2.06.94-2.06 2.06-.94-2.06-.94-.94-2.06-.94 2.06-2.06.94z\"/><path d=\"M17.41 7.96l-1.37-1.37c-.4-.4-.92-.59-1.43-.59-.52 0-1.04.2-1.43.59L10.3 9.45l-7.72 7.72c-.78.78-.78 2.05 0 2.83L4 21.41c.39.39.9.59 1.41.59.51 0 1.02-.2 1.41-.59l7.78-7.78 2.81-2.81c.8-.78.8-2.07 0-2.86zM5.41 20L4 18.59l7.72-7.72 1.47 1.35L5.41 20z\"/>\n",
              "  </svg>\n",
              "      </button>\n",
              "      \n",
              "  <style>\n",
              "    .colab-df-container {\n",
              "      display:flex;\n",
              "      flex-wrap:wrap;\n",
              "      gap: 12px;\n",
              "    }\n",
              "\n",
              "    .colab-df-convert {\n",
              "      background-color: #E8F0FE;\n",
              "      border: none;\n",
              "      border-radius: 50%;\n",
              "      cursor: pointer;\n",
              "      display: none;\n",
              "      fill: #1967D2;\n",
              "      height: 32px;\n",
              "      padding: 0 0 0 0;\n",
              "      width: 32px;\n",
              "    }\n",
              "\n",
              "    .colab-df-convert:hover {\n",
              "      background-color: #E2EBFA;\n",
              "      box-shadow: 0px 1px 2px rgba(60, 64, 67, 0.3), 0px 1px 3px 1px rgba(60, 64, 67, 0.15);\n",
              "      fill: #174EA6;\n",
              "    }\n",
              "\n",
              "    [theme=dark] .colab-df-convert {\n",
              "      background-color: #3B4455;\n",
              "      fill: #D2E3FC;\n",
              "    }\n",
              "\n",
              "    [theme=dark] .colab-df-convert:hover {\n",
              "      background-color: #434B5C;\n",
              "      box-shadow: 0px 1px 3px 1px rgba(0, 0, 0, 0.15);\n",
              "      filter: drop-shadow(0px 1px 2px rgba(0, 0, 0, 0.3));\n",
              "      fill: #FFFFFF;\n",
              "    }\n",
              "  </style>\n",
              "\n",
              "      <script>\n",
              "        const buttonEl =\n",
              "          document.querySelector('#df-042dca96-1d11-4b3b-8119-bc1e6d888498 button.colab-df-convert');\n",
              "        buttonEl.style.display =\n",
              "          google.colab.kernel.accessAllowed ? 'block' : 'none';\n",
              "\n",
              "        async function convertToInteractive(key) {\n",
              "          const element = document.querySelector('#df-042dca96-1d11-4b3b-8119-bc1e6d888498');\n",
              "          const dataTable =\n",
              "            await google.colab.kernel.invokeFunction('convertToInteractive',\n",
              "                                                     [key], {});\n",
              "          if (!dataTable) return;\n",
              "\n",
              "          const docLinkHtml = 'Like what you see? Visit the ' +\n",
              "            '<a target=\"_blank\" href=https://colab.research.google.com/notebooks/data_table.ipynb>data table notebook</a>'\n",
              "            + ' to learn more about interactive tables.';\n",
              "          element.innerHTML = '';\n",
              "          dataTable['output_type'] = 'display_data';\n",
              "          await google.colab.output.renderOutput(dataTable, element);\n",
              "          const docLink = document.createElement('div');\n",
              "          docLink.innerHTML = docLinkHtml;\n",
              "          element.appendChild(docLink);\n",
              "        }\n",
              "      </script>\n",
              "    </div>\n",
              "  </div>\n",
              "  "
            ]
          },
          "metadata": {},
          "execution_count": 284
        }
      ]
    },
    {
      "cell_type": "markdown",
      "source": [
        "Foram registradas reclamações de 3.515 Instituições diferentes. A média por instituição foi de 17,27, sendo o maior número de 810 para uma mesma instituição.\n",
        "A média de reclamações procedentes foi de 5,42 por instituição reclamada e o maior valor observado foi de 395 para uma mesma instituição.\n",
        "Importante ressaltar que só constam no relatório instituições que tiveram reclamações registradas no período, por isso o número de mínimo em \"Quantidade total de reclamações\" é 1."
      ],
      "metadata": {
        "id": "6pgMcApb9GFH"
      }
    },
    {
      "cell_type": "code",
      "source": [
        "# Agrupando as instâncias por instituição financeira\n",
        "\n",
        "df_groupby = df.groupby('Instituição financeira').sum()\n",
        "df_groupby.shape"
      ],
      "metadata": {
        "colab": {
          "base_uri": "https://localhost:8080/"
        },
        "id": "fvCD1tGz90GI",
        "outputId": "41df1614-47c6-40ab-ad80-b601f669f729"
      },
      "execution_count": 285,
      "outputs": [
        {
          "output_type": "execute_result",
          "data": {
            "text/plain": [
              "(161, 4)"
            ]
          },
          "metadata": {},
          "execution_count": 285
        }
      ]
    },
    {
      "cell_type": "markdown",
      "source": [
        "Existem 3515 registros de infrações reclamadas para diversas instituições. Quando agrupamos por \"Instituição financeira\", obtemos 161 linhas, ou seja, **161 instituições diferentes** tiveram reclamações registradas no período."
      ],
      "metadata": {
        "id": "c0dU6aZlhKAm"
      }
    },
    {
      "cell_type": "code",
      "source": [
        "print(df_groupby)"
      ],
      "metadata": {
        "colab": {
          "base_uri": "https://localhost:8080/"
        },
        "id": "bKpLJJKlMr5d",
        "outputId": "b0953e4a-dc00-41e2-9ecf-cbf95c79e59e"
      },
      "execution_count": 286,
      "outputs": [
        {
          "output_type": "stream",
          "name": "stdout",
          "text": [
            "                                                    Quantidade de reclamações reguladas procedentes  \\\n",
            "Instituição financeira                                                                                \n",
            "ABC-BRASIL (conglomerado)                                                                         6   \n",
            "ACESSO SOLUÇÕES DE PAGAMENTO S.A. - INSTITUIÇÃO...                                              154   \n",
            "ACG INSTITUIÇÃO DE PAGAMENTO S.A.                                                                 2   \n",
            "AFINZ (conglomerado)                                                                             16   \n",
            "AGIBANK (conglomerado)                                                                          184   \n",
            "...                                                                                             ...   \n",
            "VR (conglomerado)                                                                                 7   \n",
            "WESTERN UNION (conglomerado)                                                                      3   \n",
            "WILL (conglomerado)                                                                             125   \n",
            "XP (conglomerado)                                                                               223   \n",
            "YAMAHA MOTOR (conglomerado)                                                                       1   \n",
            "\n",
            "                                                    Quantidade de reclamações reguladas - outras  \\\n",
            "Instituição financeira                                                                             \n",
            "ABC-BRASIL (conglomerado)                                                                      8   \n",
            "ACESSO SOLUÇÕES DE PAGAMENTO S.A. - INSTITUIÇÃO...                                            99   \n",
            "ACG INSTITUIÇÃO DE PAGAMENTO S.A.                                                              0   \n",
            "AFINZ (conglomerado)                                                                          37   \n",
            "AGIBANK (conglomerado)                                                                       383   \n",
            "...                                                                                          ...   \n",
            "VR (conglomerado)                                                                              2   \n",
            "WESTERN UNION (conglomerado)                                                                   6   \n",
            "WILL (conglomerado)                                                                           71   \n",
            "XP (conglomerado)                                                                             72   \n",
            "YAMAHA MOTOR (conglomerado)                                                                    5   \n",
            "\n",
            "                                                    Quantidade de reclamações não reguladas  \\\n",
            "Instituição financeira                                                                        \n",
            "ABC-BRASIL (conglomerado)                                                                 2   \n",
            "ACESSO SOLUÇÕES DE PAGAMENTO S.A. - INSTITUIÇÃO...                                       11   \n",
            "ACG INSTITUIÇÃO DE PAGAMENTO S.A.                                                         0   \n",
            "AFINZ (conglomerado)                                                                     29   \n",
            "AGIBANK (conglomerado)                                                                   67   \n",
            "...                                                                                     ...   \n",
            "VR (conglomerado)                                                                         0   \n",
            "WESTERN UNION (conglomerado)                                                              0   \n",
            "WILL (conglomerado)                                                                      45   \n",
            "XP (conglomerado)                                                                        15   \n",
            "YAMAHA MOTOR (conglomerado)                                                               7   \n",
            "\n",
            "                                                    Quantidade total de reclamações  \n",
            "Instituição financeira                                                               \n",
            "ABC-BRASIL (conglomerado)                                                        16  \n",
            "ACESSO SOLUÇÕES DE PAGAMENTO S.A. - INSTITUIÇÃO...                              264  \n",
            "ACG INSTITUIÇÃO DE PAGAMENTO S.A.                                                 2  \n",
            "AFINZ (conglomerado)                                                             82  \n",
            "AGIBANK (conglomerado)                                                          634  \n",
            "...                                                                             ...  \n",
            "VR (conglomerado)                                                                 9  \n",
            "WESTERN UNION (conglomerado)                                                      9  \n",
            "WILL (conglomerado)                                                             241  \n",
            "XP (conglomerado)                                                               310  \n",
            "YAMAHA MOTOR (conglomerado)                                                      13  \n",
            "\n",
            "[161 rows x 4 columns]\n"
          ]
        }
      ]
    },
    {
      "cell_type": "code",
      "source": [
        "# Resumo estatístico das instituições classificadas pelo Bacen como \n",
        "# \"Top 15\" (com maior volume de depósitos totais).\n",
        "\n",
        "df[df['Categoria']=='Top 15 - Bancos, Financeiras e Instituições de Pagamento'].describe()"
      ],
      "metadata": {
        "colab": {
          "base_uri": "https://localhost:8080/",
          "height": 300
        },
        "id": "Ndc6aoBaPtun",
        "outputId": "10c5fee0-3509-4195-9269-09ca9b64d1b2"
      },
      "execution_count": 287,
      "outputs": [
        {
          "output_type": "execute_result",
          "data": {
            "text/plain": [
              "       Quantidade de reclamações reguladas procedentes  \\\n",
              "count                                      1317.000000   \n",
              "mean                                         10.294609   \n",
              "std                                          29.942342   \n",
              "min                                           0.000000   \n",
              "25%                                           0.000000   \n",
              "50%                                           1.000000   \n",
              "75%                                           7.000000   \n",
              "max                                         395.000000   \n",
              "\n",
              "       Quantidade de reclamações reguladas - outras  \\\n",
              "count                                   1317.000000   \n",
              "mean                                      17.311314   \n",
              "std                                       42.570238   \n",
              "min                                        0.000000   \n",
              "25%                                        0.000000   \n",
              "50%                                        2.000000   \n",
              "75%                                       13.000000   \n",
              "max                                      439.000000   \n",
              "\n",
              "       Quantidade de reclamações não reguladas  \\\n",
              "count                              1317.000000   \n",
              "mean                                  7.675778   \n",
              "std                                  30.840512   \n",
              "min                                   0.000000   \n",
              "25%                                   0.000000   \n",
              "50%                                   0.000000   \n",
              "75%                                   1.000000   \n",
              "max                                 401.000000   \n",
              "\n",
              "       Quantidade total de reclamações  \n",
              "count                      1317.000000  \n",
              "mean                         35.281701  \n",
              "std                          69.800075  \n",
              "min                           1.000000  \n",
              "25%                           2.000000  \n",
              "50%                           8.000000  \n",
              "75%                          33.000000  \n",
              "max                         810.000000  "
            ],
            "text/html": [
              "\n",
              "  <div id=\"df-640268d0-6df1-4298-b6eb-313fd4035a4f\">\n",
              "    <div class=\"colab-df-container\">\n",
              "      <div>\n",
              "<style scoped>\n",
              "    .dataframe tbody tr th:only-of-type {\n",
              "        vertical-align: middle;\n",
              "    }\n",
              "\n",
              "    .dataframe tbody tr th {\n",
              "        vertical-align: top;\n",
              "    }\n",
              "\n",
              "    .dataframe thead th {\n",
              "        text-align: right;\n",
              "    }\n",
              "</style>\n",
              "<table border=\"1\" class=\"dataframe\">\n",
              "  <thead>\n",
              "    <tr style=\"text-align: right;\">\n",
              "      <th></th>\n",
              "      <th>Quantidade de reclamações reguladas procedentes</th>\n",
              "      <th>Quantidade de reclamações reguladas - outras</th>\n",
              "      <th>Quantidade de reclamações não reguladas</th>\n",
              "      <th>Quantidade total de reclamações</th>\n",
              "    </tr>\n",
              "  </thead>\n",
              "  <tbody>\n",
              "    <tr>\n",
              "      <th>count</th>\n",
              "      <td>1317.000000</td>\n",
              "      <td>1317.000000</td>\n",
              "      <td>1317.000000</td>\n",
              "      <td>1317.000000</td>\n",
              "    </tr>\n",
              "    <tr>\n",
              "      <th>mean</th>\n",
              "      <td>10.294609</td>\n",
              "      <td>17.311314</td>\n",
              "      <td>7.675778</td>\n",
              "      <td>35.281701</td>\n",
              "    </tr>\n",
              "    <tr>\n",
              "      <th>std</th>\n",
              "      <td>29.942342</td>\n",
              "      <td>42.570238</td>\n",
              "      <td>30.840512</td>\n",
              "      <td>69.800075</td>\n",
              "    </tr>\n",
              "    <tr>\n",
              "      <th>min</th>\n",
              "      <td>0.000000</td>\n",
              "      <td>0.000000</td>\n",
              "      <td>0.000000</td>\n",
              "      <td>1.000000</td>\n",
              "    </tr>\n",
              "    <tr>\n",
              "      <th>25%</th>\n",
              "      <td>0.000000</td>\n",
              "      <td>0.000000</td>\n",
              "      <td>0.000000</td>\n",
              "      <td>2.000000</td>\n",
              "    </tr>\n",
              "    <tr>\n",
              "      <th>50%</th>\n",
              "      <td>1.000000</td>\n",
              "      <td>2.000000</td>\n",
              "      <td>0.000000</td>\n",
              "      <td>8.000000</td>\n",
              "    </tr>\n",
              "    <tr>\n",
              "      <th>75%</th>\n",
              "      <td>7.000000</td>\n",
              "      <td>13.000000</td>\n",
              "      <td>1.000000</td>\n",
              "      <td>33.000000</td>\n",
              "    </tr>\n",
              "    <tr>\n",
              "      <th>max</th>\n",
              "      <td>395.000000</td>\n",
              "      <td>439.000000</td>\n",
              "      <td>401.000000</td>\n",
              "      <td>810.000000</td>\n",
              "    </tr>\n",
              "  </tbody>\n",
              "</table>\n",
              "</div>\n",
              "      <button class=\"colab-df-convert\" onclick=\"convertToInteractive('df-640268d0-6df1-4298-b6eb-313fd4035a4f')\"\n",
              "              title=\"Convert this dataframe to an interactive table.\"\n",
              "              style=\"display:none;\">\n",
              "        \n",
              "  <svg xmlns=\"http://www.w3.org/2000/svg\" height=\"24px\"viewBox=\"0 0 24 24\"\n",
              "       width=\"24px\">\n",
              "    <path d=\"M0 0h24v24H0V0z\" fill=\"none\"/>\n",
              "    <path d=\"M18.56 5.44l.94 2.06.94-2.06 2.06-.94-2.06-.94-.94-2.06-.94 2.06-2.06.94zm-11 1L8.5 8.5l.94-2.06 2.06-.94-2.06-.94L8.5 2.5l-.94 2.06-2.06.94zm10 10l.94 2.06.94-2.06 2.06-.94-2.06-.94-.94-2.06-.94 2.06-2.06.94z\"/><path d=\"M17.41 7.96l-1.37-1.37c-.4-.4-.92-.59-1.43-.59-.52 0-1.04.2-1.43.59L10.3 9.45l-7.72 7.72c-.78.78-.78 2.05 0 2.83L4 21.41c.39.39.9.59 1.41.59.51 0 1.02-.2 1.41-.59l7.78-7.78 2.81-2.81c.8-.78.8-2.07 0-2.86zM5.41 20L4 18.59l7.72-7.72 1.47 1.35L5.41 20z\"/>\n",
              "  </svg>\n",
              "      </button>\n",
              "      \n",
              "  <style>\n",
              "    .colab-df-container {\n",
              "      display:flex;\n",
              "      flex-wrap:wrap;\n",
              "      gap: 12px;\n",
              "    }\n",
              "\n",
              "    .colab-df-convert {\n",
              "      background-color: #E8F0FE;\n",
              "      border: none;\n",
              "      border-radius: 50%;\n",
              "      cursor: pointer;\n",
              "      display: none;\n",
              "      fill: #1967D2;\n",
              "      height: 32px;\n",
              "      padding: 0 0 0 0;\n",
              "      width: 32px;\n",
              "    }\n",
              "\n",
              "    .colab-df-convert:hover {\n",
              "      background-color: #E2EBFA;\n",
              "      box-shadow: 0px 1px 2px rgba(60, 64, 67, 0.3), 0px 1px 3px 1px rgba(60, 64, 67, 0.15);\n",
              "      fill: #174EA6;\n",
              "    }\n",
              "\n",
              "    [theme=dark] .colab-df-convert {\n",
              "      background-color: #3B4455;\n",
              "      fill: #D2E3FC;\n",
              "    }\n",
              "\n",
              "    [theme=dark] .colab-df-convert:hover {\n",
              "      background-color: #434B5C;\n",
              "      box-shadow: 0px 1px 3px 1px rgba(0, 0, 0, 0.15);\n",
              "      filter: drop-shadow(0px 1px 2px rgba(0, 0, 0, 0.3));\n",
              "      fill: #FFFFFF;\n",
              "    }\n",
              "  </style>\n",
              "\n",
              "      <script>\n",
              "        const buttonEl =\n",
              "          document.querySelector('#df-640268d0-6df1-4298-b6eb-313fd4035a4f button.colab-df-convert');\n",
              "        buttonEl.style.display =\n",
              "          google.colab.kernel.accessAllowed ? 'block' : 'none';\n",
              "\n",
              "        async function convertToInteractive(key) {\n",
              "          const element = document.querySelector('#df-640268d0-6df1-4298-b6eb-313fd4035a4f');\n",
              "          const dataTable =\n",
              "            await google.colab.kernel.invokeFunction('convertToInteractive',\n",
              "                                                     [key], {});\n",
              "          if (!dataTable) return;\n",
              "\n",
              "          const docLinkHtml = 'Like what you see? Visit the ' +\n",
              "            '<a target=\"_blank\" href=https://colab.research.google.com/notebooks/data_table.ipynb>data table notebook</a>'\n",
              "            + ' to learn more about interactive tables.';\n",
              "          element.innerHTML = '';\n",
              "          dataTable['output_type'] = 'display_data';\n",
              "          await google.colab.output.renderOutput(dataTable, element);\n",
              "          const docLink = document.createElement('div');\n",
              "          docLink.innerHTML = docLinkHtml;\n",
              "          element.appendChild(docLink);\n",
              "        }\n",
              "      </script>\n",
              "    </div>\n",
              "  </div>\n",
              "  "
            ]
          },
          "metadata": {},
          "execution_count": 287
        }
      ]
    },
    {
      "cell_type": "code",
      "source": [
        "# Resumo estatístico das demais instituições\n",
        "\n",
        "df[df['Categoria']=='Demais Bancos, Financeiras e Instituições de Pagamento'].describe()"
      ],
      "metadata": {
        "colab": {
          "base_uri": "https://localhost:8080/",
          "height": 300
        },
        "id": "HTVhIl9f90Ji",
        "outputId": "6ae3d53d-16e5-4167-8838-df5d077ecce4"
      },
      "execution_count": 288,
      "outputs": [
        {
          "output_type": "execute_result",
          "data": {
            "text/plain": [
              "       Quantidade de reclamações reguladas procedentes  \\\n",
              "count                                      2198.000000   \n",
              "mean                                          2.511374   \n",
              "std                                          13.134215   \n",
              "min                                           0.000000   \n",
              "25%                                           0.000000   \n",
              "50%                                           0.000000   \n",
              "75%                                           1.000000   \n",
              "max                                         296.000000   \n",
              "\n",
              "       Quantidade de reclamações reguladas - outras  \\\n",
              "count                                   2198.000000   \n",
              "mean                                       2.991811   \n",
              "std                                       10.041241   \n",
              "min                                        0.000000   \n",
              "25%                                        0.000000   \n",
              "50%                                        1.000000   \n",
              "75%                                        2.000000   \n",
              "max                                      256.000000   \n",
              "\n",
              "       Quantidade de reclamações não reguladas  \\\n",
              "count                              2198.000000   \n",
              "mean                                  0.988171   \n",
              "std                                   3.283432   \n",
              "min                                   0.000000   \n",
              "25%                                   0.000000   \n",
              "50%                                   0.000000   \n",
              "75%                                   1.000000   \n",
              "max                                  54.000000   \n",
              "\n",
              "       Quantidade total de reclamações  \n",
              "count                      2198.000000  \n",
              "mean                          6.491356  \n",
              "std                          19.712722  \n",
              "min                           1.000000  \n",
              "25%                           1.000000  \n",
              "50%                           2.000000  \n",
              "75%                           5.000000  \n",
              "max                         465.000000  "
            ],
            "text/html": [
              "\n",
              "  <div id=\"df-12a09315-e958-4ad8-91ce-6c6c14f5d505\">\n",
              "    <div class=\"colab-df-container\">\n",
              "      <div>\n",
              "<style scoped>\n",
              "    .dataframe tbody tr th:only-of-type {\n",
              "        vertical-align: middle;\n",
              "    }\n",
              "\n",
              "    .dataframe tbody tr th {\n",
              "        vertical-align: top;\n",
              "    }\n",
              "\n",
              "    .dataframe thead th {\n",
              "        text-align: right;\n",
              "    }\n",
              "</style>\n",
              "<table border=\"1\" class=\"dataframe\">\n",
              "  <thead>\n",
              "    <tr style=\"text-align: right;\">\n",
              "      <th></th>\n",
              "      <th>Quantidade de reclamações reguladas procedentes</th>\n",
              "      <th>Quantidade de reclamações reguladas - outras</th>\n",
              "      <th>Quantidade de reclamações não reguladas</th>\n",
              "      <th>Quantidade total de reclamações</th>\n",
              "    </tr>\n",
              "  </thead>\n",
              "  <tbody>\n",
              "    <tr>\n",
              "      <th>count</th>\n",
              "      <td>2198.000000</td>\n",
              "      <td>2198.000000</td>\n",
              "      <td>2198.000000</td>\n",
              "      <td>2198.000000</td>\n",
              "    </tr>\n",
              "    <tr>\n",
              "      <th>mean</th>\n",
              "      <td>2.511374</td>\n",
              "      <td>2.991811</td>\n",
              "      <td>0.988171</td>\n",
              "      <td>6.491356</td>\n",
              "    </tr>\n",
              "    <tr>\n",
              "      <th>std</th>\n",
              "      <td>13.134215</td>\n",
              "      <td>10.041241</td>\n",
              "      <td>3.283432</td>\n",
              "      <td>19.712722</td>\n",
              "    </tr>\n",
              "    <tr>\n",
              "      <th>min</th>\n",
              "      <td>0.000000</td>\n",
              "      <td>0.000000</td>\n",
              "      <td>0.000000</td>\n",
              "      <td>1.000000</td>\n",
              "    </tr>\n",
              "    <tr>\n",
              "      <th>25%</th>\n",
              "      <td>0.000000</td>\n",
              "      <td>0.000000</td>\n",
              "      <td>0.000000</td>\n",
              "      <td>1.000000</td>\n",
              "    </tr>\n",
              "    <tr>\n",
              "      <th>50%</th>\n",
              "      <td>0.000000</td>\n",
              "      <td>1.000000</td>\n",
              "      <td>0.000000</td>\n",
              "      <td>2.000000</td>\n",
              "    </tr>\n",
              "    <tr>\n",
              "      <th>75%</th>\n",
              "      <td>1.000000</td>\n",
              "      <td>2.000000</td>\n",
              "      <td>1.000000</td>\n",
              "      <td>5.000000</td>\n",
              "    </tr>\n",
              "    <tr>\n",
              "      <th>max</th>\n",
              "      <td>296.000000</td>\n",
              "      <td>256.000000</td>\n",
              "      <td>54.000000</td>\n",
              "      <td>465.000000</td>\n",
              "    </tr>\n",
              "  </tbody>\n",
              "</table>\n",
              "</div>\n",
              "      <button class=\"colab-df-convert\" onclick=\"convertToInteractive('df-12a09315-e958-4ad8-91ce-6c6c14f5d505')\"\n",
              "              title=\"Convert this dataframe to an interactive table.\"\n",
              "              style=\"display:none;\">\n",
              "        \n",
              "  <svg xmlns=\"http://www.w3.org/2000/svg\" height=\"24px\"viewBox=\"0 0 24 24\"\n",
              "       width=\"24px\">\n",
              "    <path d=\"M0 0h24v24H0V0z\" fill=\"none\"/>\n",
              "    <path d=\"M18.56 5.44l.94 2.06.94-2.06 2.06-.94-2.06-.94-.94-2.06-.94 2.06-2.06.94zm-11 1L8.5 8.5l.94-2.06 2.06-.94-2.06-.94L8.5 2.5l-.94 2.06-2.06.94zm10 10l.94 2.06.94-2.06 2.06-.94-2.06-.94-.94-2.06-.94 2.06-2.06.94z\"/><path d=\"M17.41 7.96l-1.37-1.37c-.4-.4-.92-.59-1.43-.59-.52 0-1.04.2-1.43.59L10.3 9.45l-7.72 7.72c-.78.78-.78 2.05 0 2.83L4 21.41c.39.39.9.59 1.41.59.51 0 1.02-.2 1.41-.59l7.78-7.78 2.81-2.81c.8-.78.8-2.07 0-2.86zM5.41 20L4 18.59l7.72-7.72 1.47 1.35L5.41 20z\"/>\n",
              "  </svg>\n",
              "      </button>\n",
              "      \n",
              "  <style>\n",
              "    .colab-df-container {\n",
              "      display:flex;\n",
              "      flex-wrap:wrap;\n",
              "      gap: 12px;\n",
              "    }\n",
              "\n",
              "    .colab-df-convert {\n",
              "      background-color: #E8F0FE;\n",
              "      border: none;\n",
              "      border-radius: 50%;\n",
              "      cursor: pointer;\n",
              "      display: none;\n",
              "      fill: #1967D2;\n",
              "      height: 32px;\n",
              "      padding: 0 0 0 0;\n",
              "      width: 32px;\n",
              "    }\n",
              "\n",
              "    .colab-df-convert:hover {\n",
              "      background-color: #E2EBFA;\n",
              "      box-shadow: 0px 1px 2px rgba(60, 64, 67, 0.3), 0px 1px 3px 1px rgba(60, 64, 67, 0.15);\n",
              "      fill: #174EA6;\n",
              "    }\n",
              "\n",
              "    [theme=dark] .colab-df-convert {\n",
              "      background-color: #3B4455;\n",
              "      fill: #D2E3FC;\n",
              "    }\n",
              "\n",
              "    [theme=dark] .colab-df-convert:hover {\n",
              "      background-color: #434B5C;\n",
              "      box-shadow: 0px 1px 3px 1px rgba(0, 0, 0, 0.15);\n",
              "      filter: drop-shadow(0px 1px 2px rgba(0, 0, 0, 0.3));\n",
              "      fill: #FFFFFF;\n",
              "    }\n",
              "  </style>\n",
              "\n",
              "      <script>\n",
              "        const buttonEl =\n",
              "          document.querySelector('#df-12a09315-e958-4ad8-91ce-6c6c14f5d505 button.colab-df-convert');\n",
              "        buttonEl.style.display =\n",
              "          google.colab.kernel.accessAllowed ? 'block' : 'none';\n",
              "\n",
              "        async function convertToInteractive(key) {\n",
              "          const element = document.querySelector('#df-12a09315-e958-4ad8-91ce-6c6c14f5d505');\n",
              "          const dataTable =\n",
              "            await google.colab.kernel.invokeFunction('convertToInteractive',\n",
              "                                                     [key], {});\n",
              "          if (!dataTable) return;\n",
              "\n",
              "          const docLinkHtml = 'Like what you see? Visit the ' +\n",
              "            '<a target=\"_blank\" href=https://colab.research.google.com/notebooks/data_table.ipynb>data table notebook</a>'\n",
              "            + ' to learn more about interactive tables.';\n",
              "          element.innerHTML = '';\n",
              "          dataTable['output_type'] = 'display_data';\n",
              "          await google.colab.output.renderOutput(dataTable, element);\n",
              "          const docLink = document.createElement('div');\n",
              "          docLink.innerHTML = docLinkHtml;\n",
              "          element.appendChild(docLink);\n",
              "        }\n",
              "      </script>\n",
              "    </div>\n",
              "  </div>\n",
              "  "
            ]
          },
          "metadata": {},
          "execution_count": 288
        }
      ]
    },
    {
      "cell_type": "markdown",
      "source": [
        "Por ter o maior volume de depósitos totais no país, as instituições \"Top 15\" também apresentam o maior volume de clientes e, consequentemente, estão mais sujeitas à receber reclamações. A média de reclamações totais é de 35,28 nas \"Top 15\" e de 6,49 nas demais instituições."
      ],
      "metadata": {
        "id": "azf7GFzVh9i7"
      }
    },
    {
      "cell_type": "code",
      "source": [
        "# Exibindo a Correlação de Pearson\n",
        "\n",
        "correlacao = df.corr(method='pearson')\n",
        "print(correlacao)"
      ],
      "metadata": {
        "colab": {
          "base_uri": "https://localhost:8080/"
        },
        "id": "ZAAe5GR4-xj6",
        "outputId": "71024add-0fb9-4c77-ddb4-53aaa6a4c401"
      },
      "execution_count": 289,
      "outputs": [
        {
          "output_type": "stream",
          "name": "stdout",
          "text": [
            "                                                 Quantidade de reclamações reguladas procedentes  \\\n",
            "Quantidade de reclamações reguladas procedentes                                         1.000000   \n",
            "Quantidade de reclamações reguladas - outras                                            0.612956   \n",
            "Quantidade de reclamações não reguladas                                                -0.045877   \n",
            "Quantidade total de reclamações                                                         0.793462   \n",
            "\n",
            "                                                 Quantidade de reclamações reguladas - outras  \\\n",
            "Quantidade de reclamações reguladas procedentes                                      0.612956   \n",
            "Quantidade de reclamações reguladas - outras                                         1.000000   \n",
            "Quantidade de reclamações não reguladas                                             -0.053781   \n",
            "Quantidade total de reclamações                                                      0.844830   \n",
            "\n",
            "                                                 Quantidade de reclamações não reguladas  \\\n",
            "Quantidade de reclamações reguladas procedentes                                -0.045877   \n",
            "Quantidade de reclamações reguladas - outras                                   -0.053781   \n",
            "Quantidade de reclamações não reguladas                                         1.000000   \n",
            "Quantidade total de reclamações                                                 0.353905   \n",
            "\n",
            "                                                 Quantidade total de reclamações  \n",
            "Quantidade de reclamações reguladas procedentes                         0.793462  \n",
            "Quantidade de reclamações reguladas - outras                            0.844830  \n",
            "Quantidade de reclamações não reguladas                                 0.353905  \n",
            "Quantidade total de reclamações                                         1.000000  \n"
          ]
        }
      ]
    },
    {
      "cell_type": "markdown",
      "source": [
        "Pelo conceito de **Correlação de Pearson**, existiria uma correlação moderada entre novas reclamações e as reclamações não reguladas. As reclamações procedentes e improcedentes apresentariam alta correlação. \n",
        "Entretanto, como a coluna \"Quantidade total de reclamações\" representa a soma das outras três, é possível que essa correlação possa apresentar uma visão distorcida da relação entre as variáveis.\n",
        "Precisaríamos de uma linha temporal mais consistente para percebermos esta relação no problema de negócio."
      ],
      "metadata": {
        "id": "xbnqg-Zs-_qY"
      }
    },
    {
      "cell_type": "markdown",
      "source": [
        "Considerei que o **heatmap** não era uma boa opção neste caso. A relação entre as variáveis está diretamente relacionada ao atributo \"Quantidade total de reclamações\" e o heatmap não fornece muitas informações úteis sobre as variáveis.\n",
        "Como a intenção é explorar a relação entre quantidade total de reclamações e reclamações procedentes, então é melhor visualizar essa relação diretamente em um gráfico de dispersão ou em um gráfico de barras. "
      ],
      "metadata": {
        "id": "m4cnrb77ESvF"
      }
    },
    {
      "cell_type": "code",
      "source": [
        "# Separando colunas do tipo \"int64\"\n",
        "int_cols = df.select_dtypes(include='int64').columns\n",
        "\n",
        "# Calculando a soma destas colunas\n",
        "df_sum = df[int_cols].sum()\n",
        "print(df_sum)\n",
        "\n"
      ],
      "metadata": {
        "colab": {
          "base_uri": "https://localhost:8080/"
        },
        "id": "uH5VvMDmKXPW",
        "outputId": "7d5cb308-79a0-468a-b65b-a5310897e421"
      },
      "execution_count": 290,
      "outputs": [
        {
          "output_type": "stream",
          "name": "stdout",
          "text": [
            "Quantidade de reclamações reguladas procedentes    19078\n",
            "Quantidade de reclamações reguladas - outras       29375\n",
            "Quantidade de reclamações não reguladas            12281\n",
            "Quantidade total de reclamações                    60734\n",
            "dtype: int64\n"
          ]
        }
      ]
    },
    {
      "cell_type": "markdown",
      "source": [
        "Aqui temos o **somatório** de todas as reclamações registradas. Dos 3515 protocolos abertos, foi gerado um total de 60734 reclamações. Destas, 19078 foram analisadas como procedentes, 29375 improcedentes e 12281 não são objeto de tratamento do Bacen, seja pela ausência de regulamentação ou por não ser regulada pelo Bacen.\n",
        "Neste caso de não reguladas, podemos dar o exemplo de uma reclamação relacionada à indenização de sinistro de um seguro auto, contratado junto à um banco. Neste caso, a reguladora de seguros é a Susep, não o Bacen. A demanda é encerrada como \"Reclamação não regulada\"."
      ],
      "metadata": {
        "id": "UkZW4sL0JSWw"
      }
    },
    {
      "cell_type": "code",
      "source": [
        "# Realizando algumas separações de dataset para melhor visualização e análises\n",
        "\n",
        "# Quantidade total de reclamações\n",
        "df_categoria_qtd_total = df.groupby(by=['Categoria'], as_index=False)['Quantidade total de reclamações'].sum()\n",
        "print(df_categoria_qtd_total)\n"
      ],
      "metadata": {
        "colab": {
          "base_uri": "https://localhost:8080/"
        },
        "id": "p3QK2tGtkq73",
        "outputId": "06bb41a3-2b6c-4673-aaf5-a2e698b32c75"
      },
      "execution_count": 291,
      "outputs": [
        {
          "output_type": "stream",
          "name": "stdout",
          "text": [
            "                                           Categoria  \\\n",
            "0  Demais Bancos, Financeiras e Instituições de P...   \n",
            "1  Top 15 - Bancos, Financeiras e Instituições de...   \n",
            "\n",
            "   Quantidade total de reclamações  \n",
            "0                            14268  \n",
            "1                            46466  \n"
          ]
        }
      ]
    },
    {
      "cell_type": "code",
      "source": [
        "# Quantidade total de reclamações consideradas procedentes\n",
        "\n",
        "df_categoria_qtd_procedente = df.groupby(by=['Categoria'], as_index=False)['Quantidade de reclamações reguladas procedentes'].sum()\n",
        "print(df_categoria_qtd_procedente)"
      ],
      "metadata": {
        "colab": {
          "base_uri": "https://localhost:8080/"
        },
        "id": "_UnXdEZrrM54",
        "outputId": "f75f7f32-7cf5-41ff-c479-e4f62875662d"
      },
      "execution_count": 292,
      "outputs": [
        {
          "output_type": "stream",
          "name": "stdout",
          "text": [
            "                                           Categoria  \\\n",
            "0  Demais Bancos, Financeiras e Instituições de P...   \n",
            "1  Top 15 - Bancos, Financeiras e Instituições de...   \n",
            "\n",
            "   Quantidade de reclamações reguladas procedentes  \n",
            "0                                             5520  \n",
            "1                                            13558  \n"
          ]
        }
      ]
    },
    {
      "cell_type": "code",
      "source": [
        "# Número de irregularidades apresentadas com respectiva contagem\n",
        "# Foram 174 tipos de irregularidades denunciadas no Bacen \n",
        "\n",
        "df['Irregularidade'].value_counts()\n",
        "\n"
      ],
      "metadata": {
        "colab": {
          "base_uri": "https://localhost:8080/"
        },
        "id": "gmTHmTu0juPf",
        "outputId": "ad2ba716-4848-4309-b14c-034a7719b814"
      },
      "execution_count": 293,
      "outputs": [
        {
          "output_type": "execute_result",
          "data": {
            "text/plain": [
              "Insatisfação com a resposta recebida da instituição financeira referente à reclamação registrada no BCB                                                                    68\n",
              "Renegociação de dívida (exceto cartão de crédito)                                                                                                                          67\n",
              "Irregularidades relacionadas ao fornecimento de documentos relativos a operação de crédito, exceto para liquidação antecipada e descritivo do crédito.                     67\n",
              "Irregularidades relacionadas ao Sistema de Informações de Crédito do Banco Central (SCR)                                                                                   66\n",
              "Insatisfação com o atendimento prestado pelo SAC ou Central de Relacionamento                                                                                              59\n",
              "                                                                                                                                                                           ..\n",
              "Não acatamento de solicitação de cancelamento de débitos automáticos em conta de pagamento pré-paga ou não cumprimento das regras aplicáveis - instituição de pagamento     1\n",
              "Pix - tarifa - instituição de pagamento                                                                                                                                     1\n",
              "Alteração contratual sem prévio aviso                                                                                                                                       1\n",
              "Irregularidades relativas a dados cadastrais no Open Banking - instituição de pagamento                                                                                     1\n",
              "Cobrança irregular para fins de remuneração de correspondentes no País                                                                                                      1\n",
              "Name: Irregularidade, Length: 174, dtype: int64"
            ]
          },
          "metadata": {},
          "execution_count": 293
        }
      ]
    },
    {
      "cell_type": "code",
      "source": [
        "# Buscando as 15 instituições que mais tiveram irregularidades consideradas procedentes\n",
        "\n",
        "df_15_maiores_if_reclamadas = df.groupby('Instituição financeira')['Quantidade de reclamações reguladas procedentes'].sum().sort_values(ascending=False).head(15)\n",
        "print(df_15_maiores_if_reclamadas)"
      ],
      "metadata": {
        "id": "Sf0RowM0oNGy",
        "colab": {
          "base_uri": "https://localhost:8080/"
        },
        "outputId": "10ac2a7b-0e24-49fb-9a9a-47206255b972"
      },
      "execution_count": 294,
      "outputs": [
        {
          "output_type": "stream",
          "name": "stdout",
          "text": [
            "Instituição financeira\n",
            "BRADESCO (conglomerado)                                         2390\n",
            "CAIXA ECONÔMICA FEDERAL (conglomerado)                          1687\n",
            "BTG PACTUAL/BANCO PAN (conglomerado)                            1608\n",
            "ITAU (conglomerado)                                             1565\n",
            "SANTANDER (conglomerado)                                        1050\n",
            "FACTA FINANCEIRA S.A. - CRÉDITO FINANCIAMENTO E INVESTIMENTO     845\n",
            "INTER (conglomerado)                                             825\n",
            "BMG (conglomerado)                                               813\n",
            "PAGBANK-PAGSEGURO (conglomerado)                                 781\n",
            "C6 BANK (conglomerado)                                           733\n",
            "MERCADO CRÉDITO (conglomerado)                                   648\n",
            "BB (conglomerado)                                                637\n",
            "ORIGINAL (conglomerado)                                          535\n",
            "NUBANK (conglomerado)                                            482\n",
            "MERCANTIL DO BRASIL (conglomerado)                               381\n",
            "Name: Quantidade de reclamações reguladas procedentes, dtype: int64\n"
          ]
        }
      ]
    },
    {
      "cell_type": "code",
      "source": [
        "# Buscando as 15 maiores irregularidades consideradas procedentes\n",
        "\n",
        "df_15_maiores_irregularidades = df.groupby('Irregularidade')['Quantidade de reclamações reguladas procedentes'].sum().sort_values(ascending=False).head(15)\n",
        "print(df_15_maiores_irregularidades)"
      ],
      "metadata": {
        "colab": {
          "base_uri": "https://localhost:8080/"
        },
        "id": "0x18IWtOUDXz",
        "outputId": "a3e3a354-09b5-4485-d015-09f3e1af6078"
      },
      "execution_count": 295,
      "outputs": [
        {
          "output_type": "stream",
          "name": "stdout",
          "text": [
            "Irregularidade\n",
            "Irregularidades relativas a integridade, confiabilidade, segurança, sigilo ou legitimidade das operações e serviços relacionados a cartões de crédito                                                                                            2952\n",
            "Oferta ou prestação de informação sobre crédito consignado de forma inadequada                                                                                                                                                                   1191\n",
            "Irregularidades relativas a integridade, confiabilidade, segurança, sigilo ou legitimidade das operações e serviços, exceto as relacionadas a cartão de crédito, cartão de débito, internet banking, ATM, credenciadora e operação de crédito    1127\n",
            "Irregularidades relativas a integridade, confiabilidade, segurança, sigilo ou legitimidade dos serviços relacionados a operações de crédito, exceto consignado                                                                                    784\n",
            "Oferta ou prestação de informação sobre o cartão de crédito de forma inadequada                                                                                                                                                                   740\n",
            "Oferta ou prestação de informação sobre operação de crédito de forma inadequada, exceto crédito consignado                                                                                                                                        557\n",
            "Transações não reconhecidas pelo titular da conta, realizadas por terceiros (invasão de conta) em instituições financeiras                                                                                                                        480\n",
            "Irregularidades relativas a integridade, confiabilidade, segurança, sigilo ou legitimidade dos serviços relacionados a operações de crédito consignado                                                                                            454\n",
            "Débito em conta não autorizado pelo cliente, ou não cumprimento das regras aplicáveis                                                                                                                                                             439\n",
            "Bloqueio de valores ou de conta fora do âmbito do Pix - instituição de pagamento                                                                                                                                                                  403\n",
            "Irregularidades relativas a integridade, confiabilidade, segurança, sigilo ou legitimidade das operações e serviços disponibilizados em internet banking                                                                                          387\n",
            "Oferta ou prestação de informação sobre produtos e serviços de forma inadequada, exceto as relacionadas a cartão de crédito, conta e serviços acessórios, credenciadora de cartão e operação de crédito                                           383\n",
            "Abertura de conta de pagamento sem documentação necessária ou com documentação falsa - instituição de pagamento                                                                                                                                   381\n",
            "Irregularidades relativas a integridade, confiabilidade, segurança, sigilo ou legitimidade das operações e serviços prestados relacionados a conta de pagamento pré-paga - instituição de pagamento                                               376\n",
            "Bloqueio de valores ou de conta fora do âmbito do Pix                                                                                                                                                                                             345\n",
            "Name: Quantidade de reclamações reguladas procedentes, dtype: int64\n"
          ]
        }
      ]
    },
    {
      "cell_type": "markdown",
      "source": [
        "**Reclamações procedentes**\n",
        "Dentre os tipos de irregularidade, busquei as 15 que mais foram consideradas procedentes, podendo destacar irregularidade relativas à integridade, confiabilidade, segurança, sigilo ou legitimidade de operações e serviços e à oferta ou prestação de informação inadequada. \n",
        "De 173 tipos listados nas reclamações procedentes, as 6 primeiras representam um total de 7351 registros, cerca de 38,53% do total. Isto representa um número expressivo. Podemos dizer que estas seriam as maiores fragilidades das instituições financeiras em relação ao atendimento adequado dos clientes. "
      ],
      "metadata": {
        "id": "lUI-wQPFWuVs"
      }
    },
    {
      "cell_type": "markdown",
      "source": [
        "**Avaliação Inicial**\n",
        "\n",
        "Em um outro relatório do Bacen (Reclamações e Quantidade de Clientes), informa-se que no 1ºT/2023, o total de clientes ativos em todas as instituições foi de  aproximadamente 356,2 milhões. Os bancos classificados como \"Top 15\" possuem aproximadamente 266 milhões de clientes ativos - cerca de 74,68% (clientes podem manter contas e/ou operações em diversas instituições).  \n",
        "\n",
        "Das 60734 reclamações realizadas, 71,06% foram direcionadas às instituições \"Top 15\", número condizente com o percentual de clientes de sua base. 19078 reclamações foram consideradas procedentes (cerca de 31,41%)."
      ],
      "metadata": {
        "id": "TK4G-tgBQYeS"
      }
    },
    {
      "cell_type": "markdown",
      "source": [
        "### **4.3. Tratamento de Missings**"
      ],
      "metadata": {
        "id": "fIeQK_h1gLx2"
      }
    },
    {
      "cell_type": "code",
      "source": [
        "# Contagem de nulos\n",
        "\n",
        "df.isnull().sum()"
      ],
      "metadata": {
        "colab": {
          "base_uri": "https://localhost:8080/"
        },
        "id": "4RQit1AOQXQd",
        "outputId": "657848ec-034f-4449-acd1-36d81edddb0a"
      },
      "execution_count": 296,
      "outputs": [
        {
          "output_type": "execute_result",
          "data": {
            "text/plain": [
              "Ano                                                0\n",
              "Trimestre                                          0\n",
              "Categoria                                          0\n",
              "Instituição financeira                             0\n",
              "Irregularidade                                     0\n",
              "Quantidade de reclamações reguladas procedentes    0\n",
              "Quantidade de reclamações reguladas - outras       0\n",
              "Quantidade de reclamações não reguladas            0\n",
              "Quantidade total de reclamações                    0\n",
              "dtype: int64"
            ]
          },
          "metadata": {},
          "execution_count": 296
        }
      ]
    },
    {
      "cell_type": "code",
      "source": [
        "# Exibindo visualização matricial que evidencia a ausência de nulidade do dataset\n",
        "\n",
        "ms.matrix(df)"
      ],
      "metadata": {
        "colab": {
          "base_uri": "https://localhost:8080/",
          "height": 938
        },
        "id": "Z8t7BCTgZvAq",
        "outputId": "313a31a2-e523-4c76-d08a-02e6b7198861"
      },
      "execution_count": 297,
      "outputs": [
        {
          "output_type": "execute_result",
          "data": {
            "text/plain": [
              "<Axes: >"
            ]
          },
          "metadata": {},
          "execution_count": 297
        },
        {
          "output_type": "display_data",
          "data": {
            "text/plain": [
              "<Figure size 2500x1000 with 2 Axes>"
            ],
            "image/png": "[encoded data removed]"
          },
          "metadata": {}
        }
      ]
    },
    {
      "cell_type": "markdown",
      "source": [
        "Neste caso não será preciso fazer ajustes de faltantes (exclusão ou substituição) pois o dataset está totalmente preenchido."
      ],
      "metadata": {
        "id": "OBLsPC22aIen"
      }
    },
    {
      "cell_type": "markdown",
      "source": [
        "## **5. Visualizações**"
      ],
      "metadata": {
        "id": "6n8WAyRSgL1B"
      }
    },
    {
      "cell_type": "code",
      "source": [
        "# Defini a paleta de cores utilizando referências da logo do Bacen e de alguns\n",
        "# elementos mais vibrantes na página\n",
        "\n",
        "cores = ['#1A3B5C', '#035B73', '#405B7E', '#CFAF96', '#98796B', '#DC7E3C']\n",
        "\n",
        "# exibe o mapa de cores\n",
        "display(cores)\n",
        "\n",
        "# define uma cor default\n",
        "corDefault = cores[1]\n",
        "\n",
        "# Carrega uma folha de estilos (opcional - questões estéticas)\n",
        "plt.style.use(\"ggplot\")\n",
        "\n",
        "# Modifica mais alguns parâmetros gráficos (opcional - questões estéticas)\n",
        "plt.rc(\"axes\", facecolor=\"#fafafa\", grid = True)\n",
        "plt.rc(\"grid\", color = \"#f0f0f0\")\n",
        "plt.rc(\"axes\", edgecolor=\"#cccccc\", lw=0.1)"
      ],
      "metadata": {
        "colab": {
          "base_uri": "https://localhost:8080/",
          "height": 34
        },
        "id": "Eid__pAwaUxz",
        "outputId": "576fa54a-eb4d-412d-91c4-21532e3d65e6"
      },
      "execution_count": 298,
      "outputs": [
        {
          "output_type": "display_data",
          "data": {
            "text/plain": [
              "['#1A3B5C', '#035B73', '#405B7E', '#CFAF96', '#98796B', '#DC7E3C']"
            ]
          },
          "metadata": {}
        }
      ]
    },
    {
      "cell_type": "code",
      "source": [
        "df.shape"
      ],
      "metadata": {
        "colab": {
          "base_uri": "https://localhost:8080/"
        },
        "id": "Ma6XClG6clxq",
        "outputId": "3cb0a934-f9c4-4e2c-d1ab-92d85f904c11"
      },
      "execution_count": 299,
      "outputs": [
        {
          "output_type": "execute_result",
          "data": {
            "text/plain": [
              "(3515, 9)"
            ]
          },
          "metadata": {},
          "execution_count": 299
        }
      ]
    },
    {
      "cell_type": "markdown",
      "source": [
        "### **5.1. Gráfico de barras simples**"
      ],
      "metadata": {
        "id": "NsmjJsuRe7yV"
      }
    },
    {
      "cell_type": "code",
      "source": [
        "# Plotando as barras do total de reclamações \n",
        "\n",
        "# Função pyplot.bar()\n",
        "\n",
        "# Prepara a figura (fig) e a área do gráfico (ax)\n",
        "fig, ax = plt.subplots(figsize = (10,5))\n",
        "\n",
        "# Define o título\n",
        "plt.title('Quantidade total de reclamações por Categoria de IF')\n",
        "\n",
        "# Define os rótulos dos eixos\n",
        "plt.xlabel('Categoria de IF')\n",
        "plt.ylabel('Total de Reclamações')\n",
        "\n",
        "# Define a fonte do label das colunas\n",
        "plt.xticks(ha = 'center', fontsize = 8)\n",
        "\n",
        "# Plota o gráfico de barras\n",
        "ax.bar(x = df_categoria_qtd_total['Categoria'], height = df_categoria_qtd_total['Quantidade total de reclamações'], color = corDefault)\n",
        "\n",
        "# Acrescenta os valores sobre as barras\n",
        "ax.bar_label(ax.containers[0], fmt=\"%.1f\", fontsize = 14) # formatação do número com uma casa decimal\n",
        "\n",
        "# Ajusta as margens do gráfico (para eliminar margens desnecessárias)\n",
        "plt.tight_layout() \n",
        "\n",
        "# Armazena o gráfico (em diferentes formatos):\n",
        "# - formatos vetoriais (NÃO perdem resolução quando redimensionados)\n",
        "plt.savefig(\"barras-alfa.pdf\")\n",
        "plt.savefig(\"barras-alfa.svg\")\n",
        "# - formato rasterizado (perde resolução quando redimensionado)\n",
        "plt.savefig(\"barras-alfa.png\", dpi = 150, format = \"png\")\n",
        "\n",
        "# Exibe o gráfico\n",
        "plt.show()"
      ],
      "metadata": {
        "colab": {
          "base_uri": "https://localhost:8080/",
          "height": 507
        },
        "id": "tPlYKpDre5z4",
        "outputId": "b3793f27-3328-4f3c-e227-ba108a8b2859"
      },
      "execution_count": 300,
      "outputs": [
        {
          "output_type": "display_data",
          "data": {
            "text/plain": [
              "<Figure size 1000x500 with 1 Axes>"
            ],
            "image/png": "[encoded data removed]"
          },
          "metadata": {}
        }
      ]
    },
    {
      "cell_type": "code",
      "source": [
        "# Gráfico listando 5 maiores valores observados em \"Quantidade total de reclamações\"\n",
        "\n",
        "# Prepara a figura (fig) e a área do gráfico (ax) com largura 10 e altura 5 (em polegadas)\n",
        "fig, ax = plt.subplots(figsize = (10, 5))\n",
        "\n",
        "# Define a altura das barras\n",
        "bar_height = 0.5\n",
        "\n",
        "# Cria dataframe ordenado por valor\n",
        "df_ordem_valor = df.sort_values(['Quantidade total de reclamações'], ascending = False).head(5)\n",
        "\n",
        "# Plota o gráfico de barras\n",
        "b1 = ax.barh(y = df_ordem_valor['Instituição financeira'],\n",
        "             width = df_ordem_valor['Quantidade total de reclamações'], \n",
        "             color = corDefault)\n",
        "\n",
        "b1[0].set_color('#DC7E3C')\n",
        "b1[1].set_color('#98796B')\n",
        "b1[2].set_color('#CFAF96')\n",
        "b1[3].set_color('#1A3B5C')\n",
        "b1[4].set_color('#405B7E')\n",
        "\n",
        "\n",
        "# Acrescenta os valores sobre as barras\n",
        "for i, rect in enumerate(b1.patches):\n",
        "    width = rect.get_width()\n",
        "    ax.text(\n",
        "        x = width + 0.5,                            # posição x\n",
        "        y = rect.get_y() + rect.get_height(),       # posição y\n",
        "        s = \" {:.2f}\".format(rect.get_width()),     # string com o valor\n",
        "        ha = \"left\",                                # alinhamento na horizontal\n",
        "        va = \"bottom\"                               # alinhamento na vertical\n",
        "    )\n",
        "\n",
        "# Acrescenta um título ao gráfico\n",
        "plt.title('Quantidade total de reclamações por Instituição Financeira')\n",
        "\n",
        "# Define os rótulos dos eixos\n",
        "plt.xlabel('Quantidade')\n",
        "plt.ylabel('Instituição Financeira')\n",
        "\n",
        "# Ajusta as margens do gráfico (para eliminar margens desnecessárias)\n",
        "plt.tight_layout() \n",
        "\n",
        "# Armazena o gráfico (em diferentes formatos):\n",
        "# - formatos vetoriais (NÃO perdem resolução quando redimensionados)\n",
        "plt.savefig(\"barras-horiz.pdf\")\n",
        "plt.savefig(\"barras-horiz.svg\")\n",
        "# - formato rasterizado (perde resolução quando redimensionado)\n",
        "plt.savefig(\"barras-horiz.png\", dpi = 150, format = \"png\")\n",
        "\n",
        "# Exibe o gráfico\n",
        "plt.show()"
      ],
      "metadata": {
        "colab": {
          "base_uri": "https://localhost:8080/",
          "height": 507
        },
        "id": "6dC9sn-o5mMU",
        "outputId": "d666620f-565e-4b29-d6df-f1aaaa7c3e45"
      },
      "execution_count": 301,
      "outputs": [
        {
          "output_type": "display_data",
          "data": {
            "text/plain": [
              "<Figure size 1000x500 with 1 Axes>"
            ],
            "image/png": "[encoded data removed]"
          },
          "metadata": {}
        }
      ]
    },
    {
      "cell_type": "code",
      "source": [
        "# seleciona as 15 maiores somas\n",
        "df_top15 = df_groupby['Quantidade total de reclamações'].nlargest(15)\n",
        "\n",
        "# plota o gráfico de barras horizontais\n",
        "fig, ax = plt.subplots(figsize=(10, 8))\n",
        "ax.barh(df_top15.index, df_top15.values, color='#1A3B5C')\n",
        "ax.set_xlabel('Quantidade total de reclamações')\n",
        "ax.set_ylabel('Instituição financeira')\n",
        "ax.set_title('15 maiores somas de reclamações por instituição financeira')\n",
        "plt.show()"
      ],
      "metadata": {
        "colab": {
          "base_uri": "https://localhost:8080/",
          "height": 717
        },
        "id": "nEqcqgzS4CeP",
        "outputId": "2a7eab21-562e-4d24-cd97-5461a2eac2d9"
      },
      "execution_count": 302,
      "outputs": [
        {
          "output_type": "display_data",
          "data": {
            "text/plain": [
              "<Figure size 1000x800 with 1 Axes>"
            ],
            "image/png": "[encoded data removed]"
          },
          "metadata": {}
        }
      ]
    },
    {
      "cell_type": "markdown",
      "source": [
        "### **5.2 Gráfico em Pizza**"
      ],
      "metadata": {
        "id": "sR8pGWBNllom"
      }
    },
    {
      "cell_type": "code",
      "source": [
        "# calculando as somas totais dos atributos de reclamações reguladas procedentes, \n",
        "# reclamações reguladas - outras (não procedentes) e reclamações não reguladas \n",
        "soma_a = df['Quantidade de reclamações reguladas procedentes'].sum()\n",
        "soma_b = df['Quantidade de reclamações reguladas - outras'].sum()\n",
        "soma_c = df['Quantidade de reclamações não reguladas'].sum()\n",
        "\n",
        "# calcula a soma do atributo D (que é a soma de A, B e C)\n",
        "soma_abc = soma_a + soma_b + soma_c\n",
        "\n",
        "# calcula o percentual de A+B+C=D\n",
        "percentual = (soma_abc / soma_d) * 100\n",
        "\n",
        "# cria as listas de valores e rótulos para o gráfico de pizza\n",
        "valores = [soma_a, soma_b, soma_c]\n",
        "rotulos = ['Reclamações reguladas Procedentes', 'Reclamações Reguladas - Outras', 'Reclamações não Reguladas']\n",
        "\n",
        "# plota o gráfico de pizza\n",
        "fig, ax = plt.subplots(figsize = (10,5))\n",
        "ax.pie(valores, labels=rotulos, autopct='%1.1f%%', colors=cores)\n",
        "ax.set_title('Reclamações por tipo de resultado')\n",
        "\n",
        "# adiciona o texto com o percentual de A+B+C=D na parte central do gráfico\n",
        "texto_central = ax.text(0, 0, f'{percentual:.1f}%\\nTotal de Reclamações', ha='center', va='center', fontsize=14)"
      ],
      "metadata": {
        "colab": {
          "base_uri": "https://localhost:8080/",
          "height": 445
        },
        "id": "5QMiLyXARdeZ",
        "outputId": "671f8b39-044e-4454-fde4-dc6ba491504e"
      },
      "execution_count": 303,
      "outputs": [
        {
          "output_type": "display_data",
          "data": {
            "text/plain": [
              "<Figure size 1000x500 with 1 Axes>"
            ],
            "image/png": "[encoded data removed]"
          },
          "metadata": {}
        }
      ]
    },
    {
      "cell_type": "markdown",
      "source": [
        "Das 60734 reclamações  feitas ao Banco Central no primeiro trimestre de 2023, 31,4% foram consideradas procedentes. 20,2% não são reguladas pelo Bacen ou não existe normativo vigente para sua análise. 48,4%, quase metade, foram consideradas improcedentes. Apenas as reclamações procedentes impactam a Instituição Financeira e são estas que geram punições ou sanções do órgão regulador."
      ],
      "metadata": {
        "id": "ypLiiBH7W2w4"
      }
    },
    {
      "cell_type": "markdown",
      "source": [],
      "metadata": {
        "id": "7x-AfRrN2sqG"
      }
    },
    {
      "cell_type": "code",
      "source": [
        "# 2: Plota as barras pelo número de reclamações de cada instituição\n",
        "# Cria dataframe ordenado por valor\n",
        "df_ordem_valor = df.sort_values('Quantidade total de reclamações', ascending = False)\n",
        "df_ordem_valor = df.head(15)\n",
        "\n",
        "# Prepara a figura (fig) e a área do gráfico (ax) com largura 15 e altura 6 (em polegadas)\n",
        "fig, ax = plt.subplots(figsize = (15, 6))\n",
        "\n",
        "# Plota o gráfico de barras\n",
        "b1 = ax.bar(x = df_ordem_valor['Instituição financeira'], height = df_ordem_valor['Quantidade total de reclamações'], color = corDefault)\n",
        "\n",
        "b1[0].set_color('#DC7E3C')\n",
        "b1[1].set_color('#98796B')\n",
        "b1[2].set_color('#CFAF96')\n",
        "b1[3].set_color('#1A3B5C')\n",
        "b1[4].set_color('#405B7E')\n",
        "\n",
        "# Acrescenta um título ao gráfico\n",
        "plt.title('Número total de Reclamações por Instituição Financeira')\n",
        "\n",
        "# Define os rótulos dos eixos\n",
        "# plt.xlabel('Quantidade') # como já está no título, não é necessário\n",
        "plt.ylabel('Quantidade total de reclamação') # é importante esclarecer a unidade e a ordem de grandeza\n",
        "\n",
        "# Ajusta as margens do gráfico (para eliminar margens desnecessárias)\n",
        "plt.tight_layout() \n",
        "\n",
        "# Armazena o gráfico (em diferentes formatos):\n",
        "# - formatos vetoriais (NÃO perdem resolução quando redimensionados)\n",
        "plt.savefig(\"barras-valor-destaque.pdf\")\n",
        "plt.savefig(\"barras-valor-destaque.svg\")\n",
        "# - formato rasterizado (perde resolução quando redimensionado)\n",
        "plt.savefig(\"barras-valor-destaque.png\", dpi = 150, format = \"png\")\n",
        "\n",
        "# Exibe o gráfico\n",
        "plt.show()"
      ],
      "metadata": {
        "colab": {
          "base_uri": "https://localhost:8080/",
          "height": 607
        },
        "id": "SdcdpD7cxTQV",
        "outputId": "6cebcd71-f25b-4434-85e7-20aaf797afd8"
      },
      "execution_count": 304,
      "outputs": [
        {
          "output_type": "display_data",
          "data": {
            "text/plain": [
              "<Figure size 1500x600 with 1 Axes>"
            ],
            "image/png": "[encoded data removed]"
          },
          "metadata": {}
        }
      ]
    },
    {
      "cell_type": "markdown",
      "source": [
        "### **5.3 Histograma**"
      ],
      "metadata": {
        "id": "bpkCnw7IqKB9"
      }
    },
    {
      "cell_type": "code",
      "source": [
        "# Plote o histograma\n",
        "\n",
        "sns.histplot(df_15_maiores_irregularidades, bins=10, color='#1A3B5C');"
      ],
      "metadata": {
        "colab": {
          "base_uri": "https://localhost:8080/",
          "height": 447
        },
        "id": "hArAxQvaqJZb",
        "outputId": "4a3c84dd-033a-4831-8b54-ea267ee062ca"
      },
      "execution_count": 305,
      "outputs": [
        {
          "output_type": "display_data",
          "data": {
            "text/plain": [
              "<Figure size 640x480 with 1 Axes>"
            ],
            "image/png": "[encoded data removed]"
          },
          "metadata": {}
        }
      ]
    },
    {
      "cell_type": "code",
      "source": [
        "sns.boxplot(x=df_15_maiores_if_reclamadas, color='#1A3B5C')"
      ],
      "metadata": {
        "colab": {
          "base_uri": "https://localhost:8080/",
          "height": 464
        },
        "id": "5gEJ0IWn6Hr_",
        "outputId": "dc77e12a-c8d0-4c09-fca2-3b8685620e89"
      },
      "execution_count": 306,
      "outputs": [
        {
          "output_type": "execute_result",
          "data": {
            "text/plain": [
              "<Axes: xlabel='Quantidade de reclamações reguladas procedentes'>"
            ]
          },
          "metadata": {},
          "execution_count": 306
        },
        {
          "output_type": "display_data",
          "data": {
            "text/plain": [
              "<Figure size 640x480 with 1 Axes>"
            ],
            "image/png": "[encoded data removed]"
          },
          "metadata": {}
        }
      ]
    },
    {
      "cell_type": "markdown",
      "source": [
        "### **5.3 Gráficos de dispersão**\n",
        "\n",
        "Gráficos de dispersão não se aplicam neste caso, pois os valores observados estão no mesmo eixo de análise, não sendo possível correlacioná-los e observá-los desta forma."
      ],
      "metadata": {
        "id": "pVbgwpFPl6Bn"
      }
    },
    {
      "cell_type": "code",
      "source": [
        "# Plota o pairplot com a paleta de cores personalizada\n",
        "df_pairplot = sns.pairplot(df, palette='#1A3B5C')\n",
        "\n",
        "# Define o tamanho da fonte para os subplots\n",
        "sns.set(font_scale=0.2)\n",
        "\n",
        "# Define o tamanho da fonte da legenda para 10\n",
        "df_pairplot.axes[0,0].legend(fontsize=10)\n",
        "\n",
        "# Exibe o gráfico\n",
        "plt.show()"
      ],
      "metadata": {
        "colab": {
          "base_uri": "https://localhost:8080/",
          "height": 1000
        },
        "id": "eWUSMKI17md5",
        "outputId": "fda9a402-ace4-40e5-c3c8-a0497221f96e"
      },
      "execution_count": 307,
      "outputs": [
        {
          "output_type": "stream",
          "name": "stderr",
          "text": [
            "WARNING:matplotlib.legend:No artists with labels found to put in legend.  Note that artists whose label start with an underscore are ignored when legend() is called with no argument.\n"
          ]
        },
        {
          "output_type": "display_data",
          "data": {
            "text/plain": [
              "<Figure size 1000x1000 with 20 Axes>"
            ],
            "image/png": "[encoded data removed]"
          },
          "metadata": {}
        }
      ]
    },
    {
      "cell_type": "markdown",
      "source": [
        "## **6. Pré-processamento**"
      ],
      "metadata": {
        "id": "o1sqADfBooZp"
      }
    },
    {
      "cell_type": "code",
      "source": [
        "# Criando uma cópia do dataset\n",
        "\n",
        "variable_copy = df\n",
        "print(variable_copy) \n"
      ],
      "metadata": {
        "colab": {
          "base_uri": "https://localhost:8080/"
        },
        "id": "JU-NmBh771p9",
        "outputId": "1d151e38-af3f-4176-dd18-247eab7fed94"
      },
      "execution_count": 308,
      "outputs": [
        {
          "output_type": "stream",
          "name": "stdout",
          "text": [
            "            Ano Trimestre                                          Categoria  \\\n",
            "0    2023-01-01        1º  Demais Bancos, Financeiras e Instituições de P...   \n",
            "1    2023-01-01        1º  Demais Bancos, Financeiras e Instituições de P...   \n",
            "2    2023-01-01        1º  Demais Bancos, Financeiras e Instituições de P...   \n",
            "3    2023-01-01        1º  Demais Bancos, Financeiras e Instituições de P...   \n",
            "4    2023-01-01        1º  Demais Bancos, Financeiras e Instituições de P...   \n",
            "...         ...       ...                                                ...   \n",
            "3510 2023-01-01        1º  Demais Bancos, Financeiras e Instituições de P...   \n",
            "3511 2023-01-01        1º  Demais Bancos, Financeiras e Instituições de P...   \n",
            "3512 2023-01-01        1º  Demais Bancos, Financeiras e Instituições de P...   \n",
            "3513 2023-01-01        1º  Demais Bancos, Financeiras e Instituições de P...   \n",
            "3514 2023-01-01        1º  Demais Bancos, Financeiras e Instituições de P...   \n",
            "\n",
            "           Instituição financeira  \\\n",
            "0       ABC-BRASIL (conglomerado)   \n",
            "1       ABC-BRASIL (conglomerado)   \n",
            "2       ABC-BRASIL (conglomerado)   \n",
            "3       ABC-BRASIL (conglomerado)   \n",
            "4       ABC-BRASIL (conglomerado)   \n",
            "...                           ...   \n",
            "3510  YAMAHA MOTOR (conglomerado)   \n",
            "3511  YAMAHA MOTOR (conglomerado)   \n",
            "3512  YAMAHA MOTOR (conglomerado)   \n",
            "3513  YAMAHA MOTOR (conglomerado)   \n",
            "3514  YAMAHA MOTOR (conglomerado)   \n",
            "\n",
            "                                         Irregularidade  \\\n",
            "0     Cobrança irregular de tarifa relacionada a con...   \n",
            "1     Débito em conta não autorizado pelo cliente, o...   \n",
            "2     Insatisfação com a resposta recebida da instit...   \n",
            "3     Insatisfação com o atendimento prestado pelo S...   \n",
            "4     Irregularidades relacionadas ao acompanhamento...   \n",
            "...                                                 ...   \n",
            "3510  Irregularidades relacionadas ao fornecimento d...   \n",
            "3511  Irregularidades relacionadas ao fornecimento d...   \n",
            "3512  Irregularidades relativas a integridade, confi...   \n",
            "3513       Reclamações relacionadas a assuntos diversos   \n",
            "3514  Renegociação de dívida (exceto cartão de crédito)   \n",
            "\n",
            "      Quantidade de reclamações reguladas procedentes  \\\n",
            "0                                                   0   \n",
            "1                                                   0   \n",
            "2                                                   0   \n",
            "3                                                   0   \n",
            "4                                                   1   \n",
            "...                                               ...   \n",
            "3510                                                0   \n",
            "3511                                                0   \n",
            "3512                                                1   \n",
            "3513                                                0   \n",
            "3514                                                0   \n",
            "\n",
            "      Quantidade de reclamações reguladas - outras  \\\n",
            "0                                                1   \n",
            "1                                                1   \n",
            "2                                                2   \n",
            "3                                                0   \n",
            "4                                                0   \n",
            "...                                            ...   \n",
            "3510                                             1   \n",
            "3511                                             2   \n",
            "3512                                             2   \n",
            "3513                                             0   \n",
            "3514                                             0   \n",
            "\n",
            "      Quantidade de reclamações não reguladas  Quantidade total de reclamações  \n",
            "0                                           0                                1  \n",
            "1                                           0                                1  \n",
            "2                                           0                                2  \n",
            "3                                           1                                1  \n",
            "4                                           0                                1  \n",
            "...                                       ...                              ...  \n",
            "3510                                        0                                1  \n",
            "3511                                        0                                2  \n",
            "3512                                        0                                3  \n",
            "3513                                        2                                2  \n",
            "3514                                        1                                1  \n",
            "\n",
            "[3515 rows x 9 columns]\n"
          ]
        }
      ]
    },
    {
      "cell_type": "markdown",
      "source": [
        "### **6.1. Divisão do dataset em conjunto de treino e teste**"
      ],
      "metadata": {
        "id": "RDtCcwqCoocI"
      }
    },
    {
      "cell_type": "code",
      "source": [
        "test_size = 0.3\n",
        "seed=42\n",
        "\n",
        "# Separação em conjuntos de treino e teste\n",
        "\n",
        "# Como se trata de um dataset desbalanceado, vou utilizar a técnica de divisão\n",
        "# com estratificação, com base na coluna \"Categoria\"\n",
        "\n",
        "array = df.values\n",
        "X = array[:,0:8]\n",
        "y = df['Categoria']\n",
        "X_train, X_test, y_train, y_test = train_test_split(X, y, test_size=test_size, shuffle=True, random_state=seed, stratify=y)\n"
      ],
      "metadata": {
        "id": "zDIXr2oyYAmu"
      },
      "execution_count": 309,
      "outputs": []
    },
    {
      "cell_type": "markdown",
      "source": [
        "### **6.2. Normalização e padronização**"
      ],
      "metadata": {
        "id": "J0VOUICEow-h"
      }
    },
    {
      "cell_type": "code",
      "source": [
        "# Criando subdataset apenas com dados numéricos\n",
        "\n",
        "df_num = df.drop(columns=['Ano','Trimestre', 'Categoria', 'Instituição financeira', 'Irregularidade'])\n",
        "df_num.head()"
      ],
      "metadata": {
        "id": "4o_r0YSlJi_S",
        "colab": {
          "base_uri": "https://localhost:8080/",
          "height": 206
        },
        "outputId": "c0847f63-46b9-46f3-b077-ecc08f981c08"
      },
      "execution_count": 310,
      "outputs": [
        {
          "output_type": "execute_result",
          "data": {
            "text/plain": [
              "   Quantidade de reclamações reguladas procedentes  \\\n",
              "0                                                0   \n",
              "1                                                0   \n",
              "2                                                0   \n",
              "3                                                0   \n",
              "4                                                1   \n",
              "\n",
              "   Quantidade de reclamações reguladas - outras  \\\n",
              "0                                             1   \n",
              "1                                             1   \n",
              "2                                             2   \n",
              "3                                             0   \n",
              "4                                             0   \n",
              "\n",
              "   Quantidade de reclamações não reguladas  Quantidade total de reclamações  \n",
              "0                                        0                                1  \n",
              "1                                        0                                1  \n",
              "2                                        0                                2  \n",
              "3                                        1                                1  \n",
              "4                                        0                                1  "
            ],
            "text/html": [
              "\n",
              "  <div id=\"df-91fa5094-2f8f-48e4-9bf8-2a4f3da70fc3\">\n",
              "    <div class=\"colab-df-container\">\n",
              "      <div>\n",
              "<style scoped>\n",
              "    .dataframe tbody tr th:only-of-type {\n",
              "        vertical-align: middle;\n",
              "    }\n",
              "\n",
              "    .dataframe tbody tr th {\n",
              "        vertical-align: top;\n",
              "    }\n",
              "\n",
              "    .dataframe thead th {\n",
              "        text-align: right;\n",
              "    }\n",
              "</style>\n",
              "<table border=\"1\" class=\"dataframe\">\n",
              "  <thead>\n",
              "    <tr style=\"text-align: right;\">\n",
              "      <th></th>\n",
              "      <th>Quantidade de reclamações reguladas procedentes</th>\n",
              "      <th>Quantidade de reclamações reguladas - outras</th>\n",
              "      <th>Quantidade de reclamações não reguladas</th>\n",
              "      <th>Quantidade total de reclamações</th>\n",
              "    </tr>\n",
              "  </thead>\n",
              "  <tbody>\n",
              "    <tr>\n",
              "      <th>0</th>\n",
              "      <td>0</td>\n",
              "      <td>1</td>\n",
              "      <td>0</td>\n",
              "      <td>1</td>\n",
              "    </tr>\n",
              "    <tr>\n",
              "      <th>1</th>\n",
              "      <td>0</td>\n",
              "      <td>1</td>\n",
              "      <td>0</td>\n",
              "      <td>1</td>\n",
              "    </tr>\n",
              "    <tr>\n",
              "      <th>2</th>\n",
              "      <td>0</td>\n",
              "      <td>2</td>\n",
              "      <td>0</td>\n",
              "      <td>2</td>\n",
              "    </tr>\n",
              "    <tr>\n",
              "      <th>3</th>\n",
              "      <td>0</td>\n",
              "      <td>0</td>\n",
              "      <td>1</td>\n",
              "      <td>1</td>\n",
              "    </tr>\n",
              "    <tr>\n",
              "      <th>4</th>\n",
              "      <td>1</td>\n",
              "      <td>0</td>\n",
              "      <td>0</td>\n",
              "      <td>1</td>\n",
              "    </tr>\n",
              "  </tbody>\n",
              "</table>\n",
              "</div>\n",
              "      <button class=\"colab-df-convert\" onclick=\"convertToInteractive('df-91fa5094-2f8f-48e4-9bf8-2a4f3da70fc3')\"\n",
              "              title=\"Convert this dataframe to an interactive table.\"\n",
              "              style=\"display:none;\">\n",
              "        \n",
              "  <svg xmlns=\"http://www.w3.org/2000/svg\" height=\"24px\"viewBox=\"0 0 24 24\"\n",
              "       width=\"24px\">\n",
              "    <path d=\"M0 0h24v24H0V0z\" fill=\"none\"/>\n",
              "    <path d=\"M18.56 5.44l.94 2.06.94-2.06 2.06-.94-2.06-.94-.94-2.06-.94 2.06-2.06.94zm-11 1L8.5 8.5l.94-2.06 2.06-.94-2.06-.94L8.5 2.5l-.94 2.06-2.06.94zm10 10l.94 2.06.94-2.06 2.06-.94-2.06-.94-.94-2.06-.94 2.06-2.06.94z\"/><path d=\"M17.41 7.96l-1.37-1.37c-.4-.4-.92-.59-1.43-.59-.52 0-1.04.2-1.43.59L10.3 9.45l-7.72 7.72c-.78.78-.78 2.05 0 2.83L4 21.41c.39.39.9.59 1.41.59.51 0 1.02-.2 1.41-.59l7.78-7.78 2.81-2.81c.8-.78.8-2.07 0-2.86zM5.41 20L4 18.59l7.72-7.72 1.47 1.35L5.41 20z\"/>\n",
              "  </svg>\n",
              "      </button>\n",
              "      \n",
              "  <style>\n",
              "    .colab-df-container {\n",
              "      display:flex;\n",
              "      flex-wrap:wrap;\n",
              "      gap: 12px;\n",
              "    }\n",
              "\n",
              "    .colab-df-convert {\n",
              "      background-color: #E8F0FE;\n",
              "      border: none;\n",
              "      border-radius: 50%;\n",
              "      cursor: pointer;\n",
              "      display: none;\n",
              "      fill: #1967D2;\n",
              "      height: 32px;\n",
              "      padding: 0 0 0 0;\n",
              "      width: 32px;\n",
              "    }\n",
              "\n",
              "    .colab-df-convert:hover {\n",
              "      background-color: #E2EBFA;\n",
              "      box-shadow: 0px 1px 2px rgba(60, 64, 67, 0.3), 0px 1px 3px 1px rgba(60, 64, 67, 0.15);\n",
              "      fill: #174EA6;\n",
              "    }\n",
              "\n",
              "    [theme=dark] .colab-df-convert {\n",
              "      background-color: #3B4455;\n",
              "      fill: #D2E3FC;\n",
              "    }\n",
              "\n",
              "    [theme=dark] .colab-df-convert:hover {\n",
              "      background-color: #434B5C;\n",
              "      box-shadow: 0px 1px 3px 1px rgba(0, 0, 0, 0.15);\n",
              "      filter: drop-shadow(0px 1px 2px rgba(0, 0, 0, 0.3));\n",
              "      fill: #FFFFFF;\n",
              "    }\n",
              "  </style>\n",
              "\n",
              "      <script>\n",
              "        const buttonEl =\n",
              "          document.querySelector('#df-91fa5094-2f8f-48e4-9bf8-2a4f3da70fc3 button.colab-df-convert');\n",
              "        buttonEl.style.display =\n",
              "          google.colab.kernel.accessAllowed ? 'block' : 'none';\n",
              "\n",
              "        async function convertToInteractive(key) {\n",
              "          const element = document.querySelector('#df-91fa5094-2f8f-48e4-9bf8-2a4f3da70fc3');\n",
              "          const dataTable =\n",
              "            await google.colab.kernel.invokeFunction('convertToInteractive',\n",
              "                                                     [key], {});\n",
              "          if (!dataTable) return;\n",
              "\n",
              "          const docLinkHtml = 'Like what you see? Visit the ' +\n",
              "            '<a target=\"_blank\" href=https://colab.research.google.com/notebooks/data_table.ipynb>data table notebook</a>'\n",
              "            + ' to learn more about interactive tables.';\n",
              "          element.innerHTML = '';\n",
              "          dataTable['output_type'] = 'display_data';\n",
              "          await google.colab.output.renderOutput(dataTable, element);\n",
              "          const docLink = document.createElement('div');\n",
              "          docLink.innerHTML = docLinkHtml;\n",
              "          element.appendChild(docLink);\n",
              "        }\n",
              "      </script>\n",
              "    </div>\n",
              "  </div>\n",
              "  "
            ]
          },
          "metadata": {},
          "execution_count": 310
        }
      ]
    },
    {
      "cell_type": "code",
      "source": [
        "# Separando os valores do dataset em componentes de input(x) e output(y)\n",
        "X = df_num.values[:,0:3]\n",
        "Y = df_num.values[:,3]"
      ],
      "metadata": {
        "id": "2oTLFPUdO9wx"
      },
      "execution_count": 311,
      "outputs": []
    },
    {
      "cell_type": "code",
      "source": [
        "# Normalizando os dados\n",
        "rescaledX = MinMaxScaler().fit_transform(X)\n",
        "\n",
        "# Exibindo os dados transformados\n",
        "print('Dados Originais: \\n\\n', df_num.values)\n",
        "print('\\nDados Normalizados (não inclui a coluna class): \\n\\n', rescaledX)"
      ],
      "metadata": {
        "id": "R2CMzPeiGZzR",
        "colab": {
          "base_uri": "https://localhost:8080/"
        },
        "outputId": "39a326bf-391c-4fc0-c8db-b22f81114e16"
      },
      "execution_count": 312,
      "outputs": [
        {
          "output_type": "stream",
          "name": "stdout",
          "text": [
            "Dados Originais: \n",
            "\n",
            " [[0 1 0 1]\n",
            " [0 1 0 1]\n",
            " [0 2 0 2]\n",
            " ...\n",
            " [1 2 0 3]\n",
            " [0 0 2 2]\n",
            " [0 0 1 1]]\n",
            "\n",
            "Dados Normalizados (não inclui a coluna class): \n",
            "\n",
            " [[0.         0.0022779  0.        ]\n",
            " [0.         0.0022779  0.        ]\n",
            " [0.         0.00455581 0.        ]\n",
            " ...\n",
            " [0.00253165 0.00455581 0.        ]\n",
            " [0.         0.         0.00498753]\n",
            " [0.         0.         0.00249377]]\n"
          ]
        }
      ]
    },
    {
      "cell_type": "code",
      "source": [
        "# Padronizando os dados\n",
        "object = StandardScaler()\n",
        "rescaledX = object.fit_transform(df_num)\n",
        "\n",
        "\n",
        "# Exibindo os dados transformados\n",
        "print('Dados Originais: \\n\\n', df_num.values)\n",
        "print('\\nDados Normalizados: \\n\\n', rescaledX)"
      ],
      "metadata": {
        "id": "YkQo35PaGrp5",
        "colab": {
          "base_uri": "https://localhost:8080/"
        },
        "outputId": "daa13d85-0cee-4122-cf9e-5c1aad01650e"
      },
      "execution_count": 313,
      "outputs": [
        {
          "output_type": "stream",
          "name": "stdout",
          "text": [
            "Dados Originais: \n",
            "\n",
            " [[0 1 0 1]\n",
            " [0 1 0 1]\n",
            " [0 2 0 2]\n",
            " ...\n",
            " [1 2 0 3]\n",
            " [0 0 2 2]\n",
            " [0 0 1 1]]\n",
            "\n",
            "Dados Normalizados: \n",
            "\n",
            " [[-0.25370394 -0.26182624 -0.18082923 -0.34233339]\n",
            " [-0.25370394 -0.26182624 -0.18082923 -0.34233339]\n",
            " [-0.25370394 -0.22623771 -0.18082923 -0.32130363]\n",
            " ...\n",
            " [-0.2069606  -0.22623771 -0.18082923 -0.30027387]\n",
            " [-0.25370394 -0.29741476 -0.07731734 -0.32130363]\n",
            " [-0.25370394 -0.29741476 -0.12907329 -0.34233339]]\n"
          ]
        }
      ]
    },
    {
      "cell_type": "markdown",
      "source": [
        "### **6.3. Transformações categóricas**"
      ],
      "metadata": {
        "id": "D3JrtcvBoxcS"
      }
    },
    {
      "cell_type": "code",
      "source": [
        "df_cat =  pd.read_csv(url, sep=';', encoding='ISO-8859-1')\n",
        "# df_cat.drop(columns=['Tipo', 'CNPJ IF', 'Unnamed: 11'], inplace=True)\n",
        "df_cat.head()"
      ],
      "metadata": {
        "id": "ek7CwPM4PTM1",
        "colab": {
          "base_uri": "https://localhost:8080/",
          "height": 476
        },
        "outputId": "a54a46b4-47d0-44a2-e6c9-375566b89935"
      },
      "execution_count": 314,
      "outputs": [
        {
          "output_type": "execute_result",
          "data": {
            "text/plain": [
              "    Ano Trimestre                                          Categoria  \\\n",
              "0  2023        1º  Demais Bancos, Financeiras e Instituições de P...   \n",
              "1  2023        1º  Demais Bancos, Financeiras e Instituições de P...   \n",
              "2  2023        1º  Demais Bancos, Financeiras e Instituições de P...   \n",
              "3  2023        1º  Demais Bancos, Financeiras e Instituições de P...   \n",
              "4  2023        1º  Demais Bancos, Financeiras e Instituições de P...   \n",
              "\n",
              "           Tipo CNPJ IF     Instituição financeira  \\\n",
              "0  Conglomerado          ABC-BRASIL (conglomerado)   \n",
              "1  Conglomerado          ABC-BRASIL (conglomerado)   \n",
              "2  Conglomerado          ABC-BRASIL (conglomerado)   \n",
              "3  Conglomerado          ABC-BRASIL (conglomerado)   \n",
              "4  Conglomerado          ABC-BRASIL (conglomerado)   \n",
              "\n",
              "                                      Irregularidade  \\\n",
              "0  Cobrança irregular de tarifa relacionada a con...   \n",
              "1  Débito em conta não autorizado pelo cliente, o...   \n",
              "2  Insatisfação com a resposta recebida da instit...   \n",
              "3  Insatisfação com o atendimento prestado pelo S...   \n",
              "4  Irregularidades relacionadas ao acompanhamento...   \n",
              "\n",
              "   Quantidade de reclamações reguladas procedentes  \\\n",
              "0                                                0   \n",
              "1                                                0   \n",
              "2                                                0   \n",
              "3                                                0   \n",
              "4                                                1   \n",
              "\n",
              "   Quantidade de reclamações reguladas - outras  \\\n",
              "0                                             1   \n",
              "1                                             1   \n",
              "2                                             2   \n",
              "3                                             0   \n",
              "4                                             0   \n",
              "\n",
              "   Quantidade de reclamações não reguladas  Quantidade total de reclamações  \\\n",
              "0                                        0                                1   \n",
              "1                                        0                                1   \n",
              "2                                        0                                2   \n",
              "3                                        1                                1   \n",
              "4                                        0                                1   \n",
              "\n",
              "   Unnamed: 11  \n",
              "0          NaN  \n",
              "1          NaN  \n",
              "2          NaN  \n",
              "3          NaN  \n",
              "4          NaN  "
            ],
            "text/html": [
              "\n",
              "  <div id=\"df-0238886a-ebd7-40f7-b1bb-ef0d3b4d1fca\">\n",
              "    <div class=\"colab-df-container\">\n",
              "      <div>\n",
              "<style scoped>\n",
              "    .dataframe tbody tr th:only-of-type {\n",
              "        vertical-align: middle;\n",
              "    }\n",
              "\n",
              "    .dataframe tbody tr th {\n",
              "        vertical-align: top;\n",
              "    }\n",
              "\n",
              "    .dataframe thead th {\n",
              "        text-align: right;\n",
              "    }\n",
              "</style>\n",
              "<table border=\"1\" class=\"dataframe\">\n",
              "  <thead>\n",
              "    <tr style=\"text-align: right;\">\n",
              "      <th></th>\n",
              "      <th>Ano</th>\n",
              "      <th>Trimestre</th>\n",
              "      <th>Categoria</th>\n",
              "      <th>Tipo</th>\n",
              "      <th>CNPJ IF</th>\n",
              "      <th>Instituição financeira</th>\n",
              "      <th>Irregularidade</th>\n",
              "      <th>Quantidade de reclamações reguladas procedentes</th>\n",
              "      <th>Quantidade de reclamações reguladas - outras</th>\n",
              "      <th>Quantidade de reclamações não reguladas</th>\n",
              "      <th>Quantidade total de reclamações</th>\n",
              "      <th>Unnamed: 11</th>\n",
              "    </tr>\n",
              "  </thead>\n",
              "  <tbody>\n",
              "    <tr>\n",
              "      <th>0</th>\n",
              "      <td>2023</td>\n",
              "      <td>1º</td>\n",
              "      <td>Demais Bancos, Financeiras e Instituições de P...</td>\n",
              "      <td>Conglomerado</td>\n",
              "      <td></td>\n",
              "      <td>ABC-BRASIL (conglomerado)</td>\n",
              "      <td>Cobrança irregular de tarifa relacionada a con...</td>\n",
              "      <td>0</td>\n",
              "      <td>1</td>\n",
              "      <td>0</td>\n",
              "      <td>1</td>\n",
              "      <td>NaN</td>\n",
              "    </tr>\n",
              "    <tr>\n",
              "      <th>1</th>\n",
              "      <td>2023</td>\n",
              "      <td>1º</td>\n",
              "      <td>Demais Bancos, Financeiras e Instituições de P...</td>\n",
              "      <td>Conglomerado</td>\n",
              "      <td></td>\n",
              "      <td>ABC-BRASIL (conglomerado)</td>\n",
              "      <td>Débito em conta não autorizado pelo cliente, o...</td>\n",
              "      <td>0</td>\n",
              "      <td>1</td>\n",
              "      <td>0</td>\n",
              "      <td>1</td>\n",
              "      <td>NaN</td>\n",
              "    </tr>\n",
              "    <tr>\n",
              "      <th>2</th>\n",
              "      <td>2023</td>\n",
              "      <td>1º</td>\n",
              "      <td>Demais Bancos, Financeiras e Instituições de P...</td>\n",
              "      <td>Conglomerado</td>\n",
              "      <td></td>\n",
              "      <td>ABC-BRASIL (conglomerado)</td>\n",
              "      <td>Insatisfação com a resposta recebida da instit...</td>\n",
              "      <td>0</td>\n",
              "      <td>2</td>\n",
              "      <td>0</td>\n",
              "      <td>2</td>\n",
              "      <td>NaN</td>\n",
              "    </tr>\n",
              "    <tr>\n",
              "      <th>3</th>\n",
              "      <td>2023</td>\n",
              "      <td>1º</td>\n",
              "      <td>Demais Bancos, Financeiras e Instituições de P...</td>\n",
              "      <td>Conglomerado</td>\n",
              "      <td></td>\n",
              "      <td>ABC-BRASIL (conglomerado)</td>\n",
              "      <td>Insatisfação com o atendimento prestado pelo S...</td>\n",
              "      <td>0</td>\n",
              "      <td>0</td>\n",
              "      <td>1</td>\n",
              "      <td>1</td>\n",
              "      <td>NaN</td>\n",
              "    </tr>\n",
              "    <tr>\n",
              "      <th>4</th>\n",
              "      <td>2023</td>\n",
              "      <td>1º</td>\n",
              "      <td>Demais Bancos, Financeiras e Instituições de P...</td>\n",
              "      <td>Conglomerado</td>\n",
              "      <td></td>\n",
              "      <td>ABC-BRASIL (conglomerado)</td>\n",
              "      <td>Irregularidades relacionadas ao acompanhamento...</td>\n",
              "      <td>1</td>\n",
              "      <td>0</td>\n",
              "      <td>0</td>\n",
              "      <td>1</td>\n",
              "      <td>NaN</td>\n",
              "    </tr>\n",
              "  </tbody>\n",
              "</table>\n",
              "</div>\n",
              "      <button class=\"colab-df-convert\" onclick=\"convertToInteractive('df-0238886a-ebd7-40f7-b1bb-ef0d3b4d1fca')\"\n",
              "              title=\"Convert this dataframe to an interactive table.\"\n",
              "              style=\"display:none;\">\n",
              "        \n",
              "  <svg xmlns=\"http://www.w3.org/2000/svg\" height=\"24px\"viewBox=\"0 0 24 24\"\n",
              "       width=\"24px\">\n",
              "    <path d=\"M0 0h24v24H0V0z\" fill=\"none\"/>\n",
              "    <path d=\"M18.56 5.44l.94 2.06.94-2.06 2.06-.94-2.06-.94-.94-2.06-.94 2.06-2.06.94zm-11 1L8.5 8.5l.94-2.06 2.06-.94-2.06-.94L8.5 2.5l-.94 2.06-2.06.94zm10 10l.94 2.06.94-2.06 2.06-.94-2.06-.94-.94-2.06-.94 2.06-2.06.94z\"/><path d=\"M17.41 7.96l-1.37-1.37c-.4-.4-.92-.59-1.43-.59-.52 0-1.04.2-1.43.59L10.3 9.45l-7.72 7.72c-.78.78-.78 2.05 0 2.83L4 21.41c.39.39.9.59 1.41.59.51 0 1.02-.2 1.41-.59l7.78-7.78 2.81-2.81c.8-.78.8-2.07 0-2.86zM5.41 20L4 18.59l7.72-7.72 1.47 1.35L5.41 20z\"/>\n",
              "  </svg>\n",
              "      </button>\n",
              "      \n",
              "  <style>\n",
              "    .colab-df-container {\n",
              "      display:flex;\n",
              "      flex-wrap:wrap;\n",
              "      gap: 12px;\n",
              "    }\n",
              "\n",
              "    .colab-df-convert {\n",
              "      background-color: #E8F0FE;\n",
              "      border: none;\n",
              "      border-radius: 50%;\n",
              "      cursor: pointer;\n",
              "      display: none;\n",
              "      fill: #1967D2;\n",
              "      height: 32px;\n",
              "      padding: 0 0 0 0;\n",
              "      width: 32px;\n",
              "    }\n",
              "\n",
              "    .colab-df-convert:hover {\n",
              "      background-color: #E2EBFA;\n",
              "      box-shadow: 0px 1px 2px rgba(60, 64, 67, 0.3), 0px 1px 3px 1px rgba(60, 64, 67, 0.15);\n",
              "      fill: #174EA6;\n",
              "    }\n",
              "\n",
              "    [theme=dark] .colab-df-convert {\n",
              "      background-color: #3B4455;\n",
              "      fill: #D2E3FC;\n",
              "    }\n",
              "\n",
              "    [theme=dark] .colab-df-convert:hover {\n",
              "      background-color: #434B5C;\n",
              "      box-shadow: 0px 1px 3px 1px rgba(0, 0, 0, 0.15);\n",
              "      filter: drop-shadow(0px 1px 2px rgba(0, 0, 0, 0.3));\n",
              "      fill: #FFFFFF;\n",
              "    }\n",
              "  </style>\n",
              "\n",
              "      <script>\n",
              "        const buttonEl =\n",
              "          document.querySelector('#df-0238886a-ebd7-40f7-b1bb-ef0d3b4d1fca button.colab-df-convert');\n",
              "        buttonEl.style.display =\n",
              "          google.colab.kernel.accessAllowed ? 'block' : 'none';\n",
              "\n",
              "        async function convertToInteractive(key) {\n",
              "          const element = document.querySelector('#df-0238886a-ebd7-40f7-b1bb-ef0d3b4d1fca');\n",
              "          const dataTable =\n",
              "            await google.colab.kernel.invokeFunction('convertToInteractive',\n",
              "                                                     [key], {});\n",
              "          if (!dataTable) return;\n",
              "\n",
              "          const docLinkHtml = 'Like what you see? Visit the ' +\n",
              "            '<a target=\"_blank\" href=https://colab.research.google.com/notebooks/data_table.ipynb>data table notebook</a>'\n",
              "            + ' to learn more about interactive tables.';\n",
              "          element.innerHTML = '';\n",
              "          dataTable['output_type'] = 'display_data';\n",
              "          await google.colab.output.renderOutput(dataTable, element);\n",
              "          const docLink = document.createElement('div');\n",
              "          docLink.innerHTML = docLinkHtml;\n",
              "          element.appendChild(docLink);\n",
              "        }\n",
              "      </script>\n",
              "    </div>\n",
              "  </div>\n",
              "  "
            ]
          },
          "metadata": {},
          "execution_count": 314
        }
      ]
    },
    {
      "cell_type": "code",
      "source": [
        "# verificando nulls no dataset\n",
        "df_cat.isnull().sum()"
      ],
      "metadata": {
        "id": "SWtN-4c6QihR",
        "colab": {
          "base_uri": "https://localhost:8080/"
        },
        "outputId": "e4504f04-d01a-4ac6-9d76-48cf00065b71"
      },
      "execution_count": 315,
      "outputs": [
        {
          "output_type": "execute_result",
          "data": {
            "text/plain": [
              "Ano                                                   0\n",
              "Trimestre                                             0\n",
              "Categoria                                             0\n",
              "Tipo                                                  0\n",
              "CNPJ IF                                               0\n",
              "Instituição financeira                                0\n",
              "Irregularidade                                        0\n",
              "Quantidade de reclamações reguladas procedentes       0\n",
              "Quantidade de reclamações reguladas - outras          0\n",
              "Quantidade de reclamações não reguladas               0\n",
              "Quantidade total de reclamações                       0\n",
              "Unnamed: 11                                        3515\n",
              "dtype: int64"
            ]
          },
          "metadata": {},
          "execution_count": 315
        }
      ]
    },
    {
      "cell_type": "code",
      "source": [
        "# exibindo as dimensões do dataset\n",
        "print(df_cat.shape)\n",
        "\n",
        "# eliminando linhas que tenham ALGUM valor missing\n",
        "df_cat.drop(columns=['Unnamed: 11'], inplace=True)\n",
        "df_cat.dropna(how='any', inplace=True) \n",
        "\n",
        "# exibindo as dimensões do dataset\n",
        "print(df_cat.shape)"
      ],
      "metadata": {
        "id": "pkUDAA6XQxi7",
        "colab": {
          "base_uri": "https://localhost:8080/"
        },
        "outputId": "1dd6ec55-961b-432c-bae8-906c2b2df2b5"
      },
      "execution_count": 316,
      "outputs": [
        {
          "output_type": "stream",
          "name": "stdout",
          "text": [
            "(3515, 12)\n",
            "(3515, 11)\n"
          ]
        }
      ]
    },
    {
      "cell_type": "code",
      "source": [
        "# separando o array em componentes de input e output\n",
        "X = df_cat.values[:,0:10]\n",
        "y = df_cat.values[:,10]"
      ],
      "metadata": {
        "id": "mTj6WyaMYEsh"
      },
      "execution_count": 317,
      "outputs": []
    },
    {
      "cell_type": "markdown",
      "source": [
        "**Codificação Ordinal**"
      ],
      "metadata": {
        "id": "FCETecBlFwKC"
      }
    },
    {
      "cell_type": "code",
      "source": [
        "# ordinal encoding para os atributos X\n",
        "encoded_X = OrdinalEncoder().fit_transform(X)\n",
        "\n",
        "#exibindo os datos transformados\n",
        "print('Atributos transformados:')\n",
        "print(encoded_X[:5, :]) # 5 primeiras linhas, todas as colunas"
      ],
      "metadata": {
        "id": "mJ8UVBkSwi4J",
        "colab": {
          "base_uri": "https://localhost:8080/"
        },
        "outputId": "3e6f1758-17e3-47cb-ff82-31334838c0ad"
      },
      "execution_count": 318,
      "outputs": [
        {
          "output_type": "stream",
          "name": "stdout",
          "text": [
            "Atributos transformados:\n",
            "[[ 0.  0.  0.  1.  0.  0. 22.  0.  1.  0.]\n",
            " [ 0.  0.  0.  1.  0.  0. 42.  0.  1.  0.]\n",
            " [ 0.  0.  0.  1.  0.  0. 51.  0.  2.  0.]\n",
            " [ 0.  0.  0.  1.  0.  0. 53.  0.  0.  1.]\n",
            " [ 0.  0.  0.  1.  0.  0. 71.  1.  0.  0.]]\n"
          ]
        }
      ]
    },
    {
      "cell_type": "markdown",
      "source": [
        "**One-hot encoding**"
      ],
      "metadata": {
        "id": "7whOXTGVF4Ig"
      }
    },
    {
      "cell_type": "code",
      "source": [
        "# one hot encode para os atributos X\n",
        "encoded_X = OneHotEncoder(sparse=False).fit_transform(X)\n",
        "\n",
        "#exibindo dados transformados\n",
        "print('Atributos transformados:')\n",
        "print(encoded_X[:5, :]) # 5 primeiras linhas e todas colunas"
      ],
      "metadata": {
        "id": "-v6UseRWF2c_",
        "colab": {
          "base_uri": "https://localhost:8080/"
        },
        "outputId": "5d3c7d30-d436-4b45-9ee7-51e49e790827"
      },
      "execution_count": 319,
      "outputs": [
        {
          "output_type": "stream",
          "name": "stdout",
          "text": [
            "Atributos transformados:\n",
            "[[1. 1. 1. ... 0. 0. 0.]\n",
            " [1. 1. 1. ... 0. 0. 0.]\n",
            " [1. 1. 1. ... 0. 0. 0.]\n",
            " [1. 1. 1. ... 0. 0. 0.]\n",
            " [1. 1. 1. ... 0. 0. 0.]]\n"
          ]
        }
      ]
    }
  ]
}