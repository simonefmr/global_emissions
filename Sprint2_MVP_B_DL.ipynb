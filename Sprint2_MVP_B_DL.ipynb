{
  "nbformat": 4,
  "nbformat_minor": 0,
  "metadata": {
    "colab": {
      "provenance": [],
      "authorship_tag": "ABX9TyMT55Sg7RbaJEiK7rphjlr1",
      "include_colab_link": true
    },
    "kernelspec": {
      "name": "python3",
      "display_name": "Python 3"
    },
    "language_info": {
      "name": "python"
    }
  },
  "cells": [
    {
      "cell_type": "markdown",
      "metadata": {
        "id": "view-in-github",
        "colab_type": "text"
      },
      "source": [
        "<a href=\"https://colab.research.google.com/github/simonefmr/mvp_pucrio/blob/main/Sprint2_MVP_B_DL.ipynb\" target=\"_parent\"><img src=\"https://colab.research.google.com/assets/colab-badge.svg\" alt=\"Open In Colab\"/></a>"
      ]
    },
    {
      "cell_type": "markdown",
      "source": [
        "# **Pós Graduação Ciência de Dados - PUC Rio**\n",
        "## **MVP Sprint II B - Deep Learning**\n",
        "\n",
        "##Aluna *Simone de Fátima Marques Ramos*\n",
        "\n",
        "## ***AAA***"
      ],
      "metadata": {
        "id": "VdYCI5fQBEzp"
      }
    },
    {
      "cell_type": "markdown",
      "source": [
        "About Dataset\n",
        "O Dataset\n",
        "O dataset imdb é um dos mais famosos benchmarks para modelos de classificação de textos que existe. Dificilmente não será citado em papers que proponham trabalhos envolvendo este tipo de tarefa.\n",
        "\n",
        "A tradução\n",
        "Recentemente eu tive a ideia de traduzir o conteúdo do dataset para o português, para atender a uma necessidade específica. Como vi que o resultado ficou a contento, achei que poderia ser útil para mais alguém. Para que você possa testá-lo, tente adaptar o código disponibilizado neste post: https://medium.com/luisfredgs/an%C3%A1lise-de-sentimentos-com-redes-neurais-recorrentes-lstm-a5352b21e6aa\n",
        "\n",
        "https://www.kaggle.com/datasets/luisfredgs/imdb-ptbr?resource=download"
      ],
      "metadata": {
        "id": "0iTyy6xaSImO"
      }
    },
    {
      "cell_type": "markdown",
      "source": [
        "Você deverá treinar um modelo baseado em Deep Learning para resolver um problema de\n",
        "visão computacional ou processamento de linguagem natural, iniciando na carga e\n",
        "preparação dos dados, incluindo a separação entre treino e teste, modelagem, otimização\n",
        "de hiperparâmetros, até a avaliação e comparação de resultados dos modelos treinados.\n",
        "b."
      ],
      "metadata": {
        "id": "J8eCSmgdFN1u"
      }
    },
    {
      "cell_type": "markdown",
      "source": [
        "**Definição do Problema**\n",
        "\n",
        "Objetivo: entender e descrever claramente o problema que está sendo resolvido.\n",
        "\n",
        "• Qual é a descrição do problema?\n",
        "• Você tem premissas ou hipóteses sobre o problema? Quais?\n",
        "• Que restrições ou condições foram impostas para selecionar os dados?\n",
        "• Descreva o seu dataset (atributos, imagens, anotações, etc).\n",
        "\n",
        "**Preparação de Dados**\n",
        "\n",
        "Objetivo: realizar operações de preparação dos dados.\n",
        "\n",
        "• Separe o dataset entre treino e teste (e validação, se aplicável).\n",
        "• Faz sentido utilizar um método de validação cruzada? Justifique se não utilizar.\n",
        "Verifique quais operações de transformação de dados (como normalização e padronização,\n",
        "transformação de imagens em tensores) são mais apropriadas para o seu problema e salve\n",
        "visões diferentes do seu dataset para posterior avaliação dos modelos.\n",
        "•\n",
        "Refine a quantidade de atributos disponíveis, realizando o processo de feature selection de forma adequada.\n",
        "\n",
        "**Modelagem e treinamento:**\n",
        "\n",
        "Objetivo: construir modelos para resolver o problema em questão.\n",
        "\n",
        "Selecione os algoritmos mais indicados para o problema e dataset escolhidos, justificando as\n",
        "suas escolhas.\n",
        "\n",
        "• Há algum ajuste inicial para os hiperparâmetros?\n",
        "• O modelo foi devidamente treinado? Foi observado problema de underfitting?\n",
        "É possível otimizar os hiperparâmetros de algum dos modelos? Se sim, faça-o, justificando\n",
        "todas as escolhas.\n",
        "• Há algum método avançado ou mais complexo que possa ser avaliado?\n",
        "• Posso criar um comitê de modelos diferentes para o problema (ensembles)?\n",
        "\n",
        "**Avaliação de Resultados:**\n",
        "\n",
        "Objetivo: analisar o desempenho dos modelos gerados em dados não vistos (com a base de teste)\n",
        "\n",
        "• Selecione as métricas de avaliação condizentes com o problema, justificando.\n",
        "• Treine o modelo escolhido com toda a base de treino, e teste-o com a base de teste.\n",
        "• Os resultados fazem sentido?\n",
        "• Foi observado algum problema de overfitting?\n",
        "• Compare os resultados de diferentes modelos.\n",
        "• Descreva a melhor solução encontrada, justificando."
      ],
      "metadata": {
        "id": "fkL_mVQlFPpZ"
      }
    },
    {
      "cell_type": "code",
      "source": [
        "# Importando bibliotecas\n",
        "\n",
        "import pandas as pd"
      ],
      "metadata": {
        "id": "jxoY7KNOzqRQ"
      },
      "execution_count": 2,
      "outputs": []
    },
    {
      "cell_type": "code",
      "execution_count": 25,
      "metadata": {
        "id": "Ezz1aTBSBEIZ",
        "colab": {
          "base_uri": "https://localhost:8080/",
          "height": 276
        },
        "outputId": "237c1b63-7448-4443-e388-cac4df7f936a"
      },
      "outputs": [
        {
          "output_type": "stream",
          "name": "stderr",
          "text": [
            "<ipython-input-25-a991222768ae>:4: FutureWarning: The error_bad_lines argument has been deprecated and will be removed in a future version. Use on_bad_lines in the future.\n",
            "\n",
            "\n",
            "  data = pd.read_csv(url, sep=';', error_bad_lines=False)\n"
          ]
        },
        {
          "output_type": "execute_result",
          "data": {
            "text/plain": [
              "  sentiment                                             review\n",
              "0  Negative  I had no background knowledge of this movie be...\n",
              "1  Negative  I am a huge Jane Austen fan and I ordered the ...\n",
              "2  Negative  Nothing to say but Wow! Has anyone actually ha...\n",
              "3  Negative  i like Jane Austin novels. I love Pride and Pr...\n",
              "4  Negative  In this day and age of incredible special movi..."
            ],
            "text/html": [
              "\n",
              "\n",
              "  <div id=\"df-954f144a-0525-41e6-8df7-f456d5dac6f2\">\n",
              "    <div class=\"colab-df-container\">\n",
              "      <div>\n",
              "<style scoped>\n",
              "    .dataframe tbody tr th:only-of-type {\n",
              "        vertical-align: middle;\n",
              "    }\n",
              "\n",
              "    .dataframe tbody tr th {\n",
              "        vertical-align: top;\n",
              "    }\n",
              "\n",
              "    .dataframe thead th {\n",
              "        text-align: right;\n",
              "    }\n",
              "</style>\n",
              "<table border=\"1\" class=\"dataframe\">\n",
              "  <thead>\n",
              "    <tr style=\"text-align: right;\">\n",
              "      <th></th>\n",
              "      <th>sentiment</th>\n",
              "      <th>review</th>\n",
              "    </tr>\n",
              "  </thead>\n",
              "  <tbody>\n",
              "    <tr>\n",
              "      <th>0</th>\n",
              "      <td>Negative</td>\n",
              "      <td>I had no background knowledge of this movie be...</td>\n",
              "    </tr>\n",
              "    <tr>\n",
              "      <th>1</th>\n",
              "      <td>Negative</td>\n",
              "      <td>I am a huge Jane Austen fan and I ordered the ...</td>\n",
              "    </tr>\n",
              "    <tr>\n",
              "      <th>2</th>\n",
              "      <td>Negative</td>\n",
              "      <td>Nothing to say but Wow! Has anyone actually ha...</td>\n",
              "    </tr>\n",
              "    <tr>\n",
              "      <th>3</th>\n",
              "      <td>Negative</td>\n",
              "      <td>i like Jane Austin novels. I love Pride and Pr...</td>\n",
              "    </tr>\n",
              "    <tr>\n",
              "      <th>4</th>\n",
              "      <td>Negative</td>\n",
              "      <td>In this day and age of incredible special movi...</td>\n",
              "    </tr>\n",
              "  </tbody>\n",
              "</table>\n",
              "</div>\n",
              "      <button class=\"colab-df-convert\" onclick=\"convertToInteractive('df-954f144a-0525-41e6-8df7-f456d5dac6f2')\"\n",
              "              title=\"Convert this dataframe to an interactive table.\"\n",
              "              style=\"display:none;\">\n",
              "\n",
              "  <svg xmlns=\"http://www.w3.org/2000/svg\" height=\"24px\"viewBox=\"0 0 24 24\"\n",
              "       width=\"24px\">\n",
              "    <path d=\"M0 0h24v24H0V0z\" fill=\"none\"/>\n",
              "    <path d=\"M18.56 5.44l.94 2.06.94-2.06 2.06-.94-2.06-.94-.94-2.06-.94 2.06-2.06.94zm-11 1L8.5 8.5l.94-2.06 2.06-.94-2.06-.94L8.5 2.5l-.94 2.06-2.06.94zm10 10l.94 2.06.94-2.06 2.06-.94-2.06-.94-.94-2.06-.94 2.06-2.06.94z\"/><path d=\"M17.41 7.96l-1.37-1.37c-.4-.4-.92-.59-1.43-.59-.52 0-1.04.2-1.43.59L10.3 9.45l-7.72 7.72c-.78.78-.78 2.05 0 2.83L4 21.41c.39.39.9.59 1.41.59.51 0 1.02-.2 1.41-.59l7.78-7.78 2.81-2.81c.8-.78.8-2.07 0-2.86zM5.41 20L4 18.59l7.72-7.72 1.47 1.35L5.41 20z\"/>\n",
              "  </svg>\n",
              "      </button>\n",
              "\n",
              "\n",
              "\n",
              "    <div id=\"df-1afa37e4-2555-45b2-b8ef-6a991304ab9d\">\n",
              "      <button class=\"colab-df-quickchart\" onclick=\"quickchart('df-1afa37e4-2555-45b2-b8ef-6a991304ab9d')\"\n",
              "              title=\"Suggest charts.\"\n",
              "              style=\"display:none;\">\n",
              "\n",
              "<svg xmlns=\"http://www.w3.org/2000/svg\" height=\"24px\"viewBox=\"0 0 24 24\"\n",
              "     width=\"24px\">\n",
              "    <g>\n",
              "        <path d=\"M19 3H5c-1.1 0-2 .9-2 2v14c0 1.1.9 2 2 2h14c1.1 0 2-.9 2-2V5c0-1.1-.9-2-2-2zM9 17H7v-7h2v7zm4 0h-2V7h2v10zm4 0h-2v-4h2v4z\"/>\n",
              "    </g>\n",
              "</svg>\n",
              "      </button>\n",
              "    </div>\n",
              "\n",
              "<style>\n",
              "  .colab-df-quickchart {\n",
              "    background-color: #E8F0FE;\n",
              "    border: none;\n",
              "    border-radius: 50%;\n",
              "    cursor: pointer;\n",
              "    display: none;\n",
              "    fill: #1967D2;\n",
              "    height: 32px;\n",
              "    padding: 0 0 0 0;\n",
              "    width: 32px;\n",
              "  }\n",
              "\n",
              "  .colab-df-quickchart:hover {\n",
              "    background-color: #E2EBFA;\n",
              "    box-shadow: 0px 1px 2px rgba(60, 64, 67, 0.3), 0px 1px 3px 1px rgba(60, 64, 67, 0.15);\n",
              "    fill: #174EA6;\n",
              "  }\n",
              "\n",
              "  [theme=dark] .colab-df-quickchart {\n",
              "    background-color: #3B4455;\n",
              "    fill: #D2E3FC;\n",
              "  }\n",
              "\n",
              "  [theme=dark] .colab-df-quickchart:hover {\n",
              "    background-color: #434B5C;\n",
              "    box-shadow: 0px 1px 3px 1px rgba(0, 0, 0, 0.15);\n",
              "    filter: drop-shadow(0px 1px 2px rgba(0, 0, 0, 0.3));\n",
              "    fill: #FFFFFF;\n",
              "  }\n",
              "</style>\n",
              "\n",
              "    <script>\n",
              "      async function quickchart(key) {\n",
              "        const containerElement = document.querySelector('#' + key);\n",
              "        const charts = await google.colab.kernel.invokeFunction(\n",
              "            'suggestCharts', [key], {});\n",
              "      }\n",
              "    </script>\n",
              "\n",
              "      <script>\n",
              "\n",
              "function displayQuickchartButton(domScope) {\n",
              "  let quickchartButtonEl =\n",
              "    domScope.querySelector('#df-1afa37e4-2555-45b2-b8ef-6a991304ab9d button.colab-df-quickchart');\n",
              "  quickchartButtonEl.style.display =\n",
              "    google.colab.kernel.accessAllowed ? 'block' : 'none';\n",
              "}\n",
              "\n",
              "        displayQuickchartButton(document);\n",
              "      </script>\n",
              "      <style>\n",
              "    .colab-df-container {\n",
              "      display:flex;\n",
              "      flex-wrap:wrap;\n",
              "      gap: 12px;\n",
              "    }\n",
              "\n",
              "    .colab-df-convert {\n",
              "      background-color: #E8F0FE;\n",
              "      border: none;\n",
              "      border-radius: 50%;\n",
              "      cursor: pointer;\n",
              "      display: none;\n",
              "      fill: #1967D2;\n",
              "      height: 32px;\n",
              "      padding: 0 0 0 0;\n",
              "      width: 32px;\n",
              "    }\n",
              "\n",
              "    .colab-df-convert:hover {\n",
              "      background-color: #E2EBFA;\n",
              "      box-shadow: 0px 1px 2px rgba(60, 64, 67, 0.3), 0px 1px 3px 1px rgba(60, 64, 67, 0.15);\n",
              "      fill: #174EA6;\n",
              "    }\n",
              "\n",
              "    [theme=dark] .colab-df-convert {\n",
              "      background-color: #3B4455;\n",
              "      fill: #D2E3FC;\n",
              "    }\n",
              "\n",
              "    [theme=dark] .colab-df-convert:hover {\n",
              "      background-color: #434B5C;\n",
              "      box-shadow: 0px 1px 3px 1px rgba(0, 0, 0, 0.15);\n",
              "      filter: drop-shadow(0px 1px 2px rgba(0, 0, 0, 0.3));\n",
              "      fill: #FFFFFF;\n",
              "    }\n",
              "  </style>\n",
              "\n",
              "      <script>\n",
              "        const buttonEl =\n",
              "          document.querySelector('#df-954f144a-0525-41e6-8df7-f456d5dac6f2 button.colab-df-convert');\n",
              "        buttonEl.style.display =\n",
              "          google.colab.kernel.accessAllowed ? 'block' : 'none';\n",
              "\n",
              "        async function convertToInteractive(key) {\n",
              "          const element = document.querySelector('#df-954f144a-0525-41e6-8df7-f456d5dac6f2');\n",
              "          const dataTable =\n",
              "            await google.colab.kernel.invokeFunction('convertToInteractive',\n",
              "                                                     [key], {});\n",
              "          if (!dataTable) return;\n",
              "\n",
              "          const docLinkHtml = 'Like what you see? Visit the ' +\n",
              "            '<a target=\"_blank\" href=https://colab.research.google.com/notebooks/data_table.ipynb>data table notebook</a>'\n",
              "            + ' to learn more about interactive tables.';\n",
              "          element.innerHTML = '';\n",
              "          dataTable['output_type'] = 'display_data';\n",
              "          await google.colab.output.renderOutput(dataTable, element);\n",
              "          const docLink = document.createElement('div');\n",
              "          docLink.innerHTML = docLinkHtml;\n",
              "          element.appendChild(docLink);\n",
              "        }\n",
              "      </script>\n",
              "    </div>\n",
              "  </div>\n"
            ]
          },
          "metadata": {},
          "execution_count": 25
        }
      ],
      "source": [
        "# Importando Dataset\n",
        "\n",
        "url = ('https://raw.githubusercontent.com/simonefmr/mvp_pucrio/main/review_treino_teste.csv')\n",
        "data = pd.read_csv(url, sep=';', error_bad_lines=False)\n",
        "data.head()"
      ]
    },
    {
      "cell_type": "code",
      "source": [
        "data.shape"
      ],
      "metadata": {
        "colab": {
          "base_uri": "https://localhost:8080/"
        },
        "id": "FCs6McIrHpSL",
        "outputId": "73ca63d3-58ee-41ac-fbd8-4ee59c50c36f"
      },
      "execution_count": 26,
      "outputs": [
        {
          "output_type": "execute_result",
          "data": {
            "text/plain": [
              "(9800, 2)"
            ]
          },
          "metadata": {},
          "execution_count": 26
        }
      ]
    }
  ]
}