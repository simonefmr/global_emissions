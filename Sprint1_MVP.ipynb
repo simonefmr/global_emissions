{
  "nbformat": 4,
  "nbformat_minor": 0,
  "metadata": {
    "colab": {
      "provenance": [],
      "toc_visible": true,
      "authorship_tag": "ABX9TyOgeG4UO97+0OpzSRjxCO6+",
      "include_colab_link": true
    },
    "kernelspec": {
      "name": "python3",
      "display_name": "Python 3"
    },
    "language_info": {
      "name": "python"
    }
  },
  "cells": [
    {
      "cell_type": "markdown",
      "metadata": {
        "id": "view-in-github",
        "colab_type": "text"
      },
      "source": [
        "<a href=\"https://colab.research.google.com/github/simonefmr/mvp_pucrio/blob/main/Sprint1_MVP.ipynb\" target=\"_parent\"><img src=\"https://colab.research.google.com/assets/colab-badge.svg\" alt=\"Open In Colab\"/></a>"
      ]
    },
    {
      "cell_type": "markdown",
      "source": [
        "# **Pós Graduação Ciência de Dados - PUC Rio**\n",
        "# **MVP Sprint I: Análise de Dados e Boas Práticas**\n",
        "\n",
        "## *Análise do Relatório de Reclamações do Banco Central do Brasil - 1º Trimestre 2023*\n",
        "\n",
        "## Aluna: Simone de Fátima Marques Ramos"
      ],
      "metadata": {
        "id": "XYhwDEg6Pdzx"
      }
    },
    {
      "cell_type": "markdown",
      "source": [
        "## **1. Introdução**\n",
        "\n",
        "Todos os anos, o número de clientes bancarizados aumenta no Brasil. O uso de contas para recebimento de pagamento movimentou as instituições financeiras na década de 2000. Nos últimos anos, com o avanço das fintechs, ficou fácil e barato ter uma conta corrente e contar com diversos produtos, sem burocracia ou as temidas filas.\n",
        "\n",
        "Cerca de 16,6 milhões de brasileiros abriram contas em instituições financeiras entre 2020 e 2021, chegando a um total de 182,2 milhões em dezembro de 2021. Em 2002 o país tinha 28% de bancarizados, em 2017 já representava 70% e em 2022 atingiu 84%. Esse avanço, nos últimos anos, é associado ao recebimento do auxílio emergencial (exigência de recebimento em conta) e ao avanço no uso do Pix como meio de pagamento.\n",
        "\n",
        "O Banco Central atua como órgão regulador de instituições financeiras, bancárias, caixas econômicas, cooperativas de crédito, bancos de câmbio etc. Ele define uma série de exigências e normas e monitora as instituições reguladas para seu correto cumprimento.\n",
        "\n",
        "Uma ferramenta utilizada nesta função é a Ouvidoria do Bacen, onde são recebidas reclamações dos clientes e usuários de instituições financeiras e o Bacen intermedia para melhor solução do conflito. Através destes registros é feito o Ranking Bacen.\n",
        "\n",
        "O  Ranking Bacen é formado a partir das reclamações do público registradas nos canais de atendimento do Banco Central (BC): internet, correspondência, presencialmente ou telefone (145). As demandas são analisadas de forma amostral pelo BC.\n",
        "\n",
        "Participam do Ranking: bancos (comerciais, múltiplos, cooperativos, de investimentos), sociedades de crédito, financiamento e investimento (SCFI), instituições de pagamento e administradoras de consórcio.\n",
        "\n",
        "São divulgados três arquivos, no formato CSV, com os seguintes detalhamentos:\n",
        "\n",
        "I- Bancos e financeiras - Reclamações e quantidades de clientes por instituição financeira:\n",
        "Apresenta as quantidades de reclamações e clientes, por instituição financeira, referentes ao mês\n",
        "selecionado.\n",
        "\n",
        "II- Bancos e financeiras - Irregularidades por instituição financeira:\n",
        "Apresenta as quantidades de reclamações, por irregularidade e instituição financeira, referentes ao\n",
        "mês selecionado.\n",
        "\n",
        "III- Bancos e financeiras - Tabela de irregularidades:\n",
        "Apresenta a tabela de irregularidades referente ao mês selecionado.\n",
        "\n",
        "Neste projeto, irei abordar apenas os dados das **Irregularidades por instituição financeira (II)**."
      ],
      "metadata": {
        "id": "XRImLIgNgLOZ"
      }
    },
    {
      "cell_type": "markdown",
      "source": [
        "### **1.1. Problema de aprendizado supervisionado ou não supervisionado e Hipóteses sobre o problema**\n",
        "\n",
        "Fazem parte do ranking as reclamações que foram analisadas e encerradas como:\n",
        "\n",
        "Reclamações reguladas procedentes: casos em que houve sinal de descumprimento de lei ou norma pela instituição financeira no período indicado.\n",
        "Reclamações reguladas – outras: casos em que não houve sinal de descumprimento de lei ou norma pela instituição financeira no período indicado (inclui as reclamações encerradas como improcedentes e não conclusivas).\n",
        "Reclamações não reguladas: casos que não são tratados por lei ou norma expedida pelo Banco Central e não são sujeitos a sua supervisão.\n",
        "Total de reclamações: total de reclamações reguladas procedentes, reclamações reguladas – outras e reclamações não reguladas.\n",
        "\n",
        "Neste projeto analizarei apenas o **primeiro trimestre de 2023**. Sem base histórica, trataremos como um problema de **aprendizado não supervisionado**, sendo o objetivo entender as possíveis relações entre os dados apresentados."
      ],
      "metadata": {
        "id": "pKxheYHrgLZ0"
      }
    },
    {
      "cell_type": "markdown",
      "source": [
        "### **1.2. Definição do Problema**\n",
        "\n",
        "\n",
        "O alto índice de reclamações ou reincidência das mesmas, podem levar o Banco Central a multar as instituições financeiras ou aplicar outras ferramentas de supervisão, como termos de compromisso, acordos de leniência, e medidas coercitivas e acautelatórias.\n",
        "\n",
        "As instituições são classificadas pela ordem decrescente do índice de reclamações, ou seja, da mais reclamada para a menos reclamada, levando-se em consideração o número de clientes ativos de cada uma. Neste projeto não farei a associação com o número de clientes. Será abordado apenas o número absoluto de ocorrências registradas e seu respectivo resultado.\n",
        "\n",
        "As Reclamações reguladas – outras e as Reclamações não reguladas são divulgadas, porém não influenciam na posição das instituições no ranking.\n",
        "\n",
        "No processo de análise, pode ser identificada mais de uma irregularidade para uma mesma reclamação. Nesse caso, cada irregularidade conta como uma ocorrência para cálculo do Ranking de Reclamações.\n",
        "\n",
        "Tentar entender as origens das reclamações é essencial para monitoramento do correto funcionamento do sistema financeiro pelo Bacen, assim como pelas instituições financeiras, que buscam atendimento de qualidade e não desejam ter suas atividades limitadas ou restritas por força de sanção."
      ],
      "metadata": {
        "id": "oN9ciXUngeCX"
      }
    },
    {
      "cell_type": "markdown",
      "source": [
        "## **2. Importação de pacotes e bibliotecas**"
      ],
      "metadata": {
        "id": "qVyNwmyvgLc_"
      }
    },
    {
      "cell_type": "code",
      "source": [
        "# Importando bibliotecas e pacotes que serão utilizados na análise\n",
        "\n",
        "# Importação de Bibliotecas\n",
        "import pandas as pd\n",
        "import numpy as np\n",
        "import glob\n",
        "import seaborn as sns\n",
        "import statistics\n",
        "import matplotlib.pyplot as plt\n",
        "import matplotlib as mpl\n",
        "from matplotlib.patches import Patch, Polygon\n",
        "import matplotlib.patheffects as path_effects\n",
        "from matplotlib.lines import Line2D\n",
        "import plotly.express as px\n",
        "from pandas import set_option\n",
        "from pandas.plotting import scatter_matrix\n",
        "\n",
        "from IPython.utils.sysinfo import encoding\n",
        "\n",
        "# para tratamento de data\n",
        "import datetime\n",
        "\n",
        "# para tratamento de missings\n",
        "import missingno as ms\n",
        "\n",
        "# Configuração para não exibir os warnings\n",
        "import warnings\n",
        "warnings.filterwarnings(\"ignore\")\n",
        "\n",
        "## transformações numéricas\n",
        "import unicodedata\n",
        "from sklearn.model_selection import train_test_split # para divisão de treino e teste\n",
        "from sklearn.preprocessing import MinMaxScaler # para normalização\n",
        "from sklearn.preprocessing import StandardScaler # para padronização\n",
        "\n",
        "## transformações categóricas\n",
        "from sklearn.preprocessing import OneHotEncoder\n",
        "from sklearn.preprocessing import OrdinalEncoder"
      ],
      "metadata": {
        "id": "WqEg-Kbpz-UP"
      },
      "execution_count": null,
      "outputs": []
    },
    {
      "cell_type": "code",
      "source": [
        "# Versões das Bibliotecas utilizadas\n",
        "\n",
        "pd_pd = pd.__version__\n",
        "np_np = np.__version__\n",
        "sns_sns = sns.__version__\n",
        "\n",
        "print('Versões utilizadas na análise:')\n",
        "print('Pandas = '+pd_pd)\n",
        "print('Numpy = '+np_np)\n",
        "print('Seaborn = '+sns_sns)"
      ],
      "metadata": {
        "colab": {
          "base_uri": "https://localhost:8080/"
        },
        "id": "AftRnx6N0GuH",
        "outputId": "b2ee3b2f-44a7-42e7-b153-9bd8e9d06bcf"
      },
      "execution_count": null,
      "outputs": [
        {
          "output_type": "stream",
          "name": "stdout",
          "text": [
            "Versões utilizadas na análise:\n",
            "Pandas = 1.5.3\n",
            "Numpy = 1.22.4\n",
            "Seaborn = 0.12.2\n"
          ]
        }
      ]
    },
    {
      "cell_type": "markdown",
      "source": [
        "## **3. Carregamento dos dados**\n",
        "\n",
        "Os dados estão disponíveis no site do Banco Central e são publicados desde 2014.\n",
        "O relatório trimestral é divulgado no formato CSV, disponível para download, não sendo possível sua consulta direta no site.\n",
        "\n",
        "https://www3.bcb.gov.br/ranking/historico.do\n"
      ],
      "metadata": {
        "id": "Lloyb_80gLf8"
      }
    },
    {
      "cell_type": "code",
      "source": [
        "# Definindo a url dos dados\n",
        "\n",
        "url = 'https://raw.githubusercontent.com/simonefmr/teste/main/ranking_irregularidades.csv'"
      ],
      "metadata": {
        "id": "pMbA_-Ee0KG5"
      },
      "execution_count": null,
      "outputs": []
    },
    {
      "cell_type": "code",
      "source": [
        "# Carregando o dataset através da url do github\n",
        "\n",
        "df = pd.read_csv(url, sep=';', encoding='ISO-8859-1')"
      ],
      "metadata": {
        "id": "hchA9mjL1EEg"
      },
      "execution_count": null,
      "outputs": []
    },
    {
      "cell_type": "markdown",
      "source": [
        "### **3.1. Condições ou restrições impostas para selecionar os dados**\n",
        "\n",
        "Não houve dificuldade de carregamento dos dados. Foi preciso ajustar o separador e o encoding para correta leitura do dataset."
      ],
      "metadata": {
        "id": "gNLm-mExgLi8"
      }
    },
    {
      "cell_type": "markdown",
      "source": [
        "### **3.2. Definição dos atributos**"
      ],
      "metadata": {
        "id": "8adPE9XCgLl8"
      }
    },
    {
      "cell_type": "code",
      "source": [
        "# labels dos atributos do dataset\n",
        "\n",
        "df.columns"
      ],
      "metadata": {
        "colab": {
          "base_uri": "https://localhost:8080/"
        },
        "id": "1Gr7d7ij3jhr",
        "outputId": "20f2a546-5017-495a-b245-664b8e663cd3"
      },
      "execution_count": null,
      "outputs": [
        {
          "output_type": "execute_result",
          "data": {
            "text/plain": [
              "Index(['Ano', 'Trimestre', 'Categoria', 'Tipo', 'CNPJ IF',\n",
              "       'Instituição financeira', 'Irregularidade',\n",
              "       'Quantidade de reclamações reguladas procedentes',\n",
              "       'Quantidade de reclamações reguladas - outras',\n",
              "       'Quantidade de reclamações não reguladas',\n",
              "       'Quantidade total de reclamações', 'Unnamed: 11'],\n",
              "      dtype='object')"
            ]
          },
          "metadata": {},
          "execution_count": 317
        }
      ]
    },
    {
      "cell_type": "markdown",
      "source": [
        "**Definindo o que cada atributo representa**\n",
        "\n",
        "**Ano:** Ano de referência.\n",
        "\n",
        "**Trimestre:** Trimestre de referência\n",
        "\n",
        "**Categoria Listagem do ranking:** Mais de dois milhões de clientes ou Menos de dois milhões de clientes.\n",
        "\n",
        "**Tipo:** Tipo de instituição: Bancos e financeiras ou\n",
        "Conglomerados.\n",
        "\n",
        "**CNPJ IF:** CNPJ da instituição financeira (para bancos e financeiras). *Para conglomerados, esse campo não é preenchido.*\n",
        "\n",
        "**Instituição financeira:** Nome da instituição financeira ou do conglomerado.\n",
        "\n",
        "**Irregularidade:** Nome da irregularidade.\n",
        "\n",
        "**Quantidade de reclamações reguladas procedentes:** Quantidade de reclamações reguladas procedentes,\n",
        "associadas à irregularidade, encerradas no mês de\n",
        "referência.\n",
        "\n",
        "**Quantidade de reclamações reguladas - outras:** Quantidade de reclamações reguladas – outras, associadas à irregularidade, encerradas no mês de referência (Não procedentes).\n",
        "\n",
        "**Quantidade de reclamações não reguladas:** Quantidade de reclamações não reguladas, associadas à irregularidade, encerradas no mês de referência (Irreguladas são reclamações que não tem base regulamentada ou que sua regulamentação não é de competência do Banco Central.\n",
        "\n",
        "**Quantidade total de reclamações:** Quantidade total de reclamações, associadas à irregularidade, encerradas no mês de referência."
      ],
      "metadata": {
        "id": "KI60qLUq3oN3"
      }
    },
    {
      "cell_type": "markdown",
      "source": [
        "## **4. Análise de Dados**"
      ],
      "metadata": {
        "id": "8cqbAd99gLoz"
      }
    },
    {
      "cell_type": "markdown",
      "source": [
        "### **4.1. Limpeza preliminar dos dados**"
      ],
      "metadata": {
        "id": "d4hN4DZhgLr0"
      }
    },
    {
      "cell_type": "code",
      "source": [
        "# Eliminando a coluna \"Unnamed\" que não possui dados\n",
        "\n",
        "df.drop(columns=['Unnamed: 11'], inplace=True)"
      ],
      "metadata": {
        "id": "6swXh5In6ZOz"
      },
      "execution_count": null,
      "outputs": []
    },
    {
      "cell_type": "code",
      "source": [
        "# Busco informações sobre contagem de não nulos e tipo de cada atributo\n",
        "\n",
        "df.info()"
      ],
      "metadata": {
        "colab": {
          "base_uri": "https://localhost:8080/"
        },
        "id": "fg5upg8_6lvE",
        "outputId": "8de78e84-d1dc-484c-ab90-f7ec4dbf2c60"
      },
      "execution_count": null,
      "outputs": [
        {
          "output_type": "stream",
          "name": "stdout",
          "text": [
            "<class 'pandas.core.frame.DataFrame'>\n",
            "RangeIndex: 3515 entries, 0 to 3514\n",
            "Data columns (total 11 columns):\n",
            " #   Column                                           Non-Null Count  Dtype \n",
            "---  ------                                           --------------  ----- \n",
            " 0   Ano                                              3515 non-null   int64 \n",
            " 1   Trimestre                                        3515 non-null   object\n",
            " 2   Categoria                                        3515 non-null   object\n",
            " 3   Tipo                                             3515 non-null   object\n",
            " 4   CNPJ IF                                          3515 non-null   object\n",
            " 5   Instituição financeira                           3515 non-null   object\n",
            " 6   Irregularidade                                   3515 non-null   object\n",
            " 7   Quantidade de reclamações reguladas procedentes  3515 non-null   int64 \n",
            " 8   Quantidade de reclamações reguladas - outras     3515 non-null   int64 \n",
            " 9   Quantidade de reclamações não reguladas          3515 non-null   int64 \n",
            " 10  Quantidade total de reclamações                  3515 non-null   int64 \n",
            "dtypes: int64(5), object(6)\n",
            "memory usage: 302.2+ KB\n"
          ]
        }
      ]
    },
    {
      "cell_type": "code",
      "source": [
        "# Vamos excluir as colunas \"Tipo\" e \"CNPJ IF\" pois não apresentam dados\n",
        "# relevantes para a análise\n",
        "\n",
        "df.drop(columns=['Tipo', 'CNPJ IF'], inplace=True)"
      ],
      "metadata": {
        "id": "uuc24Mnd8iGF"
      },
      "execution_count": null,
      "outputs": []
    },
    {
      "cell_type": "code",
      "source": [
        "print(df.columns)"
      ],
      "metadata": {
        "colab": {
          "base_uri": "https://localhost:8080/"
        },
        "id": "9Z0woEBOKDYb",
        "outputId": "50cb7b46-5f92-47ae-aa8f-856191fb4abd"
      },
      "execution_count": null,
      "outputs": [
        {
          "output_type": "stream",
          "name": "stdout",
          "text": [
            "Index(['Ano', 'Trimestre', 'Categoria', 'Instituição financeira',\n",
            "       'Irregularidade', 'Quantidade de reclamações reguladas procedentes',\n",
            "       'Quantidade de reclamações reguladas - outras',\n",
            "       'Quantidade de reclamações não reguladas',\n",
            "       'Quantidade total de reclamações'],\n",
            "      dtype='object')\n"
          ]
        }
      ]
    },
    {
      "cell_type": "code",
      "source": [
        "# Classificando a coluna \"Ano\" como data\n",
        "\n",
        "df['Ano'] = pd.to_datetime(df['Ano'], format='%Y')\n",
        "df.dtypes"
      ],
      "metadata": {
        "colab": {
          "base_uri": "https://localhost:8080/"
        },
        "id": "_Ti1Kzor_zdI",
        "outputId": "c04e83f8-42b7-4e18-f888-a576b1dbcefb"
      },
      "execution_count": null,
      "outputs": [
        {
          "output_type": "execute_result",
          "data": {
            "text/plain": [
              "Ano                                                datetime64[ns]\n",
              "Trimestre                                                  object\n",
              "Categoria                                                  object\n",
              "Instituição financeira                                     object\n",
              "Irregularidade                                             object\n",
              "Quantidade de reclamações reguladas procedentes             int64\n",
              "Quantidade de reclamações reguladas - outras                int64\n",
              "Quantidade de reclamações não reguladas                     int64\n",
              "Quantidade total de reclamações                             int64\n",
              "dtype: object"
            ]
          },
          "metadata": {},
          "execution_count": 322
        }
      ]
    },
    {
      "cell_type": "code",
      "source": [
        "# Exibindo as primeiras linhas verifico que o dataset foi carregado corretamente\n",
        "\n",
        "df.head()"
      ],
      "metadata": {
        "colab": {
          "base_uri": "https://localhost:8080/",
          "height": 475
        },
        "id": "h-iusPtJ6rIU",
        "outputId": "79fe86bc-0d09-468f-95c5-bcd7afca6570"
      },
      "execution_count": null,
      "outputs": [
        {
          "output_type": "execute_result",
          "data": {
            "text/plain": [
              "         Ano Trimestre                                          Categoria  \\\n",
              "0 2023-01-01        1º  Demais Bancos, Financeiras e Instituições de P...   \n",
              "1 2023-01-01        1º  Demais Bancos, Financeiras e Instituições de P...   \n",
              "2 2023-01-01        1º  Demais Bancos, Financeiras e Instituições de P...   \n",
              "3 2023-01-01        1º  Demais Bancos, Financeiras e Instituições de P...   \n",
              "4 2023-01-01        1º  Demais Bancos, Financeiras e Instituições de P...   \n",
              "\n",
              "      Instituição financeira  \\\n",
              "0  ABC-BRASIL (conglomerado)   \n",
              "1  ABC-BRASIL (conglomerado)   \n",
              "2  ABC-BRASIL (conglomerado)   \n",
              "3  ABC-BRASIL (conglomerado)   \n",
              "4  ABC-BRASIL (conglomerado)   \n",
              "\n",
              "                                      Irregularidade  \\\n",
              "0  Cobrança irregular de tarifa relacionada a con...   \n",
              "1  Débito em conta não autorizado pelo cliente, o...   \n",
              "2  Insatisfação com a resposta recebida da instit...   \n",
              "3  Insatisfação com o atendimento prestado pelo S...   \n",
              "4  Irregularidades relacionadas ao acompanhamento...   \n",
              "\n",
              "   Quantidade de reclamações reguladas procedentes  \\\n",
              "0                                                0   \n",
              "1                                                0   \n",
              "2                                                0   \n",
              "3                                                0   \n",
              "4                                                1   \n",
              "\n",
              "   Quantidade de reclamações reguladas - outras  \\\n",
              "0                                             1   \n",
              "1                                             1   \n",
              "2                                             2   \n",
              "3                                             0   \n",
              "4                                             0   \n",
              "\n",
              "   Quantidade de reclamações não reguladas  Quantidade total de reclamações  \n",
              "0                                        0                                1  \n",
              "1                                        0                                1  \n",
              "2                                        0                                2  \n",
              "3                                        1                                1  \n",
              "4                                        0                                1  "
            ],
            "text/html": [
              "\n",
              "  <div id=\"df-ff07d294-3867-46d9-8d0f-b04e9c230774\">\n",
              "    <div class=\"colab-df-container\">\n",
              "      <div>\n",
              "<style scoped>\n",
              "    .dataframe tbody tr th:only-of-type {\n",
              "        vertical-align: middle;\n",
              "    }\n",
              "\n",
              "    .dataframe tbody tr th {\n",
              "        vertical-align: top;\n",
              "    }\n",
              "\n",
              "    .dataframe thead th {\n",
              "        text-align: right;\n",
              "    }\n",
              "</style>\n",
              "<table border=\"1\" class=\"dataframe\">\n",
              "  <thead>\n",
              "    <tr style=\"text-align: right;\">\n",
              "      <th></th>\n",
              "      <th>Ano</th>\n",
              "      <th>Trimestre</th>\n",
              "      <th>Categoria</th>\n",
              "      <th>Instituição financeira</th>\n",
              "      <th>Irregularidade</th>\n",
              "      <th>Quantidade de reclamações reguladas procedentes</th>\n",
              "      <th>Quantidade de reclamações reguladas - outras</th>\n",
              "      <th>Quantidade de reclamações não reguladas</th>\n",
              "      <th>Quantidade total de reclamações</th>\n",
              "    </tr>\n",
              "  </thead>\n",
              "  <tbody>\n",
              "    <tr>\n",
              "      <th>0</th>\n",
              "      <td>2023-01-01</td>\n",
              "      <td>1º</td>\n",
              "      <td>Demais Bancos, Financeiras e Instituições de P...</td>\n",
              "      <td>ABC-BRASIL (conglomerado)</td>\n",
              "      <td>Cobrança irregular de tarifa relacionada a con...</td>\n",
              "      <td>0</td>\n",
              "      <td>1</td>\n",
              "      <td>0</td>\n",
              "      <td>1</td>\n",
              "    </tr>\n",
              "    <tr>\n",
              "      <th>1</th>\n",
              "      <td>2023-01-01</td>\n",
              "      <td>1º</td>\n",
              "      <td>Demais Bancos, Financeiras e Instituições de P...</td>\n",
              "      <td>ABC-BRASIL (conglomerado)</td>\n",
              "      <td>Débito em conta não autorizado pelo cliente, o...</td>\n",
              "      <td>0</td>\n",
              "      <td>1</td>\n",
              "      <td>0</td>\n",
              "      <td>1</td>\n",
              "    </tr>\n",
              "    <tr>\n",
              "      <th>2</th>\n",
              "      <td>2023-01-01</td>\n",
              "      <td>1º</td>\n",
              "      <td>Demais Bancos, Financeiras e Instituições de P...</td>\n",
              "      <td>ABC-BRASIL (conglomerado)</td>\n",
              "      <td>Insatisfação com a resposta recebida da instit...</td>\n",
              "      <td>0</td>\n",
              "      <td>2</td>\n",
              "      <td>0</td>\n",
              "      <td>2</td>\n",
              "    </tr>\n",
              "    <tr>\n",
              "      <th>3</th>\n",
              "      <td>2023-01-01</td>\n",
              "      <td>1º</td>\n",
              "      <td>Demais Bancos, Financeiras e Instituições de P...</td>\n",
              "      <td>ABC-BRASIL (conglomerado)</td>\n",
              "      <td>Insatisfação com o atendimento prestado pelo S...</td>\n",
              "      <td>0</td>\n",
              "      <td>0</td>\n",
              "      <td>1</td>\n",
              "      <td>1</td>\n",
              "    </tr>\n",
              "    <tr>\n",
              "      <th>4</th>\n",
              "      <td>2023-01-01</td>\n",
              "      <td>1º</td>\n",
              "      <td>Demais Bancos, Financeiras e Instituições de P...</td>\n",
              "      <td>ABC-BRASIL (conglomerado)</td>\n",
              "      <td>Irregularidades relacionadas ao acompanhamento...</td>\n",
              "      <td>1</td>\n",
              "      <td>0</td>\n",
              "      <td>0</td>\n",
              "      <td>1</td>\n",
              "    </tr>\n",
              "  </tbody>\n",
              "</table>\n",
              "</div>\n",
              "      <button class=\"colab-df-convert\" onclick=\"convertToInteractive('df-ff07d294-3867-46d9-8d0f-b04e9c230774')\"\n",
              "              title=\"Convert this dataframe to an interactive table.\"\n",
              "              style=\"display:none;\">\n",
              "        \n",
              "  <svg xmlns=\"http://www.w3.org/2000/svg\" height=\"24px\"viewBox=\"0 0 24 24\"\n",
              "       width=\"24px\">\n",
              "    <path d=\"M0 0h24v24H0V0z\" fill=\"none\"/>\n",
              "    <path d=\"M18.56 5.44l.94 2.06.94-2.06 2.06-.94-2.06-.94-.94-2.06-.94 2.06-2.06.94zm-11 1L8.5 8.5l.94-2.06 2.06-.94-2.06-.94L8.5 2.5l-.94 2.06-2.06.94zm10 10l.94 2.06.94-2.06 2.06-.94-2.06-.94-.94-2.06-.94 2.06-2.06.94z\"/><path d=\"M17.41 7.96l-1.37-1.37c-.4-.4-.92-.59-1.43-.59-.52 0-1.04.2-1.43.59L10.3 9.45l-7.72 7.72c-.78.78-.78 2.05 0 2.83L4 21.41c.39.39.9.59 1.41.59.51 0 1.02-.2 1.41-.59l7.78-7.78 2.81-2.81c.8-.78.8-2.07 0-2.86zM5.41 20L4 18.59l7.72-7.72 1.47 1.35L5.41 20z\"/>\n",
              "  </svg>\n",
              "      </button>\n",
              "      \n",
              "  <style>\n",
              "    .colab-df-container {\n",
              "      display:flex;\n",
              "      flex-wrap:wrap;\n",
              "      gap: 12px;\n",
              "    }\n",
              "\n",
              "    .colab-df-convert {\n",
              "      background-color: #E8F0FE;\n",
              "      border: none;\n",
              "      border-radius: 50%;\n",
              "      cursor: pointer;\n",
              "      display: none;\n",
              "      fill: #1967D2;\n",
              "      height: 32px;\n",
              "      padding: 0 0 0 0;\n",
              "      width: 32px;\n",
              "    }\n",
              "\n",
              "    .colab-df-convert:hover {\n",
              "      background-color: #E2EBFA;\n",
              "      box-shadow: 0px 1px 2px rgba(60, 64, 67, 0.3), 0px 1px 3px 1px rgba(60, 64, 67, 0.15);\n",
              "      fill: #174EA6;\n",
              "    }\n",
              "\n",
              "    [theme=dark] .colab-df-convert {\n",
              "      background-color: #3B4455;\n",
              "      fill: #D2E3FC;\n",
              "    }\n",
              "\n",
              "    [theme=dark] .colab-df-convert:hover {\n",
              "      background-color: #434B5C;\n",
              "      box-shadow: 0px 1px 3px 1px rgba(0, 0, 0, 0.15);\n",
              "      filter: drop-shadow(0px 1px 2px rgba(0, 0, 0, 0.3));\n",
              "      fill: #FFFFFF;\n",
              "    }\n",
              "  </style>\n",
              "\n",
              "      <script>\n",
              "        const buttonEl =\n",
              "          document.querySelector('#df-ff07d294-3867-46d9-8d0f-b04e9c230774 button.colab-df-convert');\n",
              "        buttonEl.style.display =\n",
              "          google.colab.kernel.accessAllowed ? 'block' : 'none';\n",
              "\n",
              "        async function convertToInteractive(key) {\n",
              "          const element = document.querySelector('#df-ff07d294-3867-46d9-8d0f-b04e9c230774');\n",
              "          const dataTable =\n",
              "            await google.colab.kernel.invokeFunction('convertToInteractive',\n",
              "                                                     [key], {});\n",
              "          if (!dataTable) return;\n",
              "\n",
              "          const docLinkHtml = 'Like what you see? Visit the ' +\n",
              "            '<a target=\"_blank\" href=https://colab.research.google.com/notebooks/data_table.ipynb>data table notebook</a>'\n",
              "            + ' to learn more about interactive tables.';\n",
              "          element.innerHTML = '';\n",
              "          dataTable['output_type'] = 'display_data';\n",
              "          await google.colab.output.renderOutput(dataTable, element);\n",
              "          const docLink = document.createElement('div');\n",
              "          docLink.innerHTML = docLinkHtml;\n",
              "          element.appendChild(docLink);\n",
              "        }\n",
              "      </script>\n",
              "    </div>\n",
              "  </div>\n",
              "  "
            ]
          },
          "metadata": {},
          "execution_count": 323
        }
      ]
    },
    {
      "cell_type": "code",
      "source": [
        "# Exibindo as últimas linhas\n",
        "\n",
        "df.tail()"
      ],
      "metadata": {
        "colab": {
          "base_uri": "https://localhost:8080/",
          "height": 475
        },
        "id": "zdUc2f0S6rLJ",
        "outputId": "51765307-2fe1-4605-fc84-a7040500324d"
      },
      "execution_count": null,
      "outputs": [
        {
          "output_type": "execute_result",
          "data": {
            "text/plain": [
              "            Ano Trimestre                                          Categoria  \\\n",
              "3510 2023-01-01        1º  Demais Bancos, Financeiras e Instituições de P...   \n",
              "3511 2023-01-01        1º  Demais Bancos, Financeiras e Instituições de P...   \n",
              "3512 2023-01-01        1º  Demais Bancos, Financeiras e Instituições de P...   \n",
              "3513 2023-01-01        1º  Demais Bancos, Financeiras e Instituições de P...   \n",
              "3514 2023-01-01        1º  Demais Bancos, Financeiras e Instituições de P...   \n",
              "\n",
              "           Instituição financeira  \\\n",
              "3510  YAMAHA MOTOR (conglomerado)   \n",
              "3511  YAMAHA MOTOR (conglomerado)   \n",
              "3512  YAMAHA MOTOR (conglomerado)   \n",
              "3513  YAMAHA MOTOR (conglomerado)   \n",
              "3514  YAMAHA MOTOR (conglomerado)   \n",
              "\n",
              "                                         Irregularidade  \\\n",
              "3510  Irregularidades relacionadas ao fornecimento d...   \n",
              "3511  Irregularidades relacionadas ao fornecimento d...   \n",
              "3512  Irregularidades relativas a integridade, confi...   \n",
              "3513       Reclamações relacionadas a assuntos diversos   \n",
              "3514  Renegociação de dívida (exceto cartão de crédito)   \n",
              "\n",
              "      Quantidade de reclamações reguladas procedentes  \\\n",
              "3510                                                0   \n",
              "3511                                                0   \n",
              "3512                                                1   \n",
              "3513                                                0   \n",
              "3514                                                0   \n",
              "\n",
              "      Quantidade de reclamações reguladas - outras  \\\n",
              "3510                                             1   \n",
              "3511                                             2   \n",
              "3512                                             2   \n",
              "3513                                             0   \n",
              "3514                                             0   \n",
              "\n",
              "      Quantidade de reclamações não reguladas  Quantidade total de reclamações  \n",
              "3510                                        0                                1  \n",
              "3511                                        0                                2  \n",
              "3512                                        0                                3  \n",
              "3513                                        2                                2  \n",
              "3514                                        1                                1  "
            ],
            "text/html": [
              "\n",
              "  <div id=\"df-6fc22a0a-5cf5-4c2d-aace-c7b4fb0971e6\">\n",
              "    <div class=\"colab-df-container\">\n",
              "      <div>\n",
              "<style scoped>\n",
              "    .dataframe tbody tr th:only-of-type {\n",
              "        vertical-align: middle;\n",
              "    }\n",
              "\n",
              "    .dataframe tbody tr th {\n",
              "        vertical-align: top;\n",
              "    }\n",
              "\n",
              "    .dataframe thead th {\n",
              "        text-align: right;\n",
              "    }\n",
              "</style>\n",
              "<table border=\"1\" class=\"dataframe\">\n",
              "  <thead>\n",
              "    <tr style=\"text-align: right;\">\n",
              "      <th></th>\n",
              "      <th>Ano</th>\n",
              "      <th>Trimestre</th>\n",
              "      <th>Categoria</th>\n",
              "      <th>Instituição financeira</th>\n",
              "      <th>Irregularidade</th>\n",
              "      <th>Quantidade de reclamações reguladas procedentes</th>\n",
              "      <th>Quantidade de reclamações reguladas - outras</th>\n",
              "      <th>Quantidade de reclamações não reguladas</th>\n",
              "      <th>Quantidade total de reclamações</th>\n",
              "    </tr>\n",
              "  </thead>\n",
              "  <tbody>\n",
              "    <tr>\n",
              "      <th>3510</th>\n",
              "      <td>2023-01-01</td>\n",
              "      <td>1º</td>\n",
              "      <td>Demais Bancos, Financeiras e Instituições de P...</td>\n",
              "      <td>YAMAHA MOTOR (conglomerado)</td>\n",
              "      <td>Irregularidades relacionadas ao fornecimento d...</td>\n",
              "      <td>0</td>\n",
              "      <td>1</td>\n",
              "      <td>0</td>\n",
              "      <td>1</td>\n",
              "    </tr>\n",
              "    <tr>\n",
              "      <th>3511</th>\n",
              "      <td>2023-01-01</td>\n",
              "      <td>1º</td>\n",
              "      <td>Demais Bancos, Financeiras e Instituições de P...</td>\n",
              "      <td>YAMAHA MOTOR (conglomerado)</td>\n",
              "      <td>Irregularidades relacionadas ao fornecimento d...</td>\n",
              "      <td>0</td>\n",
              "      <td>2</td>\n",
              "      <td>0</td>\n",
              "      <td>2</td>\n",
              "    </tr>\n",
              "    <tr>\n",
              "      <th>3512</th>\n",
              "      <td>2023-01-01</td>\n",
              "      <td>1º</td>\n",
              "      <td>Demais Bancos, Financeiras e Instituições de P...</td>\n",
              "      <td>YAMAHA MOTOR (conglomerado)</td>\n",
              "      <td>Irregularidades relativas a integridade, confi...</td>\n",
              "      <td>1</td>\n",
              "      <td>2</td>\n",
              "      <td>0</td>\n",
              "      <td>3</td>\n",
              "    </tr>\n",
              "    <tr>\n",
              "      <th>3513</th>\n",
              "      <td>2023-01-01</td>\n",
              "      <td>1º</td>\n",
              "      <td>Demais Bancos, Financeiras e Instituições de P...</td>\n",
              "      <td>YAMAHA MOTOR (conglomerado)</td>\n",
              "      <td>Reclamações relacionadas a assuntos diversos</td>\n",
              "      <td>0</td>\n",
              "      <td>0</td>\n",
              "      <td>2</td>\n",
              "      <td>2</td>\n",
              "    </tr>\n",
              "    <tr>\n",
              "      <th>3514</th>\n",
              "      <td>2023-01-01</td>\n",
              "      <td>1º</td>\n",
              "      <td>Demais Bancos, Financeiras e Instituições de P...</td>\n",
              "      <td>YAMAHA MOTOR (conglomerado)</td>\n",
              "      <td>Renegociação de dívida (exceto cartão de crédito)</td>\n",
              "      <td>0</td>\n",
              "      <td>0</td>\n",
              "      <td>1</td>\n",
              "      <td>1</td>\n",
              "    </tr>\n",
              "  </tbody>\n",
              "</table>\n",
              "</div>\n",
              "      <button class=\"colab-df-convert\" onclick=\"convertToInteractive('df-6fc22a0a-5cf5-4c2d-aace-c7b4fb0971e6')\"\n",
              "              title=\"Convert this dataframe to an interactive table.\"\n",
              "              style=\"display:none;\">\n",
              "        \n",
              "  <svg xmlns=\"http://www.w3.org/2000/svg\" height=\"24px\"viewBox=\"0 0 24 24\"\n",
              "       width=\"24px\">\n",
              "    <path d=\"M0 0h24v24H0V0z\" fill=\"none\"/>\n",
              "    <path d=\"M18.56 5.44l.94 2.06.94-2.06 2.06-.94-2.06-.94-.94-2.06-.94 2.06-2.06.94zm-11 1L8.5 8.5l.94-2.06 2.06-.94-2.06-.94L8.5 2.5l-.94 2.06-2.06.94zm10 10l.94 2.06.94-2.06 2.06-.94-2.06-.94-.94-2.06-.94 2.06-2.06.94z\"/><path d=\"M17.41 7.96l-1.37-1.37c-.4-.4-.92-.59-1.43-.59-.52 0-1.04.2-1.43.59L10.3 9.45l-7.72 7.72c-.78.78-.78 2.05 0 2.83L4 21.41c.39.39.9.59 1.41.59.51 0 1.02-.2 1.41-.59l7.78-7.78 2.81-2.81c.8-.78.8-2.07 0-2.86zM5.41 20L4 18.59l7.72-7.72 1.47 1.35L5.41 20z\"/>\n",
              "  </svg>\n",
              "      </button>\n",
              "      \n",
              "  <style>\n",
              "    .colab-df-container {\n",
              "      display:flex;\n",
              "      flex-wrap:wrap;\n",
              "      gap: 12px;\n",
              "    }\n",
              "\n",
              "    .colab-df-convert {\n",
              "      background-color: #E8F0FE;\n",
              "      border: none;\n",
              "      border-radius: 50%;\n",
              "      cursor: pointer;\n",
              "      display: none;\n",
              "      fill: #1967D2;\n",
              "      height: 32px;\n",
              "      padding: 0 0 0 0;\n",
              "      width: 32px;\n",
              "    }\n",
              "\n",
              "    .colab-df-convert:hover {\n",
              "      background-color: #E2EBFA;\n",
              "      box-shadow: 0px 1px 2px rgba(60, 64, 67, 0.3), 0px 1px 3px 1px rgba(60, 64, 67, 0.15);\n",
              "      fill: #174EA6;\n",
              "    }\n",
              "\n",
              "    [theme=dark] .colab-df-convert {\n",
              "      background-color: #3B4455;\n",
              "      fill: #D2E3FC;\n",
              "    }\n",
              "\n",
              "    [theme=dark] .colab-df-convert:hover {\n",
              "      background-color: #434B5C;\n",
              "      box-shadow: 0px 1px 3px 1px rgba(0, 0, 0, 0.15);\n",
              "      filter: drop-shadow(0px 1px 2px rgba(0, 0, 0, 0.3));\n",
              "      fill: #FFFFFF;\n",
              "    }\n",
              "  </style>\n",
              "\n",
              "      <script>\n",
              "        const buttonEl =\n",
              "          document.querySelector('#df-6fc22a0a-5cf5-4c2d-aace-c7b4fb0971e6 button.colab-df-convert');\n",
              "        buttonEl.style.display =\n",
              "          google.colab.kernel.accessAllowed ? 'block' : 'none';\n",
              "\n",
              "        async function convertToInteractive(key) {\n",
              "          const element = document.querySelector('#df-6fc22a0a-5cf5-4c2d-aace-c7b4fb0971e6');\n",
              "          const dataTable =\n",
              "            await google.colab.kernel.invokeFunction('convertToInteractive',\n",
              "                                                     [key], {});\n",
              "          if (!dataTable) return;\n",
              "\n",
              "          const docLinkHtml = 'Like what you see? Visit the ' +\n",
              "            '<a target=\"_blank\" href=https://colab.research.google.com/notebooks/data_table.ipynb>data table notebook</a>'\n",
              "            + ' to learn more about interactive tables.';\n",
              "          element.innerHTML = '';\n",
              "          dataTable['output_type'] = 'display_data';\n",
              "          await google.colab.output.renderOutput(dataTable, element);\n",
              "          const docLink = document.createElement('div');\n",
              "          docLink.innerHTML = docLinkHtml;\n",
              "          element.appendChild(docLink);\n",
              "        }\n",
              "      </script>\n",
              "    </div>\n",
              "  </div>\n",
              "  "
            ]
          },
          "metadata": {},
          "execution_count": 324
        }
      ]
    },
    {
      "cell_type": "markdown",
      "source": [
        "### **4.2. Análise Descritiva**"
      ],
      "metadata": {
        "id": "mHsvgEtRgLuf"
      }
    },
    {
      "cell_type": "code",
      "source": [
        "# Verificando o formato do dataset\n",
        "\n",
        "df.shape"
      ],
      "metadata": {
        "colab": {
          "base_uri": "https://localhost:8080/"
        },
        "id": "9_-5S9X27FHq",
        "outputId": "b7b0a007-b82f-4a4b-b683-91f957cf6583"
      },
      "execution_count": null,
      "outputs": [
        {
          "output_type": "execute_result",
          "data": {
            "text/plain": [
              "(3515, 9)"
            ]
          },
          "metadata": {},
          "execution_count": 325
        }
      ]
    },
    {
      "cell_type": "markdown",
      "source": [
        "Foram registradas reclamações de 3.515 Instituições diferentes. A média por instituição foi de 17,27, sendo o maior número de 810 para uma mesma instituição.\n",
        "A média de reclamações procedentes foi de 5,42 por instituição reclamada e o maior valor observado foi de 395 para uma mesma instituição.\n",
        "Importante ressaltar que só constam no relatório instituições que tiveram reclamações registradas no período, por isso o número de mínimo em \"Quantidade total de reclamações\" é 1."
      ],
      "metadata": {
        "id": "6pgMcApb9GFH"
      }
    },
    {
      "cell_type": "code",
      "source": [
        "# Agrupando as instâncias por instituição financeira\n",
        "\n",
        "df_groupby = df.groupby('Instituição financeira').sum()\n",
        "df_groupby.shape"
      ],
      "metadata": {
        "colab": {
          "base_uri": "https://localhost:8080/"
        },
        "id": "fvCD1tGz90GI",
        "outputId": "80b9ffd4-36ac-411c-eddc-19ab69bb48b4"
      },
      "execution_count": null,
      "outputs": [
        {
          "output_type": "execute_result",
          "data": {
            "text/plain": [
              "(161, 4)"
            ]
          },
          "metadata": {},
          "execution_count": 326
        }
      ]
    },
    {
      "cell_type": "code",
      "source": [
        "# Resumo estatístico dos dados completos\n",
        "df_groupby.describe()"
      ],
      "metadata": {
        "colab": {
          "base_uri": "https://localhost:8080/",
          "height": 361
        },
        "id": "5LstQFZA6qTn",
        "outputId": "c4f7eb02-66be-431c-f7e8-7cfad50fb162"
      },
      "execution_count": null,
      "outputs": [
        {
          "output_type": "execute_result",
          "data": {
            "text/plain": [
              "       Quantidade de reclamações reguladas procedentes  \\\n",
              "count                                       161.000000   \n",
              "mean                                        118.496894   \n",
              "std                                         333.351262   \n",
              "min                                           0.000000   \n",
              "25%                                           1.000000   \n",
              "50%                                           5.000000   \n",
              "75%                                          32.000000   \n",
              "max                                        2390.000000   \n",
              "\n",
              "       Quantidade de reclamações reguladas - outras  \\\n",
              "count                                    161.000000   \n",
              "mean                                     182.453416   \n",
              "std                                      575.986837   \n",
              "min                                        0.000000   \n",
              "25%                                        2.000000   \n",
              "50%                                        9.000000   \n",
              "75%                                       51.000000   \n",
              "max                                     3750.000000   \n",
              "\n",
              "       Quantidade de reclamações não reguladas  \\\n",
              "count                               161.000000   \n",
              "mean                                 76.279503   \n",
              "std                                 278.144279   \n",
              "min                                   0.000000   \n",
              "25%                                   1.000000   \n",
              "50%                                   4.000000   \n",
              "75%                                  22.000000   \n",
              "max                                1982.000000   \n",
              "\n",
              "       Quantidade total de reclamações  \n",
              "count                       161.000000  \n",
              "mean                        377.229814  \n",
              "std                        1154.693180  \n",
              "min                           1.000000  \n",
              "25%                           5.000000  \n",
              "50%                          18.000000  \n",
              "75%                         121.000000  \n",
              "max                        7785.000000  "
            ],
            "text/html": [
              "\n",
              "  <div id=\"df-0dd7afd3-c68e-4e73-9308-6bdc68d5e4e7\">\n",
              "    <div class=\"colab-df-container\">\n",
              "      <div>\n",
              "<style scoped>\n",
              "    .dataframe tbody tr th:only-of-type {\n",
              "        vertical-align: middle;\n",
              "    }\n",
              "\n",
              "    .dataframe tbody tr th {\n",
              "        vertical-align: top;\n",
              "    }\n",
              "\n",
              "    .dataframe thead th {\n",
              "        text-align: right;\n",
              "    }\n",
              "</style>\n",
              "<table border=\"1\" class=\"dataframe\">\n",
              "  <thead>\n",
              "    <tr style=\"text-align: right;\">\n",
              "      <th></th>\n",
              "      <th>Quantidade de reclamações reguladas procedentes</th>\n",
              "      <th>Quantidade de reclamações reguladas - outras</th>\n",
              "      <th>Quantidade de reclamações não reguladas</th>\n",
              "      <th>Quantidade total de reclamações</th>\n",
              "    </tr>\n",
              "  </thead>\n",
              "  <tbody>\n",
              "    <tr>\n",
              "      <th>count</th>\n",
              "      <td>161.000000</td>\n",
              "      <td>161.000000</td>\n",
              "      <td>161.000000</td>\n",
              "      <td>161.000000</td>\n",
              "    </tr>\n",
              "    <tr>\n",
              "      <th>mean</th>\n",
              "      <td>118.496894</td>\n",
              "      <td>182.453416</td>\n",
              "      <td>76.279503</td>\n",
              "      <td>377.229814</td>\n",
              "    </tr>\n",
              "    <tr>\n",
              "      <th>std</th>\n",
              "      <td>333.351262</td>\n",
              "      <td>575.986837</td>\n",
              "      <td>278.144279</td>\n",
              "      <td>1154.693180</td>\n",
              "    </tr>\n",
              "    <tr>\n",
              "      <th>min</th>\n",
              "      <td>0.000000</td>\n",
              "      <td>0.000000</td>\n",
              "      <td>0.000000</td>\n",
              "      <td>1.000000</td>\n",
              "    </tr>\n",
              "    <tr>\n",
              "      <th>25%</th>\n",
              "      <td>1.000000</td>\n",
              "      <td>2.000000</td>\n",
              "      <td>1.000000</td>\n",
              "      <td>5.000000</td>\n",
              "    </tr>\n",
              "    <tr>\n",
              "      <th>50%</th>\n",
              "      <td>5.000000</td>\n",
              "      <td>9.000000</td>\n",
              "      <td>4.000000</td>\n",
              "      <td>18.000000</td>\n",
              "    </tr>\n",
              "    <tr>\n",
              "      <th>75%</th>\n",
              "      <td>32.000000</td>\n",
              "      <td>51.000000</td>\n",
              "      <td>22.000000</td>\n",
              "      <td>121.000000</td>\n",
              "    </tr>\n",
              "    <tr>\n",
              "      <th>max</th>\n",
              "      <td>2390.000000</td>\n",
              "      <td>3750.000000</td>\n",
              "      <td>1982.000000</td>\n",
              "      <td>7785.000000</td>\n",
              "    </tr>\n",
              "  </tbody>\n",
              "</table>\n",
              "</div>\n",
              "      <button class=\"colab-df-convert\" onclick=\"convertToInteractive('df-0dd7afd3-c68e-4e73-9308-6bdc68d5e4e7')\"\n",
              "              title=\"Convert this dataframe to an interactive table.\"\n",
              "              style=\"display:none;\">\n",
              "        \n",
              "  <svg xmlns=\"http://www.w3.org/2000/svg\" height=\"24px\"viewBox=\"0 0 24 24\"\n",
              "       width=\"24px\">\n",
              "    <path d=\"M0 0h24v24H0V0z\" fill=\"none\"/>\n",
              "    <path d=\"M18.56 5.44l.94 2.06.94-2.06 2.06-.94-2.06-.94-.94-2.06-.94 2.06-2.06.94zm-11 1L8.5 8.5l.94-2.06 2.06-.94-2.06-.94L8.5 2.5l-.94 2.06-2.06.94zm10 10l.94 2.06.94-2.06 2.06-.94-2.06-.94-.94-2.06-.94 2.06-2.06.94z\"/><path d=\"M17.41 7.96l-1.37-1.37c-.4-.4-.92-.59-1.43-.59-.52 0-1.04.2-1.43.59L10.3 9.45l-7.72 7.72c-.78.78-.78 2.05 0 2.83L4 21.41c.39.39.9.59 1.41.59.51 0 1.02-.2 1.41-.59l7.78-7.78 2.81-2.81c.8-.78.8-2.07 0-2.86zM5.41 20L4 18.59l7.72-7.72 1.47 1.35L5.41 20z\"/>\n",
              "  </svg>\n",
              "      </button>\n",
              "      \n",
              "  <style>\n",
              "    .colab-df-container {\n",
              "      display:flex;\n",
              "      flex-wrap:wrap;\n",
              "      gap: 12px;\n",
              "    }\n",
              "\n",
              "    .colab-df-convert {\n",
              "      background-color: #E8F0FE;\n",
              "      border: none;\n",
              "      border-radius: 50%;\n",
              "      cursor: pointer;\n",
              "      display: none;\n",
              "      fill: #1967D2;\n",
              "      height: 32px;\n",
              "      padding: 0 0 0 0;\n",
              "      width: 32px;\n",
              "    }\n",
              "\n",
              "    .colab-df-convert:hover {\n",
              "      background-color: #E2EBFA;\n",
              "      box-shadow: 0px 1px 2px rgba(60, 64, 67, 0.3), 0px 1px 3px 1px rgba(60, 64, 67, 0.15);\n",
              "      fill: #174EA6;\n",
              "    }\n",
              "\n",
              "    [theme=dark] .colab-df-convert {\n",
              "      background-color: #3B4455;\n",
              "      fill: #D2E3FC;\n",
              "    }\n",
              "\n",
              "    [theme=dark] .colab-df-convert:hover {\n",
              "      background-color: #434B5C;\n",
              "      box-shadow: 0px 1px 3px 1px rgba(0, 0, 0, 0.15);\n",
              "      filter: drop-shadow(0px 1px 2px rgba(0, 0, 0, 0.3));\n",
              "      fill: #FFFFFF;\n",
              "    }\n",
              "  </style>\n",
              "\n",
              "      <script>\n",
              "        const buttonEl =\n",
              "          document.querySelector('#df-0dd7afd3-c68e-4e73-9308-6bdc68d5e4e7 button.colab-df-convert');\n",
              "        buttonEl.style.display =\n",
              "          google.colab.kernel.accessAllowed ? 'block' : 'none';\n",
              "\n",
              "        async function convertToInteractive(key) {\n",
              "          const element = document.querySelector('#df-0dd7afd3-c68e-4e73-9308-6bdc68d5e4e7');\n",
              "          const dataTable =\n",
              "            await google.colab.kernel.invokeFunction('convertToInteractive',\n",
              "                                                     [key], {});\n",
              "          if (!dataTable) return;\n",
              "\n",
              "          const docLinkHtml = 'Like what you see? Visit the ' +\n",
              "            '<a target=\"_blank\" href=https://colab.research.google.com/notebooks/data_table.ipynb>data table notebook</a>'\n",
              "            + ' to learn more about interactive tables.';\n",
              "          element.innerHTML = '';\n",
              "          dataTable['output_type'] = 'display_data';\n",
              "          await google.colab.output.renderOutput(dataTable, element);\n",
              "          const docLink = document.createElement('div');\n",
              "          docLink.innerHTML = docLinkHtml;\n",
              "          element.appendChild(docLink);\n",
              "        }\n",
              "      </script>\n",
              "    </div>\n",
              "  </div>\n",
              "  "
            ]
          },
          "metadata": {},
          "execution_count": 327
        }
      ]
    },
    {
      "cell_type": "code",
      "source": [
        "# Calculando a média, mediana e moda dos dados\n",
        "mean = np.mean(df_groupby['Quantidade de reclamações reguladas procedentes'])\n",
        "median = np.median(df['Quantidade de reclamações reguladas procedentes'])\n",
        "mode = np.round(df['Quantidade de reclamações reguladas procedentes'])\n",
        "\n",
        "print(f'Média: {mean:.2f}')\n",
        "print(f'Mediana: {median:.2f}')\n",
        "print(f'Moda: {mode}')"
      ],
      "metadata": {
        "colab": {
          "base_uri": "https://localhost:8080/"
        },
        "id": "X-efFuNirORx",
        "outputId": "ff58936a-eb7f-48b1-eb26-008f03a2a541"
      },
      "execution_count": null,
      "outputs": [
        {
          "output_type": "stream",
          "name": "stdout",
          "text": [
            "Média: 118.50\n",
            "Mediana: 1.00\n",
            "Moda: 0       0\n",
            "1       0\n",
            "2       0\n",
            "3       0\n",
            "4       1\n",
            "       ..\n",
            "3510    0\n",
            "3511    0\n",
            "3512    1\n",
            "3513    0\n",
            "3514    0\n",
            "Name: Quantidade de reclamações reguladas procedentes, Length: 3515, dtype: int64\n"
          ]
        }
      ]
    },
    {
      "cell_type": "markdown",
      "source": [
        "Agrupando por **\"Instituição financeira\"**, observamos que o número médio de reclamações é de 118,50. Entretanto, a mediana, que apresenta o valor central dos dados, apresenta valor 1 (metade das instituições teriam uma ou nenhuma reclamação) e o maior valor observado (moda) é 0. Portanto, podemos afirmar que poucas instituições tem contribuído com o elevado número de reclamações. O maior valor observado é de 2390.  "
      ],
      "metadata": {
        "id": "KJ9zB5HPArjh"
      }
    },
    {
      "cell_type": "code",
      "source": [
        "print(df_groupby)"
      ],
      "metadata": {
        "colab": {
          "base_uri": "https://localhost:8080/"
        },
        "id": "bKpLJJKlMr5d",
        "outputId": "be590c07-bce6-455a-ffaf-d672b6ba672f"
      },
      "execution_count": null,
      "outputs": [
        {
          "output_type": "stream",
          "name": "stdout",
          "text": [
            "                                                    Quantidade de reclamações reguladas procedentes  \\\n",
            "Instituição financeira                                                                                \n",
            "ABC-BRASIL (conglomerado)                                                                         6   \n",
            "ACESSO SOLUÇÕES DE PAGAMENTO S.A. - INSTITUIÇÃO...                                              154   \n",
            "ACG INSTITUIÇÃO DE PAGAMENTO S.A.                                                                 2   \n",
            "AFINZ (conglomerado)                                                                             16   \n",
            "AGIBANK (conglomerado)                                                                          184   \n",
            "...                                                                                             ...   \n",
            "VR (conglomerado)                                                                                 7   \n",
            "WESTERN UNION (conglomerado)                                                                      3   \n",
            "WILL (conglomerado)                                                                             125   \n",
            "XP (conglomerado)                                                                               223   \n",
            "YAMAHA MOTOR (conglomerado)                                                                       1   \n",
            "\n",
            "                                                    Quantidade de reclamações reguladas - outras  \\\n",
            "Instituição financeira                                                                             \n",
            "ABC-BRASIL (conglomerado)                                                                      8   \n",
            "ACESSO SOLUÇÕES DE PAGAMENTO S.A. - INSTITUIÇÃO...                                            99   \n",
            "ACG INSTITUIÇÃO DE PAGAMENTO S.A.                                                              0   \n",
            "AFINZ (conglomerado)                                                                          37   \n",
            "AGIBANK (conglomerado)                                                                       383   \n",
            "...                                                                                          ...   \n",
            "VR (conglomerado)                                                                              2   \n",
            "WESTERN UNION (conglomerado)                                                                   6   \n",
            "WILL (conglomerado)                                                                           71   \n",
            "XP (conglomerado)                                                                             72   \n",
            "YAMAHA MOTOR (conglomerado)                                                                    5   \n",
            "\n",
            "                                                    Quantidade de reclamações não reguladas  \\\n",
            "Instituição financeira                                                                        \n",
            "ABC-BRASIL (conglomerado)                                                                 2   \n",
            "ACESSO SOLUÇÕES DE PAGAMENTO S.A. - INSTITUIÇÃO...                                       11   \n",
            "ACG INSTITUIÇÃO DE PAGAMENTO S.A.                                                         0   \n",
            "AFINZ (conglomerado)                                                                     29   \n",
            "AGIBANK (conglomerado)                                                                   67   \n",
            "...                                                                                     ...   \n",
            "VR (conglomerado)                                                                         0   \n",
            "WESTERN UNION (conglomerado)                                                              0   \n",
            "WILL (conglomerado)                                                                      45   \n",
            "XP (conglomerado)                                                                        15   \n",
            "YAMAHA MOTOR (conglomerado)                                                               7   \n",
            "\n",
            "                                                    Quantidade total de reclamações  \n",
            "Instituição financeira                                                               \n",
            "ABC-BRASIL (conglomerado)                                                        16  \n",
            "ACESSO SOLUÇÕES DE PAGAMENTO S.A. - INSTITUIÇÃO...                              264  \n",
            "ACG INSTITUIÇÃO DE PAGAMENTO S.A.                                                 2  \n",
            "AFINZ (conglomerado)                                                             82  \n",
            "AGIBANK (conglomerado)                                                          634  \n",
            "...                                                                             ...  \n",
            "VR (conglomerado)                                                                 9  \n",
            "WESTERN UNION (conglomerado)                                                      9  \n",
            "WILL (conglomerado)                                                             241  \n",
            "XP (conglomerado)                                                               310  \n",
            "YAMAHA MOTOR (conglomerado)                                                      13  \n",
            "\n",
            "[161 rows x 4 columns]\n"
          ]
        }
      ]
    },
    {
      "cell_type": "markdown",
      "source": [
        "Existem 3515 registros de infrações reclamadas para diversas instituições. Quando agrupamos por \"Instituição financeira\", obtemos 161 linhas, ou seja, **161 instituições diferentes** tiveram reclamações registradas no período."
      ],
      "metadata": {
        "id": "c0dU6aZlhKAm"
      }
    },
    {
      "cell_type": "code",
      "source": [
        "# Resumo estatístico das instituições classificadas pelo Bacen como\n",
        "# \"Top 15\" (com maior volume de depósitos totais).\n",
        "\n",
        "df[df['Categoria']=='Top 15 - Bancos, Financeiras e Instituições de Pagamento'].describe()"
      ],
      "metadata": {
        "colab": {
          "base_uri": "https://localhost:8080/",
          "height": 361
        },
        "id": "Ndc6aoBaPtun",
        "outputId": "6c180656-5d03-4132-ac94-11159528c7ab"
      },
      "execution_count": null,
      "outputs": [
        {
          "output_type": "execute_result",
          "data": {
            "text/plain": [
              "       Quantidade de reclamações reguladas procedentes  \\\n",
              "count                                      1317.000000   \n",
              "mean                                         10.294609   \n",
              "std                                          29.942342   \n",
              "min                                           0.000000   \n",
              "25%                                           0.000000   \n",
              "50%                                           1.000000   \n",
              "75%                                           7.000000   \n",
              "max                                         395.000000   \n",
              "\n",
              "       Quantidade de reclamações reguladas - outras  \\\n",
              "count                                   1317.000000   \n",
              "mean                                      17.311314   \n",
              "std                                       42.570238   \n",
              "min                                        0.000000   \n",
              "25%                                        0.000000   \n",
              "50%                                        2.000000   \n",
              "75%                                       13.000000   \n",
              "max                                      439.000000   \n",
              "\n",
              "       Quantidade de reclamações não reguladas  \\\n",
              "count                              1317.000000   \n",
              "mean                                  7.675778   \n",
              "std                                  30.840512   \n",
              "min                                   0.000000   \n",
              "25%                                   0.000000   \n",
              "50%                                   0.000000   \n",
              "75%                                   1.000000   \n",
              "max                                 401.000000   \n",
              "\n",
              "       Quantidade total de reclamações  \n",
              "count                      1317.000000  \n",
              "mean                         35.281701  \n",
              "std                          69.800075  \n",
              "min                           1.000000  \n",
              "25%                           2.000000  \n",
              "50%                           8.000000  \n",
              "75%                          33.000000  \n",
              "max                         810.000000  "
            ],
            "text/html": [
              "\n",
              "  <div id=\"df-56b698d4-cd80-4925-81d9-da48bb791361\">\n",
              "    <div class=\"colab-df-container\">\n",
              "      <div>\n",
              "<style scoped>\n",
              "    .dataframe tbody tr th:only-of-type {\n",
              "        vertical-align: middle;\n",
              "    }\n",
              "\n",
              "    .dataframe tbody tr th {\n",
              "        vertical-align: top;\n",
              "    }\n",
              "\n",
              "    .dataframe thead th {\n",
              "        text-align: right;\n",
              "    }\n",
              "</style>\n",
              "<table border=\"1\" class=\"dataframe\">\n",
              "  <thead>\n",
              "    <tr style=\"text-align: right;\">\n",
              "      <th></th>\n",
              "      <th>Quantidade de reclamações reguladas procedentes</th>\n",
              "      <th>Quantidade de reclamações reguladas - outras</th>\n",
              "      <th>Quantidade de reclamações não reguladas</th>\n",
              "      <th>Quantidade total de reclamações</th>\n",
              "    </tr>\n",
              "  </thead>\n",
              "  <tbody>\n",
              "    <tr>\n",
              "      <th>count</th>\n",
              "      <td>1317.000000</td>\n",
              "      <td>1317.000000</td>\n",
              "      <td>1317.000000</td>\n",
              "      <td>1317.000000</td>\n",
              "    </tr>\n",
              "    <tr>\n",
              "      <th>mean</th>\n",
              "      <td>10.294609</td>\n",
              "      <td>17.311314</td>\n",
              "      <td>7.675778</td>\n",
              "      <td>35.281701</td>\n",
              "    </tr>\n",
              "    <tr>\n",
              "      <th>std</th>\n",
              "      <td>29.942342</td>\n",
              "      <td>42.570238</td>\n",
              "      <td>30.840512</td>\n",
              "      <td>69.800075</td>\n",
              "    </tr>\n",
              "    <tr>\n",
              "      <th>min</th>\n",
              "      <td>0.000000</td>\n",
              "      <td>0.000000</td>\n",
              "      <td>0.000000</td>\n",
              "      <td>1.000000</td>\n",
              "    </tr>\n",
              "    <tr>\n",
              "      <th>25%</th>\n",
              "      <td>0.000000</td>\n",
              "      <td>0.000000</td>\n",
              "      <td>0.000000</td>\n",
              "      <td>2.000000</td>\n",
              "    </tr>\n",
              "    <tr>\n",
              "      <th>50%</th>\n",
              "      <td>1.000000</td>\n",
              "      <td>2.000000</td>\n",
              "      <td>0.000000</td>\n",
              "      <td>8.000000</td>\n",
              "    </tr>\n",
              "    <tr>\n",
              "      <th>75%</th>\n",
              "      <td>7.000000</td>\n",
              "      <td>13.000000</td>\n",
              "      <td>1.000000</td>\n",
              "      <td>33.000000</td>\n",
              "    </tr>\n",
              "    <tr>\n",
              "      <th>max</th>\n",
              "      <td>395.000000</td>\n",
              "      <td>439.000000</td>\n",
              "      <td>401.000000</td>\n",
              "      <td>810.000000</td>\n",
              "    </tr>\n",
              "  </tbody>\n",
              "</table>\n",
              "</div>\n",
              "      <button class=\"colab-df-convert\" onclick=\"convertToInteractive('df-56b698d4-cd80-4925-81d9-da48bb791361')\"\n",
              "              title=\"Convert this dataframe to an interactive table.\"\n",
              "              style=\"display:none;\">\n",
              "        \n",
              "  <svg xmlns=\"http://www.w3.org/2000/svg\" height=\"24px\"viewBox=\"0 0 24 24\"\n",
              "       width=\"24px\">\n",
              "    <path d=\"M0 0h24v24H0V0z\" fill=\"none\"/>\n",
              "    <path d=\"M18.56 5.44l.94 2.06.94-2.06 2.06-.94-2.06-.94-.94-2.06-.94 2.06-2.06.94zm-11 1L8.5 8.5l.94-2.06 2.06-.94-2.06-.94L8.5 2.5l-.94 2.06-2.06.94zm10 10l.94 2.06.94-2.06 2.06-.94-2.06-.94-.94-2.06-.94 2.06-2.06.94z\"/><path d=\"M17.41 7.96l-1.37-1.37c-.4-.4-.92-.59-1.43-.59-.52 0-1.04.2-1.43.59L10.3 9.45l-7.72 7.72c-.78.78-.78 2.05 0 2.83L4 21.41c.39.39.9.59 1.41.59.51 0 1.02-.2 1.41-.59l7.78-7.78 2.81-2.81c.8-.78.8-2.07 0-2.86zM5.41 20L4 18.59l7.72-7.72 1.47 1.35L5.41 20z\"/>\n",
              "  </svg>\n",
              "      </button>\n",
              "      \n",
              "  <style>\n",
              "    .colab-df-container {\n",
              "      display:flex;\n",
              "      flex-wrap:wrap;\n",
              "      gap: 12px;\n",
              "    }\n",
              "\n",
              "    .colab-df-convert {\n",
              "      background-color: #E8F0FE;\n",
              "      border: none;\n",
              "      border-radius: 50%;\n",
              "      cursor: pointer;\n",
              "      display: none;\n",
              "      fill: #1967D2;\n",
              "      height: 32px;\n",
              "      padding: 0 0 0 0;\n",
              "      width: 32px;\n",
              "    }\n",
              "\n",
              "    .colab-df-convert:hover {\n",
              "      background-color: #E2EBFA;\n",
              "      box-shadow: 0px 1px 2px rgba(60, 64, 67, 0.3), 0px 1px 3px 1px rgba(60, 64, 67, 0.15);\n",
              "      fill: #174EA6;\n",
              "    }\n",
              "\n",
              "    [theme=dark] .colab-df-convert {\n",
              "      background-color: #3B4455;\n",
              "      fill: #D2E3FC;\n",
              "    }\n",
              "\n",
              "    [theme=dark] .colab-df-convert:hover {\n",
              "      background-color: #434B5C;\n",
              "      box-shadow: 0px 1px 3px 1px rgba(0, 0, 0, 0.15);\n",
              "      filter: drop-shadow(0px 1px 2px rgba(0, 0, 0, 0.3));\n",
              "      fill: #FFFFFF;\n",
              "    }\n",
              "  </style>\n",
              "\n",
              "      <script>\n",
              "        const buttonEl =\n",
              "          document.querySelector('#df-56b698d4-cd80-4925-81d9-da48bb791361 button.colab-df-convert');\n",
              "        buttonEl.style.display =\n",
              "          google.colab.kernel.accessAllowed ? 'block' : 'none';\n",
              "\n",
              "        async function convertToInteractive(key) {\n",
              "          const element = document.querySelector('#df-56b698d4-cd80-4925-81d9-da48bb791361');\n",
              "          const dataTable =\n",
              "            await google.colab.kernel.invokeFunction('convertToInteractive',\n",
              "                                                     [key], {});\n",
              "          if (!dataTable) return;\n",
              "\n",
              "          const docLinkHtml = 'Like what you see? Visit the ' +\n",
              "            '<a target=\"_blank\" href=https://colab.research.google.com/notebooks/data_table.ipynb>data table notebook</a>'\n",
              "            + ' to learn more about interactive tables.';\n",
              "          element.innerHTML = '';\n",
              "          dataTable['output_type'] = 'display_data';\n",
              "          await google.colab.output.renderOutput(dataTable, element);\n",
              "          const docLink = document.createElement('div');\n",
              "          docLink.innerHTML = docLinkHtml;\n",
              "          element.appendChild(docLink);\n",
              "        }\n",
              "      </script>\n",
              "    </div>\n",
              "  </div>\n",
              "  "
            ]
          },
          "metadata": {},
          "execution_count": 330
        }
      ]
    },
    {
      "cell_type": "code",
      "source": [
        "# Resumo estatístico das demais instituições\n",
        "\n",
        "df[df['Categoria']=='Demais Bancos, Financeiras e Instituições de Pagamento'].describe()"
      ],
      "metadata": {
        "colab": {
          "base_uri": "https://localhost:8080/",
          "height": 361
        },
        "id": "HTVhIl9f90Ji",
        "outputId": "f2bb88b5-4955-4d9d-90b3-7584e471df9f"
      },
      "execution_count": null,
      "outputs": [
        {
          "output_type": "execute_result",
          "data": {
            "text/plain": [
              "       Quantidade de reclamações reguladas procedentes  \\\n",
              "count                                      2198.000000   \n",
              "mean                                          2.511374   \n",
              "std                                          13.134215   \n",
              "min                                           0.000000   \n",
              "25%                                           0.000000   \n",
              "50%                                           0.000000   \n",
              "75%                                           1.000000   \n",
              "max                                         296.000000   \n",
              "\n",
              "       Quantidade de reclamações reguladas - outras  \\\n",
              "count                                   2198.000000   \n",
              "mean                                       2.991811   \n",
              "std                                       10.041241   \n",
              "min                                        0.000000   \n",
              "25%                                        0.000000   \n",
              "50%                                        1.000000   \n",
              "75%                                        2.000000   \n",
              "max                                      256.000000   \n",
              "\n",
              "       Quantidade de reclamações não reguladas  \\\n",
              "count                              2198.000000   \n",
              "mean                                  0.988171   \n",
              "std                                   3.283432   \n",
              "min                                   0.000000   \n",
              "25%                                   0.000000   \n",
              "50%                                   0.000000   \n",
              "75%                                   1.000000   \n",
              "max                                  54.000000   \n",
              "\n",
              "       Quantidade total de reclamações  \n",
              "count                      2198.000000  \n",
              "mean                          6.491356  \n",
              "std                          19.712722  \n",
              "min                           1.000000  \n",
              "25%                           1.000000  \n",
              "50%                           2.000000  \n",
              "75%                           5.000000  \n",
              "max                         465.000000  "
            ],
            "text/html": [
              "\n",
              "  <div id=\"df-fa5d1ef9-4fa3-4e22-8c98-f8faee7dbb6c\">\n",
              "    <div class=\"colab-df-container\">\n",
              "      <div>\n",
              "<style scoped>\n",
              "    .dataframe tbody tr th:only-of-type {\n",
              "        vertical-align: middle;\n",
              "    }\n",
              "\n",
              "    .dataframe tbody tr th {\n",
              "        vertical-align: top;\n",
              "    }\n",
              "\n",
              "    .dataframe thead th {\n",
              "        text-align: right;\n",
              "    }\n",
              "</style>\n",
              "<table border=\"1\" class=\"dataframe\">\n",
              "  <thead>\n",
              "    <tr style=\"text-align: right;\">\n",
              "      <th></th>\n",
              "      <th>Quantidade de reclamações reguladas procedentes</th>\n",
              "      <th>Quantidade de reclamações reguladas - outras</th>\n",
              "      <th>Quantidade de reclamações não reguladas</th>\n",
              "      <th>Quantidade total de reclamações</th>\n",
              "    </tr>\n",
              "  </thead>\n",
              "  <tbody>\n",
              "    <tr>\n",
              "      <th>count</th>\n",
              "      <td>2198.000000</td>\n",
              "      <td>2198.000000</td>\n",
              "      <td>2198.000000</td>\n",
              "      <td>2198.000000</td>\n",
              "    </tr>\n",
              "    <tr>\n",
              "      <th>mean</th>\n",
              "      <td>2.511374</td>\n",
              "      <td>2.991811</td>\n",
              "      <td>0.988171</td>\n",
              "      <td>6.491356</td>\n",
              "    </tr>\n",
              "    <tr>\n",
              "      <th>std</th>\n",
              "      <td>13.134215</td>\n",
              "      <td>10.041241</td>\n",
              "      <td>3.283432</td>\n",
              "      <td>19.712722</td>\n",
              "    </tr>\n",
              "    <tr>\n",
              "      <th>min</th>\n",
              "      <td>0.000000</td>\n",
              "      <td>0.000000</td>\n",
              "      <td>0.000000</td>\n",
              "      <td>1.000000</td>\n",
              "    </tr>\n",
              "    <tr>\n",
              "      <th>25%</th>\n",
              "      <td>0.000000</td>\n",
              "      <td>0.000000</td>\n",
              "      <td>0.000000</td>\n",
              "      <td>1.000000</td>\n",
              "    </tr>\n",
              "    <tr>\n",
              "      <th>50%</th>\n",
              "      <td>0.000000</td>\n",
              "      <td>1.000000</td>\n",
              "      <td>0.000000</td>\n",
              "      <td>2.000000</td>\n",
              "    </tr>\n",
              "    <tr>\n",
              "      <th>75%</th>\n",
              "      <td>1.000000</td>\n",
              "      <td>2.000000</td>\n",
              "      <td>1.000000</td>\n",
              "      <td>5.000000</td>\n",
              "    </tr>\n",
              "    <tr>\n",
              "      <th>max</th>\n",
              "      <td>296.000000</td>\n",
              "      <td>256.000000</td>\n",
              "      <td>54.000000</td>\n",
              "      <td>465.000000</td>\n",
              "    </tr>\n",
              "  </tbody>\n",
              "</table>\n",
              "</div>\n",
              "      <button class=\"colab-df-convert\" onclick=\"convertToInteractive('df-fa5d1ef9-4fa3-4e22-8c98-f8faee7dbb6c')\"\n",
              "              title=\"Convert this dataframe to an interactive table.\"\n",
              "              style=\"display:none;\">\n",
              "        \n",
              "  <svg xmlns=\"http://www.w3.org/2000/svg\" height=\"24px\"viewBox=\"0 0 24 24\"\n",
              "       width=\"24px\">\n",
              "    <path d=\"M0 0h24v24H0V0z\" fill=\"none\"/>\n",
              "    <path d=\"M18.56 5.44l.94 2.06.94-2.06 2.06-.94-2.06-.94-.94-2.06-.94 2.06-2.06.94zm-11 1L8.5 8.5l.94-2.06 2.06-.94-2.06-.94L8.5 2.5l-.94 2.06-2.06.94zm10 10l.94 2.06.94-2.06 2.06-.94-2.06-.94-.94-2.06-.94 2.06-2.06.94z\"/><path d=\"M17.41 7.96l-1.37-1.37c-.4-.4-.92-.59-1.43-.59-.52 0-1.04.2-1.43.59L10.3 9.45l-7.72 7.72c-.78.78-.78 2.05 0 2.83L4 21.41c.39.39.9.59 1.41.59.51 0 1.02-.2 1.41-.59l7.78-7.78 2.81-2.81c.8-.78.8-2.07 0-2.86zM5.41 20L4 18.59l7.72-7.72 1.47 1.35L5.41 20z\"/>\n",
              "  </svg>\n",
              "      </button>\n",
              "      \n",
              "  <style>\n",
              "    .colab-df-container {\n",
              "      display:flex;\n",
              "      flex-wrap:wrap;\n",
              "      gap: 12px;\n",
              "    }\n",
              "\n",
              "    .colab-df-convert {\n",
              "      background-color: #E8F0FE;\n",
              "      border: none;\n",
              "      border-radius: 50%;\n",
              "      cursor: pointer;\n",
              "      display: none;\n",
              "      fill: #1967D2;\n",
              "      height: 32px;\n",
              "      padding: 0 0 0 0;\n",
              "      width: 32px;\n",
              "    }\n",
              "\n",
              "    .colab-df-convert:hover {\n",
              "      background-color: #E2EBFA;\n",
              "      box-shadow: 0px 1px 2px rgba(60, 64, 67, 0.3), 0px 1px 3px 1px rgba(60, 64, 67, 0.15);\n",
              "      fill: #174EA6;\n",
              "    }\n",
              "\n",
              "    [theme=dark] .colab-df-convert {\n",
              "      background-color: #3B4455;\n",
              "      fill: #D2E3FC;\n",
              "    }\n",
              "\n",
              "    [theme=dark] .colab-df-convert:hover {\n",
              "      background-color: #434B5C;\n",
              "      box-shadow: 0px 1px 3px 1px rgba(0, 0, 0, 0.15);\n",
              "      filter: drop-shadow(0px 1px 2px rgba(0, 0, 0, 0.3));\n",
              "      fill: #FFFFFF;\n",
              "    }\n",
              "  </style>\n",
              "\n",
              "      <script>\n",
              "        const buttonEl =\n",
              "          document.querySelector('#df-fa5d1ef9-4fa3-4e22-8c98-f8faee7dbb6c button.colab-df-convert');\n",
              "        buttonEl.style.display =\n",
              "          google.colab.kernel.accessAllowed ? 'block' : 'none';\n",
              "\n",
              "        async function convertToInteractive(key) {\n",
              "          const element = document.querySelector('#df-fa5d1ef9-4fa3-4e22-8c98-f8faee7dbb6c');\n",
              "          const dataTable =\n",
              "            await google.colab.kernel.invokeFunction('convertToInteractive',\n",
              "                                                     [key], {});\n",
              "          if (!dataTable) return;\n",
              "\n",
              "          const docLinkHtml = 'Like what you see? Visit the ' +\n",
              "            '<a target=\"_blank\" href=https://colab.research.google.com/notebooks/data_table.ipynb>data table notebook</a>'\n",
              "            + ' to learn more about interactive tables.';\n",
              "          element.innerHTML = '';\n",
              "          dataTable['output_type'] = 'display_data';\n",
              "          await google.colab.output.renderOutput(dataTable, element);\n",
              "          const docLink = document.createElement('div');\n",
              "          docLink.innerHTML = docLinkHtml;\n",
              "          element.appendChild(docLink);\n",
              "        }\n",
              "      </script>\n",
              "    </div>\n",
              "  </div>\n",
              "  "
            ]
          },
          "metadata": {},
          "execution_count": 331
        }
      ]
    },
    {
      "cell_type": "markdown",
      "source": [
        "Por ter o maior volume de depósitos totais no país, as instituições \"Top 15\" também apresentam o maior volume de clientes e, consequentemente, estão mais sujeitas à receber reclamações. A média de reclamações totais é de 35,28 nas \"Top 15\" e de 6,49 nas demais instituições."
      ],
      "metadata": {
        "id": "azf7GFzVh9i7"
      }
    },
    {
      "cell_type": "code",
      "source": [
        "# Exibindo a Correlação de Pearson\n",
        "\n",
        "correlacao = df.corr(method='pearson')\n",
        "print(correlacao)"
      ],
      "metadata": {
        "colab": {
          "base_uri": "https://localhost:8080/"
        },
        "id": "ZAAe5GR4-xj6",
        "outputId": "10f89976-27bd-4bac-ac45-2f0d8cae0c13"
      },
      "execution_count": null,
      "outputs": [
        {
          "output_type": "stream",
          "name": "stdout",
          "text": [
            "                                                 Quantidade de reclamações reguladas procedentes  \\\n",
            "Quantidade de reclamações reguladas procedentes                                         1.000000   \n",
            "Quantidade de reclamações reguladas - outras                                            0.612956   \n",
            "Quantidade de reclamações não reguladas                                                -0.045877   \n",
            "Quantidade total de reclamações                                                         0.793462   \n",
            "\n",
            "                                                 Quantidade de reclamações reguladas - outras  \\\n",
            "Quantidade de reclamações reguladas procedentes                                      0.612956   \n",
            "Quantidade de reclamações reguladas - outras                                         1.000000   \n",
            "Quantidade de reclamações não reguladas                                             -0.053781   \n",
            "Quantidade total de reclamações                                                      0.844830   \n",
            "\n",
            "                                                 Quantidade de reclamações não reguladas  \\\n",
            "Quantidade de reclamações reguladas procedentes                                -0.045877   \n",
            "Quantidade de reclamações reguladas - outras                                   -0.053781   \n",
            "Quantidade de reclamações não reguladas                                         1.000000   \n",
            "Quantidade total de reclamações                                                 0.353905   \n",
            "\n",
            "                                                 Quantidade total de reclamações  \n",
            "Quantidade de reclamações reguladas procedentes                         0.793462  \n",
            "Quantidade de reclamações reguladas - outras                            0.844830  \n",
            "Quantidade de reclamações não reguladas                                 0.353905  \n",
            "Quantidade total de reclamações                                         1.000000  \n"
          ]
        }
      ]
    },
    {
      "cell_type": "markdown",
      "source": [
        "Pelo conceito de **Correlação de Pearson**, existiria uma correlação moderada entre novas reclamações e as reclamações não reguladas. As reclamações procedentes e improcedentes apresentariam alta correlação.\n",
        "Entretanto, como a coluna \"Quantidade total de reclamações\" representa a soma das outras três, é possível que essa correlação possa apresentar uma visão distorcida da relação entre as variáveis.\n",
        "Precisaríamos de uma linha temporal mais consistente para percebermos esta relação no problema de negócio."
      ],
      "metadata": {
        "id": "xbnqg-Zs-_qY"
      }
    },
    {
      "cell_type": "markdown",
      "source": [
        "Considerei que o **heatmap** não era uma boa opção neste caso. A relação entre as variáveis está diretamente relacionada ao atributo \"Quantidade total de reclamações\" e o heatmap não fornece muitas informações úteis sobre as variáveis.\n",
        "Como a intenção é explorar a relação entre quantidade total de reclamações e reclamações procedentes, então é melhor visualizar essa relação diretamente em um gráfico de dispersão ou em um gráfico de barras."
      ],
      "metadata": {
        "id": "m4cnrb77ESvF"
      }
    },
    {
      "cell_type": "code",
      "source": [
        "# Separando colunas do tipo \"int64\"\n",
        "int_cols = df.select_dtypes(include='int64').columns\n",
        "\n",
        "# Calculando a soma destas colunas\n",
        "df_sum = df[int_cols].sum()\n",
        "print(df_sum)\n",
        "\n"
      ],
      "metadata": {
        "colab": {
          "base_uri": "https://localhost:8080/"
        },
        "id": "uH5VvMDmKXPW",
        "outputId": "218c921b-87d6-44dd-ba86-799fc4ff33d5"
      },
      "execution_count": null,
      "outputs": [
        {
          "output_type": "stream",
          "name": "stdout",
          "text": [
            "Quantidade de reclamações reguladas procedentes    19078\n",
            "Quantidade de reclamações reguladas - outras       29375\n",
            "Quantidade de reclamações não reguladas            12281\n",
            "Quantidade total de reclamações                    60734\n",
            "dtype: int64\n"
          ]
        }
      ]
    },
    {
      "cell_type": "markdown",
      "source": [
        "Aqui temos o **somatório** de todas as reclamações registradas. Dos 3515 protocolos abertos, foi gerado um total de 60734 reclamações. Destas, 19078 foram analisadas como procedentes, 29375 improcedentes e 12281 não são objeto de tratamento do Bacen, seja pela ausência de regulamentação ou por não ser regulada pelo Bacen.\n",
        "Neste caso de não reguladas, podemos dar o exemplo de uma reclamação relacionada à indenização de sinistro de um seguro auto, contratado junto à um banco. Neste caso, a reguladora de seguros é a Susep, não o Bacen. A demanda é encerrada como \"Reclamação não regulada\"."
      ],
      "metadata": {
        "id": "UkZW4sL0JSWw"
      }
    },
    {
      "cell_type": "code",
      "source": [
        "# Realizando algumas separações de dataset para melhor visualização e análises\n",
        "\n",
        "# Quantidade total de reclamações\n",
        "df_categoria_qtd_total = df.groupby(by=['Categoria'], as_index=False)['Quantidade total de reclamações'].sum()\n",
        "print(df_categoria_qtd_total)\n"
      ],
      "metadata": {
        "colab": {
          "base_uri": "https://localhost:8080/"
        },
        "id": "p3QK2tGtkq73",
        "outputId": "f6e41161-f49a-452d-da55-ada5b3de4a95"
      },
      "execution_count": null,
      "outputs": [
        {
          "output_type": "stream",
          "name": "stdout",
          "text": [
            "                                           Categoria  \\\n",
            "0  Demais Bancos, Financeiras e Instituições de P...   \n",
            "1  Top 15 - Bancos, Financeiras e Instituições de...   \n",
            "\n",
            "   Quantidade total de reclamações  \n",
            "0                            14268  \n",
            "1                            46466  \n"
          ]
        }
      ]
    },
    {
      "cell_type": "code",
      "source": [
        "# Quantidade total de reclamações consideradas procedentes\n",
        "\n",
        "df_categoria_qtd_procedente = df.groupby(by=['Categoria'], as_index=False)['Quantidade de reclamações reguladas procedentes'].sum()\n",
        "print(df_categoria_qtd_procedente)"
      ],
      "metadata": {
        "colab": {
          "base_uri": "https://localhost:8080/"
        },
        "id": "_UnXdEZrrM54",
        "outputId": "1f4eba95-1053-4205-c700-6d11a6271d92"
      },
      "execution_count": null,
      "outputs": [
        {
          "output_type": "stream",
          "name": "stdout",
          "text": [
            "                                           Categoria  \\\n",
            "0  Demais Bancos, Financeiras e Instituições de P...   \n",
            "1  Top 15 - Bancos, Financeiras e Instituições de...   \n",
            "\n",
            "   Quantidade de reclamações reguladas procedentes  \n",
            "0                                             5520  \n",
            "1                                            13558  \n"
          ]
        }
      ]
    },
    {
      "cell_type": "code",
      "source": [
        "# Número de irregularidades apresentadas com respectiva contagem\n",
        "# Foram 174 tipos de irregularidades denunciadas no Bacen\n",
        "\n",
        "df['Irregularidade'].value_counts()\n",
        "\n"
      ],
      "metadata": {
        "colab": {
          "base_uri": "https://localhost:8080/"
        },
        "id": "gmTHmTu0juPf",
        "outputId": "c62dabfd-4545-49dd-de40-b5391fd332f3"
      },
      "execution_count": null,
      "outputs": [
        {
          "output_type": "execute_result",
          "data": {
            "text/plain": [
              "Insatisfação com a resposta recebida da instituição financeira referente à reclamação registrada no BCB                                                                    68\n",
              "Renegociação de dívida (exceto cartão de crédito)                                                                                                                          67\n",
              "Irregularidades relacionadas ao fornecimento de documentos relativos a operação de crédito, exceto para liquidação antecipada e descritivo do crédito.                     67\n",
              "Irregularidades relacionadas ao Sistema de Informações de Crédito do Banco Central (SCR)                                                                                   66\n",
              "Insatisfação com o atendimento prestado pelo SAC ou Central de Relacionamento                                                                                              59\n",
              "                                                                                                                                                                           ..\n",
              "Não acatamento de solicitação de cancelamento de débitos automáticos em conta de pagamento pré-paga ou não cumprimento das regras aplicáveis - instituição de pagamento     1\n",
              "Pix - tarifa - instituição de pagamento                                                                                                                                     1\n",
              "Alteração contratual sem prévio aviso                                                                                                                                       1\n",
              "Irregularidades relativas a dados cadastrais no Open Banking - instituição de pagamento                                                                                     1\n",
              "Cobrança irregular para fins de remuneração de correspondentes no País                                                                                                      1\n",
              "Name: Irregularidade, Length: 174, dtype: int64"
            ]
          },
          "metadata": {},
          "execution_count": 336
        }
      ]
    },
    {
      "cell_type": "code",
      "source": [
        "# Buscando as 15 instituições que mais tiveram irregularidades consideradas procedentes\n",
        "\n",
        "df_15_maiores_if_reclamadas = df.groupby('Instituição financeira')['Quantidade de reclamações reguladas procedentes'].sum().sort_values(ascending=False).head(15)\n",
        "print(df_15_maiores_if_reclamadas)"
      ],
      "metadata": {
        "id": "Sf0RowM0oNGy",
        "colab": {
          "base_uri": "https://localhost:8080/"
        },
        "outputId": "03d9ae0a-6800-4bc5-aea8-4ff3fb81d8de"
      },
      "execution_count": null,
      "outputs": [
        {
          "output_type": "stream",
          "name": "stdout",
          "text": [
            "Instituição financeira\n",
            "BRADESCO (conglomerado)                                         2390\n",
            "CAIXA ECONÔMICA FEDERAL (conglomerado)                          1687\n",
            "BTG PACTUAL/BANCO PAN (conglomerado)                            1608\n",
            "ITAU (conglomerado)                                             1565\n",
            "SANTANDER (conglomerado)                                        1050\n",
            "FACTA FINANCEIRA S.A. - CRÉDITO FINANCIAMENTO E INVESTIMENTO     845\n",
            "INTER (conglomerado)                                             825\n",
            "BMG (conglomerado)                                               813\n",
            "PAGBANK-PAGSEGURO (conglomerado)                                 781\n",
            "C6 BANK (conglomerado)                                           733\n",
            "MERCADO CRÉDITO (conglomerado)                                   648\n",
            "BB (conglomerado)                                                637\n",
            "ORIGINAL (conglomerado)                                          535\n",
            "NUBANK (conglomerado)                                            482\n",
            "MERCANTIL DO BRASIL (conglomerado)                               381\n",
            "Name: Quantidade de reclamações reguladas procedentes, dtype: int64\n"
          ]
        }
      ]
    },
    {
      "cell_type": "code",
      "source": [
        "# Buscando as 15 maiores irregularidades consideradas procedentes\n",
        "\n",
        "df_15_maiores_irregularidades = df.groupby('Irregularidade')['Quantidade de reclamações reguladas procedentes'].sum().sort_values(ascending=False).head(15)\n",
        "print(df_15_maiores_irregularidades)"
      ],
      "metadata": {
        "colab": {
          "base_uri": "https://localhost:8080/"
        },
        "id": "0x18IWtOUDXz",
        "outputId": "4779adfa-7143-4266-94f9-4408279718f4"
      },
      "execution_count": null,
      "outputs": [
        {
          "output_type": "stream",
          "name": "stdout",
          "text": [
            "Irregularidade\n",
            "Irregularidades relativas a integridade, confiabilidade, segurança, sigilo ou legitimidade das operações e serviços relacionados a cartões de crédito                                                                                            2952\n",
            "Oferta ou prestação de informação sobre crédito consignado de forma inadequada                                                                                                                                                                   1191\n",
            "Irregularidades relativas a integridade, confiabilidade, segurança, sigilo ou legitimidade das operações e serviços, exceto as relacionadas a cartão de crédito, cartão de débito, internet banking, ATM, credenciadora e operação de crédito    1127\n",
            "Irregularidades relativas a integridade, confiabilidade, segurança, sigilo ou legitimidade dos serviços relacionados a operações de crédito, exceto consignado                                                                                    784\n",
            "Oferta ou prestação de informação sobre o cartão de crédito de forma inadequada                                                                                                                                                                   740\n",
            "Oferta ou prestação de informação sobre operação de crédito de forma inadequada, exceto crédito consignado                                                                                                                                        557\n",
            "Transações não reconhecidas pelo titular da conta, realizadas por terceiros (invasão de conta) em instituições financeiras                                                                                                                        480\n",
            "Irregularidades relativas a integridade, confiabilidade, segurança, sigilo ou legitimidade dos serviços relacionados a operações de crédito consignado                                                                                            454\n",
            "Débito em conta não autorizado pelo cliente, ou não cumprimento das regras aplicáveis                                                                                                                                                             439\n",
            "Bloqueio de valores ou de conta fora do âmbito do Pix - instituição de pagamento                                                                                                                                                                  403\n",
            "Irregularidades relativas a integridade, confiabilidade, segurança, sigilo ou legitimidade das operações e serviços disponibilizados em internet banking                                                                                          387\n",
            "Oferta ou prestação de informação sobre produtos e serviços de forma inadequada, exceto as relacionadas a cartão de crédito, conta e serviços acessórios, credenciadora de cartão e operação de crédito                                           383\n",
            "Abertura de conta de pagamento sem documentação necessária ou com documentação falsa - instituição de pagamento                                                                                                                                   381\n",
            "Irregularidades relativas a integridade, confiabilidade, segurança, sigilo ou legitimidade das operações e serviços prestados relacionados a conta de pagamento pré-paga - instituição de pagamento                                               376\n",
            "Bloqueio de valores ou de conta fora do âmbito do Pix                                                                                                                                                                                             345\n",
            "Name: Quantidade de reclamações reguladas procedentes, dtype: int64\n"
          ]
        }
      ]
    },
    {
      "cell_type": "markdown",
      "source": [
        "**Reclamações procedentes**\n",
        "Dentre os tipos de irregularidade, busquei as 15 que mais foram consideradas procedentes, podendo destacar irregularidade relativas à integridade, confiabilidade, segurança, sigilo ou legitimidade de operações e serviços e à oferta ou prestação de informação inadequada.\n",
        "De 173 tipos listados nas reclamações procedentes, as 6 primeiras representam um total de 7351 registros, cerca de 38,53% do total. Isto representa um número expressivo. Podemos dizer que estas seriam as maiores fragilidades das instituições financeiras em relação ao atendimento adequado dos clientes."
      ],
      "metadata": {
        "id": "lUI-wQPFWuVs"
      }
    },
    {
      "cell_type": "markdown",
      "source": [
        "**Avaliação Inicial**\n",
        "\n",
        "Em um outro relatório do Bacen (Reclamações e Quantidade de Clientes), informa-se que no 1ºT/2023, o total de clientes ativos em todas as instituições foi de  aproximadamente 356,2 milhões. Os bancos classificados como \"Top 15\" possuem aproximadamente 266 milhões de clientes ativos - cerca de 74,68% (clientes podem manter contas e/ou operações em diversas instituições).  \n",
        "\n",
        "Das 60734 reclamações realizadas, 71,06% foram direcionadas às instituições \"Top 15\", número condizente com o percentual de clientes de sua base. 19078 reclamações foram consideradas procedentes (cerca de 31,41%)."
      ],
      "metadata": {
        "id": "TK4G-tgBQYeS"
      }
    },
    {
      "cell_type": "markdown",
      "source": [
        "### **4.3. Tratamento de Missings**"
      ],
      "metadata": {
        "id": "fIeQK_h1gLx2"
      }
    },
    {
      "cell_type": "code",
      "source": [
        "# Contagem de nulos\n",
        "\n",
        "df.isnull().sum()"
      ],
      "metadata": {
        "colab": {
          "base_uri": "https://localhost:8080/"
        },
        "id": "4RQit1AOQXQd",
        "outputId": "feb5f4f2-acea-41f3-a222-9b47798104f8"
      },
      "execution_count": null,
      "outputs": [
        {
          "output_type": "execute_result",
          "data": {
            "text/plain": [
              "Ano                                                0\n",
              "Trimestre                                          0\n",
              "Categoria                                          0\n",
              "Instituição financeira                             0\n",
              "Irregularidade                                     0\n",
              "Quantidade de reclamações reguladas procedentes    0\n",
              "Quantidade de reclamações reguladas - outras       0\n",
              "Quantidade de reclamações não reguladas            0\n",
              "Quantidade total de reclamações                    0\n",
              "dtype: int64"
            ]
          },
          "metadata": {},
          "execution_count": 339
        }
      ]
    },
    {
      "cell_type": "code",
      "source": [
        "# Exibindo visualização matricial que evidencia a ausência de nulidade do dataset\n",
        "\n",
        "ms.matrix(df)"
      ],
      "metadata": {
        "colab": {
          "base_uri": "https://localhost:8080/",
          "height": 811
        },
        "id": "Z8t7BCTgZvAq",
        "outputId": "efc0db93-2a2a-4bc5-f7f0-b93a0e6d50ef"
      },
      "execution_count": null,
      "outputs": [
        {
          "output_type": "execute_result",
          "data": {
            "text/plain": [
              "<Axes: >"
            ]
          },
          "metadata": {},
          "execution_count": 340
        },
        {
          "output_type": "display_data",
          "data": {
            "text/plain": [
              "<Figure size 2500x1000 with 2 Axes>"
            ],
            "image/png": "[encoded data removed]"
          },
          "metadata": {}
        }
      ]
    },
    {
      "cell_type": "markdown",
      "source": [
        "**Missings e Zeros**\n",
        "\n",
        "Neste caso não será preciso fazer ajustes de faltantes (exclusão ou substituição) pois o dataset está totalmente preenchido.\n",
        "\n",
        "Cabe ressaltar que a existência de zeros é o desejável. Não convém substituir os valores por médias ou medianas pois as instituições financeiras buscam o menor número de reclamações tanto para evitar as sanções quanto para reter e fidelizar seus clientes.\n",
        "\n",
        "Muitas instituições não foram citadas neste relatório pois não tiveram nenhum tipo de reclamação, podendo ter constado em outro trimestre apurado. O registro das informações foi feito de forma consistente e observação de máximos e mínimos refletem a realidade, não sendo considerados outliers.\n",
        "\n"
      ],
      "metadata": {
        "id": "OBLsPC22aIen"
      }
    },
    {
      "cell_type": "markdown",
      "source": [
        "## **5. Visualizações**"
      ],
      "metadata": {
        "id": "6n8WAyRSgL1B"
      }
    },
    {
      "cell_type": "code",
      "source": [
        "# Defini a paleta de cores utilizando referências da logo do Bacen e de alguns\n",
        "# elementos mais vibrantes na página\n",
        "\n",
        "cores = ['#1A3B5C', '#035B73', '#405B7E', '#CFAF96', '#98796B', '#DC7E3C']\n",
        "\n",
        "# exibe o mapa de cores\n",
        "display(cores)\n",
        "\n",
        "# define uma cor default\n",
        "corDefault = cores[1]\n",
        "\n",
        "# Carrega uma folha de estilos (opcional - questões estéticas)\n",
        "plt.style.use(\"ggplot\")\n",
        "\n",
        "# Modifica mais alguns parâmetros gráficos (opcional - questões estéticas)\n",
        "plt.rc(\"axes\", facecolor=\"#fafafa\", grid = True)\n",
        "plt.rc(\"grid\", color = \"#f0f0f0\")\n",
        "plt.rc(\"axes\", edgecolor=\"#cccccc\", lw=0.1)"
      ],
      "metadata": {
        "colab": {
          "base_uri": "https://localhost:8080/",
          "height": 35
        },
        "id": "Eid__pAwaUxz",
        "outputId": "3cd374a1-a55d-4c0f-cac8-f8e4f6069062"
      },
      "execution_count": null,
      "outputs": [
        {
          "output_type": "display_data",
          "data": {
            "text/plain": [
              "['#1A3B5C', '#035B73', '#405B7E', '#CFAF96', '#98796B', '#DC7E3C']"
            ]
          },
          "metadata": {}
        }
      ]
    },
    {
      "cell_type": "code",
      "source": [
        "df.shape"
      ],
      "metadata": {
        "colab": {
          "base_uri": "https://localhost:8080/"
        },
        "id": "Ma6XClG6clxq",
        "outputId": "4e02700e-192d-404b-e696-e3f150e90375"
      },
      "execution_count": null,
      "outputs": [
        {
          "output_type": "execute_result",
          "data": {
            "text/plain": [
              "(3515, 9)"
            ]
          },
          "metadata": {},
          "execution_count": 342
        }
      ]
    },
    {
      "cell_type": "markdown",
      "source": [
        "### **5.1. Gráfico de barras simples**"
      ],
      "metadata": {
        "id": "NsmjJsuRe7yV"
      }
    },
    {
      "cell_type": "code",
      "source": [
        "# Plotando as barras do total de reclamações\n",
        "\n",
        "# Função pyplot.bar()\n",
        "\n",
        "# Prepara a figura (fig) e a área do gráfico (ax)\n",
        "fig, ax = plt.subplots(figsize = (10,5))\n",
        "\n",
        "# Define o título\n",
        "plt.title('Quantidade total de reclamações por Categoria de IF')\n",
        "\n",
        "# Define os rótulos dos eixos\n",
        "plt.xlabel('Categoria de IF')\n",
        "plt.ylabel('Total de Reclamações')\n",
        "\n",
        "# Define a fonte do label das colunas\n",
        "plt.xticks(ha = 'center', fontsize = 8)\n",
        "\n",
        "# Plota o gráfico de barras\n",
        "ax.bar(x = df_categoria_qtd_total['Categoria'], height = df_categoria_qtd_total['Quantidade total de reclamações'], color = corDefault)\n",
        "\n",
        "# Acrescenta os valores sobre as barras\n",
        "ax.bar_label(ax.containers[0], fmt=\"%.1f\", fontsize = 14) # formatação do número com uma casa decimal\n",
        "\n",
        "# Ajusta as margens do gráfico (para eliminar margens desnecessárias)\n",
        "plt.tight_layout()\n",
        "\n",
        "# Armazena o gráfico (em diferentes formatos):\n",
        "# - formatos vetoriais (NÃO perdem resolução quando redimensionados)\n",
        "plt.savefig(\"barras-alfa.pdf\")\n",
        "plt.savefig(\"barras-alfa.svg\")\n",
        "# - formato rasterizado (perde resolução quando redimensionado)\n",
        "plt.savefig(\"barras-alfa.png\", dpi = 150, format = \"png\")\n",
        "\n",
        "# Exibe o gráfico\n",
        "plt.show()"
      ],
      "metadata": {
        "colab": {
          "base_uri": "https://localhost:8080/",
          "height": 507
        },
        "id": "tPlYKpDre5z4",
        "outputId": "b7e1fa43-8c43-45a8-8ba0-a2104fda03ab"
      },
      "execution_count": null,
      "outputs": [
        {
          "output_type": "display_data",
          "data": {
            "text/plain": [
              "<Figure size 1000x500 with 1 Axes>"
            ],
            "image/png": "[encoded data removed]"
          },
          "metadata": {}
        }
      ]
    },
    {
      "cell_type": "markdown",
      "source": [
        "Das 60 mil reclamações totais, 14268 foram destinadas às demais instituições financeiras e 46466 para as instituições \"Top 15\" (15 maiores volumes de depósitos)  "
      ],
      "metadata": {
        "id": "_BpQU9ZMvBFL"
      }
    },
    {
      "cell_type": "code",
      "source": [
        "# Gráfico listando 5 maiores valores observados em \"Quantidade total de\n",
        "# reclamações\" para uma mesma irregularidade e mesma instituição\n",
        "\n",
        "# Prepara a figura (fig) e a área do gráfico (ax) com largura 10 e altura 5 (em polegadas)\n",
        "fig, ax = plt.subplots(figsize = (10, 5))\n",
        "\n",
        "# Define a altura das barras\n",
        "bar_height = 0.5\n",
        "\n",
        "# Cria dataframe ordenado por valor\n",
        "df_ordem_valor = df.sort_values(['Quantidade total de reclamações'], ascending=False).head(5)\n",
        "\n",
        "# Plota o gráfico de barras\n",
        "b1 = ax.barh(y = df_ordem_valor['Instituição financeira'],\n",
        "             width = df_ordem_valor['Quantidade total de reclamações'],\n",
        "             color = corDefault)\n",
        "\n",
        "b1[0].set_color('#DC7E3C')\n",
        "b1[1].set_color('#98796B')\n",
        "b1[2].set_color('#CFAF96')\n",
        "b1[3].set_color('#1A3B5C')\n",
        "b1[4].set_color('#405B7E')\n",
        "\n",
        "\n",
        "# Acrescenta os valores sobre as barras\n",
        "for i, rect in enumerate(b1.patches):\n",
        "    width = rect.get_width()\n",
        "    ax.text(\n",
        "        x = width + 0.5,                            # posição x\n",
        "        y = rect.get_y() + rect.get_height(),       # posição y\n",
        "        s = \" {:.2f}\".format(rect.get_width()),     # string com o valor\n",
        "        ha = \"left\",                                # alinhamento na horizontal\n",
        "        va = \"bottom\"                               # alinhamento na vertical\n",
        "    )\n",
        "\n",
        "# Acrescenta um título ao gráfico\n",
        "plt.title('Maiores valores observados para um mesmo tipo de irregularidade/instituição')\n",
        "\n",
        "# Define os rótulos dos eixos\n",
        "plt.xlabel('Quantidade')\n",
        "plt.ylabel('Instituição Financeira')\n",
        "\n",
        "# Ajusta as margens do gráfico (para eliminar margens desnecessárias)\n",
        "plt.tight_layout()\n",
        "\n",
        "# Armazena o gráfico (em diferentes formatos):\n",
        "# - formatos vetoriais (NÃO perdem resolução quando redimensionados)\n",
        "plt.savefig(\"barras-horiz.pdf\")\n",
        "plt.savefig(\"barras-horiz.svg\")\n",
        "# - formato rasterizado (perde resolução quando redimensionado)\n",
        "plt.savefig(\"barras-horiz.png\", dpi = 150, format = \"png\")\n",
        "\n",
        "# Exibe o gráfico\n",
        "plt.show()"
      ],
      "metadata": {
        "colab": {
          "base_uri": "https://localhost:8080/",
          "height": 507
        },
        "id": "6dC9sn-o5mMU",
        "outputId": "d3263cc7-a33f-4029-e216-599e67dfec04"
      },
      "execution_count": null,
      "outputs": [
        {
          "output_type": "display_data",
          "data": {
            "text/plain": [
              "<Figure size 1000x500 with 1 Axes>"
            ],
            "image/png": "[encoded data removed]"
          },
          "metadata": {}
        }
      ]
    },
    {
      "cell_type": "code",
      "source": [
        "df_ordem_valor.head(5)"
      ],
      "metadata": {
        "colab": {
          "base_uri": "https://localhost:8080/",
          "height": 475
        },
        "id": "17uYr9_Yvp7x",
        "outputId": "90452aa5-42a9-4072-8023-a545febe4ecd"
      },
      "execution_count": null,
      "outputs": [
        {
          "output_type": "execute_result",
          "data": {
            "text/plain": [
              "            Ano Trimestre                                          Categoria  \\\n",
              "1994 2023-01-01        1º  Top 15 - Bancos, Financeiras e Instituições de...   \n",
              "988  2023-01-01        1º  Top 15 - Bancos, Financeiras e Instituições de...   \n",
              "1332 2023-01-01        1º  Top 15 - Bancos, Financeiras e Instituições de...   \n",
              "1154 2023-01-01        1º  Top 15 - Bancos, Financeiras e Instituições de...   \n",
              "3068 2023-01-01        1º  Top 15 - Bancos, Financeiras e Instituições de...   \n",
              "\n",
              "                      Instituição financeira  \\\n",
              "1994                     ITAU (conglomerado)   \n",
              "988                  BRADESCO (conglomerado)   \n",
              "1332  CAIXA ECONÔMICA FEDERAL (conglomerado)   \n",
              "1154    BTG PACTUAL/BANCO PAN (conglomerado)   \n",
              "3068                SANTANDER (conglomerado)   \n",
              "\n",
              "                                         Irregularidade  \\\n",
              "1994  Irregularidades relativas a integridade, confi...   \n",
              "988   Irregularidades relativas a integridade, confi...   \n",
              "1332  Irregularidades relativas a integridade, confi...   \n",
              "1154  Irregularidades relativas a integridade, confi...   \n",
              "3068  Irregularidades relativas a integridade, confi...   \n",
              "\n",
              "      Quantidade de reclamações reguladas procedentes  \\\n",
              "1994                                              371   \n",
              "988                                               298   \n",
              "1332                                              288   \n",
              "1154                                              395   \n",
              "3068                                              138   \n",
              "\n",
              "      Quantidade de reclamações reguladas - outras  \\\n",
              "1994                                           439   \n",
              "988                                            350   \n",
              "1332                                           291   \n",
              "1154                                           160   \n",
              "3068                                           365   \n",
              "\n",
              "      Quantidade de reclamações não reguladas  Quantidade total de reclamações  \n",
              "1994                                        0                              810  \n",
              "988                                         0                              648  \n",
              "1332                                        0                              579  \n",
              "1154                                        0                              555  \n",
              "3068                                        0                              503  "
            ],
            "text/html": [
              "\n",
              "  <div id=\"df-340712cd-0bd1-4397-b5f3-50266c8a277d\">\n",
              "    <div class=\"colab-df-container\">\n",
              "      <div>\n",
              "<style scoped>\n",
              "    .dataframe tbody tr th:only-of-type {\n",
              "        vertical-align: middle;\n",
              "    }\n",
              "\n",
              "    .dataframe tbody tr th {\n",
              "        vertical-align: top;\n",
              "    }\n",
              "\n",
              "    .dataframe thead th {\n",
              "        text-align: right;\n",
              "    }\n",
              "</style>\n",
              "<table border=\"1\" class=\"dataframe\">\n",
              "  <thead>\n",
              "    <tr style=\"text-align: right;\">\n",
              "      <th></th>\n",
              "      <th>Ano</th>\n",
              "      <th>Trimestre</th>\n",
              "      <th>Categoria</th>\n",
              "      <th>Instituição financeira</th>\n",
              "      <th>Irregularidade</th>\n",
              "      <th>Quantidade de reclamações reguladas procedentes</th>\n",
              "      <th>Quantidade de reclamações reguladas - outras</th>\n",
              "      <th>Quantidade de reclamações não reguladas</th>\n",
              "      <th>Quantidade total de reclamações</th>\n",
              "    </tr>\n",
              "  </thead>\n",
              "  <tbody>\n",
              "    <tr>\n",
              "      <th>1994</th>\n",
              "      <td>2023-01-01</td>\n",
              "      <td>1º</td>\n",
              "      <td>Top 15 - Bancos, Financeiras e Instituições de...</td>\n",
              "      <td>ITAU (conglomerado)</td>\n",
              "      <td>Irregularidades relativas a integridade, confi...</td>\n",
              "      <td>371</td>\n",
              "      <td>439</td>\n",
              "      <td>0</td>\n",
              "      <td>810</td>\n",
              "    </tr>\n",
              "    <tr>\n",
              "      <th>988</th>\n",
              "      <td>2023-01-01</td>\n",
              "      <td>1º</td>\n",
              "      <td>Top 15 - Bancos, Financeiras e Instituições de...</td>\n",
              "      <td>BRADESCO (conglomerado)</td>\n",
              "      <td>Irregularidades relativas a integridade, confi...</td>\n",
              "      <td>298</td>\n",
              "      <td>350</td>\n",
              "      <td>0</td>\n",
              "      <td>648</td>\n",
              "    </tr>\n",
              "    <tr>\n",
              "      <th>1332</th>\n",
              "      <td>2023-01-01</td>\n",
              "      <td>1º</td>\n",
              "      <td>Top 15 - Bancos, Financeiras e Instituições de...</td>\n",
              "      <td>CAIXA ECONÔMICA FEDERAL (conglomerado)</td>\n",
              "      <td>Irregularidades relativas a integridade, confi...</td>\n",
              "      <td>288</td>\n",
              "      <td>291</td>\n",
              "      <td>0</td>\n",
              "      <td>579</td>\n",
              "    </tr>\n",
              "    <tr>\n",
              "      <th>1154</th>\n",
              "      <td>2023-01-01</td>\n",
              "      <td>1º</td>\n",
              "      <td>Top 15 - Bancos, Financeiras e Instituições de...</td>\n",
              "      <td>BTG PACTUAL/BANCO PAN (conglomerado)</td>\n",
              "      <td>Irregularidades relativas a integridade, confi...</td>\n",
              "      <td>395</td>\n",
              "      <td>160</td>\n",
              "      <td>0</td>\n",
              "      <td>555</td>\n",
              "    </tr>\n",
              "    <tr>\n",
              "      <th>3068</th>\n",
              "      <td>2023-01-01</td>\n",
              "      <td>1º</td>\n",
              "      <td>Top 15 - Bancos, Financeiras e Instituições de...</td>\n",
              "      <td>SANTANDER (conglomerado)</td>\n",
              "      <td>Irregularidades relativas a integridade, confi...</td>\n",
              "      <td>138</td>\n",
              "      <td>365</td>\n",
              "      <td>0</td>\n",
              "      <td>503</td>\n",
              "    </tr>\n",
              "  </tbody>\n",
              "</table>\n",
              "</div>\n",
              "      <button class=\"colab-df-convert\" onclick=\"convertToInteractive('df-340712cd-0bd1-4397-b5f3-50266c8a277d')\"\n",
              "              title=\"Convert this dataframe to an interactive table.\"\n",
              "              style=\"display:none;\">\n",
              "        \n",
              "  <svg xmlns=\"http://www.w3.org/2000/svg\" height=\"24px\"viewBox=\"0 0 24 24\"\n",
              "       width=\"24px\">\n",
              "    <path d=\"M0 0h24v24H0V0z\" fill=\"none\"/>\n",
              "    <path d=\"M18.56 5.44l.94 2.06.94-2.06 2.06-.94-2.06-.94-.94-2.06-.94 2.06-2.06.94zm-11 1L8.5 8.5l.94-2.06 2.06-.94-2.06-.94L8.5 2.5l-.94 2.06-2.06.94zm10 10l.94 2.06.94-2.06 2.06-.94-2.06-.94-.94-2.06-.94 2.06-2.06.94z\"/><path d=\"M17.41 7.96l-1.37-1.37c-.4-.4-.92-.59-1.43-.59-.52 0-1.04.2-1.43.59L10.3 9.45l-7.72 7.72c-.78.78-.78 2.05 0 2.83L4 21.41c.39.39.9.59 1.41.59.51 0 1.02-.2 1.41-.59l7.78-7.78 2.81-2.81c.8-.78.8-2.07 0-2.86zM5.41 20L4 18.59l7.72-7.72 1.47 1.35L5.41 20z\"/>\n",
              "  </svg>\n",
              "      </button>\n",
              "      \n",
              "  <style>\n",
              "    .colab-df-container {\n",
              "      display:flex;\n",
              "      flex-wrap:wrap;\n",
              "      gap: 12px;\n",
              "    }\n",
              "\n",
              "    .colab-df-convert {\n",
              "      background-color: #E8F0FE;\n",
              "      border: none;\n",
              "      border-radius: 50%;\n",
              "      cursor: pointer;\n",
              "      display: none;\n",
              "      fill: #1967D2;\n",
              "      height: 32px;\n",
              "      padding: 0 0 0 0;\n",
              "      width: 32px;\n",
              "    }\n",
              "\n",
              "    .colab-df-convert:hover {\n",
              "      background-color: #E2EBFA;\n",
              "      box-shadow: 0px 1px 2px rgba(60, 64, 67, 0.3), 0px 1px 3px 1px rgba(60, 64, 67, 0.15);\n",
              "      fill: #174EA6;\n",
              "    }\n",
              "\n",
              "    [theme=dark] .colab-df-convert {\n",
              "      background-color: #3B4455;\n",
              "      fill: #D2E3FC;\n",
              "    }\n",
              "\n",
              "    [theme=dark] .colab-df-convert:hover {\n",
              "      background-color: #434B5C;\n",
              "      box-shadow: 0px 1px 3px 1px rgba(0, 0, 0, 0.15);\n",
              "      filter: drop-shadow(0px 1px 2px rgba(0, 0, 0, 0.3));\n",
              "      fill: #FFFFFF;\n",
              "    }\n",
              "  </style>\n",
              "\n",
              "      <script>\n",
              "        const buttonEl =\n",
              "          document.querySelector('#df-340712cd-0bd1-4397-b5f3-50266c8a277d button.colab-df-convert');\n",
              "        buttonEl.style.display =\n",
              "          google.colab.kernel.accessAllowed ? 'block' : 'none';\n",
              "\n",
              "        async function convertToInteractive(key) {\n",
              "          const element = document.querySelector('#df-340712cd-0bd1-4397-b5f3-50266c8a277d');\n",
              "          const dataTable =\n",
              "            await google.colab.kernel.invokeFunction('convertToInteractive',\n",
              "                                                     [key], {});\n",
              "          if (!dataTable) return;\n",
              "\n",
              "          const docLinkHtml = 'Like what you see? Visit the ' +\n",
              "            '<a target=\"_blank\" href=https://colab.research.google.com/notebooks/data_table.ipynb>data table notebook</a>'\n",
              "            + ' to learn more about interactive tables.';\n",
              "          element.innerHTML = '';\n",
              "          dataTable['output_type'] = 'display_data';\n",
              "          await google.colab.output.renderOutput(dataTable, element);\n",
              "          const docLink = document.createElement('div');\n",
              "          docLink.innerHTML = docLinkHtml;\n",
              "          element.appendChild(docLink);\n",
              "        }\n",
              "      </script>\n",
              "    </div>\n",
              "  </div>\n",
              "  "
            ]
          },
          "metadata": {},
          "execution_count": 345
        }
      ]
    },
    {
      "cell_type": "markdown",
      "source": [
        "Em valores absolutos, aqui apresenta-se o maior número de irregularidades reclamadas de um mesmo tipo e para uma mesma instituição. Vamos verificar abaixo se as procedentes mantêm estes mesmos valores."
      ],
      "metadata": {
        "id": "at79bqA8u0eY"
      }
    },
    {
      "cell_type": "code",
      "source": [
        "# Gráfico listando 5 maiores valores observados em \"Quantidade total de\n",
        "# reclamações\" para uma mesma irregularidade e mesma instituição\n",
        "\n",
        "# Prepara a figura (fig) e a área do gráfico (ax) com largura 10 e altura 5 (em polegadas)\n",
        "fig, ax = plt.subplots(figsize = (10, 5))\n",
        "\n",
        "# Define a altura das barras\n",
        "bar_height = 0.5\n",
        "\n",
        "# Cria dataframe ordenado por valor\n",
        "df_ordem_procedentes = df.sort_values(['Quantidade de reclamações reguladas procedentes'], ascending=False).head(5)\n",
        "\n",
        "# Plota o gráfico de barras\n",
        "b1 = ax.barh(y = df_ordem_valor['Instituição financeira'],\n",
        "             width = df_ordem_valor['Quantidade de reclamações reguladas procedentes'],\n",
        "             color = corDefault)\n",
        "\n",
        "b1[0].set_color('#DC7E3C')\n",
        "b1[1].set_color('#98796B')\n",
        "b1[2].set_color('#CFAF96')\n",
        "b1[3].set_color('#1A3B5C')\n",
        "b1[4].set_color('#405B7E')\n",
        "\n",
        "\n",
        "# Acrescenta os valores sobre as barras\n",
        "for i, rect in enumerate(b1.patches):\n",
        "    width = rect.get_width()\n",
        "    ax.text(\n",
        "        x = width + 0.5,                            # posição x\n",
        "        y = rect.get_y() + rect.get_height(),       # posição y\n",
        "        s = \" {:.2f}\".format(rect.get_width()),     # string com o valor\n",
        "        ha = \"left\",                                # alinhamento na horizontal\n",
        "        va = \"bottom\"                               # alinhamento na vertical\n",
        "    )\n",
        "\n",
        "# Acrescenta um título ao gráfico\n",
        "plt.title('Maiores valores procedentes/instituição')\n",
        "\n",
        "# Define os rótulos dos eixos\n",
        "plt.xlabel('Qtde Procedentes')\n",
        "plt.ylabel('Instituição Financeira')\n",
        "\n",
        "# Ajusta as margens do gráfico (para eliminar margens desnecessárias)\n",
        "plt.tight_layout()\n",
        "\n",
        "# Armazena o gráfico (em diferentes formatos):\n",
        "# - formatos vetoriais (NÃO perdem resolução quando redimensionados)\n",
        "plt.savefig(\"barras-horiz.pdf\")\n",
        "plt.savefig(\"barras-horiz.svg\")\n",
        "# - formato rasterizado (perde resolução quando redimensionado)\n",
        "plt.savefig(\"barras-horiz.png\", dpi = 150, format = \"png\")\n",
        "\n",
        "# Exibe o gráfico\n",
        "plt.show()"
      ],
      "metadata": {
        "colab": {
          "base_uri": "https://localhost:8080/",
          "height": 507
        },
        "id": "BUsPM3gKxALO",
        "outputId": "03848238-8aba-45f8-a2a4-727da6d0c0f6"
      },
      "execution_count": null,
      "outputs": [
        {
          "output_type": "display_data",
          "data": {
            "text/plain": [
              "<Figure size 1000x500 with 1 Axes>"
            ],
            "image/png": "[encoded data removed]"
          },
          "metadata": {}
        }
      ]
    },
    {
      "cell_type": "code",
      "source": [
        "df_ordem_procedentes.head(5)"
      ],
      "metadata": {
        "colab": {
          "base_uri": "https://localhost:8080/",
          "height": 475
        },
        "id": "5jPPLPOWyHMx",
        "outputId": "faebfcfa-1090-420e-e507-77d69dd95fe9"
      },
      "execution_count": null,
      "outputs": [
        {
          "output_type": "execute_result",
          "data": {
            "text/plain": [
              "            Ano Trimestre                                          Categoria  \\\n",
              "1154 2023-01-01        1º  Top 15 - Bancos, Financeiras e Instituições de...   \n",
              "1994 2023-01-01        1º  Top 15 - Bancos, Financeiras e Instituições de...   \n",
              "1163 2023-01-01        1º  Top 15 - Bancos, Financeiras e Instituições de...   \n",
              "988  2023-01-01        1º  Top 15 - Bancos, Financeiras e Instituições de...   \n",
              "1669 2023-01-01        1º  Demais Bancos, Financeiras e Instituições de P...   \n",
              "\n",
              "                                 Instituição financeira  \\\n",
              "1154               BTG PACTUAL/BANCO PAN (conglomerado)   \n",
              "1994                                ITAU (conglomerado)   \n",
              "1163               BTG PACTUAL/BANCO PAN (conglomerado)   \n",
              "988                             BRADESCO (conglomerado)   \n",
              "1669  FACTA FINANCEIRA S.A. - CRÉDITO FINANCIAMENTO ...   \n",
              "\n",
              "                                         Irregularidade  \\\n",
              "1154  Irregularidades relativas a integridade, confi...   \n",
              "1994  Irregularidades relativas a integridade, confi...   \n",
              "1163  Oferta ou prestação de informação sobre crédit...   \n",
              "988   Irregularidades relativas a integridade, confi...   \n",
              "1669  Oferta ou prestação de informação sobre crédit...   \n",
              "\n",
              "      Quantidade de reclamações reguladas procedentes  \\\n",
              "1154                                              395   \n",
              "1994                                              371   \n",
              "1163                                              301   \n",
              "988                                               298   \n",
              "1669                                              296   \n",
              "\n",
              "      Quantidade de reclamações reguladas - outras  \\\n",
              "1154                                           160   \n",
              "1994                                           439   \n",
              "1163                                            67   \n",
              "988                                            350   \n",
              "1669                                            16   \n",
              "\n",
              "      Quantidade de reclamações não reguladas  Quantidade total de reclamações  \n",
              "1154                                        0                              555  \n",
              "1994                                        0                              810  \n",
              "1163                                        0                              368  \n",
              "988                                         0                              648  \n",
              "1669                                        0                              312  "
            ],
            "text/html": [
              "\n",
              "  <div id=\"df-14d905c9-c508-4081-b3e4-aaeb45333299\">\n",
              "    <div class=\"colab-df-container\">\n",
              "      <div>\n",
              "<style scoped>\n",
              "    .dataframe tbody tr th:only-of-type {\n",
              "        vertical-align: middle;\n",
              "    }\n",
              "\n",
              "    .dataframe tbody tr th {\n",
              "        vertical-align: top;\n",
              "    }\n",
              "\n",
              "    .dataframe thead th {\n",
              "        text-align: right;\n",
              "    }\n",
              "</style>\n",
              "<table border=\"1\" class=\"dataframe\">\n",
              "  <thead>\n",
              "    <tr style=\"text-align: right;\">\n",
              "      <th></th>\n",
              "      <th>Ano</th>\n",
              "      <th>Trimestre</th>\n",
              "      <th>Categoria</th>\n",
              "      <th>Instituição financeira</th>\n",
              "      <th>Irregularidade</th>\n",
              "      <th>Quantidade de reclamações reguladas procedentes</th>\n",
              "      <th>Quantidade de reclamações reguladas - outras</th>\n",
              "      <th>Quantidade de reclamações não reguladas</th>\n",
              "      <th>Quantidade total de reclamações</th>\n",
              "    </tr>\n",
              "  </thead>\n",
              "  <tbody>\n",
              "    <tr>\n",
              "      <th>1154</th>\n",
              "      <td>2023-01-01</td>\n",
              "      <td>1º</td>\n",
              "      <td>Top 15 - Bancos, Financeiras e Instituições de...</td>\n",
              "      <td>BTG PACTUAL/BANCO PAN (conglomerado)</td>\n",
              "      <td>Irregularidades relativas a integridade, confi...</td>\n",
              "      <td>395</td>\n",
              "      <td>160</td>\n",
              "      <td>0</td>\n",
              "      <td>555</td>\n",
              "    </tr>\n",
              "    <tr>\n",
              "      <th>1994</th>\n",
              "      <td>2023-01-01</td>\n",
              "      <td>1º</td>\n",
              "      <td>Top 15 - Bancos, Financeiras e Instituições de...</td>\n",
              "      <td>ITAU (conglomerado)</td>\n",
              "      <td>Irregularidades relativas a integridade, confi...</td>\n",
              "      <td>371</td>\n",
              "      <td>439</td>\n",
              "      <td>0</td>\n",
              "      <td>810</td>\n",
              "    </tr>\n",
              "    <tr>\n",
              "      <th>1163</th>\n",
              "      <td>2023-01-01</td>\n",
              "      <td>1º</td>\n",
              "      <td>Top 15 - Bancos, Financeiras e Instituições de...</td>\n",
              "      <td>BTG PACTUAL/BANCO PAN (conglomerado)</td>\n",
              "      <td>Oferta ou prestação de informação sobre crédit...</td>\n",
              "      <td>301</td>\n",
              "      <td>67</td>\n",
              "      <td>0</td>\n",
              "      <td>368</td>\n",
              "    </tr>\n",
              "    <tr>\n",
              "      <th>988</th>\n",
              "      <td>2023-01-01</td>\n",
              "      <td>1º</td>\n",
              "      <td>Top 15 - Bancos, Financeiras e Instituições de...</td>\n",
              "      <td>BRADESCO (conglomerado)</td>\n",
              "      <td>Irregularidades relativas a integridade, confi...</td>\n",
              "      <td>298</td>\n",
              "      <td>350</td>\n",
              "      <td>0</td>\n",
              "      <td>648</td>\n",
              "    </tr>\n",
              "    <tr>\n",
              "      <th>1669</th>\n",
              "      <td>2023-01-01</td>\n",
              "      <td>1º</td>\n",
              "      <td>Demais Bancos, Financeiras e Instituições de P...</td>\n",
              "      <td>FACTA FINANCEIRA S.A. - CRÉDITO FINANCIAMENTO ...</td>\n",
              "      <td>Oferta ou prestação de informação sobre crédit...</td>\n",
              "      <td>296</td>\n",
              "      <td>16</td>\n",
              "      <td>0</td>\n",
              "      <td>312</td>\n",
              "    </tr>\n",
              "  </tbody>\n",
              "</table>\n",
              "</div>\n",
              "      <button class=\"colab-df-convert\" onclick=\"convertToInteractive('df-14d905c9-c508-4081-b3e4-aaeb45333299')\"\n",
              "              title=\"Convert this dataframe to an interactive table.\"\n",
              "              style=\"display:none;\">\n",
              "        \n",
              "  <svg xmlns=\"http://www.w3.org/2000/svg\" height=\"24px\"viewBox=\"0 0 24 24\"\n",
              "       width=\"24px\">\n",
              "    <path d=\"M0 0h24v24H0V0z\" fill=\"none\"/>\n",
              "    <path d=\"M18.56 5.44l.94 2.06.94-2.06 2.06-.94-2.06-.94-.94-2.06-.94 2.06-2.06.94zm-11 1L8.5 8.5l.94-2.06 2.06-.94-2.06-.94L8.5 2.5l-.94 2.06-2.06.94zm10 10l.94 2.06.94-2.06 2.06-.94-2.06-.94-.94-2.06-.94 2.06-2.06.94z\"/><path d=\"M17.41 7.96l-1.37-1.37c-.4-.4-.92-.59-1.43-.59-.52 0-1.04.2-1.43.59L10.3 9.45l-7.72 7.72c-.78.78-.78 2.05 0 2.83L4 21.41c.39.39.9.59 1.41.59.51 0 1.02-.2 1.41-.59l7.78-7.78 2.81-2.81c.8-.78.8-2.07 0-2.86zM5.41 20L4 18.59l7.72-7.72 1.47 1.35L5.41 20z\"/>\n",
              "  </svg>\n",
              "      </button>\n",
              "      \n",
              "  <style>\n",
              "    .colab-df-container {\n",
              "      display:flex;\n",
              "      flex-wrap:wrap;\n",
              "      gap: 12px;\n",
              "    }\n",
              "\n",
              "    .colab-df-convert {\n",
              "      background-color: #E8F0FE;\n",
              "      border: none;\n",
              "      border-radius: 50%;\n",
              "      cursor: pointer;\n",
              "      display: none;\n",
              "      fill: #1967D2;\n",
              "      height: 32px;\n",
              "      padding: 0 0 0 0;\n",
              "      width: 32px;\n",
              "    }\n",
              "\n",
              "    .colab-df-convert:hover {\n",
              "      background-color: #E2EBFA;\n",
              "      box-shadow: 0px 1px 2px rgba(60, 64, 67, 0.3), 0px 1px 3px 1px rgba(60, 64, 67, 0.15);\n",
              "      fill: #174EA6;\n",
              "    }\n",
              "\n",
              "    [theme=dark] .colab-df-convert {\n",
              "      background-color: #3B4455;\n",
              "      fill: #D2E3FC;\n",
              "    }\n",
              "\n",
              "    [theme=dark] .colab-df-convert:hover {\n",
              "      background-color: #434B5C;\n",
              "      box-shadow: 0px 1px 3px 1px rgba(0, 0, 0, 0.15);\n",
              "      filter: drop-shadow(0px 1px 2px rgba(0, 0, 0, 0.3));\n",
              "      fill: #FFFFFF;\n",
              "    }\n",
              "  </style>\n",
              "\n",
              "      <script>\n",
              "        const buttonEl =\n",
              "          document.querySelector('#df-14d905c9-c508-4081-b3e4-aaeb45333299 button.colab-df-convert');\n",
              "        buttonEl.style.display =\n",
              "          google.colab.kernel.accessAllowed ? 'block' : 'none';\n",
              "\n",
              "        async function convertToInteractive(key) {\n",
              "          const element = document.querySelector('#df-14d905c9-c508-4081-b3e4-aaeb45333299');\n",
              "          const dataTable =\n",
              "            await google.colab.kernel.invokeFunction('convertToInteractive',\n",
              "                                                     [key], {});\n",
              "          if (!dataTable) return;\n",
              "\n",
              "          const docLinkHtml = 'Like what you see? Visit the ' +\n",
              "            '<a target=\"_blank\" href=https://colab.research.google.com/notebooks/data_table.ipynb>data table notebook</a>'\n",
              "            + ' to learn more about interactive tables.';\n",
              "          element.innerHTML = '';\n",
              "          dataTable['output_type'] = 'display_data';\n",
              "          await google.colab.output.renderOutput(dataTable, element);\n",
              "          const docLink = document.createElement('div');\n",
              "          docLink.innerHTML = docLinkHtml;\n",
              "          element.appendChild(docLink);\n",
              "        }\n",
              "      </script>\n",
              "    </div>\n",
              "  </div>\n",
              "  "
            ]
          },
          "metadata": {},
          "execution_count": 347
        }
      ]
    },
    {
      "cell_type": "markdown",
      "source": [
        "Pelo que verificamos, as mesmas instituições reclamadas não apresentaram proporcionalmente ocorrências procedentes. O \"ITAU (conglomerado)\" apresentou 810 reclamações sobre irregularidades relativas à integridade, confiabilidade e sigilo de produtos e serviços, mas quando verificamos as procedentes, o \"BTG PACTUAL/BANCO PAN (conglomerado)\" apresentou 24 ocorrências procedentes à mais que o Itaú, tendo apenas 555 denúncias totais."
      ],
      "metadata": {
        "id": "7pk34uITyRv6"
      }
    },
    {
      "cell_type": "code",
      "source": [
        "# seleciona as 15 maiores somas\n",
        "df_top15 = df_groupby['Quantidade total de reclamações'].nlargest(15)\n",
        "\n",
        "# plota o gráfico de barras horizontais\n",
        "fig, ax = plt.subplots(figsize=(10, 8))\n",
        "ax.barh(df_top15.index, df_top15.values, color='#1A3B5C')\n",
        "ax.set_xlabel('Quantidade total de reclamações')\n",
        "ax.set_ylabel('Instituição financeira')\n",
        "ax.set_title('15 maiores somas de reclamações por instituição financeira')\n",
        "plt.show()"
      ],
      "metadata": {
        "colab": {
          "base_uri": "https://localhost:8080/",
          "height": 717
        },
        "id": "nEqcqgzS4CeP",
        "outputId": "28cee818-4244-4c74-90dd-7e244d7b4193"
      },
      "execution_count": null,
      "outputs": [
        {
          "output_type": "display_data",
          "data": {
            "text/plain": [
              "<Figure size 1000x800 with 1 Axes>"
            ],
            "image/png": "[encoded data removed]"
          },
          "metadata": {}
        }
      ]
    },
    {
      "cell_type": "markdown",
      "source": [
        "Aqui podemos observar as 15 instituições que mais receberam reclamações totais no periodo. Todas acima de 1000 registros. Além dos 5 maiores bancos varejo, figuram bancos digitais (fintechs), financeiras e sociedades de crédito, com volume de registros bem próximos dos grandes bancos, apesar da base de clientes ser menor."
      ],
      "metadata": {
        "id": "GJervi1birHn"
      }
    },
    {
      "cell_type": "code",
      "source": [
        "# Plota as barras pelo número de reclamações de cada instituição\n",
        "# Cria dataframe ordenado por valor\n",
        "\n",
        "df_ordem_valor = df_groupby.sort_values('Quantidade total de reclamações', ascending = False).head(8)\n",
        "\n",
        "# Prepara a figura (fig) e a área do gráfico (ax) com largura 15 e altura 6 (em polegadas)\n",
        "fig, ax = plt.subplots(figsize = (12, 6))\n",
        "\n",
        "# Plota o gráfico de barras\n",
        "b1 = ax.bar(x=range(len(df_ordem_valor)), width=0.7, height=df_ordem_valor['Quantidade total de reclamações'], color=corDefault)\n",
        "\n",
        "b1[0].set_color('#DC7E3C')\n",
        "b1[1].set_color('#98796B')\n",
        "b1[2].set_color('#CFAF96')\n",
        "b1[3].set_color('#1A3B5C')\n",
        "b1[4].set_color('#405B7E')\n",
        "\n",
        "# Adiciona a legenda com o nome da instituição e o valor acima das barras\n",
        "for i, v in enumerate(df_ordem_valor['Quantidade total de reclamações']):\n",
        "    ax.text(i-0.3, v+100, str(v), fontsize=10)\n",
        "    ax.text(i-0.3, -1500, df_ordem_valor.index[i], rotation=45, fontsize=8, ha='center', va='top')\n",
        "\n",
        "\n",
        "# Acrescenta um título ao gráfico\n",
        "plt.title('Número total de Reclamações por Instituição Financeira')\n",
        "\n",
        "# Define os rótulos dos eixos\n",
        "# plt.xlabel('Quantidade') # como já está no título, não é necessário\n",
        "plt.ylabel('Instituição financeira') # é importante esclarecer a unidade e a ordem de grandeza\n",
        "\n",
        "# Ajusta as margens do gráfico (para eliminar margens desnecessárias)\n",
        "plt.tight_layout()\n",
        "\n",
        "# Armazena o gráfico (em diferentes formatos):\n",
        "# - formatos vetoriais (NÃO perdem resolução quando redimensionados)\n",
        "plt.savefig(\"barras-valor-destaque.pdf\")\n",
        "plt.savefig(\"barras-valor-destaque.svg\")\n",
        "# - formato rasterizado (perde resolução quando redimensionado)\n",
        "plt.savefig(\"barras-valor-destaque.png\", dpi = 150, format = \"png\")\n",
        "\n",
        "# Exibe o gráfico\n",
        "plt.show()"
      ],
      "metadata": {
        "colab": {
          "base_uri": "https://localhost:8080/",
          "height": 572
        },
        "id": "SdcdpD7cxTQV",
        "outputId": "ddf87d16-3e4a-44ad-cc08-34af46a1c0d4"
      },
      "execution_count": null,
      "outputs": [
        {
          "output_type": "display_data",
          "data": {
            "text/plain": [
              "<Figure size 1200x600 with 1 Axes>"
            ],
            "image/png": "[encoded data removed]"
          },
          "metadata": {}
        }
      ]
    },
    {
      "cell_type": "markdown",
      "source": [
        "As oito maiores instiutições em número total de reclamações não representa o número total de reclamações procedentes. O valor que realmente importa são as reclamações procedentes e como as instituições tem se comportado para sua regularização."
      ],
      "metadata": {
        "id": "3YozXR6Fjxts"
      }
    },
    {
      "cell_type": "markdown",
      "source": [
        "### **5.2 Gráfico em Pizza**"
      ],
      "metadata": {
        "id": "sR8pGWBNllom"
      }
    },
    {
      "cell_type": "code",
      "source": [
        "# calculando as somas totais dos atributos de reclamações reguladas procedentes,\n",
        "# reclamações reguladas - outras (não procedentes) e reclamações não reguladas\n",
        "soma_a = df['Quantidade de reclamações reguladas procedentes'].sum()\n",
        "soma_b = df['Quantidade de reclamações reguladas - outras'].sum()\n",
        "soma_c = df['Quantidade de reclamações não reguladas'].sum()\n",
        "soma_d = df['Quantidade total de reclamações'].sum()\n",
        "\n",
        "# calcula a soma do atributo D (que é a soma de A, B e C)\n",
        "soma_abc = soma_a + soma_b + soma_c\n",
        "\n",
        "# calcula o percentual de A+B+C=D\n",
        "percentual = (soma_abc / soma_d) * 100\n",
        "\n",
        "# cria as listas de valores e rótulos para o gráfico de pizza\n",
        "valores = [soma_a, soma_b, soma_c]\n",
        "rotulos = ['Reclamações reguladas Procedentes', 'Reclamações Reguladas - Outras', 'Reclamações não Reguladas']\n",
        "\n",
        "# plota o gráfico de pizza\n",
        "fig, ax = plt.subplots(figsize = (10,5))\n",
        "ax.pie(valores, labels=rotulos, autopct='%1.1f%%', colors=cores)\n",
        "ax.set_title('Reclamações por tipo de resultado')\n",
        "\n",
        "# adiciona o texto com o percentual de A+B+C=D na parte central do gráfico\n",
        "texto_central = ax.text(0, 0, f'{percentual:.1f}%\\nTotal de Reclamações', ha='center', va='center', fontsize=14)"
      ],
      "metadata": {
        "colab": {
          "base_uri": "https://localhost:8080/",
          "height": 445
        },
        "id": "5QMiLyXARdeZ",
        "outputId": "c8d702b2-8fc3-403e-86f9-4b6d7ef48608"
      },
      "execution_count": null,
      "outputs": [
        {
          "output_type": "display_data",
          "data": {
            "text/plain": [
              "<Figure size 1000x500 with 1 Axes>"
            ],
            "image/png": "[encoded data removed]"
          },
          "metadata": {}
        }
      ]
    },
    {
      "cell_type": "markdown",
      "source": [
        "Das 60734 reclamações  feitas ao Banco Central no primeiro trimestre de 2023, 31,4% foram consideradas procedentes. 20,2% não são reguladas pelo Bacen ou não existe normativo vigente para sua análise. 48,4%, quase metade, foram consideradas improcedentes. Apenas as reclamações procedentes impactam a Instituição Financeira e são estas que geram punições ou sanções do órgão regulador."
      ],
      "metadata": {
        "id": "ypLiiBH7W2w4"
      }
    },
    {
      "cell_type": "markdown",
      "source": [
        "### **5.3 Histograma**"
      ],
      "metadata": {
        "id": "bpkCnw7IqKB9"
      }
    },
    {
      "cell_type": "code",
      "source": [
        "# Plote o histograma\n",
        "\n",
        "sns.histplot(df_15_maiores_irregularidades, bins=10, color='#1A3B5C');"
      ],
      "metadata": {
        "colab": {
          "base_uri": "https://localhost:8080/",
          "height": 447
        },
        "id": "hArAxQvaqJZb",
        "outputId": "b0d35085-a85f-4df6-b170-991982ad73c0"
      },
      "execution_count": null,
      "outputs": [
        {
          "output_type": "display_data",
          "data": {
            "text/plain": [
              "<Figure size 640x480 with 1 Axes>"
            ],
            "image/png": "[encoded data removed]"
          },
          "metadata": {}
        }
      ]
    },
    {
      "cell_type": "markdown",
      "source": [
        "A grande maioria das reclamações se pulveriza em pequenas instituições e poucos registros. Grandes valores são observados apenas nas instituições \"Top 15\"."
      ],
      "metadata": {
        "id": "KX5dI_DdzbUc"
      }
    },
    {
      "cell_type": "code",
      "source": [
        "# Boxplot com todas reclamadas\n",
        "\n",
        "# Define o tamanho da fonte\n",
        "plt.rcParams['font.size'] = 12\n",
        "\n",
        "# Plota o boxplot\n",
        "sns.boxplot(x=df['Quantidade total de reclamações'], color='#1A3B5C')\n",
        "\n",
        "# Define o rótulo do eixo x e y\n",
        "plt.xlabel('Quantidade total de reclamações', fontsize=12)\n",
        "plt.ylabel('Instituição financeira', fontsize=12)\n",
        "\n",
        "# Exibe o gráfico\n",
        "plt.show()"
      ],
      "metadata": {
        "colab": {
          "base_uri": "https://localhost:8080/",
          "height": 447
        },
        "id": "NH1PceSA2cQG",
        "outputId": "0478edd2-5c3e-4820-dd27-fb5a727d4197"
      },
      "execution_count": null,
      "outputs": [
        {
          "output_type": "display_data",
          "data": {
            "text/plain": [
              "<Figure size 640x480 with 1 Axes>"
            ],
            "image/png": "[encoded data removed]"
          },
          "metadata": {}
        }
      ]
    },
    {
      "cell_type": "markdown",
      "source": [
        "A maioria das ocorrências por instituição está nos valores de moda e mediana.  (0 ou 1). Mas existem muitos valores acima do bloco, que puxam a média geral para cima."
      ],
      "metadata": {
        "id": "SSe97evx4iZ_"
      }
    },
    {
      "cell_type": "code",
      "source": [
        "# Boxplot com as 15 maiores reclamadas\n",
        "\n",
        "# Define o tamanho da fonte\n",
        "plt.rcParams['font.size'] = 12\n",
        "\n",
        "# Plota o boxplot\n",
        "sns.boxplot(x=df_15_maiores_if_reclamadas, color='#1A3B5C')\n",
        "\n",
        "# Define o rótulo do eixo x e y\n",
        "plt.xlabel('Quantidade total de reclamações', fontsize=12)\n",
        "plt.ylabel('Instituição financeira', fontsize=12)\n",
        "\n",
        "# Exibe o gráfico\n",
        "plt.show()"
      ],
      "metadata": {
        "colab": {
          "base_uri": "https://localhost:8080/",
          "height": 447
        },
        "id": "5gEJ0IWn6Hr_",
        "outputId": "a4388730-ca9a-4abf-dcbb-997f699a7c1e"
      },
      "execution_count": null,
      "outputs": [
        {
          "output_type": "display_data",
          "data": {
            "text/plain": [
              "<Figure size 640x480 with 1 Axes>"
            ],
            "image/png": "[encoded data removed]"
          },
          "metadata": {}
        }
      ]
    },
    {
      "cell_type": "markdown",
      "source": [
        "Quando selecionamos apenas as 15 maiores instituições, existe apenas um outlier que sai dos limites de máximo. Ainda assim, o primeiro e segundo quartis se localizam à esquerda, significa que os dados estão distribuídos assimetricamente com a maioria dos dados à direita do gráfico, o que indica que a distribuição é assimétrica positiva (também chamada de distribuição à direita). Essa distribuição é caracterizada por uma cauda à direita, onde os valores extremos estão mais distantes da mediana. Em outras palavras, a maioria dos valores observados são maiores do que a mediana, e os valores menores estão mais concentrados no início da distribuição."
      ],
      "metadata": {
        "id": "XRz_f2nO1_Cy"
      }
    },
    {
      "cell_type": "markdown",
      "source": [
        "### **5.3 Gráficos de dispersão**\n",
        "\n",
        "Gráficos de dispersão não se aplicam neste caso, pois os valores observados estão no mesmo eixo de análise, não sendo possível correlacioná-los e observá-los desta forma."
      ],
      "metadata": {
        "id": "pVbgwpFPl6Bn"
      }
    },
    {
      "cell_type": "code",
      "source": [
        "# Plota o pairplot com a paleta de cores personalizada\n",
        "df_pairplot = sns.pairplot(df, palette='#1A3B5C')\n",
        "\n",
        "# Define o tamanho da fonte para os subplots\n",
        "sns.set(font_scale=0.2)\n",
        "\n",
        "# Define o tamanho da fonte da legenda para 10\n",
        "df_pairplot.axes[0,0].legend(fontsize=10)\n",
        "\n",
        "# Exibe o gráfico\n",
        "plt.show()"
      ],
      "metadata": {
        "colab": {
          "base_uri": "https://localhost:8080/",
          "height": 1000
        },
        "id": "eWUSMKI17md5",
        "outputId": "9918ea90-16f1-4011-8902-fab51c7ba5ad"
      },
      "execution_count": null,
      "outputs": [
        {
          "output_type": "stream",
          "name": "stderr",
          "text": [
            "WARNING:matplotlib.legend:No artists with labels found to put in legend.  Note that artists whose label start with an underscore are ignored when legend() is called with no argument.\n"
          ]
        },
        {
          "output_type": "display_data",
          "data": {
            "text/plain": [
              "<Figure size 1000x1000 with 20 Axes>"
            ],
            "image/png": "[encoded data removed]"
          },
          "metadata": {}
        }
      ]
    },
    {
      "cell_type": "markdown",
      "source": [
        "## **6. Pré-processamento**"
      ],
      "metadata": {
        "id": "o1sqADfBooZp"
      }
    },
    {
      "cell_type": "code",
      "source": [
        "# Criando uma cópia do dataset\n",
        "\n",
        "variable_copy = df\n",
        "print(variable_copy)\n"
      ],
      "metadata": {
        "colab": {
          "base_uri": "https://localhost:8080/"
        },
        "id": "JU-NmBh771p9",
        "outputId": "9233ec8f-1a77-477c-f3ad-fcdf3a9b3039"
      },
      "execution_count": null,
      "outputs": [
        {
          "output_type": "stream",
          "name": "stdout",
          "text": [
            "            Ano Trimestre                                          Categoria  \\\n",
            "0    2023-01-01        1º  Demais Bancos, Financeiras e Instituições de P...   \n",
            "1    2023-01-01        1º  Demais Bancos, Financeiras e Instituições de P...   \n",
            "2    2023-01-01        1º  Demais Bancos, Financeiras e Instituições de P...   \n",
            "3    2023-01-01        1º  Demais Bancos, Financeiras e Instituições de P...   \n",
            "4    2023-01-01        1º  Demais Bancos, Financeiras e Instituições de P...   \n",
            "...         ...       ...                                                ...   \n",
            "3510 2023-01-01        1º  Demais Bancos, Financeiras e Instituições de P...   \n",
            "3511 2023-01-01        1º  Demais Bancos, Financeiras e Instituições de P...   \n",
            "3512 2023-01-01        1º  Demais Bancos, Financeiras e Instituições de P...   \n",
            "3513 2023-01-01        1º  Demais Bancos, Financeiras e Instituições de P...   \n",
            "3514 2023-01-01        1º  Demais Bancos, Financeiras e Instituições de P...   \n",
            "\n",
            "           Instituição financeira  \\\n",
            "0       ABC-BRASIL (conglomerado)   \n",
            "1       ABC-BRASIL (conglomerado)   \n",
            "2       ABC-BRASIL (conglomerado)   \n",
            "3       ABC-BRASIL (conglomerado)   \n",
            "4       ABC-BRASIL (conglomerado)   \n",
            "...                           ...   \n",
            "3510  YAMAHA MOTOR (conglomerado)   \n",
            "3511  YAMAHA MOTOR (conglomerado)   \n",
            "3512  YAMAHA MOTOR (conglomerado)   \n",
            "3513  YAMAHA MOTOR (conglomerado)   \n",
            "3514  YAMAHA MOTOR (conglomerado)   \n",
            "\n",
            "                                         Irregularidade  \\\n",
            "0     Cobrança irregular de tarifa relacionada a con...   \n",
            "1     Débito em conta não autorizado pelo cliente, o...   \n",
            "2     Insatisfação com a resposta recebida da instit...   \n",
            "3     Insatisfação com o atendimento prestado pelo S...   \n",
            "4     Irregularidades relacionadas ao acompanhamento...   \n",
            "...                                                 ...   \n",
            "3510  Irregularidades relacionadas ao fornecimento d...   \n",
            "3511  Irregularidades relacionadas ao fornecimento d...   \n",
            "3512  Irregularidades relativas a integridade, confi...   \n",
            "3513       Reclamações relacionadas a assuntos diversos   \n",
            "3514  Renegociação de dívida (exceto cartão de crédito)   \n",
            "\n",
            "      Quantidade de reclamações reguladas procedentes  \\\n",
            "0                                                   0   \n",
            "1                                                   0   \n",
            "2                                                   0   \n",
            "3                                                   0   \n",
            "4                                                   1   \n",
            "...                                               ...   \n",
            "3510                                                0   \n",
            "3511                                                0   \n",
            "3512                                                1   \n",
            "3513                                                0   \n",
            "3514                                                0   \n",
            "\n",
            "      Quantidade de reclamações reguladas - outras  \\\n",
            "0                                                1   \n",
            "1                                                1   \n",
            "2                                                2   \n",
            "3                                                0   \n",
            "4                                                0   \n",
            "...                                            ...   \n",
            "3510                                             1   \n",
            "3511                                             2   \n",
            "3512                                             2   \n",
            "3513                                             0   \n",
            "3514                                             0   \n",
            "\n",
            "      Quantidade de reclamações não reguladas  Quantidade total de reclamações  \n",
            "0                                           0                                1  \n",
            "1                                           0                                1  \n",
            "2                                           0                                2  \n",
            "3                                           1                                1  \n",
            "4                                           0                                1  \n",
            "...                                       ...                              ...  \n",
            "3510                                        0                                1  \n",
            "3511                                        0                                2  \n",
            "3512                                        0                                3  \n",
            "3513                                        2                                2  \n",
            "3514                                        1                                1  \n",
            "\n",
            "[3515 rows x 9 columns]\n"
          ]
        }
      ]
    },
    {
      "cell_type": "markdown",
      "source": [
        "### **6.1. Divisão do dataset em conjunto de treino e teste**"
      ],
      "metadata": {
        "id": "RDtCcwqCoocI"
      }
    },
    {
      "cell_type": "code",
      "source": [
        "test_size = 0.3\n",
        "seed=42\n",
        "\n",
        "# Separação em conjuntos de treino e teste\n",
        "\n",
        "# Como se trata de um dataset desbalanceado, vou utilizar a técnica de divisão\n",
        "# com estratificação, com base na coluna \"Categoria\"\n",
        "\n",
        "array = df.values\n",
        "X = array[:,0:8]\n",
        "y = df['Categoria']\n",
        "X_train, X_test, y_train, y_test = train_test_split(X, y, test_size=test_size, shuffle=True, random_state=seed, stratify=y)\n"
      ],
      "metadata": {
        "id": "zDIXr2oyYAmu"
      },
      "execution_count": null,
      "outputs": []
    },
    {
      "cell_type": "markdown",
      "source": [
        "### **6.2. Normalização e padronização**"
      ],
      "metadata": {
        "id": "J0VOUICEow-h"
      }
    },
    {
      "cell_type": "code",
      "source": [
        "# Criando subdataset apenas com dados numéricos\n",
        "\n",
        "df_num = df.drop(columns=['Ano','Trimestre', 'Categoria', 'Instituição financeira', 'Irregularidade'])\n",
        "df_num.head()"
      ],
      "metadata": {
        "id": "4o_r0YSlJi_S",
        "colab": {
          "base_uri": "https://localhost:8080/",
          "height": 267
        },
        "outputId": "45399f1c-e9a2-493c-c01e-ce427cf4fb79"
      },
      "execution_count": null,
      "outputs": [
        {
          "output_type": "execute_result",
          "data": {
            "text/plain": [
              "   Quantidade de reclamações reguladas procedentes  \\\n",
              "0                                                0   \n",
              "1                                                0   \n",
              "2                                                0   \n",
              "3                                                0   \n",
              "4                                                1   \n",
              "\n",
              "   Quantidade de reclamações reguladas - outras  \\\n",
              "0                                             1   \n",
              "1                                             1   \n",
              "2                                             2   \n",
              "3                                             0   \n",
              "4                                             0   \n",
              "\n",
              "   Quantidade de reclamações não reguladas  Quantidade total de reclamações  \n",
              "0                                        0                                1  \n",
              "1                                        0                                1  \n",
              "2                                        0                                2  \n",
              "3                                        1                                1  \n",
              "4                                        0                                1  "
            ],
            "text/html": [
              "\n",
              "  <div id=\"df-5375bf6f-6f54-4c52-bd37-7e22a2ba0334\">\n",
              "    <div class=\"colab-df-container\">\n",
              "      <div>\n",
              "<style scoped>\n",
              "    .dataframe tbody tr th:only-of-type {\n",
              "        vertical-align: middle;\n",
              "    }\n",
              "\n",
              "    .dataframe tbody tr th {\n",
              "        vertical-align: top;\n",
              "    }\n",
              "\n",
              "    .dataframe thead th {\n",
              "        text-align: right;\n",
              "    }\n",
              "</style>\n",
              "<table border=\"1\" class=\"dataframe\">\n",
              "  <thead>\n",
              "    <tr style=\"text-align: right;\">\n",
              "      <th></th>\n",
              "      <th>Quantidade de reclamações reguladas procedentes</th>\n",
              "      <th>Quantidade de reclamações reguladas - outras</th>\n",
              "      <th>Quantidade de reclamações não reguladas</th>\n",
              "      <th>Quantidade total de reclamações</th>\n",
              "    </tr>\n",
              "  </thead>\n",
              "  <tbody>\n",
              "    <tr>\n",
              "      <th>0</th>\n",
              "      <td>0</td>\n",
              "      <td>1</td>\n",
              "      <td>0</td>\n",
              "      <td>1</td>\n",
              "    </tr>\n",
              "    <tr>\n",
              "      <th>1</th>\n",
              "      <td>0</td>\n",
              "      <td>1</td>\n",
              "      <td>0</td>\n",
              "      <td>1</td>\n",
              "    </tr>\n",
              "    <tr>\n",
              "      <th>2</th>\n",
              "      <td>0</td>\n",
              "      <td>2</td>\n",
              "      <td>0</td>\n",
              "      <td>2</td>\n",
              "    </tr>\n",
              "    <tr>\n",
              "      <th>3</th>\n",
              "      <td>0</td>\n",
              "      <td>0</td>\n",
              "      <td>1</td>\n",
              "      <td>1</td>\n",
              "    </tr>\n",
              "    <tr>\n",
              "      <th>4</th>\n",
              "      <td>1</td>\n",
              "      <td>0</td>\n",
              "      <td>0</td>\n",
              "      <td>1</td>\n",
              "    </tr>\n",
              "  </tbody>\n",
              "</table>\n",
              "</div>\n",
              "      <button class=\"colab-df-convert\" onclick=\"convertToInteractive('df-5375bf6f-6f54-4c52-bd37-7e22a2ba0334')\"\n",
              "              title=\"Convert this dataframe to an interactive table.\"\n",
              "              style=\"display:none;\">\n",
              "        \n",
              "  <svg xmlns=\"http://www.w3.org/2000/svg\" height=\"24px\"viewBox=\"0 0 24 24\"\n",
              "       width=\"24px\">\n",
              "    <path d=\"M0 0h24v24H0V0z\" fill=\"none\"/>\n",
              "    <path d=\"M18.56 5.44l.94 2.06.94-2.06 2.06-.94-2.06-.94-.94-2.06-.94 2.06-2.06.94zm-11 1L8.5 8.5l.94-2.06 2.06-.94-2.06-.94L8.5 2.5l-.94 2.06-2.06.94zm10 10l.94 2.06.94-2.06 2.06-.94-2.06-.94-.94-2.06-.94 2.06-2.06.94z\"/><path d=\"M17.41 7.96l-1.37-1.37c-.4-.4-.92-.59-1.43-.59-.52 0-1.04.2-1.43.59L10.3 9.45l-7.72 7.72c-.78.78-.78 2.05 0 2.83L4 21.41c.39.39.9.59 1.41.59.51 0 1.02-.2 1.41-.59l7.78-7.78 2.81-2.81c.8-.78.8-2.07 0-2.86zM5.41 20L4 18.59l7.72-7.72 1.47 1.35L5.41 20z\"/>\n",
              "  </svg>\n",
              "      </button>\n",
              "      \n",
              "  <style>\n",
              "    .colab-df-container {\n",
              "      display:flex;\n",
              "      flex-wrap:wrap;\n",
              "      gap: 12px;\n",
              "    }\n",
              "\n",
              "    .colab-df-convert {\n",
              "      background-color: #E8F0FE;\n",
              "      border: none;\n",
              "      border-radius: 50%;\n",
              "      cursor: pointer;\n",
              "      display: none;\n",
              "      fill: #1967D2;\n",
              "      height: 32px;\n",
              "      padding: 0 0 0 0;\n",
              "      width: 32px;\n",
              "    }\n",
              "\n",
              "    .colab-df-convert:hover {\n",
              "      background-color: #E2EBFA;\n",
              "      box-shadow: 0px 1px 2px rgba(60, 64, 67, 0.3), 0px 1px 3px 1px rgba(60, 64, 67, 0.15);\n",
              "      fill: #174EA6;\n",
              "    }\n",
              "\n",
              "    [theme=dark] .colab-df-convert {\n",
              "      background-color: #3B4455;\n",
              "      fill: #D2E3FC;\n",
              "    }\n",
              "\n",
              "    [theme=dark] .colab-df-convert:hover {\n",
              "      background-color: #434B5C;\n",
              "      box-shadow: 0px 1px 3px 1px rgba(0, 0, 0, 0.15);\n",
              "      filter: drop-shadow(0px 1px 2px rgba(0, 0, 0, 0.3));\n",
              "      fill: #FFFFFF;\n",
              "    }\n",
              "  </style>\n",
              "\n",
              "      <script>\n",
              "        const buttonEl =\n",
              "          document.querySelector('#df-5375bf6f-6f54-4c52-bd37-7e22a2ba0334 button.colab-df-convert');\n",
              "        buttonEl.style.display =\n",
              "          google.colab.kernel.accessAllowed ? 'block' : 'none';\n",
              "\n",
              "        async function convertToInteractive(key) {\n",
              "          const element = document.querySelector('#df-5375bf6f-6f54-4c52-bd37-7e22a2ba0334');\n",
              "          const dataTable =\n",
              "            await google.colab.kernel.invokeFunction('convertToInteractive',\n",
              "                                                     [key], {});\n",
              "          if (!dataTable) return;\n",
              "\n",
              "          const docLinkHtml = 'Like what you see? Visit the ' +\n",
              "            '<a target=\"_blank\" href=https://colab.research.google.com/notebooks/data_table.ipynb>data table notebook</a>'\n",
              "            + ' to learn more about interactive tables.';\n",
              "          element.innerHTML = '';\n",
              "          dataTable['output_type'] = 'display_data';\n",
              "          await google.colab.output.renderOutput(dataTable, element);\n",
              "          const docLink = document.createElement('div');\n",
              "          docLink.innerHTML = docLinkHtml;\n",
              "          element.appendChild(docLink);\n",
              "        }\n",
              "      </script>\n",
              "    </div>\n",
              "  </div>\n",
              "  "
            ]
          },
          "metadata": {},
          "execution_count": 357
        }
      ]
    },
    {
      "cell_type": "code",
      "source": [
        "# Separando os valores do dataset em componentes de input(x) e output(y)\n",
        "X = df_num.values[:,0:3]\n",
        "Y = df_num.values[:,3]"
      ],
      "metadata": {
        "id": "2oTLFPUdO9wx"
      },
      "execution_count": null,
      "outputs": []
    },
    {
      "cell_type": "code",
      "source": [
        "# Normalizando os dados\n",
        "rescaledX = MinMaxScaler().fit_transform(X)\n",
        "\n",
        "# Exibindo os dados transformados\n",
        "print('Dados Originais: \\n\\n', df_num.values)\n",
        "print('\\nDados Normalizados (não inclui a coluna class): \\n\\n', rescaledX)"
      ],
      "metadata": {
        "id": "R2CMzPeiGZzR",
        "colab": {
          "base_uri": "https://localhost:8080/"
        },
        "outputId": "4877ed62-823a-47a0-8c0a-9990054484b8"
      },
      "execution_count": null,
      "outputs": [
        {
          "output_type": "stream",
          "name": "stdout",
          "text": [
            "Dados Originais: \n",
            "\n",
            " [[0 1 0 1]\n",
            " [0 1 0 1]\n",
            " [0 2 0 2]\n",
            " ...\n",
            " [1 2 0 3]\n",
            " [0 0 2 2]\n",
            " [0 0 1 1]]\n",
            "\n",
            "Dados Normalizados (não inclui a coluna class): \n",
            "\n",
            " [[0.         0.0022779  0.        ]\n",
            " [0.         0.0022779  0.        ]\n",
            " [0.         0.00455581 0.        ]\n",
            " ...\n",
            " [0.00253165 0.00455581 0.        ]\n",
            " [0.         0.         0.00498753]\n",
            " [0.         0.         0.00249377]]\n"
          ]
        }
      ]
    },
    {
      "cell_type": "code",
      "source": [
        "# Padronizando os dados\n",
        "object = StandardScaler()\n",
        "rescaledX = object.fit_transform(df_num)\n",
        "\n",
        "\n",
        "# Exibindo os dados transformados\n",
        "print('Dados Originais: \\n\\n', df_num.values)\n",
        "print('\\nDados Normalizados: \\n\\n', rescaledX)"
      ],
      "metadata": {
        "id": "YkQo35PaGrp5",
        "colab": {
          "base_uri": "https://localhost:8080/"
        },
        "outputId": "571b4281-5334-4ca7-b25e-33bce89bf3a8"
      },
      "execution_count": null,
      "outputs": [
        {
          "output_type": "stream",
          "name": "stdout",
          "text": [
            "Dados Originais: \n",
            "\n",
            " [[0 1 0 1]\n",
            " [0 1 0 1]\n",
            " [0 2 0 2]\n",
            " ...\n",
            " [1 2 0 3]\n",
            " [0 0 2 2]\n",
            " [0 0 1 1]]\n",
            "\n",
            "Dados Normalizados: \n",
            "\n",
            " [[-0.25370394 -0.26182624 -0.18082923 -0.34233339]\n",
            " [-0.25370394 -0.26182624 -0.18082923 -0.34233339]\n",
            " [-0.25370394 -0.22623771 -0.18082923 -0.32130363]\n",
            " ...\n",
            " [-0.2069606  -0.22623771 -0.18082923 -0.30027387]\n",
            " [-0.25370394 -0.29741476 -0.07731734 -0.32130363]\n",
            " [-0.25370394 -0.29741476 -0.12907329 -0.34233339]]\n"
          ]
        }
      ]
    },
    {
      "cell_type": "markdown",
      "source": [
        "### **6.3. Transformações categóricas**"
      ],
      "metadata": {
        "id": "D3JrtcvBoxcS"
      }
    },
    {
      "cell_type": "code",
      "source": [
        "df_cat =  pd.read_csv(url, sep=';', encoding='ISO-8859-1')\n",
        "# df_cat.drop(columns=['Tipo', 'CNPJ IF', 'Unnamed: 11'], inplace=True)\n",
        "df_cat.head()"
      ],
      "metadata": {
        "id": "ek7CwPM4PTM1",
        "colab": {
          "base_uri": "https://localhost:8080/",
          "height": 649
        },
        "outputId": "d274d5cb-b743-4872-81c7-2009dc95370c"
      },
      "execution_count": null,
      "outputs": [
        {
          "output_type": "execute_result",
          "data": {
            "text/plain": [
              "    Ano Trimestre                                          Categoria  \\\n",
              "0  2023        1º  Demais Bancos, Financeiras e Instituições de P...   \n",
              "1  2023        1º  Demais Bancos, Financeiras e Instituições de P...   \n",
              "2  2023        1º  Demais Bancos, Financeiras e Instituições de P...   \n",
              "3  2023        1º  Demais Bancos, Financeiras e Instituições de P...   \n",
              "4  2023        1º  Demais Bancos, Financeiras e Instituições de P...   \n",
              "\n",
              "           Tipo CNPJ IF     Instituição financeira  \\\n",
              "0  Conglomerado          ABC-BRASIL (conglomerado)   \n",
              "1  Conglomerado          ABC-BRASIL (conglomerado)   \n",
              "2  Conglomerado          ABC-BRASIL (conglomerado)   \n",
              "3  Conglomerado          ABC-BRASIL (conglomerado)   \n",
              "4  Conglomerado          ABC-BRASIL (conglomerado)   \n",
              "\n",
              "                                      Irregularidade  \\\n",
              "0  Cobrança irregular de tarifa relacionada a con...   \n",
              "1  Débito em conta não autorizado pelo cliente, o...   \n",
              "2  Insatisfação com a resposta recebida da instit...   \n",
              "3  Insatisfação com o atendimento prestado pelo S...   \n",
              "4  Irregularidades relacionadas ao acompanhamento...   \n",
              "\n",
              "   Quantidade de reclamações reguladas procedentes  \\\n",
              "0                                                0   \n",
              "1                                                0   \n",
              "2                                                0   \n",
              "3                                                0   \n",
              "4                                                1   \n",
              "\n",
              "   Quantidade de reclamações reguladas - outras  \\\n",
              "0                                             1   \n",
              "1                                             1   \n",
              "2                                             2   \n",
              "3                                             0   \n",
              "4                                             0   \n",
              "\n",
              "   Quantidade de reclamações não reguladas  Quantidade total de reclamações  \\\n",
              "0                                        0                                1   \n",
              "1                                        0                                1   \n",
              "2                                        0                                2   \n",
              "3                                        1                                1   \n",
              "4                                        0                                1   \n",
              "\n",
              "   Unnamed: 11  \n",
              "0          NaN  \n",
              "1          NaN  \n",
              "2          NaN  \n",
              "3          NaN  \n",
              "4          NaN  "
            ],
            "text/html": [
              "\n",
              "  <div id=\"df-539e3fde-cd9f-4820-aecb-c6c2357693b0\">\n",
              "    <div class=\"colab-df-container\">\n",
              "      <div>\n",
              "<style scoped>\n",
              "    .dataframe tbody tr th:only-of-type {\n",
              "        vertical-align: middle;\n",
              "    }\n",
              "\n",
              "    .dataframe tbody tr th {\n",
              "        vertical-align: top;\n",
              "    }\n",
              "\n",
              "    .dataframe thead th {\n",
              "        text-align: right;\n",
              "    }\n",
              "</style>\n",
              "<table border=\"1\" class=\"dataframe\">\n",
              "  <thead>\n",
              "    <tr style=\"text-align: right;\">\n",
              "      <th></th>\n",
              "      <th>Ano</th>\n",
              "      <th>Trimestre</th>\n",
              "      <th>Categoria</th>\n",
              "      <th>Tipo</th>\n",
              "      <th>CNPJ IF</th>\n",
              "      <th>Instituição financeira</th>\n",
              "      <th>Irregularidade</th>\n",
              "      <th>Quantidade de reclamações reguladas procedentes</th>\n",
              "      <th>Quantidade de reclamações reguladas - outras</th>\n",
              "      <th>Quantidade de reclamações não reguladas</th>\n",
              "      <th>Quantidade total de reclamações</th>\n",
              "      <th>Unnamed: 11</th>\n",
              "    </tr>\n",
              "  </thead>\n",
              "  <tbody>\n",
              "    <tr>\n",
              "      <th>0</th>\n",
              "      <td>2023</td>\n",
              "      <td>1º</td>\n",
              "      <td>Demais Bancos, Financeiras e Instituições de P...</td>\n",
              "      <td>Conglomerado</td>\n",
              "      <td></td>\n",
              "      <td>ABC-BRASIL (conglomerado)</td>\n",
              "      <td>Cobrança irregular de tarifa relacionada a con...</td>\n",
              "      <td>0</td>\n",
              "      <td>1</td>\n",
              "      <td>0</td>\n",
              "      <td>1</td>\n",
              "      <td>NaN</td>\n",
              "    </tr>\n",
              "    <tr>\n",
              "      <th>1</th>\n",
              "      <td>2023</td>\n",
              "      <td>1º</td>\n",
              "      <td>Demais Bancos, Financeiras e Instituições de P...</td>\n",
              "      <td>Conglomerado</td>\n",
              "      <td></td>\n",
              "      <td>ABC-BRASIL (conglomerado)</td>\n",
              "      <td>Débito em conta não autorizado pelo cliente, o...</td>\n",
              "      <td>0</td>\n",
              "      <td>1</td>\n",
              "      <td>0</td>\n",
              "      <td>1</td>\n",
              "      <td>NaN</td>\n",
              "    </tr>\n",
              "    <tr>\n",
              "      <th>2</th>\n",
              "      <td>2023</td>\n",
              "      <td>1º</td>\n",
              "      <td>Demais Bancos, Financeiras e Instituições de P...</td>\n",
              "      <td>Conglomerado</td>\n",
              "      <td></td>\n",
              "      <td>ABC-BRASIL (conglomerado)</td>\n",
              "      <td>Insatisfação com a resposta recebida da instit...</td>\n",
              "      <td>0</td>\n",
              "      <td>2</td>\n",
              "      <td>0</td>\n",
              "      <td>2</td>\n",
              "      <td>NaN</td>\n",
              "    </tr>\n",
              "    <tr>\n",
              "      <th>3</th>\n",
              "      <td>2023</td>\n",
              "      <td>1º</td>\n",
              "      <td>Demais Bancos, Financeiras e Instituições de P...</td>\n",
              "      <td>Conglomerado</td>\n",
              "      <td></td>\n",
              "      <td>ABC-BRASIL (conglomerado)</td>\n",
              "      <td>Insatisfação com o atendimento prestado pelo S...</td>\n",
              "      <td>0</td>\n",
              "      <td>0</td>\n",
              "      <td>1</td>\n",
              "      <td>1</td>\n",
              "      <td>NaN</td>\n",
              "    </tr>\n",
              "    <tr>\n",
              "      <th>4</th>\n",
              "      <td>2023</td>\n",
              "      <td>1º</td>\n",
              "      <td>Demais Bancos, Financeiras e Instituições de P...</td>\n",
              "      <td>Conglomerado</td>\n",
              "      <td></td>\n",
              "      <td>ABC-BRASIL (conglomerado)</td>\n",
              "      <td>Irregularidades relacionadas ao acompanhamento...</td>\n",
              "      <td>1</td>\n",
              "      <td>0</td>\n",
              "      <td>0</td>\n",
              "      <td>1</td>\n",
              "      <td>NaN</td>\n",
              "    </tr>\n",
              "  </tbody>\n",
              "</table>\n",
              "</div>\n",
              "      <button class=\"colab-df-convert\" onclick=\"convertToInteractive('df-539e3fde-cd9f-4820-aecb-c6c2357693b0')\"\n",
              "              title=\"Convert this dataframe to an interactive table.\"\n",
              "              style=\"display:none;\">\n",
              "        \n",
              "  <svg xmlns=\"http://www.w3.org/2000/svg\" height=\"24px\"viewBox=\"0 0 24 24\"\n",
              "       width=\"24px\">\n",
              "    <path d=\"M0 0h24v24H0V0z\" fill=\"none\"/>\n",
              "    <path d=\"M18.56 5.44l.94 2.06.94-2.06 2.06-.94-2.06-.94-.94-2.06-.94 2.06-2.06.94zm-11 1L8.5 8.5l.94-2.06 2.06-.94-2.06-.94L8.5 2.5l-.94 2.06-2.06.94zm10 10l.94 2.06.94-2.06 2.06-.94-2.06-.94-.94-2.06-.94 2.06-2.06.94z\"/><path d=\"M17.41 7.96l-1.37-1.37c-.4-.4-.92-.59-1.43-.59-.52 0-1.04.2-1.43.59L10.3 9.45l-7.72 7.72c-.78.78-.78 2.05 0 2.83L4 21.41c.39.39.9.59 1.41.59.51 0 1.02-.2 1.41-.59l7.78-7.78 2.81-2.81c.8-.78.8-2.07 0-2.86zM5.41 20L4 18.59l7.72-7.72 1.47 1.35L5.41 20z\"/>\n",
              "  </svg>\n",
              "      </button>\n",
              "      \n",
              "  <style>\n",
              "    .colab-df-container {\n",
              "      display:flex;\n",
              "      flex-wrap:wrap;\n",
              "      gap: 12px;\n",
              "    }\n",
              "\n",
              "    .colab-df-convert {\n",
              "      background-color: #E8F0FE;\n",
              "      border: none;\n",
              "      border-radius: 50%;\n",
              "      cursor: pointer;\n",
              "      display: none;\n",
              "      fill: #1967D2;\n",
              "      height: 32px;\n",
              "      padding: 0 0 0 0;\n",
              "      width: 32px;\n",
              "    }\n",
              "\n",
              "    .colab-df-convert:hover {\n",
              "      background-color: #E2EBFA;\n",
              "      box-shadow: 0px 1px 2px rgba(60, 64, 67, 0.3), 0px 1px 3px 1px rgba(60, 64, 67, 0.15);\n",
              "      fill: #174EA6;\n",
              "    }\n",
              "\n",
              "    [theme=dark] .colab-df-convert {\n",
              "      background-color: #3B4455;\n",
              "      fill: #D2E3FC;\n",
              "    }\n",
              "\n",
              "    [theme=dark] .colab-df-convert:hover {\n",
              "      background-color: #434B5C;\n",
              "      box-shadow: 0px 1px 3px 1px rgba(0, 0, 0, 0.15);\n",
              "      filter: drop-shadow(0px 1px 2px rgba(0, 0, 0, 0.3));\n",
              "      fill: #FFFFFF;\n",
              "    }\n",
              "  </style>\n",
              "\n",
              "      <script>\n",
              "        const buttonEl =\n",
              "          document.querySelector('#df-539e3fde-cd9f-4820-aecb-c6c2357693b0 button.colab-df-convert');\n",
              "        buttonEl.style.display =\n",
              "          google.colab.kernel.accessAllowed ? 'block' : 'none';\n",
              "\n",
              "        async function convertToInteractive(key) {\n",
              "          const element = document.querySelector('#df-539e3fde-cd9f-4820-aecb-c6c2357693b0');\n",
              "          const dataTable =\n",
              "            await google.colab.kernel.invokeFunction('convertToInteractive',\n",
              "                                                     [key], {});\n",
              "          if (!dataTable) return;\n",
              "\n",
              "          const docLinkHtml = 'Like what you see? Visit the ' +\n",
              "            '<a target=\"_blank\" href=https://colab.research.google.com/notebooks/data_table.ipynb>data table notebook</a>'\n",
              "            + ' to learn more about interactive tables.';\n",
              "          element.innerHTML = '';\n",
              "          dataTable['output_type'] = 'display_data';\n",
              "          await google.colab.output.renderOutput(dataTable, element);\n",
              "          const docLink = document.createElement('div');\n",
              "          docLink.innerHTML = docLinkHtml;\n",
              "          element.appendChild(docLink);\n",
              "        }\n",
              "      </script>\n",
              "    </div>\n",
              "  </div>\n",
              "  "
            ]
          },
          "metadata": {},
          "execution_count": 361
        }
      ]
    },
    {
      "cell_type": "code",
      "source": [
        "# verificando nulls no dataset\n",
        "df_cat.isnull().sum()"
      ],
      "metadata": {
        "id": "SWtN-4c6QihR",
        "colab": {
          "base_uri": "https://localhost:8080/"
        },
        "outputId": "a4df0d2a-3e80-4f39-8f2e-2cd9801fbdf9"
      },
      "execution_count": null,
      "outputs": [
        {
          "output_type": "execute_result",
          "data": {
            "text/plain": [
              "Ano                                                   0\n",
              "Trimestre                                             0\n",
              "Categoria                                             0\n",
              "Tipo                                                  0\n",
              "CNPJ IF                                               0\n",
              "Instituição financeira                                0\n",
              "Irregularidade                                        0\n",
              "Quantidade de reclamações reguladas procedentes       0\n",
              "Quantidade de reclamações reguladas - outras          0\n",
              "Quantidade de reclamações não reguladas               0\n",
              "Quantidade total de reclamações                       0\n",
              "Unnamed: 11                                        3515\n",
              "dtype: int64"
            ]
          },
          "metadata": {},
          "execution_count": 362
        }
      ]
    },
    {
      "cell_type": "code",
      "source": [
        "# exibindo as dimensões do dataset\n",
        "print(df_cat.shape)\n",
        "\n",
        "# eliminando linhas que tenham ALGUM valor missing\n",
        "df_cat.drop(columns=['Unnamed: 11'], inplace=True)\n",
        "df_cat.dropna(how='any', inplace=True)\n",
        "\n",
        "# exibindo as dimensões do dataset\n",
        "print(df_cat.shape)"
      ],
      "metadata": {
        "id": "pkUDAA6XQxi7",
        "colab": {
          "base_uri": "https://localhost:8080/"
        },
        "outputId": "5e0e5ebc-e286-41ff-c879-a44ec6378211"
      },
      "execution_count": null,
      "outputs": [
        {
          "output_type": "stream",
          "name": "stdout",
          "text": [
            "(3515, 12)\n",
            "(3515, 11)\n"
          ]
        }
      ]
    },
    {
      "cell_type": "code",
      "source": [
        "# separando o array em componentes de input e output\n",
        "X = df_cat.values[:,0:10]\n",
        "y = df_cat.values[:,10]"
      ],
      "metadata": {
        "id": "mTj6WyaMYEsh"
      },
      "execution_count": null,
      "outputs": []
    },
    {
      "cell_type": "markdown",
      "source": [
        "**Codificação Ordinal**"
      ],
      "metadata": {
        "id": "FCETecBlFwKC"
      }
    },
    {
      "cell_type": "code",
      "source": [
        "# ordinal encoding para os atributos X\n",
        "encoded_X = OrdinalEncoder().fit_transform(X)\n",
        "\n",
        "#exibindo os datos transformados\n",
        "print('Atributos transformados:')\n",
        "print(encoded_X[:5, :]) # 5 primeiras linhas, todas as colunas"
      ],
      "metadata": {
        "id": "mJ8UVBkSwi4J",
        "colab": {
          "base_uri": "https://localhost:8080/"
        },
        "outputId": "ca7e5655-5208-4f3e-f8c8-0b15b1d7061c"
      },
      "execution_count": null,
      "outputs": [
        {
          "output_type": "stream",
          "name": "stdout",
          "text": [
            "Atributos transformados:\n",
            "[[ 0.  0.  0.  1.  0.  0. 22.  0.  1.  0.]\n",
            " [ 0.  0.  0.  1.  0.  0. 42.  0.  1.  0.]\n",
            " [ 0.  0.  0.  1.  0.  0. 51.  0.  2.  0.]\n",
            " [ 0.  0.  0.  1.  0.  0. 53.  0.  0.  1.]\n",
            " [ 0.  0.  0.  1.  0.  0. 71.  1.  0.  0.]]\n"
          ]
        }
      ]
    },
    {
      "cell_type": "markdown",
      "source": [
        "**One-hot encoding**"
      ],
      "metadata": {
        "id": "7whOXTGVF4Ig"
      }
    },
    {
      "cell_type": "code",
      "source": [
        "# one hot encode para os atributos X\n",
        "encoded_X = OneHotEncoder(sparse=False).fit_transform(X)\n",
        "\n",
        "#exibindo dados transformados\n",
        "print('Atributos transformados:')\n",
        "print(encoded_X[:5, :]) # 5 primeiras linhas e todas colunas"
      ],
      "metadata": {
        "id": "-v6UseRWF2c_",
        "colab": {
          "base_uri": "https://localhost:8080/"
        },
        "outputId": "250c8b54-b237-4e28-a048-6bd579582ba3"
      },
      "execution_count": null,
      "outputs": [
        {
          "output_type": "stream",
          "name": "stdout",
          "text": [
            "Atributos transformados:\n",
            "[[1. 1. 1. ... 0. 0. 0.]\n",
            " [1. 1. 1. ... 0. 0. 0.]\n",
            " [1. 1. 1. ... 0. 0. 0.]\n",
            " [1. 1. 1. ... 0. 0. 0.]\n",
            " [1. 1. 1. ... 0. 0. 0.]]\n"
          ]
        }
      ]
    },
    {
      "cell_type": "markdown",
      "source": [
        "## **7. Conclusão**\n",
        "\n",
        "Refletindo sobre o problema de negócio, verificamos que de aproximadamente 356,2 milhões de contas ativas, foram registradas apenas 60 mil reclamações. 16,84 a cada 100 mil contas. Este número pode ser pequeno se comparado ao total das contas mas muito grande, dependendo da quantidade de ocorrências e da base de clientes de um banco. Caberia, num próximo momento, cruzar estas informações\n",
        "\n",
        "Como dito anteriormente, a busca constante dos bancos e financeiras é evitar as ocorrências junto ao Bacen, tratar as reclamações ainda no atendimento (SAC ou Ouvidorias), entender as demandas dos clientes e agir conforme os normativos vigentes.\n",
        "\n",
        "Muitas vezes existe falta de informação sobre a real competência do Bacen, gerando registros não tratáveis. O Banco Central poderia realizar campanhas de educação financeira, explicar melhor as normas, de forma didática (menos técnica), orientando para que o cliente possa identificar se sua demanda é normatizada pelo Bacen, evitando demora no atendimento e direcionando para o canal adequado (se for este o caso).\n",
        "\n",
        "Do lado das instituições reguladas, cabe evitar abusos, cumprir as normas, buscar manter o sigilo dos clientes, das operações, explicar adequadamente as condições de produtos e serviços oferecidos.\n",
        "\n",
        "O setor financeiro é altamente lucrativo e competitivo, condizente com isso, deve manter um padrão de atendimento de excelência e priorizar o bom relacionamento junto aos clientes.  "
      ],
      "metadata": {
        "id": "KSPHHPh7OV6h"
      }
    }
  ]
}